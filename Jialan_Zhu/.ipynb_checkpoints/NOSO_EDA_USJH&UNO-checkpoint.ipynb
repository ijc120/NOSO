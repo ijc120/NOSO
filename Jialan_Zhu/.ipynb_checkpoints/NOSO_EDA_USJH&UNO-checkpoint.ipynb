{
 "cells": [
  {
   "cell_type": "markdown",
   "metadata": {},
   "source": [
    "# outline\n",
    "\n",
    "\n",
    "<p><a name=\"sections\"></a></p>\n",
    "\n",
    "\n",
    "## Sections\n",
    "\n",
    "- <a href=\"#dyc\">1. Data type convention</a><br>\n",
    "    - <a href=\"#std\">str to date</a><br>\n",
    "    - <a href=\"#stn\">str to numeric</a><br>\n",
    "- <a href=\"#mv\">2. Missing Values</a><br>\n",
    "    - <a href=\"#mvi\">Missing value imputation</a><br>\n",
    "- <a href=\"#nf\">3. Numerical features</a><br>\n",
    "    - <a href=\"#skew\">Skewness</a><br>\n",
    "    - <a href=\"#outliers\">Outliers</a><br>\n",
    "    - <a href=\"#correlation\">Correlation</a><br>\n",
    "    - <a href=\"#vn\">Visualization</a><br>\n",
    "- <a href=\"#cf\">4. Categorical features</a><br>\n",
    "    - <a href=\"#vc\">Visualization</a><br>\n",
    "- <a href=\"#ts\">5. Time Series Analysis</a><br>"
   ]
  },
  {
   "cell_type": "code",
   "execution_count": 1,
   "metadata": {},
   "outputs": [],
   "source": [
    "#create environment\n",
    "import numpy as np\n",
    "import pandas as pd\n",
    "import scipy as sci\n",
    "from scipy import stats\n",
    "import matplotlib.pyplot as plt\n",
    "import seaborn as sns\n",
    "from sklearn.model_selection import train_test_split\n",
    "from sklearn import linear_model\n",
    "from sklearn.metrics import mean_squared_error\n",
    "from copy import deepcopy\n",
    "from statsmodels.formula.api import ols\n",
    "import statsmodels.api as sm\n",
    "from datetime import datetime\n",
    "from pandas.plotting import scatter_matrix\n",
    "pd.set_option('display.max_columns', 500)"
   ]
  },
  {
   "cell_type": "code",
   "execution_count": 195,
   "metadata": {},
   "outputs": [
    {
     "name": "stderr",
     "output_type": "stream",
     "text": [
      "/Users/jialanzhu/anaconda3/lib/python3.6/site-packages/IPython/core/interactiveshell.py:2785: DtypeWarning: Columns (19,30,31,35,41) have mixed types. Specify dtype option on import or set low_memory=False.\n",
      "  interactivity=interactivity, compiler=compiler, result=result)\n",
      "/Users/jialanzhu/anaconda3/lib/python3.6/site-packages/IPython/core/interactiveshell.py:2785: DtypeWarning: Columns (6) have mixed types. Specify dtype option on import or set low_memory=False.\n",
      "  interactivity=interactivity, compiler=compiler, result=result)\n"
     ]
    }
   ],
   "source": [
    "#import data\n",
    "usjh_v1=pd.read_csv('./USJH_order_dataset_itemUnit.csv')\n",
    "usjh_v2=pd.read_csv('./USJH_order_dataset_orderUnit.csv')\n",
    "uno_inv=pd.read_csv('./UNO_inventory_item.csv')\n",
    "uno_sale=pd.read_csv('./UNO_Sale_vs_RCVD.csv')"
   ]
  },
  {
   "cell_type": "code",
   "execution_count": null,
   "metadata": {},
   "outputs": [],
   "source": []
  },
  {
   "cell_type": "code",
   "execution_count": 196,
   "metadata": {},
   "outputs": [],
   "source": [
    "#'Tax 3 Name' in usjh and 'ToWH' in uno_inv are pure missing values, drop them to avoid error\n",
    "usjh_v1=usjh_v1.drop(['Unnamed: 0','Tax 3 Name'],axis=1)\n",
    "usjh_v2=usjh_v2.drop(['Unnamed: 0','Tax 3 Name','Lineitem quantity','Lineitem price','Lineitem compare at price'],axis=1)\n",
    "uno_inv=uno_inv.drop('ToWH',axis=1)"
   ]
  },
  {
   "cell_type": "code",
   "execution_count": 197,
   "metadata": {},
   "outputs": [
    {
     "name": "stdout",
     "output_type": "stream",
     "text": [
      "usjh_v1: (85925, 41)\n",
      "usjh_v2: (3746, 34)\n",
      "uno_inv: (144726, 7)\n",
      "uno_sale : (111043, 20)\n"
     ]
    }
   ],
   "source": [
    "print('usjh_v1:',usjh_v1.shape)\n",
    "print('usjh_v2:',usjh_v2.shape)\n",
    "print('uno_inv:',uno_inv.shape)\n",
    "print('uno_sale :',uno_sale.shape)"
   ]
  },
  {
   "cell_type": "code",
   "execution_count": null,
   "metadata": {},
   "outputs": [],
   "source": []
  },
  {
   "cell_type": "markdown",
   "metadata": {},
   "source": [
    "<p><a name=\"dyc\"></a></p>\n",
    "# 1.Data type convention"
   ]
  },
  {
   "cell_type": "code",
   "execution_count": 198,
   "metadata": {},
   "outputs": [
    {
     "data": {
      "text/plain": [
       "Name                            object\n",
       "Financial Status                object\n",
       "Paid at                         object\n",
       "Fulfillment Status              object\n",
       "Accepts Marketing               object\n",
       "Currency                        object\n",
       "Subtotal                       float64\n",
       "Shipping                       float64\n",
       "Taxes                          float64\n",
       "Total                          float64\n",
       "Discount Code                   object\n",
       "Discount Amount                float64\n",
       "Shipping Method                 object\n",
       "Created at                      object\n",
       "Lineitem quantity                int64\n",
       "Lineitem name                   object\n",
       "Lineitem price                 float64\n",
       "Lineitem compare at price      float64\n",
       "Lineitem sku                    object\n",
       "Lineitem fulfillment status     object\n",
       "Shipping Street                 object\n",
       "Shipping Address1               object\n",
       "Shipping Address2               object\n",
       "Shipping Company                object\n",
       "Shipping City                   object\n",
       "Shipping Zip                    object\n",
       "Shipping Province               object\n",
       "Shipping Country                object\n",
       "Notes                           object\n",
       "Note Attributes                 object\n",
       "Cancelled at                    object\n",
       "Payment Method                  object\n",
       "Refunded Amount                float64\n",
       "Vendor                          object\n",
       "Tags                            object\n",
       "Risk Level                      object\n",
       "Source                          object\n",
       "Lineitem name.1                 object\n",
       "Color                           object\n",
       "Unnamed: 39                     object\n",
       "Unnamed: 40                     object\n",
       "dtype: object"
      ]
     },
     "execution_count": 198,
     "metadata": {},
     "output_type": "execute_result"
    }
   ],
   "source": [
    "usjh_v1.dtypes"
   ]
  },
  {
   "cell_type": "code",
   "execution_count": 215,
   "metadata": {},
   "outputs": [
    {
     "data": {
      "text/plain": [
       "Name                                   object\n",
       "Financial Status                       object\n",
       "Paid at                        datetime64[ns]\n",
       "Fulfillment Status                     object\n",
       "Accepts Marketing                      object\n",
       "Currency                               object\n",
       "Subtotal                              float64\n",
       "Shipping                              float64\n",
       "Taxes                                 float64\n",
       "Total                                 float64\n",
       "Discount Code                          object\n",
       "Discount Amount                       float64\n",
       "Shipping Method                        object\n",
       "Created at                     datetime64[ns]\n",
       "Lineitem fulfillment status            object\n",
       "Shipping Street                        object\n",
       "Shipping Address1                      object\n",
       "Shipping Address2                      object\n",
       "Shipping Company                       object\n",
       "Shipping City                          object\n",
       "Shipping Zip                           object\n",
       "Shipping Province                      object\n",
       "Shipping Country                       object\n",
       "Notes                                  object\n",
       "Note Attributes                        object\n",
       "Cancelled at                   datetime64[ns]\n",
       "Payment Method                         object\n",
       "Refunded Amount                       float64\n",
       "Vendor                                 object\n",
       "Tags                                   object\n",
       "Risk Level                             object\n",
       "Source                                 object\n",
       "Color                                  object\n",
       "item_quantity                           int64\n",
       "dtype: object"
      ]
     },
     "execution_count": 215,
     "metadata": {},
     "output_type": "execute_result"
    }
   ],
   "source": [
    "usjh_v2.dtypes"
   ]
  },
  {
   "cell_type": "code",
   "execution_count": 199,
   "metadata": {},
   "outputs": [
    {
     "data": {
      "text/plain": [
       "STYLE#         object\n",
       "COLOR          object\n",
       "Description    object\n",
       "LAST RCVD      object\n",
       "Qty            object\n",
       "On-Hand        object\n",
       "CB Reason      object\n",
       "dtype: object"
      ]
     },
     "execution_count": 199,
     "metadata": {},
     "output_type": "execute_result"
    }
   ],
   "source": [
    "uno_inv.dtypes"
   ]
  },
  {
   "cell_type": "code",
   "execution_count": 200,
   "metadata": {},
   "outputs": [
    {
     "data": {
      "text/plain": [
       "STYLE#             object\n",
       "COLOR              object\n",
       "DESCRIPTION        object\n",
       "CUST #             object\n",
       "INVC DATE          object\n",
       "QTY                 int64\n",
       "UNIT PRICE         object\n",
       "EXT-AMT            object\n",
       "REASON             object\n",
       "IMPORT HANDMADE    object\n",
       "MANUFACTORS        object\n",
       "State_sold         object\n",
       "ZIP_sold           object\n",
       "RELEASED YEAR      object\n",
       "Seasos             object\n",
       "Season target      object\n",
       "LAST RCVD          object\n",
       "FIRST RCVD         object\n",
       "LAST INVOICED      object\n",
       "FIRST INVOICED     object\n",
       "dtype: object"
      ]
     },
     "execution_count": 200,
     "metadata": {},
     "output_type": "execute_result"
    }
   ],
   "source": [
    "uno_sale.dtypes"
   ]
  },
  {
   "cell_type": "code",
   "execution_count": null,
   "metadata": {},
   "outputs": [],
   "source": []
  },
  {
   "cell_type": "markdown",
   "metadata": {},
   "source": [
    "<p><a name=\"std\"></a></p>\n",
    "## object to date"
   ]
  },
  {
   "cell_type": "code",
   "execution_count": 201,
   "metadata": {},
   "outputs": [],
   "source": [
    "#format='%m/%d/%y %H:%M'\n",
    "def str_to_datetime(df, features):\n",
    "    for feature in features:\n",
    "        df[feature]=pd.to_datetime(df[feature], format='%m/%d/%y %H:%M')\n",
    "    \n",
    "#format='%m/%d/%y'\n",
    "def str_to_date(df, features):\n",
    "    for feature in features:\n",
    "        df[feature]=pd.to_datetime(df[feature], format='%m/%d/%y')\n",
    "\n",
    "#format='%m/%d/%Y'\n",
    "def str_to_date1(df, features):\n",
    "    for feature in features:\n",
    "        df[feature]=pd.to_datetime(df[feature], format='%m/%d/%Y')"
   ]
  },
  {
   "cell_type": "code",
   "execution_count": null,
   "metadata": {},
   "outputs": [],
   "source": []
  },
  {
   "cell_type": "code",
   "execution_count": 202,
   "metadata": {},
   "outputs": [],
   "source": [
    "#date features in usjh dataset\n",
    "usjh_v1_todate=['Paid at', 'Created at', 'Cancelled at']\n",
    "usjh_v2_todate=['Paid at', 'Created at', 'Cancelled at']"
   ]
  },
  {
   "cell_type": "code",
   "execution_count": 203,
   "metadata": {},
   "outputs": [],
   "source": [
    "#format='%m/%d/%y %H:%M'\n",
    "str_to_datetime(usjh_v1,usjh_v1_todate)\n",
    "str_to_datetime(usjh_v2,usjh_v2_todate)"
   ]
  },
  {
   "cell_type": "code",
   "execution_count": null,
   "metadata": {},
   "outputs": [],
   "source": []
  },
  {
   "cell_type": "code",
   "execution_count": 204,
   "metadata": {},
   "outputs": [],
   "source": [
    "#date features in uno dataset\n",
    "uno_inv_todate=['LAST RCVD']\n",
    "uno_sale_todate=['INVC DATE','LAST RCVD','FIRST RCVD','LAST INVOICED','FIRST INVOICED']"
   ]
  },
  {
   "cell_type": "code",
   "execution_count": 205,
   "metadata": {},
   "outputs": [],
   "source": [
    "#some date in uno_sale are missing but shown as 'NO DATA', change them into missing values \n",
    "#to avoid problems\n",
    "uno_sale[uno_sale_todate]=uno_sale[uno_sale_todate].replace('NO DATA',np.nan)"
   ]
  },
  {
   "cell_type": "code",
   "execution_count": 206,
   "metadata": {},
   "outputs": [],
   "source": [
    "#format='%m/%d/%Y'\n",
    "str_to_date1(uno_inv, uno_inv_todate)"
   ]
  },
  {
   "cell_type": "code",
   "execution_count": 207,
   "metadata": {},
   "outputs": [],
   "source": [
    "#format='%m/%d/%y'\n",
    "\n",
    "str_to_date(uno_sale, uno_sale_todate)"
   ]
  },
  {
   "cell_type": "code",
   "execution_count": null,
   "metadata": {},
   "outputs": [],
   "source": []
  },
  {
   "cell_type": "markdown",
   "metadata": {},
   "source": [
    "<p><a name=\"stn\"></a></p>\n",
    "## str to numeric"
   ]
  },
  {
   "cell_type": "code",
   "execution_count": 208,
   "metadata": {},
   "outputs": [],
   "source": [
    "#str to numeric\n",
    "def num(df, features):\n",
    "    for feature in features:\n",
    "        df[feature]=df[feature].replace('[$,() ]', '', regex=True).astype(float)"
   ]
  },
  {
   "cell_type": "code",
   "execution_count": 209,
   "metadata": {},
   "outputs": [
    {
     "ename": "SyntaxError",
     "evalue": "invalid syntax (<ipython-input-209-2c2756da3f89>, line 1)",
     "output_type": "error",
     "traceback": [
      "\u001b[0;36m  File \u001b[0;32m\"<ipython-input-209-2c2756da3f89>\"\u001b[0;36m, line \u001b[0;32m1\u001b[0m\n\u001b[0;31m    usjh_v1_tonum=[?]\u001b[0m\n\u001b[0m                   ^\u001b[0m\n\u001b[0;31mSyntaxError\u001b[0m\u001b[0;31m:\u001b[0m invalid syntax\n"
     ]
    }
   ],
   "source": [
    "usjh_v1_tonum=[?]\n",
    "usjh_v2_tonum=[?]"
   ]
  },
  {
   "cell_type": "code",
   "execution_count": 210,
   "metadata": {},
   "outputs": [],
   "source": [
    "uno_inv_tonum=['Qty','On-Hand']\n",
    "uno_sale_tonum=['UNIT PRICE','EXT-AMT']"
   ]
  },
  {
   "cell_type": "code",
   "execution_count": 211,
   "metadata": {},
   "outputs": [],
   "source": [
    "num(uno_inv, uno_inv_tonum)"
   ]
  },
  {
   "cell_type": "code",
   "execution_count": 212,
   "metadata": {},
   "outputs": [],
   "source": [
    "num(uno_sale, uno_sale_tonum)"
   ]
  },
  {
   "cell_type": "code",
   "execution_count": null,
   "metadata": {},
   "outputs": [],
   "source": []
  },
  {
   "cell_type": "code",
   "execution_count": 213,
   "metadata": {},
   "outputs": [
    {
     "data": {
      "text/plain": [
       "STYLE#                 object\n",
       "COLOR                  object\n",
       "Description            object\n",
       "LAST RCVD      datetime64[ns]\n",
       "Qty                   float64\n",
       "On-Hand               float64\n",
       "CB Reason              object\n",
       "dtype: object"
      ]
     },
     "execution_count": 213,
     "metadata": {},
     "output_type": "execute_result"
    }
   ],
   "source": [
    "uno_inv.dtypes"
   ]
  },
  {
   "cell_type": "code",
   "execution_count": 214,
   "metadata": {},
   "outputs": [
    {
     "data": {
      "text/plain": [
       "STYLE#                     object\n",
       "COLOR                      object\n",
       "DESCRIPTION                object\n",
       "CUST #                     object\n",
       "INVC DATE          datetime64[ns]\n",
       "QTY                         int64\n",
       "UNIT PRICE                float64\n",
       "EXT-AMT                   float64\n",
       "REASON                     object\n",
       "IMPORT HANDMADE            object\n",
       "MANUFACTORS                object\n",
       "State_sold                 object\n",
       "ZIP_sold                   object\n",
       "RELEASED YEAR              object\n",
       "Seasos                     object\n",
       "Season target              object\n",
       "LAST RCVD          datetime64[ns]\n",
       "FIRST RCVD         datetime64[ns]\n",
       "LAST INVOICED      datetime64[ns]\n",
       "FIRST INVOICED     datetime64[ns]\n",
       "dtype: object"
      ]
     },
     "execution_count": 214,
     "metadata": {},
     "output_type": "execute_result"
    }
   ],
   "source": [
    "uno_sale.dtypes"
   ]
  },
  {
   "cell_type": "code",
   "execution_count": null,
   "metadata": {},
   "outputs": [],
   "source": []
  },
  {
   "cell_type": "markdown",
   "metadata": {},
   "source": [
    "<p><a name=\"mv\"></a></p>\n",
    "# 2.Missing Values"
   ]
  },
  {
   "cell_type": "code",
   "execution_count": 165,
   "metadata": {},
   "outputs": [],
   "source": [
    "#return missing value in a data frame\n",
    "def missing_value(df):\n",
    "    nulls = pd.DataFrame(df.isnull().sum().sort_values(ascending=False))\n",
    "    nulls.columns=['NAs']\n",
    "    nulls['percentage']=nulls['NAs']/df.shape[0]\n",
    "    result=nulls.loc[nulls.NAs>0]\n",
    "    print('Number of features with NAs:',result.shape[0])\n",
    "    return result"
   ]
  },
  {
   "cell_type": "markdown",
   "metadata": {},
   "source": [
    "## USJH"
   ]
  },
  {
   "cell_type": "code",
   "execution_count": 166,
   "metadata": {},
   "outputs": [
    {
     "name": "stdout",
     "output_type": "stream",
     "text": [
      "Number of features with NAs: 33\n"
     ]
    },
    {
     "data": {
      "text/plain": [
       "<bound method NDFrame.head of                              NAs  percentage\n",
       "Note Attributes            85922    0.999965\n",
       "Tags                       85846    0.999081\n",
       "Unnamed: 40                85781    0.998324\n",
       "Cancelled at               85503    0.995089\n",
       "Source                     82179    0.956404\n",
       "Risk Level                 82179    0.956404\n",
       "Unnamed: 39                81143    0.944347\n",
       "Notes                      79393    0.923980\n",
       "Paid at                    78989    0.919278\n",
       "Lineitem compare at price  78875    0.917952\n",
       "Shipping Address2          72157    0.839767\n",
       "Discount Code              65979    0.767867\n",
       "Lineitem sku               44653    0.519674\n",
       "Color                      10031    0.116741\n",
       "Shipping Province           5706    0.066407\n",
       "Shipping Zip                4871    0.056689\n",
       "Shipping Company            4767    0.055479\n",
       "Refunded Amount             4739    0.055153\n",
       "Payment Method              4739    0.055153\n",
       "Shipping Country            4714    0.054862\n",
       "Shipping City               4714    0.054862\n",
       "Shipping Street             4701    0.054711\n",
       "Shipping Address1           4701    0.054711\n",
       "Shipping Method             4667    0.054315\n",
       "Discount Amount             4638    0.053977\n",
       "Total                       4563    0.053104\n",
       "Currency                    4560    0.053070\n",
       "Fulfillment Status          4560    0.053070\n",
       "Accepts Marketing           4560    0.053070\n",
       "Taxes                       4560    0.053070\n",
       "Shipping                    4560    0.053070\n",
       "Subtotal                    4560    0.053070\n",
       "Vendor                       135    0.001571>"
      ]
     },
     "execution_count": 166,
     "metadata": {},
     "output_type": "execute_result"
    }
   ],
   "source": [
    "#item unit\n",
    "missing_value(usjh_v1).head"
   ]
  },
  {
   "cell_type": "code",
   "execution_count": 167,
   "metadata": {},
   "outputs": [
    {
     "name": "stdout",
     "output_type": "stream",
     "text": [
      "Number of features with NAs: 17\n"
     ]
    },
    {
     "data": {
      "text/html": [
       "<div>\n",
       "<style scoped>\n",
       "    .dataframe tbody tr th:only-of-type {\n",
       "        vertical-align: middle;\n",
       "    }\n",
       "\n",
       "    .dataframe tbody tr th {\n",
       "        vertical-align: top;\n",
       "    }\n",
       "\n",
       "    .dataframe thead th {\n",
       "        text-align: right;\n",
       "    }\n",
       "</style>\n",
       "<table border=\"1\" class=\"dataframe\">\n",
       "  <thead>\n",
       "    <tr style=\"text-align: right;\">\n",
       "      <th></th>\n",
       "      <th>NAs</th>\n",
       "      <th>percentage</th>\n",
       "    </tr>\n",
       "  </thead>\n",
       "  <tbody>\n",
       "    <tr>\n",
       "      <th>Note Attributes</th>\n",
       "      <td>3745</td>\n",
       "      <td>0.999733</td>\n",
       "    </tr>\n",
       "    <tr>\n",
       "      <th>Cancelled at</th>\n",
       "      <td>3690</td>\n",
       "      <td>0.985051</td>\n",
       "    </tr>\n",
       "    <tr>\n",
       "      <th>Tags</th>\n",
       "      <td>3667</td>\n",
       "      <td>0.978911</td>\n",
       "    </tr>\n",
       "    <tr>\n",
       "      <th>Notes</th>\n",
       "      <td>3482</td>\n",
       "      <td>0.929525</td>\n",
       "    </tr>\n",
       "    <tr>\n",
       "      <th>Discount Code</th>\n",
       "      <td>3339</td>\n",
       "      <td>0.891351</td>\n",
       "    </tr>\n",
       "  </tbody>\n",
       "</table>\n",
       "</div>"
      ],
      "text/plain": [
       "                  NAs  percentage\n",
       "Note Attributes  3745    0.999733\n",
       "Cancelled at     3690    0.985051\n",
       "Tags             3667    0.978911\n",
       "Notes            3482    0.929525\n",
       "Discount Code    3339    0.891351"
      ]
     },
     "execution_count": 167,
     "metadata": {},
     "output_type": "execute_result"
    }
   ],
   "source": [
    "#order unit\n",
    "missing_value(usjh_v2).head()"
   ]
  },
  {
   "cell_type": "code",
   "execution_count": null,
   "metadata": {},
   "outputs": [],
   "source": []
  },
  {
   "cell_type": "markdown",
   "metadata": {},
   "source": [
    "## UNO"
   ]
  },
  {
   "cell_type": "code",
   "execution_count": 168,
   "metadata": {},
   "outputs": [
    {
     "name": "stdout",
     "output_type": "stream",
     "text": [
      "Number of features with NAs: 6\n"
     ]
    },
    {
     "data": {
      "text/html": [
       "<div>\n",
       "<style scoped>\n",
       "    .dataframe tbody tr th:only-of-type {\n",
       "        vertical-align: middle;\n",
       "    }\n",
       "\n",
       "    .dataframe tbody tr th {\n",
       "        vertical-align: top;\n",
       "    }\n",
       "\n",
       "    .dataframe thead th {\n",
       "        text-align: right;\n",
       "    }\n",
       "</style>\n",
       "<table border=\"1\" class=\"dataframe\">\n",
       "  <thead>\n",
       "    <tr style=\"text-align: right;\">\n",
       "      <th></th>\n",
       "      <th>NAs</th>\n",
       "      <th>percentage</th>\n",
       "    </tr>\n",
       "  </thead>\n",
       "  <tbody>\n",
       "    <tr>\n",
       "      <th>CB Reason</th>\n",
       "      <td>144725</td>\n",
       "      <td>0.999993</td>\n",
       "    </tr>\n",
       "    <tr>\n",
       "      <th>COLOR</th>\n",
       "      <td>8297</td>\n",
       "      <td>0.057329</td>\n",
       "    </tr>\n",
       "    <tr>\n",
       "      <th>Description</th>\n",
       "      <td>16</td>\n",
       "      <td>0.000111</td>\n",
       "    </tr>\n",
       "    <tr>\n",
       "      <th>On-Hand</th>\n",
       "      <td>1</td>\n",
       "      <td>0.000007</td>\n",
       "    </tr>\n",
       "    <tr>\n",
       "      <th>Qty</th>\n",
       "      <td>1</td>\n",
       "      <td>0.000007</td>\n",
       "    </tr>\n",
       "    <tr>\n",
       "      <th>LAST RCVD</th>\n",
       "      <td>1</td>\n",
       "      <td>0.000007</td>\n",
       "    </tr>\n",
       "  </tbody>\n",
       "</table>\n",
       "</div>"
      ],
      "text/plain": [
       "                NAs  percentage\n",
       "CB Reason    144725    0.999993\n",
       "COLOR          8297    0.057329\n",
       "Description      16    0.000111\n",
       "On-Hand           1    0.000007\n",
       "Qty               1    0.000007\n",
       "LAST RCVD         1    0.000007"
      ]
     },
     "execution_count": 168,
     "metadata": {},
     "output_type": "execute_result"
    }
   ],
   "source": [
    "#inventory\n",
    "missing_value(uno_inv)"
   ]
  },
  {
   "cell_type": "code",
   "execution_count": 169,
   "metadata": {},
   "outputs": [
    {
     "name": "stdout",
     "output_type": "stream",
     "text": [
      "Number of features with NAs: 6\n"
     ]
    },
    {
     "data": {
      "text/html": [
       "<div>\n",
       "<style scoped>\n",
       "    .dataframe tbody tr th:only-of-type {\n",
       "        vertical-align: middle;\n",
       "    }\n",
       "\n",
       "    .dataframe tbody tr th {\n",
       "        vertical-align: top;\n",
       "    }\n",
       "\n",
       "    .dataframe thead th {\n",
       "        text-align: right;\n",
       "    }\n",
       "</style>\n",
       "<table border=\"1\" class=\"dataframe\">\n",
       "  <thead>\n",
       "    <tr style=\"text-align: right;\">\n",
       "      <th></th>\n",
       "      <th>NAs</th>\n",
       "      <th>percentage</th>\n",
       "    </tr>\n",
       "  </thead>\n",
       "  <tbody>\n",
       "    <tr>\n",
       "      <th>REASON</th>\n",
       "      <td>108415</td>\n",
       "      <td>0.976333</td>\n",
       "    </tr>\n",
       "    <tr>\n",
       "      <th>FIRST RCVD</th>\n",
       "      <td>24490</td>\n",
       "      <td>0.220545</td>\n",
       "    </tr>\n",
       "    <tr>\n",
       "      <th>LAST RCVD</th>\n",
       "      <td>24490</td>\n",
       "      <td>0.220545</td>\n",
       "    </tr>\n",
       "    <tr>\n",
       "      <th>COLOR</th>\n",
       "      <td>3981</td>\n",
       "      <td>0.035851</td>\n",
       "    </tr>\n",
       "    <tr>\n",
       "      <th>MANUFACTORS</th>\n",
       "      <td>81</td>\n",
       "      <td>0.000729</td>\n",
       "    </tr>\n",
       "  </tbody>\n",
       "</table>\n",
       "</div>"
      ],
      "text/plain": [
       "                NAs  percentage\n",
       "REASON       108415    0.976333\n",
       "FIRST RCVD    24490    0.220545\n",
       "LAST RCVD     24490    0.220545\n",
       "COLOR          3981    0.035851\n",
       "MANUFACTORS      81    0.000729"
      ]
     },
     "execution_count": 169,
     "metadata": {},
     "output_type": "execute_result"
    }
   ],
   "source": [
    "#sale\n",
    "missing_value(uno_sale).head()"
   ]
  },
  {
   "cell_type": "code",
   "execution_count": null,
   "metadata": {},
   "outputs": [],
   "source": []
  },
  {
   "cell_type": "markdown",
   "metadata": {},
   "source": [
    "<p><a name=\"mvi\"></a></p>\n",
    "# Missing value types and imputation"
   ]
  },
  {
   "cell_type": "markdown",
   "metadata": {},
   "source": [
    "## Types"
   ]
  },
  {
   "cell_type": "markdown",
   "metadata": {},
   "source": [
    "** Not Missing at Random (NMAR) : they should be replaced with 'None'**"
   ]
  },
  {
   "cell_type": "code",
   "execution_count": 170,
   "metadata": {},
   "outputs": [],
   "source": [
    "def impu_nmar(df,features):\n",
    "    df[features]=df[features].fillna('None')\n",
    "    \n",
    "def impu_nmar0(df,features):\n",
    "    df[features]=df[features].fillna(0.0)"
   ]
  },
  {
   "cell_type": "code",
   "execution_count": null,
   "metadata": {},
   "outputs": [],
   "source": []
  },
  {
   "cell_type": "code",
   "execution_count": 171,
   "metadata": {},
   "outputs": [
    {
     "name": "stdout",
     "output_type": "stream",
     "text": [
      "Number of features with NAs: 33\n"
     ]
    },
    {
     "data": {
      "text/plain": [
       "Index(['Note Attributes', 'Tags', 'Unnamed: 40', 'Cancelled at', 'Source',\n",
       "       'Risk Level', 'Unnamed: 39', 'Notes', 'Paid at',\n",
       "       'Lineitem compare at price', 'Shipping Address2', 'Discount Code',\n",
       "       'Lineitem sku', 'Color ', 'Shipping Province', 'Shipping Zip',\n",
       "       'Shipping Company', 'Refunded Amount', 'Payment Method',\n",
       "       'Shipping Country', 'Shipping City', 'Shipping Street',\n",
       "       'Shipping Address1', 'Shipping Method', 'Discount Amount', 'Total',\n",
       "       'Currency', 'Fulfillment Status', 'Accepts Marketing', 'Taxes',\n",
       "       'Shipping', 'Subtotal', 'Vendor'],\n",
       "      dtype='object')"
      ]
     },
     "execution_count": 171,
     "metadata": {},
     "output_type": "execute_result"
    }
   ],
   "source": [
    "missing_value(usjh_v1).index"
   ]
  },
  {
   "cell_type": "code",
   "execution_count": 172,
   "metadata": {},
   "outputs": [],
   "source": [
    "usjh_v1_nmar=['Note Attributes', 'Tags', #'Cancelled at',\n",
    "       'Notes','Discount Code']\n",
    "usjh_v1_nmar0=['Refunded Amount','Discount Amount']"
   ]
  },
  {
   "cell_type": "code",
   "execution_count": 173,
   "metadata": {},
   "outputs": [],
   "source": [
    "impu_nmar(usjh_v1,usjh_v1_nmar)\n",
    "impu_nmar0(usjh_v1,usjh_v1_nmar0)"
   ]
  },
  {
   "cell_type": "code",
   "execution_count": 174,
   "metadata": {},
   "outputs": [
    {
     "name": "stdout",
     "output_type": "stream",
     "text": [
      "Number of features with NAs: 27\n"
     ]
    },
    {
     "data": {
      "text/html": [
       "<div>\n",
       "<style scoped>\n",
       "    .dataframe tbody tr th:only-of-type {\n",
       "        vertical-align: middle;\n",
       "    }\n",
       "\n",
       "    .dataframe tbody tr th {\n",
       "        vertical-align: top;\n",
       "    }\n",
       "\n",
       "    .dataframe thead th {\n",
       "        text-align: right;\n",
       "    }\n",
       "</style>\n",
       "<table border=\"1\" class=\"dataframe\">\n",
       "  <thead>\n",
       "    <tr style=\"text-align: right;\">\n",
       "      <th></th>\n",
       "      <th>NAs</th>\n",
       "      <th>percentage</th>\n",
       "    </tr>\n",
       "  </thead>\n",
       "  <tbody>\n",
       "    <tr>\n",
       "      <th>Unnamed: 40</th>\n",
       "      <td>85781</td>\n",
       "      <td>0.998324</td>\n",
       "    </tr>\n",
       "    <tr>\n",
       "      <th>Cancelled at</th>\n",
       "      <td>85503</td>\n",
       "      <td>0.995089</td>\n",
       "    </tr>\n",
       "    <tr>\n",
       "      <th>Source</th>\n",
       "      <td>82179</td>\n",
       "      <td>0.956404</td>\n",
       "    </tr>\n",
       "    <tr>\n",
       "      <th>Risk Level</th>\n",
       "      <td>82179</td>\n",
       "      <td>0.956404</td>\n",
       "    </tr>\n",
       "    <tr>\n",
       "      <th>Unnamed: 39</th>\n",
       "      <td>81143</td>\n",
       "      <td>0.944347</td>\n",
       "    </tr>\n",
       "  </tbody>\n",
       "</table>\n",
       "</div>"
      ],
      "text/plain": [
       "                NAs  percentage\n",
       "Unnamed: 40   85781    0.998324\n",
       "Cancelled at  85503    0.995089\n",
       "Source        82179    0.956404\n",
       "Risk Level    82179    0.956404\n",
       "Unnamed: 39   81143    0.944347"
      ]
     },
     "execution_count": 174,
     "metadata": {},
     "output_type": "execute_result"
    }
   ],
   "source": [
    "missing_value(usjh_v1).head()"
   ]
  },
  {
   "cell_type": "code",
   "execution_count": null,
   "metadata": {},
   "outputs": [],
   "source": []
  },
  {
   "cell_type": "code",
   "execution_count": 175,
   "metadata": {},
   "outputs": [
    {
     "name": "stdout",
     "output_type": "stream",
     "text": [
      "Number of features with NAs: 17\n"
     ]
    },
    {
     "data": {
      "text/plain": [
       "Index(['Note Attributes', 'Cancelled at', 'Tags', 'Notes', 'Discount Code',\n",
       "       'Shipping Address2', 'Paid at', 'Color ', 'Shipping Province', 'Vendor',\n",
       "       'Shipping Method', 'Shipping Zip', 'Shipping Company',\n",
       "       'Shipping Country', 'Shipping City', 'Shipping Street',\n",
       "       'Shipping Address1'],\n",
       "      dtype='object')"
      ]
     },
     "execution_count": 175,
     "metadata": {},
     "output_type": "execute_result"
    }
   ],
   "source": [
    "missing_value(usjh_v2).index"
   ]
  },
  {
   "cell_type": "code",
   "execution_count": 176,
   "metadata": {},
   "outputs": [],
   "source": [
    "usjh_v2_nmar=['Note Attributes', 'Tags', 'Cancelled at',\n",
    "       'Notes','Discount Code']"
   ]
  },
  {
   "cell_type": "code",
   "execution_count": 177,
   "metadata": {},
   "outputs": [],
   "source": [
    "impu_nmar(usjh_v2,usjh_v2_nmar)"
   ]
  },
  {
   "cell_type": "code",
   "execution_count": 178,
   "metadata": {},
   "outputs": [
    {
     "name": "stdout",
     "output_type": "stream",
     "text": [
      "Number of features with NAs: 12\n"
     ]
    },
    {
     "data": {
      "text/html": [
       "<div>\n",
       "<style scoped>\n",
       "    .dataframe tbody tr th:only-of-type {\n",
       "        vertical-align: middle;\n",
       "    }\n",
       "\n",
       "    .dataframe tbody tr th {\n",
       "        vertical-align: top;\n",
       "    }\n",
       "\n",
       "    .dataframe thead th {\n",
       "        text-align: right;\n",
       "    }\n",
       "</style>\n",
       "<table border=\"1\" class=\"dataframe\">\n",
       "  <thead>\n",
       "    <tr style=\"text-align: right;\">\n",
       "      <th></th>\n",
       "      <th>NAs</th>\n",
       "      <th>percentage</th>\n",
       "    </tr>\n",
       "  </thead>\n",
       "  <tbody>\n",
       "    <tr>\n",
       "      <th>Shipping Address2</th>\n",
       "      <td>3010</td>\n",
       "      <td>0.803524</td>\n",
       "    </tr>\n",
       "    <tr>\n",
       "      <th>Paid at</th>\n",
       "      <td>2762</td>\n",
       "      <td>0.737320</td>\n",
       "    </tr>\n",
       "    <tr>\n",
       "      <th>Color</th>\n",
       "      <td>166</td>\n",
       "      <td>0.044314</td>\n",
       "    </tr>\n",
       "    <tr>\n",
       "      <th>Shipping Province</th>\n",
       "      <td>39</td>\n",
       "      <td>0.010411</td>\n",
       "    </tr>\n",
       "    <tr>\n",
       "      <th>Vendor</th>\n",
       "      <td>33</td>\n",
       "      <td>0.008809</td>\n",
       "    </tr>\n",
       "  </tbody>\n",
       "</table>\n",
       "</div>"
      ],
      "text/plain": [
       "                    NAs  percentage\n",
       "Shipping Address2  3010    0.803524\n",
       "Paid at            2762    0.737320\n",
       "Color               166    0.044314\n",
       "Shipping Province    39    0.010411\n",
       "Vendor               33    0.008809"
      ]
     },
     "execution_count": 178,
     "metadata": {},
     "output_type": "execute_result"
    }
   ],
   "source": [
    "missing_value(usjh_v2).head()"
   ]
  },
  {
   "cell_type": "code",
   "execution_count": null,
   "metadata": {},
   "outputs": [],
   "source": []
  },
  {
   "cell_type": "code",
   "execution_count": 179,
   "metadata": {},
   "outputs": [
    {
     "name": "stdout",
     "output_type": "stream",
     "text": [
      "Number of features with NAs: 6\n"
     ]
    },
    {
     "data": {
      "text/plain": [
       "Index(['CB Reason', 'COLOR', 'Description', 'On-Hand', 'Qty', 'LAST RCVD'], dtype='object')"
      ]
     },
     "execution_count": 179,
     "metadata": {},
     "output_type": "execute_result"
    }
   ],
   "source": [
    "missing_value(uno_inv).index"
   ]
  },
  {
   "cell_type": "code",
   "execution_count": 180,
   "metadata": {},
   "outputs": [
    {
     "ename": "SyntaxError",
     "evalue": "invalid syntax (<ipython-input-180-8cabad2832b5>, line 1)",
     "output_type": "error",
     "traceback": [
      "\u001b[0;36m  File \u001b[0;32m\"<ipython-input-180-8cabad2832b5>\"\u001b[0;36m, line \u001b[0;32m1\u001b[0m\n\u001b[0;31m    uno_inv_nmar=[?]\u001b[0m\n\u001b[0m                  ^\u001b[0m\n\u001b[0;31mSyntaxError\u001b[0m\u001b[0;31m:\u001b[0m invalid syntax\n"
     ]
    }
   ],
   "source": [
    "uno_inv_nmar=[?]"
   ]
  },
  {
   "cell_type": "code",
   "execution_count": null,
   "metadata": {},
   "outputs": [],
   "source": []
  },
  {
   "cell_type": "code",
   "execution_count": 181,
   "metadata": {},
   "outputs": [
    {
     "name": "stdout",
     "output_type": "stream",
     "text": [
      "Number of features with NAs: 6\n"
     ]
    },
    {
     "data": {
      "text/plain": [
       "Index(['REASON', 'FIRST RCVD', 'LAST RCVD', 'COLOR', 'MANUFACTORS',\n",
       "       'DESCRIPTION'],\n",
       "      dtype='object')"
      ]
     },
     "execution_count": 181,
     "metadata": {},
     "output_type": "execute_result"
    }
   ],
   "source": [
    "missing_value(uno_sale).index"
   ]
  },
  {
   "cell_type": "code",
   "execution_count": 182,
   "metadata": {},
   "outputs": [],
   "source": [
    "uno_sale_nmar=['REASON']"
   ]
  },
  {
   "cell_type": "code",
   "execution_count": 183,
   "metadata": {},
   "outputs": [],
   "source": [
    "impu_nmar(uno_sale,uno_sale_nmar)"
   ]
  },
  {
   "cell_type": "code",
   "execution_count": 184,
   "metadata": {},
   "outputs": [
    {
     "name": "stdout",
     "output_type": "stream",
     "text": [
      "Number of features with NAs: 5\n"
     ]
    },
    {
     "data": {
      "text/plain": [
       "Index(['FIRST RCVD', 'LAST RCVD', 'COLOR', 'MANUFACTORS', 'DESCRIPTION'], dtype='object')"
      ]
     },
     "execution_count": 184,
     "metadata": {},
     "output_type": "execute_result"
    }
   ],
   "source": [
    "missing_value(uno_sale).index"
   ]
  },
  {
   "cell_type": "code",
   "execution_count": null,
   "metadata": {},
   "outputs": [],
   "source": []
  },
  {
   "cell_type": "markdown",
   "metadata": {},
   "source": [
    "<p><a name=\"nf\"></a></p>\n",
    "# 3. Explore numerical features"
   ]
  },
  {
   "cell_type": "code",
   "execution_count": 60,
   "metadata": {},
   "outputs": [
    {
     "name": "stdout",
     "output_type": "stream",
     "text": [
      "(85925, 9)\n",
      "(3746, 7)\n",
      "(144726, 2)\n",
      "(111043, 3)\n"
     ]
    }
   ],
   "source": [
    "#create dataframe only consists of numerical values for each dataset\n",
    "usjh1n=usjh_v1.select_dtypes(include='number')\n",
    "usjh2n=usjh_v2.select_dtypes(include='number')\n",
    "uno_in=uno_inv.select_dtypes(include='number')\n",
    "uno_sn=uno_sale.select_dtypes(include='number')\n",
    "print(usjh1n.shape)\n",
    "print(usjh2n.shape)\n",
    "print(uno_in.shape)\n",
    "print(uno_sn.shape)"
   ]
  },
  {
   "cell_type": "code",
   "execution_count": null,
   "metadata": {},
   "outputs": [],
   "source": []
  },
  {
   "cell_type": "code",
   "execution_count": 61,
   "metadata": {},
   "outputs": [
    {
     "data": {
      "text/html": [
       "<div>\n",
       "<style scoped>\n",
       "    .dataframe tbody tr th:only-of-type {\n",
       "        vertical-align: middle;\n",
       "    }\n",
       "\n",
       "    .dataframe tbody tr th {\n",
       "        vertical-align: top;\n",
       "    }\n",
       "\n",
       "    .dataframe thead th {\n",
       "        text-align: right;\n",
       "    }\n",
       "</style>\n",
       "<table border=\"1\" class=\"dataframe\">\n",
       "  <thead>\n",
       "    <tr style=\"text-align: right;\">\n",
       "      <th></th>\n",
       "      <th>Subtotal</th>\n",
       "      <th>Shipping</th>\n",
       "      <th>Taxes</th>\n",
       "      <th>Total</th>\n",
       "      <th>Discount Amount</th>\n",
       "      <th>Lineitem quantity</th>\n",
       "      <th>Lineitem price</th>\n",
       "      <th>Lineitem compare at price</th>\n",
       "      <th>Refunded Amount</th>\n",
       "    </tr>\n",
       "  </thead>\n",
       "  <tbody>\n",
       "    <tr>\n",
       "      <th>count</th>\n",
       "      <td>81365.000000</td>\n",
       "      <td>81365.000000</td>\n",
       "      <td>81365.000000</td>\n",
       "      <td>81362.000000</td>\n",
       "      <td>85925.000000</td>\n",
       "      <td>85925.000000</td>\n",
       "      <td>85925.000000</td>\n",
       "      <td>7050.000000</td>\n",
       "      <td>85925.000000</td>\n",
       "    </tr>\n",
       "    <tr>\n",
       "      <th>mean</th>\n",
       "      <td>468.411290</td>\n",
       "      <td>7.836646</td>\n",
       "      <td>0.051450</td>\n",
       "      <td>476.303490</td>\n",
       "      <td>17.473226</td>\n",
       "      <td>2.202944</td>\n",
       "      <td>5.690933</td>\n",
       "      <td>9.655613</td>\n",
       "      <td>77.311024</td>\n",
       "    </tr>\n",
       "    <tr>\n",
       "      <th>std</th>\n",
       "      <td>643.559828</td>\n",
       "      <td>21.244518</td>\n",
       "      <td>0.932189</td>\n",
       "      <td>645.421718</td>\n",
       "      <td>53.302811</td>\n",
       "      <td>2.871572</td>\n",
       "      <td>17.570636</td>\n",
       "      <td>97.916576</td>\n",
       "      <td>158.711290</td>\n",
       "    </tr>\n",
       "    <tr>\n",
       "      <th>min</th>\n",
       "      <td>1.990000</td>\n",
       "      <td>0.000000</td>\n",
       "      <td>0.000000</td>\n",
       "      <td>7.500000</td>\n",
       "      <td>0.000000</td>\n",
       "      <td>1.000000</td>\n",
       "      <td>0.000000</td>\n",
       "      <td>0.000000</td>\n",
       "      <td>0.000000</td>\n",
       "    </tr>\n",
       "    <tr>\n",
       "      <th>25%</th>\n",
       "      <td>195.000000</td>\n",
       "      <td>0.000000</td>\n",
       "      <td>0.000000</td>\n",
       "      <td>207.430000</td>\n",
       "      <td>0.000000</td>\n",
       "      <td>1.000000</td>\n",
       "      <td>3.250000</td>\n",
       "      <td>4.000000</td>\n",
       "      <td>13.300000</td>\n",
       "    </tr>\n",
       "    <tr>\n",
       "      <th>50%</th>\n",
       "      <td>302.000000</td>\n",
       "      <td>0.000000</td>\n",
       "      <td>0.000000</td>\n",
       "      <td>307.000000</td>\n",
       "      <td>0.000000</td>\n",
       "      <td>1.000000</td>\n",
       "      <td>4.500000</td>\n",
       "      <td>5.750000</td>\n",
       "      <td>42.000000</td>\n",
       "    </tr>\n",
       "    <tr>\n",
       "      <th>75%</th>\n",
       "      <td>497.090000</td>\n",
       "      <td>10.400000</td>\n",
       "      <td>0.000000</td>\n",
       "      <td>502.650000</td>\n",
       "      <td>0.000000</td>\n",
       "      <td>2.000000</td>\n",
       "      <td>6.250000</td>\n",
       "      <td>8.500000</td>\n",
       "      <td>86.490000</td>\n",
       "    </tr>\n",
       "    <tr>\n",
       "      <th>max</th>\n",
       "      <td>12770.250000</td>\n",
       "      <td>360.150000</td>\n",
       "      <td>40.470000</td>\n",
       "      <td>12770.250000</td>\n",
       "      <td>1039.800000</td>\n",
       "      <td>200.000000</td>\n",
       "      <td>3550.000000</td>\n",
       "      <td>3360.000000</td>\n",
       "      <td>4003.340000</td>\n",
       "    </tr>\n",
       "  </tbody>\n",
       "</table>\n",
       "</div>"
      ],
      "text/plain": [
       "           Subtotal      Shipping         Taxes         Total  \\\n",
       "count  81365.000000  81365.000000  81365.000000  81362.000000   \n",
       "mean     468.411290      7.836646      0.051450    476.303490   \n",
       "std      643.559828     21.244518      0.932189    645.421718   \n",
       "min        1.990000      0.000000      0.000000      7.500000   \n",
       "25%      195.000000      0.000000      0.000000    207.430000   \n",
       "50%      302.000000      0.000000      0.000000    307.000000   \n",
       "75%      497.090000     10.400000      0.000000    502.650000   \n",
       "max    12770.250000    360.150000     40.470000  12770.250000   \n",
       "\n",
       "       Discount Amount  Lineitem quantity  Lineitem price  \\\n",
       "count     85925.000000       85925.000000    85925.000000   \n",
       "mean         17.473226           2.202944        5.690933   \n",
       "std          53.302811           2.871572       17.570636   \n",
       "min           0.000000           1.000000        0.000000   \n",
       "25%           0.000000           1.000000        3.250000   \n",
       "50%           0.000000           1.000000        4.500000   \n",
       "75%           0.000000           2.000000        6.250000   \n",
       "max        1039.800000         200.000000     3550.000000   \n",
       "\n",
       "       Lineitem compare at price  Refunded Amount  \n",
       "count                7050.000000     85925.000000  \n",
       "mean                    9.655613        77.311024  \n",
       "std                    97.916576       158.711290  \n",
       "min                     0.000000         0.000000  \n",
       "25%                     4.000000        13.300000  \n",
       "50%                     5.750000        42.000000  \n",
       "75%                     8.500000        86.490000  \n",
       "max                  3360.000000      4003.340000  "
      ]
     },
     "execution_count": 61,
     "metadata": {},
     "output_type": "execute_result"
    }
   ],
   "source": [
    "usjh1n.describe()"
   ]
  },
  {
   "cell_type": "code",
   "execution_count": 62,
   "metadata": {},
   "outputs": [
    {
     "data": {
      "text/html": [
       "<div>\n",
       "<style scoped>\n",
       "    .dataframe tbody tr th:only-of-type {\n",
       "        vertical-align: middle;\n",
       "    }\n",
       "\n",
       "    .dataframe tbody tr th {\n",
       "        vertical-align: top;\n",
       "    }\n",
       "\n",
       "    .dataframe thead th {\n",
       "        text-align: right;\n",
       "    }\n",
       "</style>\n",
       "<table border=\"1\" class=\"dataframe\">\n",
       "  <thead>\n",
       "    <tr style=\"text-align: right;\">\n",
       "      <th></th>\n",
       "      <th>Subtotal</th>\n",
       "      <th>Shipping</th>\n",
       "      <th>Taxes</th>\n",
       "      <th>Total</th>\n",
       "      <th>Discount Amount</th>\n",
       "      <th>Refunded Amount</th>\n",
       "      <th>item_quantity</th>\n",
       "    </tr>\n",
       "  </thead>\n",
       "  <tbody>\n",
       "    <tr>\n",
       "      <th>count</th>\n",
       "      <td>3746.000000</td>\n",
       "      <td>3746.000000</td>\n",
       "      <td>3746.000000</td>\n",
       "      <td>3746.000000</td>\n",
       "      <td>3746.000000</td>\n",
       "      <td>3746.000000</td>\n",
       "      <td>3746.000000</td>\n",
       "    </tr>\n",
       "    <tr>\n",
       "      <th>mean</th>\n",
       "      <td>261.697023</td>\n",
       "      <td>8.735526</td>\n",
       "      <td>0.053540</td>\n",
       "      <td>270.486089</td>\n",
       "      <td>6.998062</td>\n",
       "      <td>41.888497</td>\n",
       "      <td>50.530699</td>\n",
       "    </tr>\n",
       "    <tr>\n",
       "      <th>std</th>\n",
       "      <td>413.581388</td>\n",
       "      <td>14.322096</td>\n",
       "      <td>0.877899</td>\n",
       "      <td>413.958494</td>\n",
       "      <td>37.542806</td>\n",
       "      <td>92.043439</td>\n",
       "      <td>79.453670</td>\n",
       "    </tr>\n",
       "    <tr>\n",
       "      <th>min</th>\n",
       "      <td>1.990000</td>\n",
       "      <td>0.000000</td>\n",
       "      <td>0.000000</td>\n",
       "      <td>7.500000</td>\n",
       "      <td>0.000000</td>\n",
       "      <td>0.000000</td>\n",
       "      <td>1.000000</td>\n",
       "    </tr>\n",
       "    <tr>\n",
       "      <th>25%</th>\n",
       "      <td>81.750000</td>\n",
       "      <td>0.000000</td>\n",
       "      <td>0.000000</td>\n",
       "      <td>93.755000</td>\n",
       "      <td>0.000000</td>\n",
       "      <td>0.000000</td>\n",
       "      <td>14.000000</td>\n",
       "    </tr>\n",
       "    <tr>\n",
       "      <th>50%</th>\n",
       "      <td>175.500000</td>\n",
       "      <td>9.830000</td>\n",
       "      <td>0.000000</td>\n",
       "      <td>188.200000</td>\n",
       "      <td>0.000000</td>\n",
       "      <td>20.250000</td>\n",
       "      <td>32.000000</td>\n",
       "    </tr>\n",
       "    <tr>\n",
       "      <th>75%</th>\n",
       "      <td>304.625000</td>\n",
       "      <td>10.570000</td>\n",
       "      <td>0.000000</td>\n",
       "      <td>308.447500</td>\n",
       "      <td>0.000000</td>\n",
       "      <td>53.495000</td>\n",
       "      <td>60.000000</td>\n",
       "    </tr>\n",
       "    <tr>\n",
       "      <th>max</th>\n",
       "      <td>12770.250000</td>\n",
       "      <td>360.150000</td>\n",
       "      <td>40.470000</td>\n",
       "      <td>12770.250000</td>\n",
       "      <td>1039.800000</td>\n",
       "      <td>4003.340000</td>\n",
       "      <td>2112.000000</td>\n",
       "    </tr>\n",
       "  </tbody>\n",
       "</table>\n",
       "</div>"
      ],
      "text/plain": [
       "           Subtotal     Shipping        Taxes         Total  Discount Amount  \\\n",
       "count   3746.000000  3746.000000  3746.000000   3746.000000      3746.000000   \n",
       "mean     261.697023     8.735526     0.053540    270.486089         6.998062   \n",
       "std      413.581388    14.322096     0.877899    413.958494        37.542806   \n",
       "min        1.990000     0.000000     0.000000      7.500000         0.000000   \n",
       "25%       81.750000     0.000000     0.000000     93.755000         0.000000   \n",
       "50%      175.500000     9.830000     0.000000    188.200000         0.000000   \n",
       "75%      304.625000    10.570000     0.000000    308.447500         0.000000   \n",
       "max    12770.250000   360.150000    40.470000  12770.250000      1039.800000   \n",
       "\n",
       "       Refunded Amount  item_quantity  \n",
       "count      3746.000000    3746.000000  \n",
       "mean         41.888497      50.530699  \n",
       "std          92.043439      79.453670  \n",
       "min           0.000000       1.000000  \n",
       "25%           0.000000      14.000000  \n",
       "50%          20.250000      32.000000  \n",
       "75%          53.495000      60.000000  \n",
       "max        4003.340000    2112.000000  "
      ]
     },
     "execution_count": 62,
     "metadata": {},
     "output_type": "execute_result"
    }
   ],
   "source": [
    "usjh2n.describe()"
   ]
  },
  {
   "cell_type": "code",
   "execution_count": 63,
   "metadata": {},
   "outputs": [
    {
     "data": {
      "text/html": [
       "<div>\n",
       "<style scoped>\n",
       "    .dataframe tbody tr th:only-of-type {\n",
       "        vertical-align: middle;\n",
       "    }\n",
       "\n",
       "    .dataframe tbody tr th {\n",
       "        vertical-align: top;\n",
       "    }\n",
       "\n",
       "    .dataframe thead th {\n",
       "        text-align: right;\n",
       "    }\n",
       "</style>\n",
       "<table border=\"1\" class=\"dataframe\">\n",
       "  <thead>\n",
       "    <tr style=\"text-align: right;\">\n",
       "      <th></th>\n",
       "      <th>Qty</th>\n",
       "      <th>On-Hand</th>\n",
       "    </tr>\n",
       "  </thead>\n",
       "  <tbody>\n",
       "    <tr>\n",
       "      <th>count</th>\n",
       "      <td>144725.000000</td>\n",
       "      <td>144725.00000</td>\n",
       "    </tr>\n",
       "    <tr>\n",
       "      <th>mean</th>\n",
       "      <td>-3.070707</td>\n",
       "      <td>5.31271</td>\n",
       "    </tr>\n",
       "    <tr>\n",
       "      <th>std</th>\n",
       "      <td>163.276722</td>\n",
       "      <td>394.42100</td>\n",
       "    </tr>\n",
       "    <tr>\n",
       "      <th>min</th>\n",
       "      <td>-3514.000000</td>\n",
       "      <td>-15046.00000</td>\n",
       "    </tr>\n",
       "    <tr>\n",
       "      <th>25%</th>\n",
       "      <td>-36.000000</td>\n",
       "      <td>0.00000</td>\n",
       "    </tr>\n",
       "    <tr>\n",
       "      <th>50%</th>\n",
       "      <td>-12.000000</td>\n",
       "      <td>0.00000</td>\n",
       "    </tr>\n",
       "    <tr>\n",
       "      <th>75%</th>\n",
       "      <td>-12.000000</td>\n",
       "      <td>47.00000</td>\n",
       "    </tr>\n",
       "    <tr>\n",
       "      <th>max</th>\n",
       "      <td>10000.000000</td>\n",
       "      <td>10000.00000</td>\n",
       "    </tr>\n",
       "  </tbody>\n",
       "</table>\n",
       "</div>"
      ],
      "text/plain": [
       "                 Qty       On-Hand\n",
       "count  144725.000000  144725.00000\n",
       "mean       -3.070707       5.31271\n",
       "std       163.276722     394.42100\n",
       "min     -3514.000000  -15046.00000\n",
       "25%       -36.000000       0.00000\n",
       "50%       -12.000000       0.00000\n",
       "75%       -12.000000      47.00000\n",
       "max     10000.000000   10000.00000"
      ]
     },
     "execution_count": 63,
     "metadata": {},
     "output_type": "execute_result"
    }
   ],
   "source": [
    "uno_in.describe()"
   ]
  },
  {
   "cell_type": "code",
   "execution_count": 64,
   "metadata": {},
   "outputs": [
    {
     "data": {
      "text/html": [
       "<div>\n",
       "<style scoped>\n",
       "    .dataframe tbody tr th:only-of-type {\n",
       "        vertical-align: middle;\n",
       "    }\n",
       "\n",
       "    .dataframe tbody tr th {\n",
       "        vertical-align: top;\n",
       "    }\n",
       "\n",
       "    .dataframe thead th {\n",
       "        text-align: right;\n",
       "    }\n",
       "</style>\n",
       "<table border=\"1\" class=\"dataframe\">\n",
       "  <thead>\n",
       "    <tr style=\"text-align: right;\">\n",
       "      <th></th>\n",
       "      <th>QTY</th>\n",
       "      <th>UNIT PRICE</th>\n",
       "      <th>EXT-AMT</th>\n",
       "    </tr>\n",
       "  </thead>\n",
       "  <tbody>\n",
       "    <tr>\n",
       "      <th>count</th>\n",
       "      <td>111043.000000</td>\n",
       "      <td>111043.000000</td>\n",
       "      <td>111043.000000</td>\n",
       "    </tr>\n",
       "    <tr>\n",
       "      <th>mean</th>\n",
       "      <td>42.114478</td>\n",
       "      <td>3.651325</td>\n",
       "      <td>134.925883</td>\n",
       "    </tr>\n",
       "    <tr>\n",
       "      <th>std</th>\n",
       "      <td>104.190938</td>\n",
       "      <td>3.759360</td>\n",
       "      <td>303.436692</td>\n",
       "    </tr>\n",
       "    <tr>\n",
       "      <th>min</th>\n",
       "      <td>-3600.000000</td>\n",
       "      <td>0.000000</td>\n",
       "      <td>0.000000</td>\n",
       "    </tr>\n",
       "    <tr>\n",
       "      <th>25%</th>\n",
       "      <td>12.000000</td>\n",
       "      <td>2.500000</td>\n",
       "      <td>39.000000</td>\n",
       "    </tr>\n",
       "    <tr>\n",
       "      <th>50%</th>\n",
       "      <td>24.000000</td>\n",
       "      <td>3.500000</td>\n",
       "      <td>66.000000</td>\n",
       "    </tr>\n",
       "    <tr>\n",
       "      <th>75%</th>\n",
       "      <td>36.000000</td>\n",
       "      <td>4.500000</td>\n",
       "      <td>126.000000</td>\n",
       "    </tr>\n",
       "    <tr>\n",
       "      <th>max</th>\n",
       "      <td>3514.000000</td>\n",
       "      <td>821.730000</td>\n",
       "      <td>29875.500000</td>\n",
       "    </tr>\n",
       "  </tbody>\n",
       "</table>\n",
       "</div>"
      ],
      "text/plain": [
       "                 QTY     UNIT PRICE        EXT-AMT\n",
       "count  111043.000000  111043.000000  111043.000000\n",
       "mean       42.114478       3.651325     134.925883\n",
       "std       104.190938       3.759360     303.436692\n",
       "min     -3600.000000       0.000000       0.000000\n",
       "25%        12.000000       2.500000      39.000000\n",
       "50%        24.000000       3.500000      66.000000\n",
       "75%        36.000000       4.500000     126.000000\n",
       "max      3514.000000     821.730000   29875.500000"
      ]
     },
     "execution_count": 64,
     "metadata": {},
     "output_type": "execute_result"
    }
   ],
   "source": [
    "uno_sn.describe()"
   ]
  },
  {
   "cell_type": "markdown",
   "metadata": {},
   "source": [
    "<p><a name=\"skew\"></a></p>\n",
    "## Skewness"
   ]
  },
  {
   "cell_type": "code",
   "execution_count": 65,
   "metadata": {},
   "outputs": [],
   "source": [
    "def skewness(df):\n",
    "    df=pd.DataFrame(df.skew(), columns=['skewness']).reset_index().sort_values('skewness', ascending=False)\n",
    "    df.columns=['feature','skewness']\n",
    "    return df"
   ]
  },
  {
   "cell_type": "code",
   "execution_count": 66,
   "metadata": {},
   "outputs": [
    {
     "data": {
      "text/html": [
       "<div>\n",
       "<style scoped>\n",
       "    .dataframe tbody tr th:only-of-type {\n",
       "        vertical-align: middle;\n",
       "    }\n",
       "\n",
       "    .dataframe tbody tr th {\n",
       "        vertical-align: top;\n",
       "    }\n",
       "\n",
       "    .dataframe thead th {\n",
       "        text-align: right;\n",
       "    }\n",
       "</style>\n",
       "<table border=\"1\" class=\"dataframe\">\n",
       "  <thead>\n",
       "    <tr style=\"text-align: right;\">\n",
       "      <th></th>\n",
       "      <th>feature</th>\n",
       "      <th>skewness</th>\n",
       "    </tr>\n",
       "  </thead>\n",
       "  <tbody>\n",
       "    <tr>\n",
       "      <th>6</th>\n",
       "      <td>Lineitem price</td>\n",
       "      <td>128.670216</td>\n",
       "    </tr>\n",
       "    <tr>\n",
       "      <th>2</th>\n",
       "      <td>Taxes</td>\n",
       "      <td>36.337078</td>\n",
       "    </tr>\n",
       "    <tr>\n",
       "      <th>7</th>\n",
       "      <td>Lineitem compare at price</td>\n",
       "      <td>34.107406</td>\n",
       "    </tr>\n",
       "    <tr>\n",
       "      <th>5</th>\n",
       "      <td>Lineitem quantity</td>\n",
       "      <td>14.389948</td>\n",
       "    </tr>\n",
       "    <tr>\n",
       "      <th>8</th>\n",
       "      <td>Refunded Amount</td>\n",
       "      <td>13.493993</td>\n",
       "    </tr>\n",
       "  </tbody>\n",
       "</table>\n",
       "</div>"
      ],
      "text/plain": [
       "                     feature    skewness\n",
       "6             Lineitem price  128.670216\n",
       "2                      Taxes   36.337078\n",
       "7  Lineitem compare at price   34.107406\n",
       "5          Lineitem quantity   14.389948\n",
       "8            Refunded Amount   13.493993"
      ]
     },
     "execution_count": 66,
     "metadata": {},
     "output_type": "execute_result"
    }
   ],
   "source": [
    "skewness(usjh1n).head()"
   ]
  },
  {
   "cell_type": "code",
   "execution_count": null,
   "metadata": {},
   "outputs": [],
   "source": []
  },
  {
   "cell_type": "code",
   "execution_count": 67,
   "metadata": {},
   "outputs": [
    {
     "data": {
      "text/html": [
       "<div>\n",
       "<style scoped>\n",
       "    .dataframe tbody tr th:only-of-type {\n",
       "        vertical-align: middle;\n",
       "    }\n",
       "\n",
       "    .dataframe tbody tr th {\n",
       "        vertical-align: top;\n",
       "    }\n",
       "\n",
       "    .dataframe thead th {\n",
       "        text-align: right;\n",
       "    }\n",
       "</style>\n",
       "<table border=\"1\" class=\"dataframe\">\n",
       "  <thead>\n",
       "    <tr style=\"text-align: right;\">\n",
       "      <th></th>\n",
       "      <th>feature</th>\n",
       "      <th>skewness</th>\n",
       "    </tr>\n",
       "  </thead>\n",
       "  <tbody>\n",
       "    <tr>\n",
       "      <th>2</th>\n",
       "      <td>Taxes</td>\n",
       "      <td>33.105335</td>\n",
       "    </tr>\n",
       "    <tr>\n",
       "      <th>5</th>\n",
       "      <td>Refunded Amount</td>\n",
       "      <td>23.085487</td>\n",
       "    </tr>\n",
       "    <tr>\n",
       "      <th>4</th>\n",
       "      <td>Discount Amount</td>\n",
       "      <td>13.770346</td>\n",
       "    </tr>\n",
       "    <tr>\n",
       "      <th>0</th>\n",
       "      <td>Subtotal</td>\n",
       "      <td>13.256568</td>\n",
       "    </tr>\n",
       "    <tr>\n",
       "      <th>3</th>\n",
       "      <td>Total</td>\n",
       "      <td>13.245049</td>\n",
       "    </tr>\n",
       "  </tbody>\n",
       "</table>\n",
       "</div>"
      ],
      "text/plain": [
       "           feature   skewness\n",
       "2            Taxes  33.105335\n",
       "5  Refunded Amount  23.085487\n",
       "4  Discount Amount  13.770346\n",
       "0         Subtotal  13.256568\n",
       "3            Total  13.245049"
      ]
     },
     "execution_count": 67,
     "metadata": {},
     "output_type": "execute_result"
    }
   ],
   "source": [
    "skewness(usjh2n).head()"
   ]
  },
  {
   "cell_type": "code",
   "execution_count": null,
   "metadata": {},
   "outputs": [],
   "source": []
  },
  {
   "cell_type": "code",
   "execution_count": 68,
   "metadata": {},
   "outputs": [
    {
     "data": {
      "text/html": [
       "<div>\n",
       "<style scoped>\n",
       "    .dataframe tbody tr th:only-of-type {\n",
       "        vertical-align: middle;\n",
       "    }\n",
       "\n",
       "    .dataframe tbody tr th {\n",
       "        vertical-align: top;\n",
       "    }\n",
       "\n",
       "    .dataframe thead th {\n",
       "        text-align: right;\n",
       "    }\n",
       "</style>\n",
       "<table border=\"1\" class=\"dataframe\">\n",
       "  <thead>\n",
       "    <tr style=\"text-align: right;\">\n",
       "      <th></th>\n",
       "      <th>feature</th>\n",
       "      <th>skewness</th>\n",
       "    </tr>\n",
       "  </thead>\n",
       "  <tbody>\n",
       "    <tr>\n",
       "      <th>0</th>\n",
       "      <td>Qty</td>\n",
       "      <td>3.584425</td>\n",
       "    </tr>\n",
       "    <tr>\n",
       "      <th>1</th>\n",
       "      <td>On-Hand</td>\n",
       "      <td>-1.903742</td>\n",
       "    </tr>\n",
       "  </tbody>\n",
       "</table>\n",
       "</div>"
      ],
      "text/plain": [
       "   feature  skewness\n",
       "0      Qty  3.584425\n",
       "1  On-Hand -1.903742"
      ]
     },
     "execution_count": 68,
     "metadata": {},
     "output_type": "execute_result"
    }
   ],
   "source": [
    "skewness(uno_in)"
   ]
  },
  {
   "cell_type": "code",
   "execution_count": null,
   "metadata": {},
   "outputs": [],
   "source": []
  },
  {
   "cell_type": "code",
   "execution_count": 69,
   "metadata": {},
   "outputs": [
    {
     "data": {
      "text/html": [
       "<div>\n",
       "<style scoped>\n",
       "    .dataframe tbody tr th:only-of-type {\n",
       "        vertical-align: middle;\n",
       "    }\n",
       "\n",
       "    .dataframe tbody tr th {\n",
       "        vertical-align: top;\n",
       "    }\n",
       "\n",
       "    .dataframe thead th {\n",
       "        text-align: right;\n",
       "    }\n",
       "</style>\n",
       "<table border=\"1\" class=\"dataframe\">\n",
       "  <thead>\n",
       "    <tr style=\"text-align: right;\">\n",
       "      <th></th>\n",
       "      <th>feature</th>\n",
       "      <th>skewness</th>\n",
       "    </tr>\n",
       "  </thead>\n",
       "  <tbody>\n",
       "    <tr>\n",
       "      <th>1</th>\n",
       "      <td>UNIT PRICE</td>\n",
       "      <td>135.429766</td>\n",
       "    </tr>\n",
       "    <tr>\n",
       "      <th>2</th>\n",
       "      <td>EXT-AMT</td>\n",
       "      <td>17.955845</td>\n",
       "    </tr>\n",
       "    <tr>\n",
       "      <th>0</th>\n",
       "      <td>QTY</td>\n",
       "      <td>10.028381</td>\n",
       "    </tr>\n",
       "  </tbody>\n",
       "</table>\n",
       "</div>"
      ],
      "text/plain": [
       "      feature    skewness\n",
       "1  UNIT PRICE  135.429766\n",
       "2     EXT-AMT   17.955845\n",
       "0         QTY   10.028381"
      ]
     },
     "execution_count": 69,
     "metadata": {},
     "output_type": "execute_result"
    }
   ],
   "source": [
    "skewness(uno_sn)"
   ]
  },
  {
   "cell_type": "code",
   "execution_count": null,
   "metadata": {},
   "outputs": [],
   "source": []
  },
  {
   "cell_type": "markdown",
   "metadata": {},
   "source": [
    "<p><a name=\"outlier\"></a></p>\n",
    "## Outliers"
   ]
  },
  {
   "cell_type": "code",
   "execution_count": 70,
   "metadata": {},
   "outputs": [],
   "source": [
    "#define outliers are those values greater than 3*std\n",
    "def outliers(df):\n",
    "    outlier=(np.abs(df-df.mean()) > (3*df.std())).sum().to_frame().reset_index()\n",
    "    outlier.columns=['feature','n_of_outliers']\n",
    "    outlier=outlier.sort_values('n_of_outliers',ascending=False)\n",
    "    \n",
    "    sns.barplot(y='feature',x='n_of_outliers',data=outlier,orient='h')\n",
    "    plt.rcParams['figure.figsize']=(10,10)\n",
    "    plt.title('feature outliers',size=20)"
   ]
  },
  {
   "cell_type": "code",
   "execution_count": 71,
   "metadata": {},
   "outputs": [
    {
     "data": {
      "image/png": "[encoded data removed]",
      "text/plain": [
       "<Figure size 432x288 with 1 Axes>"
      ]
     },
     "metadata": {},
     "output_type": "display_data"
    }
   ],
   "source": [
    "outliers(usjh1n)"
   ]
  },
  {
   "cell_type": "code",
   "execution_count": 72,
   "metadata": {},
   "outputs": [
    {
     "data": {
      "image/png": "[encoded data removed]",
      "text/plain": [
       "<Figure size 720x720 with 1 Axes>"
      ]
     },
     "metadata": {},
     "output_type": "display_data"
    }
   ],
   "source": [
    "outliers(usjh2n)"
   ]
  },
  {
   "cell_type": "code",
   "execution_count": 73,
   "metadata": {},
   "outputs": [
    {
     "data": {
      "image/png": "[encoded data removed]",
      "text/plain": [
       "<Figure size 720x720 with 1 Axes>"
      ]
     },
     "metadata": {},
     "output_type": "display_data"
    }
   ],
   "source": [
    "outliers(uno_in)"
   ]
  },
  {
   "cell_type": "code",
   "execution_count": 74,
   "metadata": {},
   "outputs": [
    {
     "data": {
      "image/png": "[encoded data removed]",
      "text/plain": [
       "<Figure size 720x720 with 1 Axes>"
      ]
     },
     "metadata": {},
     "output_type": "display_data"
    }
   ],
   "source": [
    "outliers(uno_sn)"
   ]
  },
  {
   "cell_type": "code",
   "execution_count": null,
   "metadata": {},
   "outputs": [],
   "source": []
  },
  {
   "cell_type": "markdown",
   "metadata": {},
   "source": [
    "<p><a name=\"correlation\"></a></p>\n",
    "## Correlation"
   ]
  },
  {
   "cell_type": "code",
   "execution_count": 75,
   "metadata": {},
   "outputs": [],
   "source": [
    "def high_cor(df):\n",
    "    dfc=df.corr()\n",
    "    dfc=dfc.unstack()\n",
    "    dfc=dfc.sort_values(ascending=False)\n",
    "    dfc=pd.DataFrame(dfc)\n",
    "    #dfc.columns=['correlation_coefficient']\n",
    "    #dfc=dfc[dfc['correlation_coefficient']<1]\n",
    "    #dfc=dfc.loc[::2]\n",
    "    #dfc=dfc.iloc[::2]\n",
    "    return dfc\n"
   ]
  },
  {
   "cell_type": "code",
   "execution_count": null,
   "metadata": {},
   "outputs": [],
   "source": []
  },
  {
   "cell_type": "code",
   "execution_count": null,
   "metadata": {},
   "outputs": [],
   "source": []
  },
  {
   "cell_type": "code",
   "execution_count": 76,
   "metadata": {},
   "outputs": [
    {
     "data": {
      "text/html": [
       "<div>\n",
       "<style scoped>\n",
       "    .dataframe tbody tr th:only-of-type {\n",
       "        vertical-align: middle;\n",
       "    }\n",
       "\n",
       "    .dataframe tbody tr th {\n",
       "        vertical-align: top;\n",
       "    }\n",
       "\n",
       "    .dataframe thead th {\n",
       "        text-align: right;\n",
       "    }\n",
       "</style>\n",
       "<table border=\"1\" class=\"dataframe\">\n",
       "  <thead>\n",
       "    <tr style=\"text-align: right;\">\n",
       "      <th></th>\n",
       "      <th>Subtotal</th>\n",
       "      <th>Shipping</th>\n",
       "      <th>Taxes</th>\n",
       "      <th>Total</th>\n",
       "      <th>Discount Amount</th>\n",
       "      <th>Lineitem quantity</th>\n",
       "      <th>Lineitem price</th>\n",
       "      <th>Lineitem compare at price</th>\n",
       "      <th>Refunded Amount</th>\n",
       "    </tr>\n",
       "  </thead>\n",
       "  <tbody>\n",
       "    <tr>\n",
       "      <th>Subtotal</th>\n",
       "      <td>1.000000</td>\n",
       "      <td>0.069376</td>\n",
       "      <td>0.029115</td>\n",
       "      <td>0.999459</td>\n",
       "      <td>0.602661</td>\n",
       "      <td>0.417329</td>\n",
       "      <td>0.029240</td>\n",
       "      <td>-0.004284</td>\n",
       "      <td>0.740135</td>\n",
       "    </tr>\n",
       "    <tr>\n",
       "      <th>Shipping</th>\n",
       "      <td>0.069376</td>\n",
       "      <td>1.000000</td>\n",
       "      <td>0.021964</td>\n",
       "      <td>0.102123</td>\n",
       "      <td>0.155976</td>\n",
       "      <td>0.041783</td>\n",
       "      <td>-0.006102</td>\n",
       "      <td>-0.009941</td>\n",
       "      <td>0.032922</td>\n",
       "    </tr>\n",
       "    <tr>\n",
       "      <th>Taxes</th>\n",
       "      <td>0.029115</td>\n",
       "      <td>0.021964</td>\n",
       "      <td>1.000000</td>\n",
       "      <td>0.031198</td>\n",
       "      <td>0.052749</td>\n",
       "      <td>0.024703</td>\n",
       "      <td>0.005806</td>\n",
       "      <td>0.002327</td>\n",
       "      <td>0.058775</td>\n",
       "    </tr>\n",
       "    <tr>\n",
       "      <th>Total</th>\n",
       "      <td>0.999459</td>\n",
       "      <td>0.102123</td>\n",
       "      <td>0.031198</td>\n",
       "      <td>1.000000</td>\n",
       "      <td>0.606143</td>\n",
       "      <td>0.417544</td>\n",
       "      <td>0.028963</td>\n",
       "      <td>-0.004833</td>\n",
       "      <td>0.739183</td>\n",
       "    </tr>\n",
       "    <tr>\n",
       "      <th>Discount Amount</th>\n",
       "      <td>0.602661</td>\n",
       "      <td>0.155976</td>\n",
       "      <td>0.052749</td>\n",
       "      <td>0.606143</td>\n",
       "      <td>1.000000</td>\n",
       "      <td>0.280135</td>\n",
       "      <td>0.001746</td>\n",
       "      <td>-0.009248</td>\n",
       "      <td>0.244930</td>\n",
       "    </tr>\n",
       "    <tr>\n",
       "      <th>Lineitem quantity</th>\n",
       "      <td>0.417329</td>\n",
       "      <td>0.041783</td>\n",
       "      <td>0.024703</td>\n",
       "      <td>0.417544</td>\n",
       "      <td>0.280135</td>\n",
       "      <td>1.000000</td>\n",
       "      <td>-0.016306</td>\n",
       "      <td>-0.011822</td>\n",
       "      <td>0.229258</td>\n",
       "    </tr>\n",
       "    <tr>\n",
       "      <th>Lineitem price</th>\n",
       "      <td>0.029240</td>\n",
       "      <td>-0.006102</td>\n",
       "      <td>0.005806</td>\n",
       "      <td>0.028963</td>\n",
       "      <td>0.001746</td>\n",
       "      <td>-0.016306</td>\n",
       "      <td>1.000000</td>\n",
       "      <td>0.025997</td>\n",
       "      <td>-0.003880</td>\n",
       "    </tr>\n",
       "    <tr>\n",
       "      <th>Lineitem compare at price</th>\n",
       "      <td>-0.004284</td>\n",
       "      <td>-0.009941</td>\n",
       "      <td>0.002327</td>\n",
       "      <td>-0.004833</td>\n",
       "      <td>-0.009248</td>\n",
       "      <td>-0.011822</td>\n",
       "      <td>0.025997</td>\n",
       "      <td>1.000000</td>\n",
       "      <td>0.012855</td>\n",
       "    </tr>\n",
       "    <tr>\n",
       "      <th>Refunded Amount</th>\n",
       "      <td>0.740135</td>\n",
       "      <td>0.032922</td>\n",
       "      <td>0.058775</td>\n",
       "      <td>0.739183</td>\n",
       "      <td>0.244930</td>\n",
       "      <td>0.229258</td>\n",
       "      <td>-0.003880</td>\n",
       "      <td>0.012855</td>\n",
       "      <td>1.000000</td>\n",
       "    </tr>\n",
       "  </tbody>\n",
       "</table>\n",
       "</div>"
      ],
      "text/plain": [
       "                           Subtotal  Shipping     Taxes     Total  \\\n",
       "Subtotal                   1.000000  0.069376  0.029115  0.999459   \n",
       "Shipping                   0.069376  1.000000  0.021964  0.102123   \n",
       "Taxes                      0.029115  0.021964  1.000000  0.031198   \n",
       "Total                      0.999459  0.102123  0.031198  1.000000   \n",
       "Discount Amount            0.602661  0.155976  0.052749  0.606143   \n",
       "Lineitem quantity          0.417329  0.041783  0.024703  0.417544   \n",
       "Lineitem price             0.029240 -0.006102  0.005806  0.028963   \n",
       "Lineitem compare at price -0.004284 -0.009941  0.002327 -0.004833   \n",
       "Refunded Amount            0.740135  0.032922  0.058775  0.739183   \n",
       "\n",
       "                           Discount Amount  Lineitem quantity  Lineitem price  \\\n",
       "Subtotal                          0.602661           0.417329        0.029240   \n",
       "Shipping                          0.155976           0.041783       -0.006102   \n",
       "Taxes                             0.052749           0.024703        0.005806   \n",
       "Total                             0.606143           0.417544        0.028963   \n",
       "Discount Amount                   1.000000           0.280135        0.001746   \n",
       "Lineitem quantity                 0.280135           1.000000       -0.016306   \n",
       "Lineitem price                    0.001746          -0.016306        1.000000   \n",
       "Lineitem compare at price        -0.009248          -0.011822        0.025997   \n",
       "Refunded Amount                   0.244930           0.229258       -0.003880   \n",
       "\n",
       "                           Lineitem compare at price  Refunded Amount  \n",
       "Subtotal                                   -0.004284         0.740135  \n",
       "Shipping                                   -0.009941         0.032922  \n",
       "Taxes                                       0.002327         0.058775  \n",
       "Total                                      -0.004833         0.739183  \n",
       "Discount Amount                            -0.009248         0.244930  \n",
       "Lineitem quantity                          -0.011822         0.229258  \n",
       "Lineitem price                              0.025997        -0.003880  \n",
       "Lineitem compare at price                   1.000000         0.012855  \n",
       "Refunded Amount                             0.012855         1.000000  "
      ]
     },
     "execution_count": 76,
     "metadata": {},
     "output_type": "execute_result"
    }
   ],
   "source": [
    "usjh1n.corr()"
   ]
  },
  {
   "cell_type": "code",
   "execution_count": null,
   "metadata": {},
   "outputs": [],
   "source": []
  },
  {
   "cell_type": "code",
   "execution_count": 77,
   "metadata": {},
   "outputs": [
    {
     "data": {
      "text/html": [
       "<div>\n",
       "<style scoped>\n",
       "    .dataframe tbody tr th:only-of-type {\n",
       "        vertical-align: middle;\n",
       "    }\n",
       "\n",
       "    .dataframe tbody tr th {\n",
       "        vertical-align: top;\n",
       "    }\n",
       "\n",
       "    .dataframe thead th {\n",
       "        text-align: right;\n",
       "    }\n",
       "</style>\n",
       "<table border=\"1\" class=\"dataframe\">\n",
       "  <thead>\n",
       "    <tr style=\"text-align: right;\">\n",
       "      <th></th>\n",
       "      <th>Subtotal</th>\n",
       "      <th>Shipping</th>\n",
       "      <th>Taxes</th>\n",
       "      <th>Total</th>\n",
       "      <th>Discount Amount</th>\n",
       "      <th>Refunded Amount</th>\n",
       "      <th>item_quantity</th>\n",
       "    </tr>\n",
       "  </thead>\n",
       "  <tbody>\n",
       "    <tr>\n",
       "      <th>Subtotal</th>\n",
       "      <td>1.000000</td>\n",
       "      <td>0.006131</td>\n",
       "      <td>0.045439</td>\n",
       "      <td>0.999397</td>\n",
       "      <td>0.614678</td>\n",
       "      <td>0.612053</td>\n",
       "      <td>0.890931</td>\n",
       "    </tr>\n",
       "    <tr>\n",
       "      <th>Shipping</th>\n",
       "      <td>0.006131</td>\n",
       "      <td>1.000000</td>\n",
       "      <td>0.022011</td>\n",
       "      <td>0.040770</td>\n",
       "      <td>0.172594</td>\n",
       "      <td>-0.055402</td>\n",
       "      <td>0.025192</td>\n",
       "    </tr>\n",
       "    <tr>\n",
       "      <th>Taxes</th>\n",
       "      <td>0.045439</td>\n",
       "      <td>0.022011</td>\n",
       "      <td>1.000000</td>\n",
       "      <td>0.048280</td>\n",
       "      <td>0.057736</td>\n",
       "      <td>0.081008</td>\n",
       "      <td>0.019314</td>\n",
       "    </tr>\n",
       "    <tr>\n",
       "      <th>Total</th>\n",
       "      <td>0.999397</td>\n",
       "      <td>0.040770</td>\n",
       "      <td>0.048280</td>\n",
       "      <td>1.000000</td>\n",
       "      <td>0.620212</td>\n",
       "      <td>0.609750</td>\n",
       "      <td>0.891031</td>\n",
       "    </tr>\n",
       "    <tr>\n",
       "      <th>Discount Amount</th>\n",
       "      <td>0.614678</td>\n",
       "      <td>0.172594</td>\n",
       "      <td>0.057736</td>\n",
       "      <td>0.620212</td>\n",
       "      <td>1.000000</td>\n",
       "      <td>0.144788</td>\n",
       "      <td>0.604838</td>\n",
       "    </tr>\n",
       "    <tr>\n",
       "      <th>Refunded Amount</th>\n",
       "      <td>0.612053</td>\n",
       "      <td>-0.055402</td>\n",
       "      <td>0.081008</td>\n",
       "      <td>0.609750</td>\n",
       "      <td>0.144788</td>\n",
       "      <td>1.000000</td>\n",
       "      <td>0.593357</td>\n",
       "    </tr>\n",
       "    <tr>\n",
       "      <th>item_quantity</th>\n",
       "      <td>0.890931</td>\n",
       "      <td>0.025192</td>\n",
       "      <td>0.019314</td>\n",
       "      <td>0.891031</td>\n",
       "      <td>0.604838</td>\n",
       "      <td>0.593357</td>\n",
       "      <td>1.000000</td>\n",
       "    </tr>\n",
       "  </tbody>\n",
       "</table>\n",
       "</div>"
      ],
      "text/plain": [
       "                 Subtotal  Shipping     Taxes     Total  Discount Amount  \\\n",
       "Subtotal         1.000000  0.006131  0.045439  0.999397         0.614678   \n",
       "Shipping         0.006131  1.000000  0.022011  0.040770         0.172594   \n",
       "Taxes            0.045439  0.022011  1.000000  0.048280         0.057736   \n",
       "Total            0.999397  0.040770  0.048280  1.000000         0.620212   \n",
       "Discount Amount  0.614678  0.172594  0.057736  0.620212         1.000000   \n",
       "Refunded Amount  0.612053 -0.055402  0.081008  0.609750         0.144788   \n",
       "item_quantity    0.890931  0.025192  0.019314  0.891031         0.604838   \n",
       "\n",
       "                 Refunded Amount  item_quantity  \n",
       "Subtotal                0.612053       0.890931  \n",
       "Shipping               -0.055402       0.025192  \n",
       "Taxes                   0.081008       0.019314  \n",
       "Total                   0.609750       0.891031  \n",
       "Discount Amount         0.144788       0.604838  \n",
       "Refunded Amount         1.000000       0.593357  \n",
       "item_quantity           0.593357       1.000000  "
      ]
     },
     "execution_count": 77,
     "metadata": {},
     "output_type": "execute_result"
    }
   ],
   "source": [
    "usjh2n.corr()"
   ]
  },
  {
   "cell_type": "code",
   "execution_count": null,
   "metadata": {},
   "outputs": [],
   "source": []
  },
  {
   "cell_type": "code",
   "execution_count": 78,
   "metadata": {},
   "outputs": [
    {
     "data": {
      "text/html": [
       "<div>\n",
       "<style scoped>\n",
       "    .dataframe tbody tr th:only-of-type {\n",
       "        vertical-align: middle;\n",
       "    }\n",
       "\n",
       "    .dataframe tbody tr th {\n",
       "        vertical-align: top;\n",
       "    }\n",
       "\n",
       "    .dataframe thead th {\n",
       "        text-align: right;\n",
       "    }\n",
       "</style>\n",
       "<table border=\"1\" class=\"dataframe\">\n",
       "  <thead>\n",
       "    <tr style=\"text-align: right;\">\n",
       "      <th></th>\n",
       "      <th>Qty</th>\n",
       "      <th>On-Hand</th>\n",
       "    </tr>\n",
       "  </thead>\n",
       "  <tbody>\n",
       "    <tr>\n",
       "      <th>Qty</th>\n",
       "      <td>1.000000</td>\n",
       "      <td>0.076622</td>\n",
       "    </tr>\n",
       "    <tr>\n",
       "      <th>On-Hand</th>\n",
       "      <td>0.076622</td>\n",
       "      <td>1.000000</td>\n",
       "    </tr>\n",
       "  </tbody>\n",
       "</table>\n",
       "</div>"
      ],
      "text/plain": [
       "              Qty   On-Hand\n",
       "Qty      1.000000  0.076622\n",
       "On-Hand  0.076622  1.000000"
      ]
     },
     "execution_count": 78,
     "metadata": {},
     "output_type": "execute_result"
    }
   ],
   "source": [
    "uno_in.corr()"
   ]
  },
  {
   "cell_type": "code",
   "execution_count": null,
   "metadata": {},
   "outputs": [],
   "source": []
  },
  {
   "cell_type": "code",
   "execution_count": 79,
   "metadata": {},
   "outputs": [
    {
     "data": {
      "text/html": [
       "<div>\n",
       "<style scoped>\n",
       "    .dataframe tbody tr th:only-of-type {\n",
       "        vertical-align: middle;\n",
       "    }\n",
       "\n",
       "    .dataframe tbody tr th {\n",
       "        vertical-align: top;\n",
       "    }\n",
       "\n",
       "    .dataframe thead th {\n",
       "        text-align: right;\n",
       "    }\n",
       "</style>\n",
       "<table border=\"1\" class=\"dataframe\">\n",
       "  <thead>\n",
       "    <tr style=\"text-align: right;\">\n",
       "      <th></th>\n",
       "      <th>QTY</th>\n",
       "      <th>UNIT PRICE</th>\n",
       "      <th>EXT-AMT</th>\n",
       "    </tr>\n",
       "  </thead>\n",
       "  <tbody>\n",
       "    <tr>\n",
       "      <th>QTY</th>\n",
       "      <td>1.000000</td>\n",
       "      <td>-0.054662</td>\n",
       "      <td>0.781491</td>\n",
       "    </tr>\n",
       "    <tr>\n",
       "      <th>UNIT PRICE</th>\n",
       "      <td>-0.054662</td>\n",
       "      <td>1.000000</td>\n",
       "      <td>0.119124</td>\n",
       "    </tr>\n",
       "    <tr>\n",
       "      <th>EXT-AMT</th>\n",
       "      <td>0.781491</td>\n",
       "      <td>0.119124</td>\n",
       "      <td>1.000000</td>\n",
       "    </tr>\n",
       "  </tbody>\n",
       "</table>\n",
       "</div>"
      ],
      "text/plain": [
       "                 QTY  UNIT PRICE   EXT-AMT\n",
       "QTY         1.000000   -0.054662  0.781491\n",
       "UNIT PRICE -0.054662    1.000000  0.119124\n",
       "EXT-AMT     0.781491    0.119124  1.000000"
      ]
     },
     "execution_count": 79,
     "metadata": {},
     "output_type": "execute_result"
    }
   ],
   "source": [
    "uno_sn.corr()"
   ]
  },
  {
   "cell_type": "code",
   "execution_count": null,
   "metadata": {},
   "outputs": [],
   "source": []
  },
  {
   "cell_type": "code",
   "execution_count": null,
   "metadata": {},
   "outputs": [],
   "source": []
  },
  {
   "cell_type": "markdown",
   "metadata": {},
   "source": [
    "<p><a name=\"vn\"></a></p>\n",
    "## Visulization"
   ]
  },
  {
   "cell_type": "code",
   "execution_count": 185,
   "metadata": {},
   "outputs": [],
   "source": [
    "#this function includes skewness and correlation\n",
    "def corrfunc(x, y, **kws):\n",
    "    r, _ = stats.pearsonr(x, y)\n",
    "    ax = plt.gca()\n",
    "    ax.annotate(\"r = {:.2f}\".format(r),\n",
    "                xy=(.1, .9), xycoords=ax.transAxes)\n",
    "\n",
    "def skewfunc(x, **kws):\n",
    "    s=x.skew()\n",
    "    ax = plt.gca()\n",
    "    ax.annotate(\"skew = {:.2f}\".format(s),\n",
    "                xy=(.5, .9), xycoords=ax.transAxes)\n",
    "    \n",
    "def joint_plot(df):\n",
    "    g = sns.PairGrid(df, palette=[\"red\"])\n",
    "    g.map_lower(plt.scatter, s=10)\n",
    "    g.map_diag(sns.distplot, kde=False)\n",
    "    g.map_diag(skewfunc)\n",
    "    g.map_upper(corrfunc)\n",
    "    g.map_upper(sns.regplot)"
   ]
  },
  {
   "cell_type": "code",
   "execution_count": 186,
   "metadata": {},
   "outputs": [],
   "source": [
    "#sns.pairplot(usjh1n) has error 'max must be larger than min in range parameter'\n",
    "#might be due to too many missing values"
   ]
  },
  {
   "cell_type": "code",
   "execution_count": 187,
   "metadata": {},
   "outputs": [
    {
     "name": "stderr",
     "output_type": "stream",
     "text": [
      "/Users/jialanzhu/anaconda3/lib/python3.6/site-packages/matplotlib/axes/_axes.py:6462: UserWarning: The 'normed' kwarg is deprecated, and has been replaced by the 'density' kwarg.\n",
      "  warnings.warn(\"The 'normed' kwarg is deprecated, and has been \"\n",
      "/Users/jialanzhu/anaconda3/lib/python3.6/site-packages/matplotlib/axes/_axes.py:6462: UserWarning: The 'normed' kwarg is deprecated, and has been replaced by the 'density' kwarg.\n",
      "  warnings.warn(\"The 'normed' kwarg is deprecated, and has been \"\n",
      "/Users/jialanzhu/anaconda3/lib/python3.6/site-packages/matplotlib/axes/_axes.py:6462: UserWarning: The 'normed' kwarg is deprecated, and has been replaced by the 'density' kwarg.\n",
      "  warnings.warn(\"The 'normed' kwarg is deprecated, and has been \"\n",
      "/Users/jialanzhu/anaconda3/lib/python3.6/site-packages/matplotlib/axes/_axes.py:6462: UserWarning: The 'normed' kwarg is deprecated, and has been replaced by the 'density' kwarg.\n",
      "  warnings.warn(\"The 'normed' kwarg is deprecated, and has been \"\n",
      "/Users/jialanzhu/anaconda3/lib/python3.6/site-packages/matplotlib/axes/_axes.py:6462: UserWarning: The 'normed' kwarg is deprecated, and has been replaced by the 'density' kwarg.\n",
      "  warnings.warn(\"The 'normed' kwarg is deprecated, and has been \"\n",
      "/Users/jialanzhu/anaconda3/lib/python3.6/site-packages/matplotlib/axes/_axes.py:6462: UserWarning: The 'normed' kwarg is deprecated, and has been replaced by the 'density' kwarg.\n",
      "  warnings.warn(\"The 'normed' kwarg is deprecated, and has been \"\n",
      "/Users/jialanzhu/anaconda3/lib/python3.6/site-packages/matplotlib/axes/_axes.py:6462: UserWarning: The 'normed' kwarg is deprecated, and has been replaced by the 'density' kwarg.\n",
      "  warnings.warn(\"The 'normed' kwarg is deprecated, and has been \"\n"
     ]
    },
    {
     "data": {
      "image/png": "[encoded data removed]",
      "text/plain": [
       "<Figure size 1260x1260 with 56 Axes>"
      ]
     },
     "metadata": {},
     "output_type": "display_data"
    }
   ],
   "source": [
    "joint_plot(usjh2n)"
   ]
  },
  {
   "cell_type": "code",
   "execution_count": 79,
   "metadata": {},
   "outputs": [
    {
     "name": "stderr",
     "output_type": "stream",
     "text": [
      "/Users/jialanzhu/anaconda3/lib/python3.6/site-packages/matplotlib/axes/_axes.py:6462: UserWarning: The 'normed' kwarg is deprecated, and has been replaced by the 'density' kwarg.\n",
      "  warnings.warn(\"The 'normed' kwarg is deprecated, and has been \"\n",
      "/Users/jialanzhu/anaconda3/lib/python3.6/site-packages/matplotlib/axes/_axes.py:6462: UserWarning: The 'normed' kwarg is deprecated, and has been replaced by the 'density' kwarg.\n",
      "  warnings.warn(\"The 'normed' kwarg is deprecated, and has been \"\n"
     ]
    },
    {
     "data": {
      "image/png": "[encoded data removed]",
      "text/plain": [
       "<Figure size 360x360 with 6 Axes>"
      ]
     },
     "metadata": {},
     "output_type": "display_data"
    }
   ],
   "source": [
    "joint_plot(uno_in)"
   ]
  },
  {
   "cell_type": "code",
   "execution_count": 80,
   "metadata": {},
   "outputs": [
    {
     "name": "stderr",
     "output_type": "stream",
     "text": [
      "/Users/jialanzhu/anaconda3/lib/python3.6/site-packages/matplotlib/axes/_axes.py:6462: UserWarning: The 'normed' kwarg is deprecated, and has been replaced by the 'density' kwarg.\n",
      "  warnings.warn(\"The 'normed' kwarg is deprecated, and has been \"\n",
      "/Users/jialanzhu/anaconda3/lib/python3.6/site-packages/matplotlib/axes/_axes.py:6462: UserWarning: The 'normed' kwarg is deprecated, and has been replaced by the 'density' kwarg.\n",
      "  warnings.warn(\"The 'normed' kwarg is deprecated, and has been \"\n",
      "/Users/jialanzhu/anaconda3/lib/python3.6/site-packages/matplotlib/axes/_axes.py:6462: UserWarning: The 'normed' kwarg is deprecated, and has been replaced by the 'density' kwarg.\n",
      "  warnings.warn(\"The 'normed' kwarg is deprecated, and has been \"\n"
     ]
    },
    {
     "data": {
      "image/png": "[encoded data removed]",
      "text/plain": [
       "<Figure size 540x540 with 12 Axes>"
      ]
     },
     "metadata": {},
     "output_type": "display_data"
    }
   ],
   "source": [
    "joint_plot(uno_sn)"
   ]
  },
  {
   "cell_type": "markdown",
   "metadata": {},
   "source": []
  },
  {
   "cell_type": "markdown",
   "metadata": {},
   "source": [
    "<p><a name=\"cf\"></a></p>\n",
    "# 4. Explore categorical features"
   ]
  },
  {
   "cell_type": "code",
   "execution_count": 80,
   "metadata": {},
   "outputs": [
    {
     "name": "stdout",
     "output_type": "stream",
     "text": [
      "(85925, 32)\n",
      "(3746, 27)\n",
      "(144726, 5)\n",
      "(111043, 17)\n"
     ]
    }
   ],
   "source": [
    "#create dataframe only consists of categorical features for each dataset\n",
    "usjh1c=usjh_v1.select_dtypes(exclude='number')\n",
    "usjh2c=usjh_v2.select_dtypes(exclude='number')\n",
    "uno_ic=uno_inv.select_dtypes(exclude='number')\n",
    "uno_sc=uno_sale.select_dtypes(exclude='number')\n",
    "print(usjh1c.shape)\n",
    "print(usjh2c.shape)\n",
    "print(uno_ic.shape)\n",
    "print(uno_sc.shape)"
   ]
  },
  {
   "cell_type": "code",
   "execution_count": 81,
   "metadata": {},
   "outputs": [
    {
     "data": {
      "text/html": [
       "<div>\n",
       "<style scoped>\n",
       "    .dataframe tbody tr th:only-of-type {\n",
       "        vertical-align: middle;\n",
       "    }\n",
       "\n",
       "    .dataframe tbody tr th {\n",
       "        vertical-align: top;\n",
       "    }\n",
       "\n",
       "    .dataframe thead th {\n",
       "        text-align: right;\n",
       "    }\n",
       "</style>\n",
       "<table border=\"1\" class=\"dataframe\">\n",
       "  <thead>\n",
       "    <tr style=\"text-align: right;\">\n",
       "      <th></th>\n",
       "      <th>Name</th>\n",
       "      <th>Financial Status</th>\n",
       "      <th>Paid at</th>\n",
       "      <th>Fulfillment Status</th>\n",
       "      <th>Accepts Marketing</th>\n",
       "      <th>Currency</th>\n",
       "      <th>Discount Code</th>\n",
       "      <th>Shipping Method</th>\n",
       "      <th>Created at</th>\n",
       "      <th>Lineitem name</th>\n",
       "      <th>Lineitem sku</th>\n",
       "      <th>Lineitem fulfillment status</th>\n",
       "      <th>Shipping Street</th>\n",
       "      <th>Shipping Address1</th>\n",
       "      <th>Shipping Address2</th>\n",
       "      <th>Shipping Company</th>\n",
       "      <th>Shipping City</th>\n",
       "      <th>Shipping Zip</th>\n",
       "      <th>Shipping Province</th>\n",
       "      <th>Shipping Country</th>\n",
       "      <th>Notes</th>\n",
       "      <th>Note Attributes</th>\n",
       "      <th>Cancelled at</th>\n",
       "      <th>Payment Method</th>\n",
       "      <th>Vendor</th>\n",
       "      <th>Tags</th>\n",
       "      <th>Risk Level</th>\n",
       "      <th>Source</th>\n",
       "      <th>Lineitem name.1</th>\n",
       "      <th>Color</th>\n",
       "      <th>Unnamed: 39</th>\n",
       "      <th>Unnamed: 40</th>\n",
       "    </tr>\n",
       "  </thead>\n",
       "  <tbody>\n",
       "    <tr>\n",
       "      <th>count</th>\n",
       "      <td>85925</td>\n",
       "      <td>85925</td>\n",
       "      <td>6936</td>\n",
       "      <td>81365</td>\n",
       "      <td>81365</td>\n",
       "      <td>81365</td>\n",
       "      <td>85925</td>\n",
       "      <td>81258</td>\n",
       "      <td>85925</td>\n",
       "      <td>85925</td>\n",
       "      <td>41272.0</td>\n",
       "      <td>85925</td>\n",
       "      <td>81224</td>\n",
       "      <td>81224</td>\n",
       "      <td>13768</td>\n",
       "      <td>81158</td>\n",
       "      <td>81211</td>\n",
       "      <td>81054</td>\n",
       "      <td>80219</td>\n",
       "      <td>81211</td>\n",
       "      <td>85925</td>\n",
       "      <td>85925</td>\n",
       "      <td>85925</td>\n",
       "      <td>81186</td>\n",
       "      <td>85790</td>\n",
       "      <td>85925</td>\n",
       "      <td>3746</td>\n",
       "      <td>3746</td>\n",
       "      <td>85925</td>\n",
       "      <td>75894</td>\n",
       "      <td>4782</td>\n",
       "      <td>144</td>\n",
       "    </tr>\n",
       "    <tr>\n",
       "      <th>unique</th>\n",
       "      <td>3746</td>\n",
       "      <td>4</td>\n",
       "      <td>984</td>\n",
       "      <td>3</td>\n",
       "      <td>2</td>\n",
       "      <td>1</td>\n",
       "      <td>39</td>\n",
       "      <td>29</td>\n",
       "      <td>3736</td>\n",
       "      <td>26556</td>\n",
       "      <td>19479.0</td>\n",
       "      <td>3</td>\n",
       "      <td>1564</td>\n",
       "      <td>1546</td>\n",
       "      <td>314</td>\n",
       "      <td>1484</td>\n",
       "      <td>1039</td>\n",
       "      <td>1123</td>\n",
       "      <td>59</td>\n",
       "      <td>18</td>\n",
       "      <td>248</td>\n",
       "      <td>2</td>\n",
       "      <td>54</td>\n",
       "      <td>8</td>\n",
       "      <td>140</td>\n",
       "      <td>5</td>\n",
       "      <td>3</td>\n",
       "      <td>4</td>\n",
       "      <td>10861</td>\n",
       "      <td>1551</td>\n",
       "      <td>298</td>\n",
       "      <td>24</td>\n",
       "    </tr>\n",
       "    <tr>\n",
       "      <th>top</th>\n",
       "      <td>#2726</td>\n",
       "      <td>partially_refunded</td>\n",
       "      <td>2017-11-17 21:33:00</td>\n",
       "      <td>partial</td>\n",
       "      <td>yes</td>\n",
       "      <td>USD</td>\n",
       "      <td>None</td>\n",
       "      <td>Free Shipping (Fedex Ground)</td>\n",
       "      <td>2017-05-30 21:35:00</td>\n",
       "      <td>Urban Geometric Metal Hoop Earrings - Gold</td>\n",
       "      <td>11864.0</td>\n",
       "      <td>fulfilled</td>\n",
       "      <td>28 jfk blvd</td>\n",
       "      <td>1924 8th St NW</td>\n",
       "      <td>130</td>\n",
       "      <td>Violet Boutique</td>\n",
       "      <td>Miami</td>\n",
       "      <td>20001</td>\n",
       "      <td>NY</td>\n",
       "      <td>US</td>\n",
       "      <td>None</td>\n",
       "      <td>None</td>\n",
       "      <td>None</td>\n",
       "      <td>Shopify Payments</td>\n",
       "      <td>USJewelryhouse</td>\n",
       "      <td>None</td>\n",
       "      <td>Low</td>\n",
       "      <td>web</td>\n",
       "      <td>Urban Geometric Metal Hoop Earrings</td>\n",
       "      <td>Gold</td>\n",
       "      <td>Gold</td>\n",
       "      <td>Gold</td>\n",
       "    </tr>\n",
       "    <tr>\n",
       "      <th>freq</th>\n",
       "      <td>275</td>\n",
       "      <td>76118</td>\n",
       "      <td>185</td>\n",
       "      <td>69624</td>\n",
       "      <td>76889</td>\n",
       "      <td>81365</td>\n",
       "      <td>65979</td>\n",
       "      <td>47325</td>\n",
       "      <td>275</td>\n",
       "      <td>240</td>\n",
       "      <td>19.0</td>\n",
       "      <td>62639</td>\n",
       "      <td>835</td>\n",
       "      <td>1031</td>\n",
       "      <td>645</td>\n",
       "      <td>1230</td>\n",
       "      <td>2106</td>\n",
       "      <td>1086</td>\n",
       "      <td>11712</td>\n",
       "      <td>78034</td>\n",
       "      <td>79393</td>\n",
       "      <td>85922</td>\n",
       "      <td>85503</td>\n",
       "      <td>66080</td>\n",
       "      <td>26219</td>\n",
       "      <td>85846</td>\n",
       "      <td>3665</td>\n",
       "      <td>3663</td>\n",
       "      <td>650</td>\n",
       "      <td>11297</td>\n",
       "      <td>320</td>\n",
       "      <td>18</td>\n",
       "    </tr>\n",
       "    <tr>\n",
       "      <th>first</th>\n",
       "      <td>NaN</td>\n",
       "      <td>NaN</td>\n",
       "      <td>2015-11-03 16:22:00</td>\n",
       "      <td>NaN</td>\n",
       "      <td>NaN</td>\n",
       "      <td>NaN</td>\n",
       "      <td>NaN</td>\n",
       "      <td>NaN</td>\n",
       "      <td>2015-10-27 16:16:00</td>\n",
       "      <td>NaN</td>\n",
       "      <td>NaN</td>\n",
       "      <td>NaN</td>\n",
       "      <td>NaN</td>\n",
       "      <td>NaN</td>\n",
       "      <td>NaN</td>\n",
       "      <td>NaN</td>\n",
       "      <td>NaN</td>\n",
       "      <td>NaN</td>\n",
       "      <td>NaN</td>\n",
       "      <td>NaN</td>\n",
       "      <td>NaN</td>\n",
       "      <td>NaN</td>\n",
       "      <td>NaN</td>\n",
       "      <td>NaN</td>\n",
       "      <td>NaN</td>\n",
       "      <td>NaN</td>\n",
       "      <td>NaN</td>\n",
       "      <td>NaN</td>\n",
       "      <td>NaN</td>\n",
       "      <td>NaN</td>\n",
       "      <td>NaN</td>\n",
       "      <td>NaN</td>\n",
       "    </tr>\n",
       "    <tr>\n",
       "      <th>last</th>\n",
       "      <td>NaN</td>\n",
       "      <td>NaN</td>\n",
       "      <td>2018-07-16 12:31:00</td>\n",
       "      <td>NaN</td>\n",
       "      <td>NaN</td>\n",
       "      <td>NaN</td>\n",
       "      <td>NaN</td>\n",
       "      <td>NaN</td>\n",
       "      <td>2018-07-16 12:31:00</td>\n",
       "      <td>NaN</td>\n",
       "      <td>NaN</td>\n",
       "      <td>NaN</td>\n",
       "      <td>NaN</td>\n",
       "      <td>NaN</td>\n",
       "      <td>NaN</td>\n",
       "      <td>NaN</td>\n",
       "      <td>NaN</td>\n",
       "      <td>NaN</td>\n",
       "      <td>NaN</td>\n",
       "      <td>NaN</td>\n",
       "      <td>NaN</td>\n",
       "      <td>NaN</td>\n",
       "      <td>NaN</td>\n",
       "      <td>NaN</td>\n",
       "      <td>NaN</td>\n",
       "      <td>NaN</td>\n",
       "      <td>NaN</td>\n",
       "      <td>NaN</td>\n",
       "      <td>NaN</td>\n",
       "      <td>NaN</td>\n",
       "      <td>NaN</td>\n",
       "      <td>NaN</td>\n",
       "    </tr>\n",
       "  </tbody>\n",
       "</table>\n",
       "</div>"
      ],
      "text/plain": [
       "         Name    Financial Status              Paid at Fulfillment Status  \\\n",
       "count   85925               85925                 6936              81365   \n",
       "unique   3746                   4                  984                  3   \n",
       "top     #2726  partially_refunded  2017-11-17 21:33:00            partial   \n",
       "freq      275               76118                  185              69624   \n",
       "first     NaN                 NaN  2015-11-03 16:22:00                NaN   \n",
       "last      NaN                 NaN  2018-07-16 12:31:00                NaN   \n",
       "\n",
       "       Accepts Marketing Currency Discount Code               Shipping Method  \\\n",
       "count              81365    81365         85925                         81258   \n",
       "unique                 2        1            39                            29   \n",
       "top                  yes      USD          None  Free Shipping (Fedex Ground)   \n",
       "freq               76889    81365         65979                         47325   \n",
       "first                NaN      NaN           NaN                           NaN   \n",
       "last                 NaN      NaN           NaN                           NaN   \n",
       "\n",
       "                 Created at                               Lineitem name  \\\n",
       "count                 85925                                       85925   \n",
       "unique                 3736                                       26556   \n",
       "top     2017-05-30 21:35:00  Urban Geometric Metal Hoop Earrings - Gold   \n",
       "freq                    275                                         240   \n",
       "first   2015-10-27 16:16:00                                         NaN   \n",
       "last    2018-07-16 12:31:00                                         NaN   \n",
       "\n",
       "        Lineitem sku Lineitem fulfillment status Shipping Street  \\\n",
       "count        41272.0                       85925           81224   \n",
       "unique       19479.0                           3            1564   \n",
       "top          11864.0                   fulfilled     28 jfk blvd   \n",
       "freq            19.0                       62639             835   \n",
       "first            NaN                         NaN             NaN   \n",
       "last             NaN                         NaN             NaN   \n",
       "\n",
       "       Shipping Address1 Shipping Address2 Shipping Company Shipping City  \\\n",
       "count              81224             13768            81158         81211   \n",
       "unique              1546               314             1484          1039   \n",
       "top       1924 8th St NW               130  Violet Boutique         Miami   \n",
       "freq                1031               645             1230          2106   \n",
       "first                NaN               NaN              NaN           NaN   \n",
       "last                 NaN               NaN              NaN           NaN   \n",
       "\n",
       "       Shipping Zip Shipping Province Shipping Country  Notes Note Attributes  \\\n",
       "count         81054             80219            81211  85925           85925   \n",
       "unique         1123                59               18    248               2   \n",
       "top           20001                NY               US   None            None   \n",
       "freq           1086             11712            78034  79393           85922   \n",
       "first           NaN               NaN              NaN    NaN             NaN   \n",
       "last            NaN               NaN              NaN    NaN             NaN   \n",
       "\n",
       "       Cancelled at    Payment Method          Vendor   Tags Risk Level  \\\n",
       "count         85925             81186           85790  85925       3746   \n",
       "unique           54                 8             140      5          3   \n",
       "top            None  Shopify Payments  USJewelryhouse   None        Low   \n",
       "freq          85503             66080           26219  85846       3665   \n",
       "first           NaN               NaN             NaN    NaN        NaN   \n",
       "last            NaN               NaN             NaN    NaN        NaN   \n",
       "\n",
       "       Source                       Lineitem name.1 Color  Unnamed: 39  \\\n",
       "count    3746                                 85925  75894        4782   \n",
       "unique      4                                 10861   1551         298   \n",
       "top       web  Urban Geometric Metal Hoop Earrings    Gold        Gold   \n",
       "freq     3663                                   650  11297         320   \n",
       "first     NaN                                   NaN    NaN         NaN   \n",
       "last      NaN                                   NaN    NaN         NaN   \n",
       "\n",
       "       Unnamed: 40  \n",
       "count          144  \n",
       "unique          24  \n",
       "top           Gold  \n",
       "freq            18  \n",
       "first          NaN  \n",
       "last           NaN  "
      ]
     },
     "execution_count": 81,
     "metadata": {},
     "output_type": "execute_result"
    }
   ],
   "source": [
    "usjh1c.describe()"
   ]
  },
  {
   "cell_type": "code",
   "execution_count": 82,
   "metadata": {},
   "outputs": [
    {
     "data": {
      "text/html": [
       "<div>\n",
       "<style scoped>\n",
       "    .dataframe tbody tr th:only-of-type {\n",
       "        vertical-align: middle;\n",
       "    }\n",
       "\n",
       "    .dataframe tbody tr th {\n",
       "        vertical-align: top;\n",
       "    }\n",
       "\n",
       "    .dataframe thead th {\n",
       "        text-align: right;\n",
       "    }\n",
       "</style>\n",
       "<table border=\"1\" class=\"dataframe\">\n",
       "  <thead>\n",
       "    <tr style=\"text-align: right;\">\n",
       "      <th></th>\n",
       "      <th>Name</th>\n",
       "      <th>Financial Status</th>\n",
       "      <th>Paid at</th>\n",
       "      <th>Fulfillment Status</th>\n",
       "      <th>Accepts Marketing</th>\n",
       "      <th>Currency</th>\n",
       "      <th>Discount Code</th>\n",
       "      <th>Shipping Method</th>\n",
       "      <th>Created at</th>\n",
       "      <th>Lineitem fulfillment status</th>\n",
       "      <th>Shipping Street</th>\n",
       "      <th>Shipping Address1</th>\n",
       "      <th>Shipping Address2</th>\n",
       "      <th>Shipping Company</th>\n",
       "      <th>Shipping City</th>\n",
       "      <th>Shipping Zip</th>\n",
       "      <th>Shipping Province</th>\n",
       "      <th>Shipping Country</th>\n",
       "      <th>Notes</th>\n",
       "      <th>Note Attributes</th>\n",
       "      <th>Cancelled at</th>\n",
       "      <th>Payment Method</th>\n",
       "      <th>Vendor</th>\n",
       "      <th>Tags</th>\n",
       "      <th>Risk Level</th>\n",
       "      <th>Source</th>\n",
       "      <th>Color</th>\n",
       "    </tr>\n",
       "  </thead>\n",
       "  <tbody>\n",
       "    <tr>\n",
       "      <th>count</th>\n",
       "      <td>3746</td>\n",
       "      <td>3746</td>\n",
       "      <td>984</td>\n",
       "      <td>3746</td>\n",
       "      <td>3746</td>\n",
       "      <td>3746</td>\n",
       "      <td>3746</td>\n",
       "      <td>3723</td>\n",
       "      <td>3746</td>\n",
       "      <td>3746</td>\n",
       "      <td>3739</td>\n",
       "      <td>3739</td>\n",
       "      <td>736</td>\n",
       "      <td>3734</td>\n",
       "      <td>3739</td>\n",
       "      <td>3732</td>\n",
       "      <td>3707</td>\n",
       "      <td>3739</td>\n",
       "      <td>3746</td>\n",
       "      <td>3746</td>\n",
       "      <td>3746</td>\n",
       "      <td>3746</td>\n",
       "      <td>3713</td>\n",
       "      <td>3746</td>\n",
       "      <td>3746</td>\n",
       "      <td>3746</td>\n",
       "      <td>3580</td>\n",
       "    </tr>\n",
       "    <tr>\n",
       "      <th>unique</th>\n",
       "      <td>3746</td>\n",
       "      <td>4</td>\n",
       "      <td>984</td>\n",
       "      <td>3</td>\n",
       "      <td>2</td>\n",
       "      <td>1</td>\n",
       "      <td>39</td>\n",
       "      <td>29</td>\n",
       "      <td>3736</td>\n",
       "      <td>3</td>\n",
       "      <td>1564</td>\n",
       "      <td>1546</td>\n",
       "      <td>314</td>\n",
       "      <td>1484</td>\n",
       "      <td>1039</td>\n",
       "      <td>1123</td>\n",
       "      <td>59</td>\n",
       "      <td>18</td>\n",
       "      <td>248</td>\n",
       "      <td>2</td>\n",
       "      <td>54</td>\n",
       "      <td>8</td>\n",
       "      <td>95</td>\n",
       "      <td>5</td>\n",
       "      <td>3</td>\n",
       "      <td>4</td>\n",
       "      <td>472</td>\n",
       "    </tr>\n",
       "    <tr>\n",
       "      <th>top</th>\n",
       "      <td>#4228</td>\n",
       "      <td>partially_refunded</td>\n",
       "      <td>2015-11-29 18:32:00</td>\n",
       "      <td>partial</td>\n",
       "      <td>yes</td>\n",
       "      <td>USD</td>\n",
       "      <td>None</td>\n",
       "      <td>FedEx Ground</td>\n",
       "      <td>2018-07-11 14:25:00</td>\n",
       "      <td>fulfilled</td>\n",
       "      <td>1600 Division Road</td>\n",
       "      <td>1239 Broadway</td>\n",
       "      <td>126 East State Street</td>\n",
       "      <td>Dazzle Candy</td>\n",
       "      <td>Philadelphia</td>\n",
       "      <td>10001</td>\n",
       "      <td>NY</td>\n",
       "      <td>US</td>\n",
       "      <td>None</td>\n",
       "      <td>None</td>\n",
       "      <td>None</td>\n",
       "      <td>Shopify Payments</td>\n",
       "      <td>USJewelryhouse</td>\n",
       "      <td>None</td>\n",
       "      <td>Low</td>\n",
       "      <td>web</td>\n",
       "      <td>Gold</td>\n",
       "    </tr>\n",
       "    <tr>\n",
       "      <th>freq</th>\n",
       "      <td>1</td>\n",
       "      <td>2653</td>\n",
       "      <td>1</td>\n",
       "      <td>2533</td>\n",
       "      <td>3511</td>\n",
       "      <td>3746</td>\n",
       "      <td>3339</td>\n",
       "      <td>2179</td>\n",
       "      <td>2</td>\n",
       "      <td>2790</td>\n",
       "      <td>35</td>\n",
       "      <td>37</td>\n",
       "      <td>17</td>\n",
       "      <td>32</td>\n",
       "      <td>85</td>\n",
       "      <td>53</td>\n",
       "      <td>618</td>\n",
       "      <td>3639</td>\n",
       "      <td>3482</td>\n",
       "      <td>3745</td>\n",
       "      <td>3690</td>\n",
       "      <td>2938</td>\n",
       "      <td>1279</td>\n",
       "      <td>3667</td>\n",
       "      <td>3665</td>\n",
       "      <td>3663</td>\n",
       "      <td>438</td>\n",
       "    </tr>\n",
       "    <tr>\n",
       "      <th>first</th>\n",
       "      <td>NaN</td>\n",
       "      <td>NaN</td>\n",
       "      <td>2015-11-03 16:22:00</td>\n",
       "      <td>NaN</td>\n",
       "      <td>NaN</td>\n",
       "      <td>NaN</td>\n",
       "      <td>NaN</td>\n",
       "      <td>NaN</td>\n",
       "      <td>2015-10-27 16:16:00</td>\n",
       "      <td>NaN</td>\n",
       "      <td>NaN</td>\n",
       "      <td>NaN</td>\n",
       "      <td>NaN</td>\n",
       "      <td>NaN</td>\n",
       "      <td>NaN</td>\n",
       "      <td>NaN</td>\n",
       "      <td>NaN</td>\n",
       "      <td>NaN</td>\n",
       "      <td>NaN</td>\n",
       "      <td>NaN</td>\n",
       "      <td>NaN</td>\n",
       "      <td>NaN</td>\n",
       "      <td>NaN</td>\n",
       "      <td>NaN</td>\n",
       "      <td>NaN</td>\n",
       "      <td>NaN</td>\n",
       "      <td>NaN</td>\n",
       "    </tr>\n",
       "    <tr>\n",
       "      <th>last</th>\n",
       "      <td>NaN</td>\n",
       "      <td>NaN</td>\n",
       "      <td>2018-07-16 12:31:00</td>\n",
       "      <td>NaN</td>\n",
       "      <td>NaN</td>\n",
       "      <td>NaN</td>\n",
       "      <td>NaN</td>\n",
       "      <td>NaN</td>\n",
       "      <td>2018-07-16 12:31:00</td>\n",
       "      <td>NaN</td>\n",
       "      <td>NaN</td>\n",
       "      <td>NaN</td>\n",
       "      <td>NaN</td>\n",
       "      <td>NaN</td>\n",
       "      <td>NaN</td>\n",
       "      <td>NaN</td>\n",
       "      <td>NaN</td>\n",
       "      <td>NaN</td>\n",
       "      <td>NaN</td>\n",
       "      <td>NaN</td>\n",
       "      <td>NaN</td>\n",
       "      <td>NaN</td>\n",
       "      <td>NaN</td>\n",
       "      <td>NaN</td>\n",
       "      <td>NaN</td>\n",
       "      <td>NaN</td>\n",
       "      <td>NaN</td>\n",
       "    </tr>\n",
       "  </tbody>\n",
       "</table>\n",
       "</div>"
      ],
      "text/plain": [
       "         Name    Financial Status              Paid at Fulfillment Status  \\\n",
       "count    3746                3746                  984               3746   \n",
       "unique   3746                   4                  984                  3   \n",
       "top     #4228  partially_refunded  2015-11-29 18:32:00            partial   \n",
       "freq        1                2653                    1               2533   \n",
       "first     NaN                 NaN  2015-11-03 16:22:00                NaN   \n",
       "last      NaN                 NaN  2018-07-16 12:31:00                NaN   \n",
       "\n",
       "       Accepts Marketing Currency Discount Code Shipping Method  \\\n",
       "count               3746     3746          3746            3723   \n",
       "unique                 2        1            39              29   \n",
       "top                  yes      USD          None    FedEx Ground   \n",
       "freq                3511     3746          3339            2179   \n",
       "first                NaN      NaN           NaN             NaN   \n",
       "last                 NaN      NaN           NaN             NaN   \n",
       "\n",
       "                 Created at Lineitem fulfillment status     Shipping Street  \\\n",
       "count                  3746                        3746                3739   \n",
       "unique                 3736                           3                1564   \n",
       "top     2018-07-11 14:25:00                   fulfilled  1600 Division Road   \n",
       "freq                      2                        2790                  35   \n",
       "first   2015-10-27 16:16:00                         NaN                 NaN   \n",
       "last    2018-07-16 12:31:00                         NaN                 NaN   \n",
       "\n",
       "       Shipping Address1      Shipping Address2 Shipping Company  \\\n",
       "count               3739                    736             3734   \n",
       "unique              1546                    314             1484   \n",
       "top        1239 Broadway  126 East State Street     Dazzle Candy   \n",
       "freq                  37                     17               32   \n",
       "first                NaN                    NaN              NaN   \n",
       "last                 NaN                    NaN              NaN   \n",
       "\n",
       "       Shipping City Shipping Zip Shipping Province Shipping Country Notes  \\\n",
       "count           3739         3732              3707             3739  3746   \n",
       "unique          1039         1123                59               18   248   \n",
       "top     Philadelphia        10001                NY               US  None   \n",
       "freq              85           53               618             3639  3482   \n",
       "first            NaN          NaN               NaN              NaN   NaN   \n",
       "last             NaN          NaN               NaN              NaN   NaN   \n",
       "\n",
       "       Note Attributes Cancelled at    Payment Method          Vendor  Tags  \\\n",
       "count             3746         3746              3746            3713  3746   \n",
       "unique               2           54                 8              95     5   \n",
       "top               None         None  Shopify Payments  USJewelryhouse  None   \n",
       "freq              3745         3690              2938            1279  3667   \n",
       "first              NaN          NaN               NaN             NaN   NaN   \n",
       "last               NaN          NaN               NaN             NaN   NaN   \n",
       "\n",
       "       Risk Level Source Color   \n",
       "count        3746   3746   3580  \n",
       "unique          3      4    472  \n",
       "top           Low    web   Gold  \n",
       "freq         3665   3663    438  \n",
       "first         NaN    NaN    NaN  \n",
       "last          NaN    NaN    NaN  "
      ]
     },
     "execution_count": 82,
     "metadata": {},
     "output_type": "execute_result"
    }
   ],
   "source": [
    "usjh2c.describe()"
   ]
  },
  {
   "cell_type": "code",
   "execution_count": 83,
   "metadata": {},
   "outputs": [
    {
     "data": {
      "text/html": [
       "<div>\n",
       "<style scoped>\n",
       "    .dataframe tbody tr th:only-of-type {\n",
       "        vertical-align: middle;\n",
       "    }\n",
       "\n",
       "    .dataframe tbody tr th {\n",
       "        vertical-align: top;\n",
       "    }\n",
       "\n",
       "    .dataframe thead th {\n",
       "        text-align: right;\n",
       "    }\n",
       "</style>\n",
       "<table border=\"1\" class=\"dataframe\">\n",
       "  <thead>\n",
       "    <tr style=\"text-align: right;\">\n",
       "      <th></th>\n",
       "      <th>STYLE#</th>\n",
       "      <th>COLOR</th>\n",
       "      <th>Description</th>\n",
       "      <th>LAST RCVD</th>\n",
       "      <th>CB Reason</th>\n",
       "    </tr>\n",
       "  </thead>\n",
       "  <tbody>\n",
       "    <tr>\n",
       "      <th>count</th>\n",
       "      <td>144726</td>\n",
       "      <td>136429</td>\n",
       "      <td>144710</td>\n",
       "      <td>144725</td>\n",
       "      <td>1</td>\n",
       "    </tr>\n",
       "    <tr>\n",
       "      <th>unique</th>\n",
       "      <td>6383</td>\n",
       "      <td>2306</td>\n",
       "      <td>6741</td>\n",
       "      <td>739</td>\n",
       "      <td>1</td>\n",
       "    </tr>\n",
       "    <tr>\n",
       "      <th>top</th>\n",
       "      <td>DTA6E2068</td>\n",
       "      <td>JET</td>\n",
       "      <td>3  TASSEL METAL HOOK ER</td>\n",
       "      <td>2017-12-21 00:00:00</td>\n",
       "      <td>SEED BEAD ANKLET_</td>\n",
       "    </tr>\n",
       "    <tr>\n",
       "      <th>freq</th>\n",
       "      <td>2168</td>\n",
       "      <td>7856</td>\n",
       "      <td>2054</td>\n",
       "      <td>1699</td>\n",
       "      <td>1</td>\n",
       "    </tr>\n",
       "    <tr>\n",
       "      <th>first</th>\n",
       "      <td>NaN</td>\n",
       "      <td>NaN</td>\n",
       "      <td>NaN</td>\n",
       "      <td>2016-01-04 00:00:00</td>\n",
       "      <td>NaN</td>\n",
       "    </tr>\n",
       "    <tr>\n",
       "      <th>last</th>\n",
       "      <td>NaN</td>\n",
       "      <td>NaN</td>\n",
       "      <td>NaN</td>\n",
       "      <td>2018-11-27 00:00:00</td>\n",
       "      <td>NaN</td>\n",
       "    </tr>\n",
       "  </tbody>\n",
       "</table>\n",
       "</div>"
      ],
      "text/plain": [
       "           STYLE#   COLOR              Description            LAST RCVD  \\\n",
       "count      144726  136429                   144710               144725   \n",
       "unique       6383    2306                     6741                  739   \n",
       "top     DTA6E2068     JET  3  TASSEL METAL HOOK ER  2017-12-21 00:00:00   \n",
       "freq         2168    7856                     2054                 1699   \n",
       "first         NaN     NaN                      NaN  2016-01-04 00:00:00   \n",
       "last          NaN     NaN                      NaN  2018-11-27 00:00:00   \n",
       "\n",
       "                CB Reason  \n",
       "count                   1  \n",
       "unique                  1  \n",
       "top     SEED BEAD ANKLET_  \n",
       "freq                    1  \n",
       "first                 NaN  \n",
       "last                  NaN  "
      ]
     },
     "execution_count": 83,
     "metadata": {},
     "output_type": "execute_result"
    }
   ],
   "source": [
    "uno_ic.describe()"
   ]
  },
  {
   "cell_type": "code",
   "execution_count": 84,
   "metadata": {},
   "outputs": [
    {
     "data": {
      "text/html": [
       "<div>\n",
       "<style scoped>\n",
       "    .dataframe tbody tr th:only-of-type {\n",
       "        vertical-align: middle;\n",
       "    }\n",
       "\n",
       "    .dataframe tbody tr th {\n",
       "        vertical-align: top;\n",
       "    }\n",
       "\n",
       "    .dataframe thead th {\n",
       "        text-align: right;\n",
       "    }\n",
       "</style>\n",
       "<table border=\"1\" class=\"dataframe\">\n",
       "  <thead>\n",
       "    <tr style=\"text-align: right;\">\n",
       "      <th></th>\n",
       "      <th>STYLE#</th>\n",
       "      <th>COLOR</th>\n",
       "      <th>DESCRIPTION</th>\n",
       "      <th>CUST #</th>\n",
       "      <th>INVC DATE</th>\n",
       "      <th>REASON</th>\n",
       "      <th>IMPORT HANDMADE</th>\n",
       "      <th>MANUFACTORS</th>\n",
       "      <th>State_sold</th>\n",
       "      <th>ZIP_sold</th>\n",
       "      <th>RELEASED YEAR</th>\n",
       "      <th>Seasos</th>\n",
       "      <th>Season target</th>\n",
       "      <th>LAST RCVD</th>\n",
       "      <th>FIRST RCVD</th>\n",
       "      <th>LAST INVOICED</th>\n",
       "      <th>FIRST INVOICED</th>\n",
       "    </tr>\n",
       "  </thead>\n",
       "  <tbody>\n",
       "    <tr>\n",
       "      <th>count</th>\n",
       "      <td>111043</td>\n",
       "      <td>107062</td>\n",
       "      <td>111038</td>\n",
       "      <td>111043</td>\n",
       "      <td>111043</td>\n",
       "      <td>111043</td>\n",
       "      <td>111043</td>\n",
       "      <td>110962</td>\n",
       "      <td>111043</td>\n",
       "      <td>111043</td>\n",
       "      <td>111043</td>\n",
       "      <td>111043</td>\n",
       "      <td>111043</td>\n",
       "      <td>86553</td>\n",
       "      <td>86553</td>\n",
       "      <td>111043</td>\n",
       "      <td>111043</td>\n",
       "    </tr>\n",
       "    <tr>\n",
       "      <th>unique</th>\n",
       "      <td>5606</td>\n",
       "      <td>2734</td>\n",
       "      <td>6058</td>\n",
       "      <td>409</td>\n",
       "      <td>699</td>\n",
       "      <td>12</td>\n",
       "      <td>2</td>\n",
       "      <td>15</td>\n",
       "      <td>50</td>\n",
       "      <td>321</td>\n",
       "      <td>4</td>\n",
       "      <td>12</td>\n",
       "      <td>7</td>\n",
       "      <td>304</td>\n",
       "      <td>292</td>\n",
       "      <td>1</td>\n",
       "      <td>635</td>\n",
       "    </tr>\n",
       "    <tr>\n",
       "      <th>top</th>\n",
       "      <td>DTA6E2068</td>\n",
       "      <td>JET</td>\n",
       "      <td>3\" TASSEL METAL HOOK ER</td>\n",
       "      <td>GOL001</td>\n",
       "      <td>2017-12-21 00:00:00</td>\n",
       "      <td>None</td>\n",
       "      <td>IMPORT</td>\n",
       "      <td>NOBLES</td>\n",
       "      <td>CA</td>\n",
       "      <td>90021</td>\n",
       "      <td>2017</td>\n",
       "      <td>2018 2ND</td>\n",
       "      <td>OLD</td>\n",
       "      <td>2018-10-02 00:00:00</td>\n",
       "      <td>2017-12-20 00:00:00</td>\n",
       "      <td>2018-10-03 00:00:00</td>\n",
       "      <td>2016-01-05 00:00:00</td>\n",
       "    </tr>\n",
       "    <tr>\n",
       "      <th>freq</th>\n",
       "      <td>1516</td>\n",
       "      <td>5872</td>\n",
       "      <td>1469</td>\n",
       "      <td>6722</td>\n",
       "      <td>1698</td>\n",
       "      <td>108415</td>\n",
       "      <td>90309</td>\n",
       "      <td>56730</td>\n",
       "      <td>20736</td>\n",
       "      <td>13830</td>\n",
       "      <td>32210</td>\n",
       "      <td>17778</td>\n",
       "      <td>43184</td>\n",
       "      <td>4145</td>\n",
       "      <td>1823</td>\n",
       "      <td>111043</td>\n",
       "      <td>5290</td>\n",
       "    </tr>\n",
       "    <tr>\n",
       "      <th>first</th>\n",
       "      <td>NaN</td>\n",
       "      <td>NaN</td>\n",
       "      <td>NaN</td>\n",
       "      <td>NaN</td>\n",
       "      <td>2016-01-04 00:00:00</td>\n",
       "      <td>NaN</td>\n",
       "      <td>NaN</td>\n",
       "      <td>NaN</td>\n",
       "      <td>NaN</td>\n",
       "      <td>NaN</td>\n",
       "      <td>NaN</td>\n",
       "      <td>NaN</td>\n",
       "      <td>NaN</td>\n",
       "      <td>2016-01-04 00:00:00</td>\n",
       "      <td>2016-01-04 00:00:00</td>\n",
       "      <td>2018-10-03 00:00:00</td>\n",
       "      <td>2016-01-04 00:00:00</td>\n",
       "    </tr>\n",
       "    <tr>\n",
       "      <th>last</th>\n",
       "      <td>NaN</td>\n",
       "      <td>NaN</td>\n",
       "      <td>NaN</td>\n",
       "      <td>NaN</td>\n",
       "      <td>2018-10-03 00:00:00</td>\n",
       "      <td>NaN</td>\n",
       "      <td>NaN</td>\n",
       "      <td>NaN</td>\n",
       "      <td>NaN</td>\n",
       "      <td>NaN</td>\n",
       "      <td>NaN</td>\n",
       "      <td>NaN</td>\n",
       "      <td>NaN</td>\n",
       "      <td>2018-10-02 00:00:00</td>\n",
       "      <td>2018-10-02 00:00:00</td>\n",
       "      <td>2018-10-03 00:00:00</td>\n",
       "      <td>2018-10-03 00:00:00</td>\n",
       "    </tr>\n",
       "  </tbody>\n",
       "</table>\n",
       "</div>"
      ],
      "text/plain": [
       "           STYLE#   COLOR              DESCRIPTION  CUST #  \\\n",
       "count      111043  107062                   111038  111043   \n",
       "unique       5606    2734                     6058     409   \n",
       "top     DTA6E2068     JET  3\" TASSEL METAL HOOK ER  GOL001   \n",
       "freq         1516    5872                     1469    6722   \n",
       "first         NaN     NaN                      NaN     NaN   \n",
       "last          NaN     NaN                      NaN     NaN   \n",
       "\n",
       "                  INVC DATE  REASON IMPORT HANDMADE MANUFACTORS State_sold  \\\n",
       "count                111043  111043          111043      110962     111043   \n",
       "unique                  699      12               2          15         50   \n",
       "top     2017-12-21 00:00:00    None          IMPORT      NOBLES         CA   \n",
       "freq                   1698  108415           90309       56730      20736   \n",
       "first   2016-01-04 00:00:00     NaN             NaN         NaN        NaN   \n",
       "last    2018-10-03 00:00:00     NaN             NaN         NaN        NaN   \n",
       "\n",
       "       ZIP_sold RELEASED YEAR    Seasos Season target            LAST RCVD  \\\n",
       "count    111043        111043    111043        111043                86553   \n",
       "unique      321             4        12             7                  304   \n",
       "top       90021          2017  2018 2ND           OLD  2018-10-02 00:00:00   \n",
       "freq      13830         32210     17778         43184                 4145   \n",
       "first       NaN           NaN       NaN           NaN  2016-01-04 00:00:00   \n",
       "last        NaN           NaN       NaN           NaN  2018-10-02 00:00:00   \n",
       "\n",
       "                 FIRST RCVD        LAST INVOICED       FIRST INVOICED  \n",
       "count                 86553               111043               111043  \n",
       "unique                  292                    1                  635  \n",
       "top     2017-12-20 00:00:00  2018-10-03 00:00:00  2016-01-05 00:00:00  \n",
       "freq                   1823               111043                 5290  \n",
       "first   2016-01-04 00:00:00  2018-10-03 00:00:00  2016-01-04 00:00:00  \n",
       "last    2018-10-02 00:00:00  2018-10-03 00:00:00  2018-10-03 00:00:00  "
      ]
     },
     "execution_count": 84,
     "metadata": {},
     "output_type": "execute_result"
    }
   ],
   "source": [
    "uno_sc.describe()"
   ]
  },
  {
   "cell_type": "code",
   "execution_count": null,
   "metadata": {},
   "outputs": [],
   "source": []
  },
  {
   "cell_type": "markdown",
   "metadata": {},
   "source": [
    "<p><a name=\"vc\"></a></p>\n",
    "## Visulization"
   ]
  },
  {
   "cell_type": "code",
   "execution_count": 137,
   "metadata": {},
   "outputs": [],
   "source": [
    "#function returns the percentage of each item in a category\n",
    "def uniq_count(df,feature):\n",
    "    uniq_count = pd.DataFrame(pd.value_counts(df[feature]).sort_values(ascending=False)).reset_index()\n",
    "    uniq_count.columns=[feature,'count']\n",
    "    uniq_count['percentage %']=uniq_count['count']/df.shape[0]*100\n",
    "        \n",
    "    ax = sns.barplot(x=\"percentage %\", y=feature, data=uniq_count)\n",
    "    plt.rcParams['figure.figsize']=(10,10)\n"
   ]
  },
  {
   "cell_type": "code",
   "execution_count": null,
   "metadata": {},
   "outputs": [],
   "source": []
  },
  {
   "cell_type": "code",
   "execution_count": 86,
   "metadata": {},
   "outputs": [],
   "source": [
    "#select features what to explore in each dataset"
   ]
  },
  {
   "cell_type": "code",
   "execution_count": 87,
   "metadata": {},
   "outputs": [
    {
     "data": {
      "text/plain": [
       "Index(['Name', 'Financial Status', 'Paid at', 'Fulfillment Status',\n",
       "       'Accepts Marketing', 'Currency', 'Discount Code', 'Shipping Method',\n",
       "       'Created at', 'Lineitem name', 'Lineitem sku',\n",
       "       'Lineitem fulfillment status', 'Shipping Street', 'Shipping Address1',\n",
       "       'Shipping Address2', 'Shipping Company', 'Shipping City',\n",
       "       'Shipping Zip', 'Shipping Province', 'Shipping Country', 'Notes',\n",
       "       'Note Attributes', 'Cancelled at', 'Payment Method', 'Vendor', 'Tags',\n",
       "       'Risk Level', 'Source', 'Lineitem name.1', 'Color ', 'Unnamed: 39',\n",
       "       'Unnamed: 40'],\n",
       "      dtype='object')"
      ]
     },
     "execution_count": 87,
     "metadata": {},
     "output_type": "execute_result"
    }
   ],
   "source": [
    "usjh1c.columns"
   ]
  },
  {
   "cell_type": "code",
   "execution_count": 92,
   "metadata": {},
   "outputs": [
    {
     "data": {
      "image/png": "[encoded data removed]",
      "text/plain": [
       "<Figure size 576x576 with 1 Axes>"
      ]
     },
     "metadata": {},
     "output_type": "display_data"
    }
   ],
   "source": [
    "uniq_count(usjh1c,'Shipping Province')"
   ]
  },
  {
   "cell_type": "code",
   "execution_count": null,
   "metadata": {},
   "outputs": [],
   "source": []
  },
  {
   "cell_type": "code",
   "execution_count": 89,
   "metadata": {},
   "outputs": [
    {
     "data": {
      "text/plain": [
       "Index(['Name', 'Financial Status', 'Paid at', 'Fulfillment Status',\n",
       "       'Accepts Marketing', 'Currency', 'Discount Code', 'Shipping Method',\n",
       "       'Created at', 'Lineitem fulfillment status', 'Shipping Street',\n",
       "       'Shipping Address1', 'Shipping Address2', 'Shipping Company',\n",
       "       'Shipping City', 'Shipping Zip', 'Shipping Province',\n",
       "       'Shipping Country', 'Notes', 'Note Attributes', 'Cancelled at',\n",
       "       'Payment Method', 'Vendor', 'Tags', 'Risk Level', 'Source', 'Color '],\n",
       "      dtype='object')"
      ]
     },
     "execution_count": 89,
     "metadata": {},
     "output_type": "execute_result"
    }
   ],
   "source": [
    "usjh2c.columns"
   ]
  },
  {
   "cell_type": "code",
   "execution_count": 130,
   "metadata": {},
   "outputs": [
    {
     "data": {
      "image/png": "[encoded data removed]",
      "text/plain": [
       "<Figure size 720x720 with 1 Axes>"
      ]
     },
     "metadata": {},
     "output_type": "display_data"
    }
   ],
   "source": [
    "uniq_count(usjh2c,'Shipping Method')"
   ]
  },
  {
   "cell_type": "code",
   "execution_count": null,
   "metadata": {},
   "outputs": [],
   "source": []
  },
  {
   "cell_type": "code",
   "execution_count": 211,
   "metadata": {},
   "outputs": [
    {
     "data": {
      "text/plain": [
       "Index(['STYLE#', 'COLOR', 'Description', 'LAST RCVD', 'CB Reason'], dtype='object')"
      ]
     },
     "execution_count": 211,
     "metadata": {},
     "output_type": "execute_result"
    }
   ],
   "source": [
    "uno_ic.columns"
   ]
  },
  {
   "cell_type": "code",
   "execution_count": 260,
   "metadata": {},
   "outputs": [
    {
     "data": {
      "image/png": "[encoded data removed]",
      "text/plain": [
       "<Figure size 576x576 with 1 Axes>"
      ]
     },
     "metadata": {},
     "output_type": "display_data"
    }
   ],
   "source": [
    "uniq_count(uno_ic,'CB Reason')"
   ]
  },
  {
   "cell_type": "code",
   "execution_count": null,
   "metadata": {},
   "outputs": [],
   "source": []
  },
  {
   "cell_type": "code",
   "execution_count": 212,
   "metadata": {},
   "outputs": [
    {
     "data": {
      "text/plain": [
       "Index(['STYLE#', 'COLOR', 'DESCRIPTION', 'CUST #', 'INVC DATE', 'REASON',\n",
       "       'IMPORT HANDMADE', 'MANUFACTORS', 'State_sold', 'ZIP_sold',\n",
       "       'RELEASED YEAR', 'Seasos', 'Season target', 'LAST RCVD', 'FIRST RCVD',\n",
       "       'LAST INVOICED', 'FIRST INVOICED'],\n",
       "      dtype='object')"
      ]
     },
     "execution_count": 212,
     "metadata": {},
     "output_type": "execute_result"
    }
   ],
   "source": [
    "uno_sc.columns"
   ]
  },
  {
   "cell_type": "code",
   "execution_count": 139,
   "metadata": {},
   "outputs": [
    {
     "data": {
      "image/png": "[encoded data removed]",
      "text/plain": [
       "<Figure size 720x720 with 1 Axes>"
      ]
     },
     "metadata": {},
     "output_type": "display_data"
    }
   ],
   "source": [
    "uniq_count(uno_sc,'Seasos')"
   ]
  },
  {
   "cell_type": "code",
   "execution_count": null,
   "metadata": {},
   "outputs": [],
   "source": []
  },
  {
   "cell_type": "markdown",
   "metadata": {},
   "source": [
    "<p><a name=\"ts\"></a></p>\n",
    "# 5.Time Series Analysis"
   ]
  },
  {
   "cell_type": "code",
   "execution_count": 233,
   "metadata": {},
   "outputs": [],
   "source": [
    "#For numerical features\n",
    "#input time and target feature, return the time series change of this feature\n",
    "def time_n(df,target_time, target_feature, mode='year'):\n",
    "    \n",
    "    if mode=='year':\n",
    "        df=df.groupby(df[target_time].dt.year)[target_feature].sum()\n",
    "    elif mode=='month':\n",
    "        df=df.groupby(df[target_time].dt.to_period('M'))[target_feature].sum()\n",
    "    else:\n",
    "        df=df.groupby(df[target_time])[target_feature].sum()\n",
    "    \n",
    "    df.plot()\n",
    "    #plt.plot(df) if use this, error appears dont know why\n",
    "\n",
    "\n",
    "\n",
    "#For categorical features\n",
    "#input time and target feature's item, return the time series change of this item\n",
    "def time_c(df,target_time, target_feature, value, mode='year'):\n",
    "    df=df[df[target_feature]==value]\n",
    "    \n",
    "    if mode=='year':\n",
    "        df=df.groupby(df[target_time].dt.year).size()\n",
    "    elif mode=='month':\n",
    "        df=df.groupby(df[target_time].dt.to_period('M')).size()\n",
    "    else:\n",
    "        df=df.groupby(df[target_time]).size()\n",
    "                      \n",
    "    df.plot(label=value)\n"
   ]
  },
  {
   "cell_type": "code",
   "execution_count": 190,
   "metadata": {},
   "outputs": [
    {
     "data": {
      "text/plain": [
       "Index(['Name', 'Financial Status', 'Paid at', 'Fulfillment Status',\n",
       "       'Accepts Marketing', 'Currency', 'Subtotal', 'Shipping', 'Taxes',\n",
       "       'Total', 'Discount Code', 'Discount Amount', 'Shipping Method',\n",
       "       'Created at', 'Lineitem fulfillment status', 'Shipping Street',\n",
       "       'Shipping Address1', 'Shipping Address2', 'Shipping Company',\n",
       "       'Shipping City', 'Shipping Zip', 'Shipping Province',\n",
       "       'Shipping Country', 'Notes', 'Note Attributes', 'Cancelled at',\n",
       "       'Payment Method', 'Refunded Amount', 'Vendor', 'Tags', 'Risk Level',\n",
       "       'Source', 'Color ', 'item_quantity'],\n",
       "      dtype='object')"
      ]
     },
     "execution_count": 190,
     "metadata": {},
     "output_type": "execute_result"
    }
   ],
   "source": [
    "usjh_v2.columns"
   ]
  },
  {
   "cell_type": "code",
   "execution_count": 218,
   "metadata": {},
   "outputs": [
    {
     "data": {
      "text/plain": [
       "(56, 34)"
      ]
     },
     "execution_count": 218,
     "metadata": {},
     "output_type": "execute_result"
    }
   ],
   "source": [
    "usjh_v2[pd.notna(usjh_v2['Cancelled at'])].shape"
   ]
  },
  {
   "cell_type": "code",
   "execution_count": 226,
   "metadata": {},
   "outputs": [
    {
     "data": {
      "image/png": "[encoded data removed]",
      "text/plain": [
       "<Figure size 720x720 with 1 Axes>"
      ]
     },
     "metadata": {},
     "output_type": "display_data"
    }
   ],
   "source": [
    "time_n(usjh_v2,'Paid at', ['Total','Refunded Amount'], 'month')"
   ]
  },
  {
   "cell_type": "code",
   "execution_count": 238,
   "metadata": {},
   "outputs": [
    {
     "data": {
      "text/plain": [
       "<matplotlib.legend.Legend at 0x1c0ea2d6d8>"
      ]
     },
     "execution_count": 238,
     "metadata": {},
     "output_type": "execute_result"
    },
    {
     "data": {
      "image/png": "[encoded data removed]",
      "text/plain": [
       "<Figure size 720x720 with 1 Axes>"
      ]
     },
     "metadata": {},
     "output_type": "display_data"
    }
   ],
   "source": [
    "time_c(usjh_v2,'Created at', 'Vendor', 'USJewelryhouse', 'month')\n",
    "time_c(usjh_v2,'Created at', 'Vendor', 'Cloie', 'month')\n",
    "time_c(usjh_v2,'Created at', 'Vendor', 'Crystal Avenue', 'month')\n",
    "plt.legend()"
   ]
  },
  {
   "cell_type": "code",
   "execution_count": null,
   "metadata": {},
   "outputs": [],
   "source": []
  },
  {
   "cell_type": "code",
   "execution_count": 239,
   "metadata": {},
   "outputs": [
    {
     "data": {
      "text/plain": [
       "Index(['STYLE#', 'COLOR', 'DESCRIPTION', 'CUST #', 'INVC DATE', 'QTY',\n",
       "       'UNIT PRICE', 'EXT-AMT', 'REASON', 'IMPORT HANDMADE', 'MANUFACTORS',\n",
       "       'State_sold', 'ZIP_sold', 'RELEASED YEAR', 'Seasos', 'Season target',\n",
       "       'LAST RCVD', 'FIRST RCVD', 'LAST INVOICED', 'FIRST INVOICED'],\n",
       "      dtype='object')"
      ]
     },
     "execution_count": 239,
     "metadata": {},
     "output_type": "execute_result"
    }
   ],
   "source": [
    "uno_sale.columns"
   ]
  },
  {
   "cell_type": "code",
   "execution_count": 241,
   "metadata": {},
   "outputs": [
    {
     "data": {
      "image/png": "[encoded data removed]",
      "text/plain": [
       "<Figure size 720x720 with 1 Axes>"
      ]
     },
     "metadata": {},
     "output_type": "display_data"
    }
   ],
   "source": [
    "time_n(uno_sale,'INVC DATE', ['EXT-AMT','QTY'], 'month')"
   ]
  },
  {
   "cell_type": "code",
   "execution_count": 242,
   "metadata": {},
   "outputs": [
    {
     "data": {
      "text/plain": [
       "<matplotlib.legend.Legend at 0x1c0d7e9198>"
      ]
     },
     "execution_count": 242,
     "metadata": {},
     "output_type": "execute_result"
    },
    {
     "data": {
      "image/png": "[encoded data removed]",
      "text/plain": [
       "<Figure size 720x720 with 1 Axes>"
      ]
     },
     "metadata": {},
     "output_type": "display_data"
    }
   ],
   "source": [
    "time_c(uno_sale,'INVC DATE', 'State_sold', 'CA', 'month')\n",
    "time_c(uno_sale,'INVC DATE', 'State_sold', 'TX', 'month')\n",
    "time_c(uno_sale,'INVC DATE', 'State_sold', 'GA', 'month')\n",
    "plt.legend()"
   ]
  },
  {
   "cell_type": "code",
   "execution_count": 243,
   "metadata": {},
   "outputs": [
    {
     "data": {
      "text/plain": [
       "Index(['STYLE#', 'COLOR', 'Description', 'LAST RCVD', 'Qty', 'On-Hand',\n",
       "       'CB Reason'],\n",
       "      dtype='object')"
      ]
     },
     "execution_count": 243,
     "metadata": {},
     "output_type": "execute_result"
    }
   ],
   "source": [
    "uno_inv.columns"
   ]
  },
  {
   "cell_type": "code",
   "execution_count": 244,
   "metadata": {},
   "outputs": [
    {
     "data": {
      "image/png": "[encoded data removed]",
      "text/plain": [
       "<Figure size 720x720 with 1 Axes>"
      ]
     },
     "metadata": {},
     "output_type": "display_data"
    }
   ],
   "source": [
    "time_n(uno_inv,'LAST RCVD', 'On-Hand', 'month')"
   ]
  },
  {
   "cell_type": "code",
   "execution_count": 245,
   "metadata": {},
   "outputs": [
    {
     "data": {
      "image/png": "[encoded data removed]",
      "text/plain": [
       "<Figure size 720x720 with 1 Axes>"
      ]
     },
     "metadata": {},
     "output_type": "display_data"
    }
   ],
   "source": [
    "time_n(uno_sale,'LAST RCVD', 'EXT-AMT', 'month')"
   ]
  },
  {
   "cell_type": "code",
   "execution_count": null,
   "metadata": {},
   "outputs": [],
   "source": []
  }
 ],
 "metadata": {
  "kernelspec": {
   "display_name": "Python 3",
   "language": "python",
   "name": "python3"
  },
  "language_info": {
   "codemirror_mode": {
    "name": "ipython",
    "version": 3
   },
   "file_extension": ".py",
   "mimetype": "text/x-python",
   "name": "python",
   "nbconvert_exporter": "python",
   "pygments_lexer": "ipython3",
   "version": "3.7.1"
  }
 },
 "nbformat": 4,
 "nbformat_minor": 2
}
