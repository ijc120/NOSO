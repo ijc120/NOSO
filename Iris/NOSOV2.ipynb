{
 "cells": [
  {
   "cell_type": "code",
   "execution_count": 928,
   "metadata": {},
   "outputs": [],
   "source": [
    "import numpy as np\n",
    "import pandas as pd\n",
    "import matplotlib.pyplot as plt\n",
    "import seaborn as sns\n",
    "%matplotlib inline\n",
    "import re\n",
    "import pickle\n",
    "import plotly.graph_objs as pg\n",
    "import plotly\n",
    "import plotly.plotly as py\n",
    "from scipy import stats\n",
    "import plotly.graph_objs as go"
   ]
  },
  {
   "cell_type": "code",
   "execution_count": 929,
   "metadata": {},
   "outputs": [],
   "source": [
    "df = pd.read_pickle('USJH.pkl')"
   ]
  },
  {
   "cell_type": "code",
   "execution_count": 930,
   "metadata": {},
   "outputs": [
    {
     "data": {
      "text/plain": [
       "Unnamed: 0                       int64\n",
       "name                            object\n",
       "financial_status                object\n",
       "paid_at                         object\n",
       "fulfillment_status              object\n",
       "accepts_marketing               object\n",
       "currency                        object\n",
       "subtotal                       float64\n",
       "shipping                       float64\n",
       "taxes                          float64\n",
       "total                          float64\n",
       "discount_code                   object\n",
       "discount_amount                float64\n",
       "shipping_method                 object\n",
       "created_at                      object\n",
       "lineitem_quantity                int64\n",
       "lineitem_name                   object\n",
       "lineitem_price                 float64\n",
       "lineitem_compare_at_price      float64\n",
       "lineitem_sku                    object\n",
       "lineitem_fulfillment_status     object\n",
       "shipping_street                 object\n",
       "shipping_address1               object\n",
       "shipping_company                object\n",
       "shipping_city                   object\n",
       "shipping_zip                    object\n",
       "shipping_province               object\n",
       "shipping_country                object\n",
       "notes                           object\n",
       "cancelled                        int64\n",
       "payment_method                  object\n",
       "refunded_amount                float64\n",
       "vendor                          object\n",
       "risk_level                      object\n",
       "source                          object\n",
       "color                           object\n",
       "category                        object\n",
       "dtype: object"
      ]
     },
     "execution_count": 930,
     "metadata": {},
     "output_type": "execute_result"
    }
   ],
   "source": [
    "df.dtypes"
   ]
  },
  {
   "cell_type": "code",
   "execution_count": 931,
   "metadata": {},
   "outputs": [
    {
     "data": {
      "text/plain": [
       "earring        34861\n",
       "necklace       30837\n",
       "bracelet       10226\n",
       "apparel         3574\n",
       "ring            1839\n",
       "accessories     1439\n",
       "other            733\n",
       "Name: category, dtype: int64"
      ]
     },
     "execution_count": 931,
     "metadata": {},
     "output_type": "execute_result"
    }
   ],
   "source": [
    "df.category.value_counts()"
   ]
  },
  {
   "cell_type": "code",
   "execution_count": 932,
   "metadata": {},
   "outputs": [
    {
     "data": {
      "text/plain": [
       "(83509, 37)"
      ]
     },
     "execution_count": 932,
     "metadata": {},
     "output_type": "execute_result"
    }
   ],
   "source": [
    "df.shape"
   ]
  },
  {
   "cell_type": "code",
   "execution_count": 933,
   "metadata": {},
   "outputs": [
    {
     "data": {
      "text/plain": [
       "{dtype('int64'): Index(['Unnamed: 0', 'lineitem_quantity', 'cancelled'], dtype='object'),\n",
       " dtype('float64'): Index(['subtotal', 'shipping', 'taxes', 'total', 'discount_amount',\n",
       "        'lineitem_price', 'lineitem_compare_at_price', 'refunded_amount'],\n",
       "       dtype='object'),\n",
       " dtype('O'): Index(['name', 'financial_status', 'paid_at', 'fulfillment_status',\n",
       "        'accepts_marketing', 'currency', 'discount_code', 'shipping_method',\n",
       "        'created_at', 'lineitem_name', 'lineitem_sku',\n",
       "        'lineitem_fulfillment_status', 'shipping_street', 'shipping_address1',\n",
       "        'shipping_company', 'shipping_city', 'shipping_zip',\n",
       "        'shipping_province', 'shipping_country', 'notes', 'payment_method',\n",
       "        'vendor', 'risk_level', 'source', 'color', 'category'],\n",
       "       dtype='object')}"
      ]
     },
     "execution_count": 933,
     "metadata": {},
     "output_type": "execute_result"
    }
   ],
   "source": [
    "df.columns.groupby(df.dtypes)"
   ]
  },
  {
   "cell_type": "markdown",
   "metadata": {},
   "source": [
    "Missing value percentage"
   ]
  },
  {
   "cell_type": "code",
   "execution_count": 934,
   "metadata": {},
   "outputs": [
    {
     "data": {
      "text/plain": [
       "lineitem_sku                   0.492476\n",
       "shipping_company               0.000268\n",
       "category                       0.000000\n",
       "taxes                          0.000000\n",
       "created_at                     0.000000\n",
       "shipping_method                0.000000\n",
       "discount_amount                0.000000\n",
       "discount_code                  0.000000\n",
       "total                          0.000000\n",
       "shipping                       0.000000\n",
       "lineitem_name                  0.000000\n",
       "subtotal                       0.000000\n",
       "currency                       0.000000\n",
       "accepts_marketing              0.000000\n",
       "fulfillment_status             0.000000\n",
       "paid_at                        0.000000\n",
       "financial_status               0.000000\n",
       "name                           0.000000\n",
       "lineitem_quantity              0.000000\n",
       "lineitem_compare_at_price      0.000000\n",
       "lineitem_price                 0.000000\n",
       "notes                          0.000000\n",
       "source                         0.000000\n",
       "risk_level                     0.000000\n",
       "vendor                         0.000000\n",
       "refunded_amount                0.000000\n",
       "payment_method                 0.000000\n",
       "cancelled                      0.000000\n",
       "shipping_country               0.000000\n",
       "color                          0.000000\n",
       "shipping_province              0.000000\n",
       "shipping_zip                   0.000000\n",
       "shipping_city                  0.000000\n",
       "shipping_address1              0.000000\n",
       "shipping_street                0.000000\n",
       "lineitem_fulfillment_status    0.000000\n",
       "Unnamed: 0                     0.000000\n",
       "dtype: float64"
      ]
     },
     "execution_count": 934,
     "metadata": {},
     "output_type": "execute_result"
    }
   ],
   "source": [
    "df.isna().sum(axis = 0).sort_values(ascending = False)/85925"
   ]
  },
  {
   "cell_type": "code",
   "execution_count": 935,
   "metadata": {},
   "outputs": [
    {
     "data": {
      "text/html": [
       "<div>\n",
       "<style scoped>\n",
       "    .dataframe tbody tr th:only-of-type {\n",
       "        vertical-align: middle;\n",
       "    }\n",
       "\n",
       "    .dataframe tbody tr th {\n",
       "        vertical-align: top;\n",
       "    }\n",
       "\n",
       "    .dataframe thead th {\n",
       "        text-align: right;\n",
       "    }\n",
       "</style>\n",
       "<table border=\"1\" class=\"dataframe\">\n",
       "  <thead>\n",
       "    <tr style=\"text-align: right;\">\n",
       "      <th></th>\n",
       "      <th>Unnamed: 0</th>\n",
       "      <th>subtotal</th>\n",
       "      <th>shipping</th>\n",
       "      <th>taxes</th>\n",
       "      <th>total</th>\n",
       "      <th>discount_amount</th>\n",
       "      <th>lineitem_quantity</th>\n",
       "      <th>lineitem_price</th>\n",
       "      <th>lineitem_compare_at_price</th>\n",
       "      <th>cancelled</th>\n",
       "      <th>refunded_amount</th>\n",
       "    </tr>\n",
       "    <tr>\n",
       "      <th>name</th>\n",
       "      <th></th>\n",
       "      <th></th>\n",
       "      <th></th>\n",
       "      <th></th>\n",
       "      <th></th>\n",
       "      <th></th>\n",
       "      <th></th>\n",
       "      <th></th>\n",
       "      <th></th>\n",
       "      <th></th>\n",
       "      <th></th>\n",
       "    </tr>\n",
       "  </thead>\n",
       "  <tbody>\n",
       "    <tr>\n",
       "      <th>#4732</th>\n",
       "      <td>5971</td>\n",
       "      <td>2100.00</td>\n",
       "      <td>146.58</td>\n",
       "      <td>0.00</td>\n",
       "      <td>2246.58</td>\n",
       "      <td>0.00</td>\n",
       "      <td>34</td>\n",
       "      <td>61.25</td>\n",
       "      <td>61.25</td>\n",
       "      <td>14</td>\n",
       "      <td>0.00</td>\n",
       "    </tr>\n",
       "    <tr>\n",
       "      <th>#4733</th>\n",
       "      <td>7389</td>\n",
       "      <td>4554.00</td>\n",
       "      <td>0.00</td>\n",
       "      <td>0.00</td>\n",
       "      <td>4554.00</td>\n",
       "      <td>0.00</td>\n",
       "      <td>69</td>\n",
       "      <td>69.75</td>\n",
       "      <td>72.50</td>\n",
       "      <td>18</td>\n",
       "      <td>53.25</td>\n",
       "    </tr>\n",
       "    <tr>\n",
       "      <th>#4734</th>\n",
       "      <td>16698</td>\n",
       "      <td>15785.00</td>\n",
       "      <td>0.00</td>\n",
       "      <td>70.40</td>\n",
       "      <td>15855.40</td>\n",
       "      <td>0.00</td>\n",
       "      <td>76</td>\n",
       "      <td>219.75</td>\n",
       "      <td>220.50</td>\n",
       "      <td>44</td>\n",
       "      <td>44.00</td>\n",
       "    </tr>\n",
       "    <tr>\n",
       "      <th>#4735</th>\n",
       "      <td>8957</td>\n",
       "      <td>3633.50</td>\n",
       "      <td>336.96</td>\n",
       "      <td>0.00</td>\n",
       "      <td>3970.46</td>\n",
       "      <td>0.00</td>\n",
       "      <td>32</td>\n",
       "      <td>119.50</td>\n",
       "      <td>119.50</td>\n",
       "      <td>26</td>\n",
       "      <td>8.50</td>\n",
       "    </tr>\n",
       "    <tr>\n",
       "      <th>#4736</th>\n",
       "      <td>30193</td>\n",
       "      <td>110773.43</td>\n",
       "      <td>0.00</td>\n",
       "      <td>0.00</td>\n",
       "      <td>110773.43</td>\n",
       "      <td>53.48</td>\n",
       "      <td>202</td>\n",
       "      <td>626.25</td>\n",
       "      <td>638.25</td>\n",
       "      <td>109</td>\n",
       "      <td>0.00</td>\n",
       "    </tr>\n",
       "    <tr>\n",
       "      <th>#4737</th>\n",
       "      <td>6032</td>\n",
       "      <td>44115.67</td>\n",
       "      <td>0.00</td>\n",
       "      <td>0.00</td>\n",
       "      <td>44115.67</td>\n",
       "      <td>169.02</td>\n",
       "      <td>135</td>\n",
       "      <td>348.75</td>\n",
       "      <td>348.75</td>\n",
       "      <td>29</td>\n",
       "      <td>0.00</td>\n",
       "    </tr>\n",
       "    <tr>\n",
       "      <th>#4738</th>\n",
       "      <td>385</td>\n",
       "      <td>11.50</td>\n",
       "      <td>20.94</td>\n",
       "      <td>0.00</td>\n",
       "      <td>32.44</td>\n",
       "      <td>0.00</td>\n",
       "      <td>2</td>\n",
       "      <td>5.75</td>\n",
       "      <td>5.75</td>\n",
       "      <td>2</td>\n",
       "      <td>0.00</td>\n",
       "    </tr>\n",
       "    <tr>\n",
       "      <th>#4739</th>\n",
       "      <td>381</td>\n",
       "      <td>152.00</td>\n",
       "      <td>20.94</td>\n",
       "      <td>0.00</td>\n",
       "      <td>172.94</td>\n",
       "      <td>0.00</td>\n",
       "      <td>2</td>\n",
       "      <td>76.00</td>\n",
       "      <td>76.00</td>\n",
       "      <td>2</td>\n",
       "      <td>0.00</td>\n",
       "    </tr>\n",
       "    <tr>\n",
       "      <th>#4740</th>\n",
       "      <td>3249</td>\n",
       "      <td>4747.50</td>\n",
       "      <td>0.00</td>\n",
       "      <td>0.00</td>\n",
       "      <td>4747.50</td>\n",
       "      <td>0.00</td>\n",
       "      <td>47</td>\n",
       "      <td>101.50</td>\n",
       "      <td>101.50</td>\n",
       "      <td>18</td>\n",
       "      <td>0.00</td>\n",
       "    </tr>\n",
       "    <tr>\n",
       "      <th>#4741</th>\n",
       "      <td>3828</td>\n",
       "      <td>2880.00</td>\n",
       "      <td>327.36</td>\n",
       "      <td>0.00</td>\n",
       "      <td>3207.36</td>\n",
       "      <td>0.00</td>\n",
       "      <td>30</td>\n",
       "      <td>99.75</td>\n",
       "      <td>101.75</td>\n",
       "      <td>24</td>\n",
       "      <td>0.00</td>\n",
       "    </tr>\n",
       "    <tr>\n",
       "      <th>#4742</th>\n",
       "      <td>7557</td>\n",
       "      <td>36773.88</td>\n",
       "      <td>0.00</td>\n",
       "      <td>87.12</td>\n",
       "      <td>36861.00</td>\n",
       "      <td>29.32</td>\n",
       "      <td>78</td>\n",
       "      <td>512.25</td>\n",
       "      <td>534.75</td>\n",
       "      <td>66</td>\n",
       "      <td>0.00</td>\n",
       "    </tr>\n",
       "    <tr>\n",
       "      <th>#4743</th>\n",
       "      <td>975</td>\n",
       "      <td>978.25</td>\n",
       "      <td>168.48</td>\n",
       "      <td>0.00</td>\n",
       "      <td>1146.73</td>\n",
       "      <td>0.00</td>\n",
       "      <td>24</td>\n",
       "      <td>40.75</td>\n",
       "      <td>40.75</td>\n",
       "      <td>13</td>\n",
       "      <td>0.00</td>\n",
       "    </tr>\n",
       "    <tr>\n",
       "      <th>#4744</th>\n",
       "      <td>1716</td>\n",
       "      <td>13191.75</td>\n",
       "      <td>0.00</td>\n",
       "      <td>0.00</td>\n",
       "      <td>13191.75</td>\n",
       "      <td>0.00</td>\n",
       "      <td>81</td>\n",
       "      <td>161.50</td>\n",
       "      <td>167.50</td>\n",
       "      <td>33</td>\n",
       "      <td>0.00</td>\n",
       "    </tr>\n",
       "    <tr>\n",
       "      <th>#4745</th>\n",
       "      <td>420</td>\n",
       "      <td>2925.00</td>\n",
       "      <td>194.40</td>\n",
       "      <td>0.00</td>\n",
       "      <td>3119.40</td>\n",
       "      <td>0.00</td>\n",
       "      <td>69</td>\n",
       "      <td>44.00</td>\n",
       "      <td>73.25</td>\n",
       "      <td>15</td>\n",
       "      <td>0.00</td>\n",
       "    </tr>\n",
       "    <tr>\n",
       "      <th>#4746</th>\n",
       "      <td>210</td>\n",
       "      <td>2110.50</td>\n",
       "      <td>286.44</td>\n",
       "      <td>0.00</td>\n",
       "      <td>2396.94</td>\n",
       "      <td>0.00</td>\n",
       "      <td>23</td>\n",
       "      <td>91.75</td>\n",
       "      <td>92.25</td>\n",
       "      <td>21</td>\n",
       "      <td>0.00</td>\n",
       "    </tr>\n",
       "  </tbody>\n",
       "</table>\n",
       "</div>"
      ],
      "text/plain": [
       "       Unnamed: 0   subtotal  shipping  taxes      total  discount_amount  \\\n",
       "name                                                                        \n",
       "#4732        5971    2100.00    146.58   0.00    2246.58             0.00   \n",
       "#4733        7389    4554.00      0.00   0.00    4554.00             0.00   \n",
       "#4734       16698   15785.00      0.00  70.40   15855.40             0.00   \n",
       "#4735        8957    3633.50    336.96   0.00    3970.46             0.00   \n",
       "#4736       30193  110773.43      0.00   0.00  110773.43            53.48   \n",
       "#4737        6032   44115.67      0.00   0.00   44115.67           169.02   \n",
       "#4738         385      11.50     20.94   0.00      32.44             0.00   \n",
       "#4739         381     152.00     20.94   0.00     172.94             0.00   \n",
       "#4740        3249    4747.50      0.00   0.00    4747.50             0.00   \n",
       "#4741        3828    2880.00    327.36   0.00    3207.36             0.00   \n",
       "#4742        7557   36773.88      0.00  87.12   36861.00            29.32   \n",
       "#4743         975     978.25    168.48   0.00    1146.73             0.00   \n",
       "#4744        1716   13191.75      0.00   0.00   13191.75             0.00   \n",
       "#4745         420    2925.00    194.40   0.00    3119.40             0.00   \n",
       "#4746         210    2110.50    286.44   0.00    2396.94             0.00   \n",
       "\n",
       "       lineitem_quantity  lineitem_price  lineitem_compare_at_price  \\\n",
       "name                                                                  \n",
       "#4732                 34           61.25                      61.25   \n",
       "#4733                 69           69.75                      72.50   \n",
       "#4734                 76          219.75                     220.50   \n",
       "#4735                 32          119.50                     119.50   \n",
       "#4736                202          626.25                     638.25   \n",
       "#4737                135          348.75                     348.75   \n",
       "#4738                  2            5.75                       5.75   \n",
       "#4739                  2           76.00                      76.00   \n",
       "#4740                 47          101.50                     101.50   \n",
       "#4741                 30           99.75                     101.75   \n",
       "#4742                 78          512.25                     534.75   \n",
       "#4743                 24           40.75                      40.75   \n",
       "#4744                 81          161.50                     167.50   \n",
       "#4745                 69           44.00                      73.25   \n",
       "#4746                 23           91.75                      92.25   \n",
       "\n",
       "       cancelled  refunded_amount  \n",
       "name                               \n",
       "#4732         14             0.00  \n",
       "#4733         18            53.25  \n",
       "#4734         44            44.00  \n",
       "#4735         26             8.50  \n",
       "#4736        109             0.00  \n",
       "#4737         29             0.00  \n",
       "#4738          2             0.00  \n",
       "#4739          2             0.00  \n",
       "#4740         18             0.00  \n",
       "#4741         24             0.00  \n",
       "#4742         66             0.00  \n",
       "#4743         13             0.00  \n",
       "#4744         33             0.00  \n",
       "#4745         15             0.00  \n",
       "#4746         21             0.00  "
      ]
     },
     "execution_count": 935,
     "metadata": {},
     "output_type": "execute_result"
    }
   ],
   "source": [
    "df.groupby('name').agg(sum).tail(15)"
   ]
  },
  {
   "cell_type": "code",
   "execution_count": 936,
   "metadata": {},
   "outputs": [
    {
     "data": {
      "text/html": [
       "<div>\n",
       "<style scoped>\n",
       "    .dataframe tbody tr th:only-of-type {\n",
       "        vertical-align: middle;\n",
       "    }\n",
       "\n",
       "    .dataframe tbody tr th {\n",
       "        vertical-align: top;\n",
       "    }\n",
       "\n",
       "    .dataframe thead th {\n",
       "        text-align: right;\n",
       "    }\n",
       "</style>\n",
       "<table border=\"1\" class=\"dataframe\">\n",
       "  <thead>\n",
       "    <tr style=\"text-align: right;\">\n",
       "      <th></th>\n",
       "      <th></th>\n",
       "      <th>Unnamed: 0</th>\n",
       "      <th>subtotal</th>\n",
       "      <th>shipping</th>\n",
       "      <th>taxes</th>\n",
       "      <th>total</th>\n",
       "      <th>discount_amount</th>\n",
       "      <th>lineitem_quantity</th>\n",
       "      <th>lineitem_price</th>\n",
       "      <th>lineitem_compare_at_price</th>\n",
       "      <th>cancelled</th>\n",
       "      <th>refunded_amount</th>\n",
       "    </tr>\n",
       "    <tr>\n",
       "      <th>name</th>\n",
       "      <th>vendor</th>\n",
       "      <th></th>\n",
       "      <th></th>\n",
       "      <th></th>\n",
       "      <th></th>\n",
       "      <th></th>\n",
       "      <th></th>\n",
       "      <th></th>\n",
       "      <th></th>\n",
       "      <th></th>\n",
       "      <th></th>\n",
       "      <th></th>\n",
       "    </tr>\n",
       "  </thead>\n",
       "  <tbody>\n",
       "    <tr>\n",
       "      <th rowspan=\"3\" valign=\"top\">#4744</th>\n",
       "      <th>lamant</th>\n",
       "      <td>55</td>\n",
       "      <td>399.75</td>\n",
       "      <td>0.00</td>\n",
       "      <td>0.0</td>\n",
       "      <td>399.75</td>\n",
       "      <td>0.0</td>\n",
       "      <td>2</td>\n",
       "      <td>4.25</td>\n",
       "      <td>4.25</td>\n",
       "      <td>1</td>\n",
       "      <td>0.0</td>\n",
       "    </tr>\n",
       "    <tr>\n",
       "      <th>pink collection</th>\n",
       "      <td>63</td>\n",
       "      <td>399.75</td>\n",
       "      <td>0.00</td>\n",
       "      <td>0.0</td>\n",
       "      <td>399.75</td>\n",
       "      <td>0.0</td>\n",
       "      <td>4</td>\n",
       "      <td>3.25</td>\n",
       "      <td>3.25</td>\n",
       "      <td>1</td>\n",
       "      <td>0.0</td>\n",
       "    </tr>\n",
       "    <tr>\n",
       "      <th>ruff-skch</th>\n",
       "      <td>57</td>\n",
       "      <td>399.75</td>\n",
       "      <td>0.00</td>\n",
       "      <td>0.0</td>\n",
       "      <td>399.75</td>\n",
       "      <td>0.0</td>\n",
       "      <td>2</td>\n",
       "      <td>10.50</td>\n",
       "      <td>10.50</td>\n",
       "      <td>1</td>\n",
       "      <td>0.0</td>\n",
       "    </tr>\n",
       "    <tr>\n",
       "      <th rowspan=\"3\" valign=\"top\">#4745</th>\n",
       "      <th>cloie</th>\n",
       "      <td>168</td>\n",
       "      <td>1365.00</td>\n",
       "      <td>90.72</td>\n",
       "      <td>0.0</td>\n",
       "      <td>1455.72</td>\n",
       "      <td>0.0</td>\n",
       "      <td>35</td>\n",
       "      <td>14.00</td>\n",
       "      <td>32.75</td>\n",
       "      <td>7</td>\n",
       "      <td>0.0</td>\n",
       "    </tr>\n",
       "    <tr>\n",
       "      <th>moment</th>\n",
       "      <td>217</td>\n",
       "      <td>1365.00</td>\n",
       "      <td>90.72</td>\n",
       "      <td>0.0</td>\n",
       "      <td>1455.72</td>\n",
       "      <td>0.0</td>\n",
       "      <td>31</td>\n",
       "      <td>24.00</td>\n",
       "      <td>34.50</td>\n",
       "      <td>7</td>\n",
       "      <td>0.0</td>\n",
       "    </tr>\n",
       "    <tr>\n",
       "      <th>ruff-skch</th>\n",
       "      <td>35</td>\n",
       "      <td>195.00</td>\n",
       "      <td>12.96</td>\n",
       "      <td>0.0</td>\n",
       "      <td>207.96</td>\n",
       "      <td>0.0</td>\n",
       "      <td>3</td>\n",
       "      <td>6.00</td>\n",
       "      <td>6.00</td>\n",
       "      <td>1</td>\n",
       "      <td>0.0</td>\n",
       "    </tr>\n",
       "    <tr>\n",
       "      <th rowspan=\"9\" valign=\"top\">#4746</th>\n",
       "      <th>andante</th>\n",
       "      <td>18</td>\n",
       "      <td>100.50</td>\n",
       "      <td>13.64</td>\n",
       "      <td>0.0</td>\n",
       "      <td>114.14</td>\n",
       "      <td>0.0</td>\n",
       "      <td>1</td>\n",
       "      <td>5.00</td>\n",
       "      <td>5.00</td>\n",
       "      <td>1</td>\n",
       "      <td>0.0</td>\n",
       "    </tr>\n",
       "    <tr>\n",
       "      <th>cloie</th>\n",
       "      <td>73</td>\n",
       "      <td>502.50</td>\n",
       "      <td>68.20</td>\n",
       "      <td>0.0</td>\n",
       "      <td>570.70</td>\n",
       "      <td>0.0</td>\n",
       "      <td>6</td>\n",
       "      <td>17.00</td>\n",
       "      <td>17.00</td>\n",
       "      <td>5</td>\n",
       "      <td>0.0</td>\n",
       "    </tr>\n",
       "    <tr>\n",
       "      <th>ella</th>\n",
       "      <td>17</td>\n",
       "      <td>201.00</td>\n",
       "      <td>27.28</td>\n",
       "      <td>0.0</td>\n",
       "      <td>228.28</td>\n",
       "      <td>0.0</td>\n",
       "      <td>2</td>\n",
       "      <td>12.50</td>\n",
       "      <td>12.50</td>\n",
       "      <td>2</td>\n",
       "      <td>0.0</td>\n",
       "    </tr>\n",
       "    <tr>\n",
       "      <th>fresh</th>\n",
       "      <td>8</td>\n",
       "      <td>100.50</td>\n",
       "      <td>13.64</td>\n",
       "      <td>0.0</td>\n",
       "      <td>114.14</td>\n",
       "      <td>0.0</td>\n",
       "      <td>1</td>\n",
       "      <td>5.00</td>\n",
       "      <td>5.00</td>\n",
       "      <td>1</td>\n",
       "      <td>0.0</td>\n",
       "    </tr>\n",
       "    <tr>\n",
       "      <th>impression</th>\n",
       "      <td>2</td>\n",
       "      <td>100.50</td>\n",
       "      <td>13.64</td>\n",
       "      <td>0.0</td>\n",
       "      <td>114.14</td>\n",
       "      <td>0.0</td>\n",
       "      <td>1</td>\n",
       "      <td>10.50</td>\n",
       "      <td>10.50</td>\n",
       "      <td>1</td>\n",
       "      <td>0.0</td>\n",
       "    </tr>\n",
       "    <tr>\n",
       "      <th>it's sense</th>\n",
       "      <td>44</td>\n",
       "      <td>301.50</td>\n",
       "      <td>40.92</td>\n",
       "      <td>0.0</td>\n",
       "      <td>342.42</td>\n",
       "      <td>0.0</td>\n",
       "      <td>4</td>\n",
       "      <td>13.25</td>\n",
       "      <td>13.25</td>\n",
       "      <td>3</td>\n",
       "      <td>0.0</td>\n",
       "    </tr>\n",
       "    <tr>\n",
       "      <th>stylist</th>\n",
       "      <td>4</td>\n",
       "      <td>100.50</td>\n",
       "      <td>13.64</td>\n",
       "      <td>0.0</td>\n",
       "      <td>114.14</td>\n",
       "      <td>0.0</td>\n",
       "      <td>1</td>\n",
       "      <td>5.25</td>\n",
       "      <td>5.25</td>\n",
       "      <td>1</td>\n",
       "      <td>0.0</td>\n",
       "    </tr>\n",
       "    <tr>\n",
       "      <th>us jewelry house</th>\n",
       "      <td>1</td>\n",
       "      <td>201.00</td>\n",
       "      <td>27.28</td>\n",
       "      <td>0.0</td>\n",
       "      <td>228.28</td>\n",
       "      <td>0.0</td>\n",
       "      <td>2</td>\n",
       "      <td>6.75</td>\n",
       "      <td>6.75</td>\n",
       "      <td>2</td>\n",
       "      <td>0.0</td>\n",
       "    </tr>\n",
       "    <tr>\n",
       "      <th>usjewelryhouse</th>\n",
       "      <td>43</td>\n",
       "      <td>502.50</td>\n",
       "      <td>68.20</td>\n",
       "      <td>0.0</td>\n",
       "      <td>570.70</td>\n",
       "      <td>0.0</td>\n",
       "      <td>5</td>\n",
       "      <td>16.50</td>\n",
       "      <td>17.00</td>\n",
       "      <td>5</td>\n",
       "      <td>0.0</td>\n",
       "    </tr>\n",
       "  </tbody>\n",
       "</table>\n",
       "</div>"
      ],
      "text/plain": [
       "                        Unnamed: 0  subtotal  shipping  taxes    total  \\\n",
       "name  vendor                                                             \n",
       "#4744 lamant                    55    399.75      0.00    0.0   399.75   \n",
       "      pink collection           63    399.75      0.00    0.0   399.75   \n",
       "      ruff-skch                 57    399.75      0.00    0.0   399.75   \n",
       "#4745 cloie                    168   1365.00     90.72    0.0  1455.72   \n",
       "      moment                   217   1365.00     90.72    0.0  1455.72   \n",
       "      ruff-skch                 35    195.00     12.96    0.0   207.96   \n",
       "#4746 andante                   18    100.50     13.64    0.0   114.14   \n",
       "      cloie                     73    502.50     68.20    0.0   570.70   \n",
       "      ella                      17    201.00     27.28    0.0   228.28   \n",
       "      fresh                      8    100.50     13.64    0.0   114.14   \n",
       "      impression                 2    100.50     13.64    0.0   114.14   \n",
       "      it's sense                44    301.50     40.92    0.0   342.42   \n",
       "      stylist                    4    100.50     13.64    0.0   114.14   \n",
       "      us jewelry house           1    201.00     27.28    0.0   228.28   \n",
       "      usjewelryhouse            43    502.50     68.20    0.0   570.70   \n",
       "\n",
       "                        discount_amount  lineitem_quantity  lineitem_price  \\\n",
       "name  vendor                                                                 \n",
       "#4744 lamant                        0.0                  2            4.25   \n",
       "      pink collection               0.0                  4            3.25   \n",
       "      ruff-skch                     0.0                  2           10.50   \n",
       "#4745 cloie                         0.0                 35           14.00   \n",
       "      moment                        0.0                 31           24.00   \n",
       "      ruff-skch                     0.0                  3            6.00   \n",
       "#4746 andante                       0.0                  1            5.00   \n",
       "      cloie                         0.0                  6           17.00   \n",
       "      ella                          0.0                  2           12.50   \n",
       "      fresh                         0.0                  1            5.00   \n",
       "      impression                    0.0                  1           10.50   \n",
       "      it's sense                    0.0                  4           13.25   \n",
       "      stylist                       0.0                  1            5.25   \n",
       "      us jewelry house              0.0                  2            6.75   \n",
       "      usjewelryhouse                0.0                  5           16.50   \n",
       "\n",
       "                        lineitem_compare_at_price  cancelled  refunded_amount  \n",
       "name  vendor                                                                   \n",
       "#4744 lamant                                 4.25          1              0.0  \n",
       "      pink collection                        3.25          1              0.0  \n",
       "      ruff-skch                             10.50          1              0.0  \n",
       "#4745 cloie                                 32.75          7              0.0  \n",
       "      moment                                34.50          7              0.0  \n",
       "      ruff-skch                              6.00          1              0.0  \n",
       "#4746 andante                                5.00          1              0.0  \n",
       "      cloie                                 17.00          5              0.0  \n",
       "      ella                                  12.50          2              0.0  \n",
       "      fresh                                  5.00          1              0.0  \n",
       "      impression                            10.50          1              0.0  \n",
       "      it's sense                            13.25          3              0.0  \n",
       "      stylist                                5.25          1              0.0  \n",
       "      us jewelry house                       6.75          2              0.0  \n",
       "      usjewelryhouse                        17.00          5              0.0  "
      ]
     },
     "execution_count": 936,
     "metadata": {},
     "output_type": "execute_result"
    }
   ],
   "source": [
    "df.groupby(['name','vendor']).agg(sum).tail(15)"
   ]
  },
  {
   "cell_type": "code",
   "execution_count": 937,
   "metadata": {
    "scrolled": true
   },
   "outputs": [
    {
     "data": {
      "text/html": [
       "<div>\n",
       "<style scoped>\n",
       "    .dataframe tbody tr th:only-of-type {\n",
       "        vertical-align: middle;\n",
       "    }\n",
       "\n",
       "    .dataframe tbody tr th {\n",
       "        vertical-align: top;\n",
       "    }\n",
       "\n",
       "    .dataframe thead th {\n",
       "        text-align: right;\n",
       "    }\n",
       "</style>\n",
       "<table border=\"1\" class=\"dataframe\">\n",
       "  <thead>\n",
       "    <tr style=\"text-align: right;\">\n",
       "      <th></th>\n",
       "      <th></th>\n",
       "      <th></th>\n",
       "      <th>Unnamed: 0</th>\n",
       "      <th>subtotal</th>\n",
       "      <th>shipping</th>\n",
       "      <th>taxes</th>\n",
       "      <th>total</th>\n",
       "      <th>discount_amount</th>\n",
       "      <th>lineitem_quantity</th>\n",
       "      <th>lineitem_price</th>\n",
       "      <th>lineitem_compare_at_price</th>\n",
       "      <th>cancelled</th>\n",
       "      <th>refunded_amount</th>\n",
       "    </tr>\n",
       "    <tr>\n",
       "      <th>name</th>\n",
       "      <th>vendor</th>\n",
       "      <th>lineitem_fulfillment_status</th>\n",
       "      <th></th>\n",
       "      <th></th>\n",
       "      <th></th>\n",
       "      <th></th>\n",
       "      <th></th>\n",
       "      <th></th>\n",
       "      <th></th>\n",
       "      <th></th>\n",
       "      <th></th>\n",
       "      <th></th>\n",
       "      <th></th>\n",
       "    </tr>\n",
       "  </thead>\n",
       "  <tbody>\n",
       "    <tr>\n",
       "      <th rowspan=\"3\" valign=\"top\">#4744</th>\n",
       "      <th>lamant</th>\n",
       "      <th>pending</th>\n",
       "      <td>55</td>\n",
       "      <td>399.75</td>\n",
       "      <td>0.00</td>\n",
       "      <td>0.0</td>\n",
       "      <td>399.75</td>\n",
       "      <td>0.0</td>\n",
       "      <td>2</td>\n",
       "      <td>4.25</td>\n",
       "      <td>4.25</td>\n",
       "      <td>1</td>\n",
       "      <td>0.0</td>\n",
       "    </tr>\n",
       "    <tr>\n",
       "      <th>pink collection</th>\n",
       "      <th>pending</th>\n",
       "      <td>63</td>\n",
       "      <td>399.75</td>\n",
       "      <td>0.00</td>\n",
       "      <td>0.0</td>\n",
       "      <td>399.75</td>\n",
       "      <td>0.0</td>\n",
       "      <td>4</td>\n",
       "      <td>3.25</td>\n",
       "      <td>3.25</td>\n",
       "      <td>1</td>\n",
       "      <td>0.0</td>\n",
       "    </tr>\n",
       "    <tr>\n",
       "      <th>ruff-skch</th>\n",
       "      <th>pending</th>\n",
       "      <td>57</td>\n",
       "      <td>399.75</td>\n",
       "      <td>0.00</td>\n",
       "      <td>0.0</td>\n",
       "      <td>399.75</td>\n",
       "      <td>0.0</td>\n",
       "      <td>2</td>\n",
       "      <td>10.50</td>\n",
       "      <td>10.50</td>\n",
       "      <td>1</td>\n",
       "      <td>0.0</td>\n",
       "    </tr>\n",
       "    <tr>\n",
       "      <th rowspan=\"3\" valign=\"top\">#4745</th>\n",
       "      <th>cloie</th>\n",
       "      <th>pending</th>\n",
       "      <td>168</td>\n",
       "      <td>1365.00</td>\n",
       "      <td>90.72</td>\n",
       "      <td>0.0</td>\n",
       "      <td>1455.72</td>\n",
       "      <td>0.0</td>\n",
       "      <td>35</td>\n",
       "      <td>14.00</td>\n",
       "      <td>32.75</td>\n",
       "      <td>7</td>\n",
       "      <td>0.0</td>\n",
       "    </tr>\n",
       "    <tr>\n",
       "      <th>moment</th>\n",
       "      <th>pending</th>\n",
       "      <td>217</td>\n",
       "      <td>1365.00</td>\n",
       "      <td>90.72</td>\n",
       "      <td>0.0</td>\n",
       "      <td>1455.72</td>\n",
       "      <td>0.0</td>\n",
       "      <td>31</td>\n",
       "      <td>24.00</td>\n",
       "      <td>34.50</td>\n",
       "      <td>7</td>\n",
       "      <td>0.0</td>\n",
       "    </tr>\n",
       "    <tr>\n",
       "      <th>ruff-skch</th>\n",
       "      <th>pending</th>\n",
       "      <td>35</td>\n",
       "      <td>195.00</td>\n",
       "      <td>12.96</td>\n",
       "      <td>0.0</td>\n",
       "      <td>207.96</td>\n",
       "      <td>0.0</td>\n",
       "      <td>3</td>\n",
       "      <td>6.00</td>\n",
       "      <td>6.00</td>\n",
       "      <td>1</td>\n",
       "      <td>0.0</td>\n",
       "    </tr>\n",
       "    <tr>\n",
       "      <th rowspan=\"9\" valign=\"top\">#4746</th>\n",
       "      <th>andante</th>\n",
       "      <th>pending</th>\n",
       "      <td>18</td>\n",
       "      <td>100.50</td>\n",
       "      <td>13.64</td>\n",
       "      <td>0.0</td>\n",
       "      <td>114.14</td>\n",
       "      <td>0.0</td>\n",
       "      <td>1</td>\n",
       "      <td>5.00</td>\n",
       "      <td>5.00</td>\n",
       "      <td>1</td>\n",
       "      <td>0.0</td>\n",
       "    </tr>\n",
       "    <tr>\n",
       "      <th>cloie</th>\n",
       "      <th>pending</th>\n",
       "      <td>73</td>\n",
       "      <td>502.50</td>\n",
       "      <td>68.20</td>\n",
       "      <td>0.0</td>\n",
       "      <td>570.70</td>\n",
       "      <td>0.0</td>\n",
       "      <td>6</td>\n",
       "      <td>17.00</td>\n",
       "      <td>17.00</td>\n",
       "      <td>5</td>\n",
       "      <td>0.0</td>\n",
       "    </tr>\n",
       "    <tr>\n",
       "      <th>ella</th>\n",
       "      <th>pending</th>\n",
       "      <td>17</td>\n",
       "      <td>201.00</td>\n",
       "      <td>27.28</td>\n",
       "      <td>0.0</td>\n",
       "      <td>228.28</td>\n",
       "      <td>0.0</td>\n",
       "      <td>2</td>\n",
       "      <td>12.50</td>\n",
       "      <td>12.50</td>\n",
       "      <td>2</td>\n",
       "      <td>0.0</td>\n",
       "    </tr>\n",
       "    <tr>\n",
       "      <th>fresh</th>\n",
       "      <th>pending</th>\n",
       "      <td>8</td>\n",
       "      <td>100.50</td>\n",
       "      <td>13.64</td>\n",
       "      <td>0.0</td>\n",
       "      <td>114.14</td>\n",
       "      <td>0.0</td>\n",
       "      <td>1</td>\n",
       "      <td>5.00</td>\n",
       "      <td>5.00</td>\n",
       "      <td>1</td>\n",
       "      <td>0.0</td>\n",
       "    </tr>\n",
       "    <tr>\n",
       "      <th>impression</th>\n",
       "      <th>pending</th>\n",
       "      <td>2</td>\n",
       "      <td>100.50</td>\n",
       "      <td>13.64</td>\n",
       "      <td>0.0</td>\n",
       "      <td>114.14</td>\n",
       "      <td>0.0</td>\n",
       "      <td>1</td>\n",
       "      <td>10.50</td>\n",
       "      <td>10.50</td>\n",
       "      <td>1</td>\n",
       "      <td>0.0</td>\n",
       "    </tr>\n",
       "    <tr>\n",
       "      <th>it's sense</th>\n",
       "      <th>pending</th>\n",
       "      <td>44</td>\n",
       "      <td>301.50</td>\n",
       "      <td>40.92</td>\n",
       "      <td>0.0</td>\n",
       "      <td>342.42</td>\n",
       "      <td>0.0</td>\n",
       "      <td>4</td>\n",
       "      <td>13.25</td>\n",
       "      <td>13.25</td>\n",
       "      <td>3</td>\n",
       "      <td>0.0</td>\n",
       "    </tr>\n",
       "    <tr>\n",
       "      <th>stylist</th>\n",
       "      <th>pending</th>\n",
       "      <td>4</td>\n",
       "      <td>100.50</td>\n",
       "      <td>13.64</td>\n",
       "      <td>0.0</td>\n",
       "      <td>114.14</td>\n",
       "      <td>0.0</td>\n",
       "      <td>1</td>\n",
       "      <td>5.25</td>\n",
       "      <td>5.25</td>\n",
       "      <td>1</td>\n",
       "      <td>0.0</td>\n",
       "    </tr>\n",
       "    <tr>\n",
       "      <th>us jewelry house</th>\n",
       "      <th>pending</th>\n",
       "      <td>1</td>\n",
       "      <td>201.00</td>\n",
       "      <td>27.28</td>\n",
       "      <td>0.0</td>\n",
       "      <td>228.28</td>\n",
       "      <td>0.0</td>\n",
       "      <td>2</td>\n",
       "      <td>6.75</td>\n",
       "      <td>6.75</td>\n",
       "      <td>2</td>\n",
       "      <td>0.0</td>\n",
       "    </tr>\n",
       "    <tr>\n",
       "      <th>usjewelryhouse</th>\n",
       "      <th>pending</th>\n",
       "      <td>43</td>\n",
       "      <td>502.50</td>\n",
       "      <td>68.20</td>\n",
       "      <td>0.0</td>\n",
       "      <td>570.70</td>\n",
       "      <td>0.0</td>\n",
       "      <td>5</td>\n",
       "      <td>16.50</td>\n",
       "      <td>17.00</td>\n",
       "      <td>5</td>\n",
       "      <td>0.0</td>\n",
       "    </tr>\n",
       "  </tbody>\n",
       "</table>\n",
       "</div>"
      ],
      "text/plain": [
       "                                                    Unnamed: 0  subtotal  \\\n",
       "name  vendor           lineitem_fulfillment_status                         \n",
       "#4744 lamant           pending                              55    399.75   \n",
       "      pink collection  pending                              63    399.75   \n",
       "      ruff-skch        pending                              57    399.75   \n",
       "#4745 cloie            pending                             168   1365.00   \n",
       "      moment           pending                             217   1365.00   \n",
       "      ruff-skch        pending                              35    195.00   \n",
       "#4746 andante          pending                              18    100.50   \n",
       "      cloie            pending                              73    502.50   \n",
       "      ella             pending                              17    201.00   \n",
       "      fresh            pending                               8    100.50   \n",
       "      impression       pending                               2    100.50   \n",
       "      it's sense       pending                              44    301.50   \n",
       "      stylist          pending                               4    100.50   \n",
       "      us jewelry house pending                               1    201.00   \n",
       "      usjewelryhouse   pending                              43    502.50   \n",
       "\n",
       "                                                    shipping  taxes    total  \\\n",
       "name  vendor           lineitem_fulfillment_status                             \n",
       "#4744 lamant           pending                          0.00    0.0   399.75   \n",
       "      pink collection  pending                          0.00    0.0   399.75   \n",
       "      ruff-skch        pending                          0.00    0.0   399.75   \n",
       "#4745 cloie            pending                         90.72    0.0  1455.72   \n",
       "      moment           pending                         90.72    0.0  1455.72   \n",
       "      ruff-skch        pending                         12.96    0.0   207.96   \n",
       "#4746 andante          pending                         13.64    0.0   114.14   \n",
       "      cloie            pending                         68.20    0.0   570.70   \n",
       "      ella             pending                         27.28    0.0   228.28   \n",
       "      fresh            pending                         13.64    0.0   114.14   \n",
       "      impression       pending                         13.64    0.0   114.14   \n",
       "      it's sense       pending                         40.92    0.0   342.42   \n",
       "      stylist          pending                         13.64    0.0   114.14   \n",
       "      us jewelry house pending                         27.28    0.0   228.28   \n",
       "      usjewelryhouse   pending                         68.20    0.0   570.70   \n",
       "\n",
       "                                                    discount_amount  \\\n",
       "name  vendor           lineitem_fulfillment_status                    \n",
       "#4744 lamant           pending                                  0.0   \n",
       "      pink collection  pending                                  0.0   \n",
       "      ruff-skch        pending                                  0.0   \n",
       "#4745 cloie            pending                                  0.0   \n",
       "      moment           pending                                  0.0   \n",
       "      ruff-skch        pending                                  0.0   \n",
       "#4746 andante          pending                                  0.0   \n",
       "      cloie            pending                                  0.0   \n",
       "      ella             pending                                  0.0   \n",
       "      fresh            pending                                  0.0   \n",
       "      impression       pending                                  0.0   \n",
       "      it's sense       pending                                  0.0   \n",
       "      stylist          pending                                  0.0   \n",
       "      us jewelry house pending                                  0.0   \n",
       "      usjewelryhouse   pending                                  0.0   \n",
       "\n",
       "                                                    lineitem_quantity  \\\n",
       "name  vendor           lineitem_fulfillment_status                      \n",
       "#4744 lamant           pending                                      2   \n",
       "      pink collection  pending                                      4   \n",
       "      ruff-skch        pending                                      2   \n",
       "#4745 cloie            pending                                     35   \n",
       "      moment           pending                                     31   \n",
       "      ruff-skch        pending                                      3   \n",
       "#4746 andante          pending                                      1   \n",
       "      cloie            pending                                      6   \n",
       "      ella             pending                                      2   \n",
       "      fresh            pending                                      1   \n",
       "      impression       pending                                      1   \n",
       "      it's sense       pending                                      4   \n",
       "      stylist          pending                                      1   \n",
       "      us jewelry house pending                                      2   \n",
       "      usjewelryhouse   pending                                      5   \n",
       "\n",
       "                                                    lineitem_price  \\\n",
       "name  vendor           lineitem_fulfillment_status                   \n",
       "#4744 lamant           pending                                4.25   \n",
       "      pink collection  pending                                3.25   \n",
       "      ruff-skch        pending                               10.50   \n",
       "#4745 cloie            pending                               14.00   \n",
       "      moment           pending                               24.00   \n",
       "      ruff-skch        pending                                6.00   \n",
       "#4746 andante          pending                                5.00   \n",
       "      cloie            pending                               17.00   \n",
       "      ella             pending                               12.50   \n",
       "      fresh            pending                                5.00   \n",
       "      impression       pending                               10.50   \n",
       "      it's sense       pending                               13.25   \n",
       "      stylist          pending                                5.25   \n",
       "      us jewelry house pending                                6.75   \n",
       "      usjewelryhouse   pending                               16.50   \n",
       "\n",
       "                                                    lineitem_compare_at_price  \\\n",
       "name  vendor           lineitem_fulfillment_status                              \n",
       "#4744 lamant           pending                                           4.25   \n",
       "      pink collection  pending                                           3.25   \n",
       "      ruff-skch        pending                                          10.50   \n",
       "#4745 cloie            pending                                          32.75   \n",
       "      moment           pending                                          34.50   \n",
       "      ruff-skch        pending                                           6.00   \n",
       "#4746 andante          pending                                           5.00   \n",
       "      cloie            pending                                          17.00   \n",
       "      ella             pending                                          12.50   \n",
       "      fresh            pending                                           5.00   \n",
       "      impression       pending                                          10.50   \n",
       "      it's sense       pending                                          13.25   \n",
       "      stylist          pending                                           5.25   \n",
       "      us jewelry house pending                                           6.75   \n",
       "      usjewelryhouse   pending                                          17.00   \n",
       "\n",
       "                                                    cancelled  refunded_amount  \n",
       "name  vendor           lineitem_fulfillment_status                              \n",
       "#4744 lamant           pending                              1              0.0  \n",
       "      pink collection  pending                              1              0.0  \n",
       "      ruff-skch        pending                              1              0.0  \n",
       "#4745 cloie            pending                              7              0.0  \n",
       "      moment           pending                              7              0.0  \n",
       "      ruff-skch        pending                              1              0.0  \n",
       "#4746 andante          pending                              1              0.0  \n",
       "      cloie            pending                              5              0.0  \n",
       "      ella             pending                              2              0.0  \n",
       "      fresh            pending                              1              0.0  \n",
       "      impression       pending                              1              0.0  \n",
       "      it's sense       pending                              3              0.0  \n",
       "      stylist          pending                              1              0.0  \n",
       "      us jewelry house pending                              2              0.0  \n",
       "      usjewelryhouse   pending                              5              0.0  "
      ]
     },
     "execution_count": 937,
     "metadata": {},
     "output_type": "execute_result"
    }
   ],
   "source": [
    "df.groupby(['name','vendor','lineitem_fulfillment_status']).sum().tail(15)"
   ]
  },
  {
   "cell_type": "markdown",
   "metadata": {},
   "source": [
    "## Calculate revenue"
   ]
  },
  {
   "cell_type": "code",
   "execution_count": 938,
   "metadata": {},
   "outputs": [],
   "source": [
    "# fill na Discount amount na meaning it's 0\n",
    "df['discount_amount'].fillna(0, inplace=True)"
   ]
  },
  {
   "cell_type": "code",
   "execution_count": 939,
   "metadata": {},
   "outputs": [],
   "source": [
    "# fill na Refunded Amount na meaning it's 0\n",
    "df['refunded_amount'].fillna(0, inplace=True)"
   ]
  },
  {
   "cell_type": "code",
   "execution_count": 940,
   "metadata": {},
   "outputs": [],
   "source": [
    "df['revenue'] = df[\"subtotal\"] - df[\"discount_amount\"] - df[\"refunded_amount\"]"
   ]
  },
  {
   "cell_type": "code",
   "execution_count": 941,
   "metadata": {},
   "outputs": [],
   "source": [
    "# fill na Subtotal na meaning it's 0\n",
    "df['subtotal'].fillna(0, inplace=True)"
   ]
  },
  {
   "cell_type": "markdown",
   "metadata": {},
   "source": [
    "#### Top vendors - sales"
   ]
  },
  {
   "cell_type": "code",
   "execution_count": 942,
   "metadata": {
    "scrolled": true
   },
   "outputs": [
    {
     "data": {
      "text/plain": [
       "<matplotlib.axes._subplots.AxesSubplot at 0x133502198>"
      ]
     },
     "execution_count": 942,
     "metadata": {},
     "output_type": "execute_result"
    },
    {
     "data": {
      "image/png": "[encoded data removed]",
      "text/plain": [
       "<Figure size 432x288 with 1 Axes>"
      ]
     },
     "metadata": {
      "needs_background": "light"
     },
     "output_type": "display_data"
    }
   ],
   "source": [
    "#plt.figure(figsize=(15,10))\n",
    "df.groupby('vendor').sum()['subtotal'].sort_values(ascending = False).head(15).plot(kind = 'bar')"
   ]
  },
  {
   "cell_type": "code",
   "execution_count": 943,
   "metadata": {
    "scrolled": true
   },
   "outputs": [
    {
     "name": "stderr",
     "output_type": "stream",
     "text": [
      "/anaconda3/lib/python3.6/site-packages/plotly/plotly/plotly.py:230: UserWarning:\n",
      "\n",
      "Woah there! Look at all those points! Due to browser limitations, the Plotly SVG drawing functions have a hard time graphing more than 500k data points for line charts, or 40k points for other types of charts. Here are some suggestions:\n",
      "(1) Use the `plotly.graph_objs.Scattergl` trace object to generate a WebGl graph.\n",
      "(2) Trying using the image API to return an image instead of a graph URL\n",
      "(3) Use matplotlib\n",
      "(4) See if you can create your visualization with fewer data points\n",
      "\n",
      "If the visualization you're using aggregates points (e.g., box plot, histogram, etc.) you can disregard this warning.\n",
      "\n"
     ]
    },
    {
     "name": "stdout",
     "output_type": "stream",
     "text": [
      "The draw time for this plot will be slow for all clients.\n"
     ]
    },
    {
     "name": "stderr",
     "output_type": "stream",
     "text": [
      "/anaconda3/lib/python3.6/site-packages/plotly/api/v1/clientresp.py:40: UserWarning:\n",
      "\n",
      "Estimated Draw Time Too Long\n",
      "\n",
      "/anaconda3/lib/python3.6/site-packages/IPython/core/display.py:689: UserWarning:\n",
      "\n",
      "Consider using IPython.display.IFrame instead\n",
      "\n"
     ]
    },
    {
     "data": {
      "text/html": [
       "<iframe id=\"igraph\" scrolling=\"no\" style=\"border:none;\" seamless=\"seamless\" src=\"https://plot.ly/~ijc120/42.embed\" height=\"525px\" width=\"100%\"></iframe>"
      ],
      "text/plain": [
       "<plotly.tools.PlotlyDisplay object>"
      ]
     },
     "execution_count": 943,
     "metadata": {},
     "output_type": "execute_result"
    }
   ],
   "source": [
    "data = [go.Bar(x= df.vendor,\n",
    "            y=df.subtotal)]\n",
    "\n",
    "py.iplot(data, filename='jupyter-basic_bar')"
   ]
  },
  {
   "cell_type": "markdown",
   "metadata": {},
   "source": [
    "#### Top vedors - Refund "
   ]
  },
  {
   "cell_type": "code",
   "execution_count": 1010,
   "metadata": {},
   "outputs": [],
   "source": [
    "df['weighted_refunded']=df['refunded_amount']/df['lineitem_quantity']"
   ]
  },
  {
   "cell_type": "code",
   "execution_count": 1012,
   "metadata": {},
   "outputs": [
    {
     "data": {
      "text/plain": [
       "vendor\n",
       "usjewelryhouse      55317.89\n",
       "romance             13414.99\n",
       "cloie                7114.17\n",
       "andante              5490.96\n",
       "crystal avenue       5323.88\n",
       "fresh                5018.22\n",
       "ruff-skch            5010.83\n",
       "dorothy              5010.23\n",
       "it's sense           4610.30\n",
       "jennifer             4372.08\n",
       "pomina               3281.99\n",
       "core                 2955.85\n",
       "us jewelry house     2598.79\n",
       "vera                 2448.73\n",
       "barring              2417.71\n",
       "Name: refunded_amount, dtype: float64"
      ]
     },
     "execution_count": 1012,
     "metadata": {},
     "output_type": "execute_result"
    }
   ],
   "source": [
    "df.groupby('vendor').sum()['refunded_amount'].sort_values(ascending = False).head(15)"
   ]
  },
  {
   "cell_type": "markdown",
   "metadata": {},
   "source": [
    "#### Top vedors - Revenue"
   ]
  },
  {
   "cell_type": "code",
   "execution_count": 1008,
   "metadata": {},
   "outputs": [],
   "source": [
    "df['weighted_revenue']=df['revenue']/df['lineitem_quantity']"
   ]
  },
  {
   "cell_type": "code",
   "execution_count": 1009,
   "metadata": {},
   "outputs": [
    {
     "data": {
      "text/plain": [
       "<matplotlib.axes._subplots.AxesSubplot at 0x181e577b8>"
      ]
     },
     "execution_count": 1009,
     "metadata": {},
     "output_type": "execute_result"
    },
    {
     "data": {
      "image/png": "[encoded data removed]",
      "text/plain": [
       "<Figure size 432x288 with 1 Axes>"
      ]
     },
     "metadata": {
      "needs_background": "light"
     },
     "output_type": "display_data"
    }
   ],
   "source": [
    "df.groupby('vendor').sum()['weighted_revenue'].sort_values(ascending = False).head(15).plot(kind = 'bar')"
   ]
  },
  {
   "cell_type": "code",
   "execution_count": 946,
   "metadata": {},
   "outputs": [],
   "source": [
    "df['created_at'] = pd.to_datetime(df['created_at'])"
   ]
  },
  {
   "cell_type": "code",
   "execution_count": 947,
   "metadata": {},
   "outputs": [],
   "source": [
    "df['month'] = df['created_at'].dt.month"
   ]
  },
  {
   "cell_type": "code",
   "execution_count": 948,
   "metadata": {},
   "outputs": [],
   "source": [
    "df['year'] = df['created_at'].dt.year"
   ]
  },
  {
   "cell_type": "code",
   "execution_count": 949,
   "metadata": {},
   "outputs": [],
   "source": [
    "df['day'] = df['created_at'].dt.day"
   ]
  },
  {
   "cell_type": "code",
   "execution_count": 950,
   "metadata": {},
   "outputs": [],
   "source": [
    "df['time'] = pd.to_datetime(df['created_at'], format='%m/%d/%y %H:%M').dt.hour"
   ]
  },
  {
   "cell_type": "code",
   "execution_count": 951,
   "metadata": {},
   "outputs": [],
   "source": [
    "df['day_of_week'] = df['created_at'].dt.weekday_name"
   ]
  },
  {
   "cell_type": "markdown",
   "metadata": {},
   "source": [
    "### Top sales by day of week"
   ]
  },
  {
   "cell_type": "code",
   "execution_count": 952,
   "metadata": {},
   "outputs": [],
   "source": [
    "daydf=df.groupby('day_of_week', as_index= False).sum().sort_values(by = 'subtotal', ascending = False)"
   ]
  },
  {
   "cell_type": "code",
   "execution_count": 953,
   "metadata": {},
   "outputs": [
    {
     "data": {
      "text/plain": [
       "<matplotlib.axes._subplots.AxesSubplot at 0x13465bd30>"
      ]
     },
     "execution_count": 953,
     "metadata": {},
     "output_type": "execute_result"
    },
    {
     "data": {
      "image/png": "[encoded data removed]",
      "text/plain": [
       "<Figure size 1800x720 with 1 Axes>"
      ]
     },
     "metadata": {
      "needs_background": "light"
     },
     "output_type": "display_data"
    }
   ],
   "source": [
    "plt.figure(figsize=(25,10))\n",
    "sns.barplot(x = 'day_of_week', y = 'subtotal', data = daydf)"
   ]
  },
  {
   "cell_type": "markdown",
   "metadata": {},
   "source": [
    "### Top sales by day of week and year"
   ]
  },
  {
   "cell_type": "code",
   "execution_count": 954,
   "metadata": {},
   "outputs": [
    {
     "data": {
      "text/plain": [
       "<matplotlib.axes._subplots.AxesSubplot at 0x17da20ac8>"
      ]
     },
     "execution_count": 954,
     "metadata": {},
     "output_type": "execute_result"
    },
    {
     "data": {
      "image/png": "[encoded data removed]",
      "text/plain": [
       "<Figure size 1080x720 with 1 Axes>"
      ]
     },
     "metadata": {
      "needs_background": "light"
     },
     "output_type": "display_data"
    }
   ],
   "source": [
    "plt.figure(figsize=(15,10))\n",
    "sns.barplot(x=\"day_of_week\", y=\"subtotal\", hue=\"year\",ci=None,data=df)"
   ]
  },
  {
   "cell_type": "markdown",
   "metadata": {},
   "source": [
    "### Top revenue by day of week"
   ]
  },
  {
   "cell_type": "code",
   "execution_count": 955,
   "metadata": {},
   "outputs": [],
   "source": [
    "day_of_weekdf=df.groupby('day_of_week', as_index= False).sum().sort_values(by = 'revenue', ascending = False)"
   ]
  },
  {
   "cell_type": "code",
   "execution_count": 956,
   "metadata": {},
   "outputs": [
    {
     "data": {
      "text/plain": [
       "<matplotlib.axes._subplots.AxesSubplot at 0x1346b5390>"
      ]
     },
     "execution_count": 956,
     "metadata": {},
     "output_type": "execute_result"
    },
    {
     "data": {
      "image/png": "[encoded data removed]",
      "text/plain": [
       "<Figure size 1080x720 with 1 Axes>"
      ]
     },
     "metadata": {
      "needs_background": "light"
     },
     "output_type": "display_data"
    }
   ],
   "source": [
    "plt.figure(figsize=(15,10))\n",
    "sns.barplot(x=\"day_of_week\", y=\"revenue\",ci=None,data=day_of_weekdf)"
   ]
  },
  {
   "cell_type": "markdown",
   "metadata": {},
   "source": [
    "#### Hours that converts sales"
   ]
  },
  {
   "cell_type": "code",
   "execution_count": 1020,
   "metadata": {},
   "outputs": [
    {
     "data": {
      "text/plain": [
       "<matplotlib.axes._subplots.AxesSubplot at 0x16ecfda58>"
      ]
     },
     "execution_count": 1020,
     "metadata": {},
     "output_type": "execute_result"
    },
    {
     "data": {
      "image/png": "[encoded data removed]",
      "text/plain": [
       "<Figure size 432x288 with 1 Axes>"
      ]
     },
     "metadata": {
      "needs_background": "light"
     },
     "output_type": "display_data"
    }
   ],
   "source": [
    "df.groupby('time')['revenue'].sum().plot(kind='bar')"
   ]
  },
  {
   "cell_type": "markdown",
   "metadata": {},
   "source": [
    "#### Monthly sales from 2015 to 2018"
   ]
  },
  {
   "cell_type": "code",
   "execution_count": 1023,
   "metadata": {},
   "outputs": [
    {
     "data": {
      "text/plain": [
       "<matplotlib.axes._subplots.AxesSubplot at 0x17021fac8>"
      ]
     },
     "execution_count": 1023,
     "metadata": {},
     "output_type": "execute_result"
    },
    {
     "data": {
      "image/png": "[encoded data removed]",
      "text/plain": [
       "<Figure size 432x288 with 1 Axes>"
      ]
     },
     "metadata": {
      "needs_background": "light"
     },
     "output_type": "display_data"
    }
   ],
   "source": [
    "df.groupby('year')['revenue'].sum().plot()"
   ]
  },
  {
   "cell_type": "code",
   "execution_count": 1024,
   "metadata": {},
   "outputs": [
    {
     "data": {
      "text/plain": [
       "<matplotlib.axes._subplots.AxesSubplot at 0x170240e48>"
      ]
     },
     "execution_count": 1024,
     "metadata": {},
     "output_type": "execute_result"
    },
    {
     "data": {
      "image/png": "[encoded data removed]",
      "text/plain": [
       "<Figure size 1080x720 with 1 Axes>"
      ]
     },
     "metadata": {
      "needs_background": "light"
     },
     "output_type": "display_data"
    }
   ],
   "source": [
    "plt.figure(figsize=(15,10))\n",
    "sns.barplot(x=\"month\", y=\"revenue\", hue=\"year\",ci=None,data=df)"
   ]
  },
  {
   "cell_type": "markdown",
   "metadata": {},
   "source": [
    "#### Monthly refund from 2015 to 2018"
   ]
  },
  {
   "cell_type": "code",
   "execution_count": 960,
   "metadata": {},
   "outputs": [
    {
     "data": {
      "text/plain": [
       "<matplotlib.axes._subplots.AxesSubplot at 0x134760198>"
      ]
     },
     "execution_count": 960,
     "metadata": {},
     "output_type": "execute_result"
    },
    {
     "data": {
      "image/png": "[encoded data removed]",
      "text/plain": [
       "<Figure size 432x288 with 1 Axes>"
      ]
     },
     "metadata": {
      "needs_background": "light"
     },
     "output_type": "display_data"
    }
   ],
   "source": [
    "df.groupby('month')['refunded_amount'].sum().plot()"
   ]
  },
  {
   "cell_type": "code",
   "execution_count": 961,
   "metadata": {},
   "outputs": [
    {
     "data": {
      "text/plain": [
       "<matplotlib.axes._subplots.AxesSubplot at 0x13476cef0>"
      ]
     },
     "execution_count": 961,
     "metadata": {},
     "output_type": "execute_result"
    },
    {
     "data": {
      "image/png": "[encoded data removed]",
      "text/plain": [
       "<Figure size 1080x720 with 1 Axes>"
      ]
     },
     "metadata": {
      "needs_background": "light"
     },
     "output_type": "display_data"
    }
   ],
   "source": [
    "plt.figure(figsize=(15,10))\n",
    "sns.barplot(x=\"month\", y=\"refunded_amount\",hue=\"year\",ci=None,data=df)"
   ]
  },
  {
   "cell_type": "markdown",
   "metadata": {},
   "source": [
    "### Monthly revenue break down by year"
   ]
  },
  {
   "cell_type": "code",
   "execution_count": 962,
   "metadata": {},
   "outputs": [
    {
     "data": {
      "text/plain": [
       "<matplotlib.axes._subplots.AxesSubplot at 0x134792eb8>"
      ]
     },
     "execution_count": 962,
     "metadata": {},
     "output_type": "execute_result"
    },
    {
     "data": {
      "image/png": "[encoded data removed]",
      "text/plain": [
       "<Figure size 1080x720 with 1 Axes>"
      ]
     },
     "metadata": {
      "needs_background": "light"
     },
     "output_type": "display_data"
    }
   ],
   "source": [
    "plt.figure(figsize=(15,10))\n",
    "sns.barplot(x=\"month\", y=\"revenue\",hue=\"year\",ci=None,data=df)"
   ]
  },
  {
   "cell_type": "markdown",
   "metadata": {},
   "source": [
    "### Monthly revenue from 2015 to 2018"
   ]
  },
  {
   "cell_type": "code",
   "execution_count": 1016,
   "metadata": {
    "scrolled": true
   },
   "outputs": [
    {
     "data": {
      "text/plain": [
       "<matplotlib.axes._subplots.AxesSubplot at 0x1702ef630>"
      ]
     },
     "execution_count": 1016,
     "metadata": {},
     "output_type": "execute_result"
    },
    {
     "data": {
      "image/png": "[encoded data removed]",
      "text/plain": [
       "<Figure size 2520x1080 with 1 Axes>"
      ]
     },
     "metadata": {
      "needs_background": "light"
     },
     "output_type": "display_data"
    }
   ],
   "source": [
    "plt.figure(figsize=(35,15))\n",
    "sns.lineplot(x=\"month\", y=\"revenue\", hue=\"year\",ci=None,data=df)"
   ]
  },
  {
   "cell_type": "markdown",
   "metadata": {},
   "source": [
    "#### Revenu breakdown by time and year"
   ]
  },
  {
   "cell_type": "code",
   "execution_count": 1021,
   "metadata": {},
   "outputs": [
    {
     "data": {
      "text/plain": [
       "<matplotlib.axes._subplots.AxesSubplot at 0x1702ebeb8>"
      ]
     },
     "execution_count": 1021,
     "metadata": {},
     "output_type": "execute_result"
    },
    {
     "data": {
      "image/png": "[encoded data removed]",
      "text/plain": [
       "<Figure size 1080x720 with 1 Axes>"
      ]
     },
     "metadata": {
      "needs_background": "light"
     },
     "output_type": "display_data"
    }
   ],
   "source": [
    "plt.figure(figsize=(15,10))\n",
    "sns.barplot(x=\"time\", y=\"revenue\", hue=\"year\",ci=None,data=df)"
   ]
  },
  {
   "cell_type": "code",
   "execution_count": 965,
   "metadata": {},
   "outputs": [
    {
     "data": {
      "text/plain": [
       "<matplotlib.axes._subplots.AxesSubplot at 0x162376780>"
      ]
     },
     "execution_count": 965,
     "metadata": {},
     "output_type": "execute_result"
    },
    {
     "data": {
      "image/png": "[encoded data removed]",
      "text/plain": [
       "<Figure size 1080x720 with 1 Axes>"
      ]
     },
     "metadata": {
      "needs_background": "light"
     },
     "output_type": "display_data"
    }
   ],
   "source": [
    "plt.figure(figsize=(15,10))\n",
    "sns.barplot(x=\"time\", y=\"revenue\", hue=\"month\",ci=None,data=df)"
   ]
  },
  {
   "cell_type": "markdown",
   "metadata": {},
   "source": [
    "### Top line items"
   ]
  },
  {
   "cell_type": "code",
   "execution_count": 966,
   "metadata": {},
   "outputs": [
    {
     "data": {
      "text/plain": [
       "urban geometric metal hoop earrings - gold               240\n",
       "lightweight urban brass earrings - gold                  174\n",
       "urban geometric metal hoop earrings - silver             164\n",
       "lightweight urban brass earrings - silver                140\n",
       "geometric metal hoop earrings - gold                     121\n",
       "unisex leather bracelet                                  119\n",
       "lightweight filigree earrings - gold                      98\n",
       "urban geometric metal hoop earrings - rose gold           97\n",
       "bohemian magnetic bracelet                                84\n",
       "stering silver cubic zirconia studs earrings - silver     84\n",
       "multi charm bohemian choker - black                       82\n",
       "filigree earrings - gold                                  79\n",
       "lightweight filigree earrings - rhodium                   78\n",
       "lace choker                                               76\n",
       "stering silver cubic zirconia studs earrings - gold       71\n",
       "Name: lineitem_name, dtype: int64"
      ]
     },
     "execution_count": 966,
     "metadata": {},
     "output_type": "execute_result"
    }
   ],
   "source": [
    "df['lineitem_name'].value_counts().sort_values(ascending = False).head(15)"
   ]
  },
  {
   "cell_type": "markdown",
   "metadata": {},
   "source": [
    "### Top Sale States"
   ]
  },
  {
   "cell_type": "code",
   "execution_count": 967,
   "metadata": {},
   "outputs": [],
   "source": [
    "geodf=df.groupby('shipping_province', as_index= False).sum().sort_values(by = 'subtotal', ascending = False).head(10)"
   ]
  },
  {
   "cell_type": "code",
   "execution_count": null,
   "metadata": {
    "scrolled": true
   },
   "outputs": [],
   "source": [
    "plt.figure(figsize=(25,15))\n",
    "sns.barplot(x = 'shipping_province', y = 'subtotal', data = geodf)"
   ]
  },
  {
   "cell_type": "markdown",
   "metadata": {},
   "source": [
    "## Top 20 vendors that generates the most revenue"
   ]
  },
  {
   "cell_type": "code",
   "execution_count": 969,
   "metadata": {},
   "outputs": [
    {
     "data": {
      "text/plain": [
       "vendor\n",
       "usjewelryhouse      11864553.83\n",
       "cloie                3169052.72\n",
       "romance              1851433.06\n",
       "it's sense           1793498.51\n",
       "dorothy              1657229.55\n",
       "fresh                1482863.69\n",
       "pomina               1167658.38\n",
       "andante              1146551.93\n",
       "crystal avenue       1144328.64\n",
       "ruff-skch            1100171.05\n",
       "core                  987701.02\n",
       "us jewelry house      980768.42\n",
       "moment                963104.57\n",
       "jennifer              687874.39\n",
       "stylist               636266.34\n",
       "vera                  394397.24\n",
       "tres jolie            374149.94\n",
       "hush                  338023.89\n",
       "premier               319453.10\n",
       "fashion jewelry       311386.38\n",
       "Name: revenue, dtype: float64"
      ]
     },
     "execution_count": 969,
     "metadata": {},
     "output_type": "execute_result"
    }
   ],
   "source": [
    "df.groupby(['vendor'])['revenue'].agg(sum).sort_values(ascending = False).head(20)"
   ]
  },
  {
   "cell_type": "markdown",
   "metadata": {},
   "source": [
    "### Most expensive line item"
   ]
  },
  {
   "cell_type": "code",
   "execution_count": null,
   "metadata": {},
   "outputs": [],
   "source": [
    "df.groupby('lineitem_name')['subtotal'].sort_values(ascending = False).head(20)"
   ]
  },
  {
   "cell_type": "code",
   "execution_count": 971,
   "metadata": {},
   "outputs": [
    {
     "data": {
      "text/plain": [
       "<matplotlib.axes._subplots.AxesSubplot at 0x1736e8da0>"
      ]
     },
     "execution_count": 971,
     "metadata": {},
     "output_type": "execute_result"
    },
    {
     "data": {
      "image/png": "[encoded data removed]",
      "text/plain": [
       "<Figure size 432x288 with 1 Axes>"
      ]
     },
     "metadata": {
      "needs_background": "light"
     },
     "output_type": "display_data"
    }
   ],
   "source": [
    "df.groupby('lineitem_name')['revenue'].sum().sort_values(ascending = False).head(10).plot(kind='bar')"
   ]
  },
  {
   "cell_type": "code",
   "execution_count": 972,
   "metadata": {},
   "outputs": [
    {
     "data": {
      "text/plain": [
       "earring        34861\n",
       "necklace       30837\n",
       "bracelet       10226\n",
       "apparel         3574\n",
       "ring            1839\n",
       "accessories     1439\n",
       "other            733\n",
       "Name: category, dtype: int64"
      ]
     },
     "execution_count": 972,
     "metadata": {},
     "output_type": "execute_result"
    }
   ],
   "source": [
    "df.category.value_counts()"
   ]
  },
  {
   "cell_type": "code",
   "execution_count": 973,
   "metadata": {},
   "outputs": [
    {
     "data": {
      "text/plain": [
       "Text(0.5, 1.0, 'Most popular categories')"
      ]
     },
     "execution_count": 973,
     "metadata": {},
     "output_type": "execute_result"
    },
    {
     "data": {
      "image/png": "[encoded data removed]",
      "text/plain": [
       "<Figure size 1080x720 with 1 Axes>"
      ]
     },
     "metadata": {
      "needs_background": "light"
     },
     "output_type": "display_data"
    }
   ],
   "source": [
    "plt.figure(figsize=(15,10))\n",
    "df.category.value_counts().plot(kind = 'bar')\n",
    "plt.title('Most popular categories')"
   ]
  },
  {
   "cell_type": "code",
   "execution_count": 974,
   "metadata": {},
   "outputs": [],
   "source": [
    "color = ['aqua', 'beige', 'beige-mint', 'beige/black', 'beige/grey', 'beige/pink', 'berry', 'bk-brwon', 'bk-grey', 'bk-ivory',\n",
    "             'bk-l.brown', 'bk-multi', 'black', 'black-5', 'black-brown', 'black-ivory', 'black-jet', 'black-matte', 'black-pearl',\n",
    "             'black-red', 'black-silver', 'black-white', 'black/gold', 'black/grey', 'black/silver', 'black/white', 'blue', 'blue-7',\n",
    "             'blue-ivory', 'blue-topaz', 'blue/yellow', 'brown', 'camouflage', 'champagne', 'cobalt', 'coral', 'coral-pink', 'cream',\n",
    "             'crystal-gold', 'dark', 'floral', 'fuchsia', 'fuschia', 'gd-blue', 'gd-pink', 'gd-turquoise', 'gold', 'gold-6', 'gold-7',\n",
    "             'gold-8', 'gold-aqua', 'gold-black', 'gold-blue', 'gold-brown', 'gold-gold', 'gold-gray', 'gold-peach', 'gold-pink',\n",
    "             'gold-silver', 'gold-two', 'gold-worn', 'gold/black', 'gold/clear', 'gold/silver', 'gold/worn', 'gray', 'green', 'green-topaz',\n",
    "             'grey', 'grey-2', 'grey/black', 'grey/mint', 'h-pink', 'herringbone', 'holographic', 'ivory', 'ivory-3', 'ivory-beige',\n",
    "             'ivory-multi', 'ivory/beige', 'ivory/brown', 'ivory/brown-6', 'ivory/grey', 'khaki', 'l-pink', 'lavender', 'lavender/blue',\n",
    "             'marble', 'metallic', 'mint', 'mint/opal', 'mint/pink', 'multi', 'multi-gold', 'mustard', 'navy', 'navy-red', 'neon', 'nude',\n",
    "             'olive', 'olive/brown', 'orange', 'orange/pink', 'pastel', 'peach', 'peach-1', 'peach-grey', 'peach/blue', 'pink', 'pink-3',\n",
    "             'pink-4', 'pink-beige', 'pink/brown', 'pink/burgundy', 'pink/coral', 'pink/mint', 'pink/opal', 'polka', 'purple', 'purple-blue',\n",
    "             'rainbow', 'red', 'red-pink', 'rose', 'rosey', 'sandy', 'silver', 'silver-6', 'silver-7', 'silver-8', 'silver-brown',\n",
    "             'silver-clear', 'silver-gold', 'silver-gray', 'silver-jet', 'silver-rustic', 'silver-turquoise', 'silver-worn',\n",
    "             'sterling\\xa0silver', 'teal', 'teal/brown', 'tone-brown', 'tortoise-1', 'turquoise', 'turquoise-blue', 'turquoise-pink',\n",
    "             'turquoise/blue', 'turquoise/brown', 'turquoise/coral', 'two-tone', 'violet', 'watercolor', 'white', 'white-brown',\n",
    "             'white-grey', 'white/brown', 'yellow', 'yellow/green']\n",
    "\n",
    "def word_finder(str, words):\n",
    "    return ([w for w in str if w in words])\n",
    "\n",
    "df['color'] = df['lineitem_name'].apply(lambda x: x.lower().split()).apply(lambda x: word_finder(x, color))\n",
    "\n",
    "new_color_columns = ['color1', 'color2', 'color3', 'color4']\n",
    "color_df = pd.DataFrame(df['color'].values.tolist(), columns=new_color_columns)\n",
    "    "
   ]
  },
  {
   "cell_type": "code",
   "execution_count": 975,
   "metadata": {},
   "outputs": [],
   "source": [
    "df = pd.concat([df, color_df], axis=1, copy=False)\n",
    "\n",
    "df.drop('color', axis=1, inplace=True)\n"
   ]
  },
  {
   "cell_type": "code",
   "execution_count": 976,
   "metadata": {},
   "outputs": [],
   "source": [
    "for color_col in new_color_columns:\n",
    "    df[color_col].fillna('None', inplace=True)\n",
    "    df[color_col].replace('gray', 'grey', inplace=True)\n",
    "    df[color_col].replace('grey/black', 'black/grey', inplace=True)\n",
    "    df[color_col].replace('bk-grey', 'black/grey', inplace=True)\n",
    "    df[color_col].replace('fuschia', 'fuchsia', inplace=True)"
   ]
  },
  {
   "cell_type": "code",
   "execution_count": 977,
   "metadata": {},
   "outputs": [
    {
     "data": {
      "text/plain": [
       "None         29740\n",
       "gold         11761\n",
       "multi         7696\n",
       "silver        7370\n",
       "black         4280\n",
       "blue          2523\n",
       "grey          2441\n",
       "rose          2373\n",
       "turquoise     1895\n",
       "ivory         1801\n",
       "pink          1789\n",
       "brown         1517\n",
       "white         1497\n",
       "mint          1073\n",
       "peach          884\n",
       "red            717\n",
       "beige          675\n",
       "navy           588\n",
       "green          584\n",
       "marble         478\n",
       "Name: color1, dtype: int64"
      ]
     },
     "execution_count": 977,
     "metadata": {},
     "output_type": "execute_result"
    }
   ],
   "source": [
    "df.color1.value_counts().sort_values(ascending = False).head(20)"
   ]
  },
  {
   "cell_type": "code",
   "execution_count": 978,
   "metadata": {},
   "outputs": [
    {
     "data": {
      "text/plain": [
       "color1\n",
       "None         12800179.74\n",
       "gold          5116456.59\n",
       "silver        3439337.29\n",
       "multi         3280720.41\n",
       "black         1935211.87\n",
       "grey          1118823.03\n",
       "blue          1056440.83\n",
       "rose          1047861.95\n",
       "turquoise      874805.72\n",
       "pink           853830.02\n",
       "ivory          786496.34\n",
       "brown          740280.63\n",
       "white          684163.12\n",
       "mint           491322.43\n",
       "peach          397880.31\n",
       "Name: subtotal, dtype: float64"
      ]
     },
     "execution_count": 978,
     "metadata": {},
     "output_type": "execute_result"
    }
   ],
   "source": [
    "colordf = df.groupby('color1').sum()['subtotal'].sort_values(ascending = False).head(15)\n",
    "colordf"
   ]
  },
  {
   "cell_type": "code",
   "execution_count": 1025,
   "metadata": {},
   "outputs": [
    {
     "ename": "AttributeError",
     "evalue": "Cannot access callable attribute 'sort_values' of 'SeriesGroupBy' objects, try using the 'apply' method",
     "output_type": "error",
     "traceback": [
      "\u001b[0;31m---------------------------------------------------------------------------\u001b[0m",
      "\u001b[0;31mAttributeError\u001b[0m                            Traceback (most recent call last)",
      "\u001b[0;32m<ipython-input-1025-d21a96d26097>\u001b[0m in \u001b[0;36m<module>\u001b[0;34m\u001b[0m\n\u001b[0;32m----> 1\u001b[0;31m \u001b[0mdf\u001b[0m\u001b[0;34m.\u001b[0m\u001b[0mgroupby\u001b[0m\u001b[0;34m(\u001b[0m\u001b[0;34m'color1'\u001b[0m\u001b[0;34m)\u001b[0m\u001b[0;34m[\u001b[0m\u001b[0;34m'revenue'\u001b[0m\u001b[0;34m]\u001b[0m\u001b[0;34m.\u001b[0m\u001b[0msort_values\u001b[0m\u001b[0;34m(\u001b[0m\u001b[0mascending\u001b[0m \u001b[0;34m=\u001b[0m \u001b[0;32mFalse\u001b[0m\u001b[0;34m)\u001b[0m\u001b[0;34m.\u001b[0m\u001b[0mhead\u001b[0m\u001b[0;34m(\u001b[0m\u001b[0;36m15\u001b[0m\u001b[0;34m)\u001b[0m\u001b[0;34m.\u001b[0m\u001b[0mplot\u001b[0m\u001b[0;34m(\u001b[0m\u001b[0mkind\u001b[0m \u001b[0;34m=\u001b[0m \u001b[0;34m'bar'\u001b[0m\u001b[0;34m)\u001b[0m\u001b[0;34m\u001b[0m\u001b[0m\n\u001b[0m",
      "\u001b[0;32m/anaconda3/lib/python3.6/site-packages/pandas/core/groupby/groupby.py\u001b[0m in \u001b[0;36m__getattr__\u001b[0;34m(self, attr)\u001b[0m\n\u001b[1;32m    760\u001b[0m             \u001b[0;32mreturn\u001b[0m \u001b[0mself\u001b[0m\u001b[0;34m[\u001b[0m\u001b[0mattr\u001b[0m\u001b[0;34m]\u001b[0m\u001b[0;34m\u001b[0m\u001b[0m\n\u001b[1;32m    761\u001b[0m         \u001b[0;32mif\u001b[0m \u001b[0mhasattr\u001b[0m\u001b[0;34m(\u001b[0m\u001b[0mself\u001b[0m\u001b[0;34m.\u001b[0m\u001b[0mobj\u001b[0m\u001b[0;34m,\u001b[0m \u001b[0mattr\u001b[0m\u001b[0;34m)\u001b[0m\u001b[0;34m:\u001b[0m\u001b[0;34m\u001b[0m\u001b[0m\n\u001b[0;32m--> 762\u001b[0;31m             \u001b[0;32mreturn\u001b[0m \u001b[0mself\u001b[0m\u001b[0;34m.\u001b[0m\u001b[0m_make_wrapper\u001b[0m\u001b[0;34m(\u001b[0m\u001b[0mattr\u001b[0m\u001b[0;34m)\u001b[0m\u001b[0;34m\u001b[0m\u001b[0m\n\u001b[0m\u001b[1;32m    763\u001b[0m \u001b[0;34m\u001b[0m\u001b[0m\n\u001b[1;32m    764\u001b[0m         raise AttributeError(\"%r object has no attribute %r\" %\n",
      "\u001b[0;32m/anaconda3/lib/python3.6/site-packages/pandas/core/groupby/groupby.py\u001b[0m in \u001b[0;36m_make_wrapper\u001b[0;34m(self, name)\u001b[0m\n\u001b[1;32m    797\u001b[0m                    \"using the 'apply' method\".format(kind, name,\n\u001b[1;32m    798\u001b[0m                                                      type(self).__name__))\n\u001b[0;32m--> 799\u001b[0;31m             \u001b[0;32mraise\u001b[0m \u001b[0mAttributeError\u001b[0m\u001b[0;34m(\u001b[0m\u001b[0mmsg\u001b[0m\u001b[0;34m)\u001b[0m\u001b[0;34m\u001b[0m\u001b[0m\n\u001b[0m\u001b[1;32m    800\u001b[0m \u001b[0;34m\u001b[0m\u001b[0m\n\u001b[1;32m    801\u001b[0m         \u001b[0mself\u001b[0m\u001b[0;34m.\u001b[0m\u001b[0m_set_group_selection\u001b[0m\u001b[0;34m(\u001b[0m\u001b[0;34m)\u001b[0m\u001b[0;34m\u001b[0m\u001b[0m\n",
      "\u001b[0;31mAttributeError\u001b[0m: Cannot access callable attribute 'sort_values' of 'SeriesGroupBy' objects, try using the 'apply' method"
     ]
    }
   ],
   "source": [
    "df.groupby('color1')['revenue'].sort_values(ascending = False).head(15).plot(kind = 'bar')"
   ]
  },
  {
   "cell_type": "code",
   "execution_count": null,
   "metadata": {},
   "outputs": [],
   "source": [
    "plt.figure(figsize=(15,10))\n",
    "colordf[1:].plot(kind = 'bar')\n",
    "plt.title('Most popular colors')"
   ]
  },
  {
   "cell_type": "code",
   "execution_count": 981,
   "metadata": {},
   "outputs": [
    {
     "data": {
      "text/plain": [
       "Index(['Unnamed: 0', 'name', 'financial_status', 'paid_at',\n",
       "       'fulfillment_status', 'accepts_marketing', 'currency', 'subtotal',\n",
       "       'shipping', 'taxes', 'total', 'discount_code', 'discount_amount',\n",
       "       'shipping_method', 'created_at', 'lineitem_quantity', 'lineitem_name',\n",
       "       'lineitem_price', 'lineitem_compare_at_price', 'lineitem_sku',\n",
       "       'lineitem_fulfillment_status', 'shipping_street', 'shipping_address1',\n",
       "       'shipping_company', 'shipping_city', 'shipping_zip',\n",
       "       'shipping_province', 'shipping_country', 'notes', 'cancelled',\n",
       "       'payment_method', 'refunded_amount', 'vendor', 'risk_level', 'source',\n",
       "       'category', 'revenue', 'month', 'year', 'day', 'time', 'day_of_week',\n",
       "       'color1', 'color2', 'color3', 'color4'],\n",
       "      dtype='object')"
      ]
     },
     "execution_count": 981,
     "metadata": {},
     "output_type": "execute_result"
    }
   ],
   "source": [
    "headers = df.dtypes.index\n",
    "headers"
   ]
  },
  {
   "cell_type": "code",
   "execution_count": 982,
   "metadata": {},
   "outputs": [],
   "source": [
    "material = ['Onyx', 'Crystal', 'Rhinestone', 'Zirconia', 'Acetate', 'Precious', 'Glass', 'Stone', 'Diamond', 'Lucite', 'Metal', 'Acrylic',\n",
    "                'Straw', 'Rhodium', 'Filigree', 'Pearl', 'Topaz', 'Leather', 'Fabric', 'Wooden', 'Mirror', 'Aluminium', 'Bamboo',\n",
    "                'Embroidery', 'Wood', 'Semi-Precious', 'Stones', 'Fur', 'Snake', 'Reptile', 'Studded', 'Cotton', 'Suede', 'Garnet',\n",
    "                'Geode', 'Woven', 'Amethyst', 'Abalone', 'Sapphire', 'Pebble', 'zirconia', 'Gem', 'Rhineston', 'Silk', 'Amber',\n",
    "                'Emerald', 'Zircon', 'Aquamarine', 'Linen', 'Ruby', 'Viscose', 'Gold-Rhodium', 'Rhodium/Clear', 'Plastic', 'Steel',\n",
    "                'Rhodium-Gold', 'Gemstones', 'Velvet', 'Rhodium-Pearl', 'Silicone', 'Rhodium-Sapphire',\n",
    "                'Hematite-Silver', 'Hematite-Gold', 'Rhodium-Multi', 'Amethyst-Aurore', 'Crystal-Rhodium', 'Gold-Hematite-Brown',\n",
    "                'Wooden-Fabric']"
   ]
  },
  {
   "cell_type": "code",
   "execution_count": 983,
   "metadata": {},
   "outputs": [],
   "source": [
    "df['material'] = df['lineitem_name'].str.extract('({})'.format('|'.join(material)), flags=re.IGNORECASE, expand=False).str.lower().fillna('')\n",
    "\n"
   ]
  },
  {
   "cell_type": "code",
   "execution_count": 984,
   "metadata": {},
   "outputs": [],
   "source": [
    "df['material'].replace('', 'none', inplace=True)"
   ]
  },
  {
   "cell_type": "code",
   "execution_count": 985,
   "metadata": {},
   "outputs": [],
   "source": [
    "material_df = df['material'].value_counts().head(15)"
   ]
  },
  {
   "cell_type": "code",
   "execution_count": 986,
   "metadata": {},
   "outputs": [
    {
     "data": {
      "text/plain": [
       "Text(0.5, 1.0, 'Most popular materials')"
      ]
     },
     "execution_count": 986,
     "metadata": {},
     "output_type": "execute_result"
    },
    {
     "data": {
      "image/png": "[encoded data removed]",
      "text/plain": [
       "<Figure size 1080x720 with 1 Axes>"
      ]
     },
     "metadata": {
      "needs_background": "light"
     },
     "output_type": "display_data"
    }
   ],
   "source": [
    "plt.figure(figsize=(15,10))\n",
    "material_df[1:].plot(kind = 'bar')\n",
    "plt.title('Most popular materials')"
   ]
  },
  {
   "cell_type": "code",
   "execution_count": 987,
   "metadata": {},
   "outputs": [
    {
     "data": {
      "text/html": [
       "<div>\n",
       "<style scoped>\n",
       "    .dataframe tbody tr th:only-of-type {\n",
       "        vertical-align: middle;\n",
       "    }\n",
       "\n",
       "    .dataframe tbody tr th {\n",
       "        vertical-align: top;\n",
       "    }\n",
       "\n",
       "    .dataframe thead th {\n",
       "        text-align: right;\n",
       "    }\n",
       "</style>\n",
       "<table border=\"1\" class=\"dataframe\">\n",
       "  <thead>\n",
       "    <tr style=\"text-align: right;\">\n",
       "      <th></th>\n",
       "      <th>year</th>\n",
       "      <th>color1</th>\n",
       "      <th>revenue</th>\n",
       "    </tr>\n",
       "  </thead>\n",
       "  <tbody>\n",
       "    <tr>\n",
       "      <th>63</th>\n",
       "      <td>2017.0</td>\n",
       "      <td>None</td>\n",
       "      <td>6382117.22</td>\n",
       "    </tr>\n",
       "    <tr>\n",
       "      <th>1</th>\n",
       "      <td>2016.0</td>\n",
       "      <td>None</td>\n",
       "      <td>3611549.18</td>\n",
       "    </tr>\n",
       "    <tr>\n",
       "      <th>133</th>\n",
       "      <td>2018.0</td>\n",
       "      <td>None</td>\n",
       "      <td>2497735.32</td>\n",
       "    </tr>\n",
       "    <tr>\n",
       "      <th>86</th>\n",
       "      <td>2017.0</td>\n",
       "      <td>gold</td>\n",
       "      <td>2167849.47</td>\n",
       "    </tr>\n",
       "    <tr>\n",
       "      <th>164</th>\n",
       "      <td>2018.0</td>\n",
       "      <td>gold</td>\n",
       "      <td>1697636.14</td>\n",
       "    </tr>\n",
       "    <tr>\n",
       "      <th>119</th>\n",
       "      <td>2017.0</td>\n",
       "      <td>silver</td>\n",
       "      <td>1642157.41</td>\n",
       "    </tr>\n",
       "    <tr>\n",
       "      <th>102</th>\n",
       "      <td>2017.0</td>\n",
       "      <td>multi</td>\n",
       "      <td>1349944.49</td>\n",
       "    </tr>\n",
       "    <tr>\n",
       "      <th>18</th>\n",
       "      <td>2016.0</td>\n",
       "      <td>gold</td>\n",
       "      <td>1230242.51</td>\n",
       "    </tr>\n",
       "    <tr>\n",
       "      <th>34</th>\n",
       "      <td>2016.0</td>\n",
       "      <td>multi</td>\n",
       "      <td>1037507.54</td>\n",
       "    </tr>\n",
       "    <tr>\n",
       "      <th>220</th>\n",
       "      <td>2018.0</td>\n",
       "      <td>silver</td>\n",
       "      <td>1024054.38</td>\n",
       "    </tr>\n",
       "    <tr>\n",
       "      <th>191</th>\n",
       "      <td>2018.0</td>\n",
       "      <td>multi</td>\n",
       "      <td>876020.23</td>\n",
       "    </tr>\n",
       "    <tr>\n",
       "      <th>67</th>\n",
       "      <td>2017.0</td>\n",
       "      <td>black</td>\n",
       "      <td>766172.92</td>\n",
       "    </tr>\n",
       "    <tr>\n",
       "      <th>4</th>\n",
       "      <td>2016.0</td>\n",
       "      <td>black</td>\n",
       "      <td>763807.42</td>\n",
       "    </tr>\n",
       "    <tr>\n",
       "      <th>50</th>\n",
       "      <td>2016.0</td>\n",
       "      <td>silver</td>\n",
       "      <td>755569.98</td>\n",
       "    </tr>\n",
       "    <tr>\n",
       "      <th>116</th>\n",
       "      <td>2017.0</td>\n",
       "      <td>rose</td>\n",
       "      <td>650028.45</td>\n",
       "    </tr>\n",
       "    <tr>\n",
       "      <th>72</th>\n",
       "      <td>2017.0</td>\n",
       "      <td>blue</td>\n",
       "      <td>468483.48</td>\n",
       "    </tr>\n",
       "    <tr>\n",
       "      <th>92</th>\n",
       "      <td>2017.0</td>\n",
       "      <td>grey</td>\n",
       "      <td>445087.21</td>\n",
       "    </tr>\n",
       "    <tr>\n",
       "      <th>58</th>\n",
       "      <td>2016.0</td>\n",
       "      <td>turquoise</td>\n",
       "      <td>419503.45</td>\n",
       "    </tr>\n",
       "    <tr>\n",
       "      <th>140</th>\n",
       "      <td>2018.0</td>\n",
       "      <td>black</td>\n",
       "      <td>394633.99</td>\n",
       "    </tr>\n",
       "    <tr>\n",
       "      <th>26</th>\n",
       "      <td>2016.0</td>\n",
       "      <td>grey</td>\n",
       "      <td>384426.54</td>\n",
       "    </tr>\n",
       "  </tbody>\n",
       "</table>\n",
       "</div>"
      ],
      "text/plain": [
       "       year     color1     revenue\n",
       "63   2017.0       None  6382117.22\n",
       "1    2016.0       None  3611549.18\n",
       "133  2018.0       None  2497735.32\n",
       "86   2017.0       gold  2167849.47\n",
       "164  2018.0       gold  1697636.14\n",
       "119  2017.0     silver  1642157.41\n",
       "102  2017.0      multi  1349944.49\n",
       "18   2016.0       gold  1230242.51\n",
       "34   2016.0      multi  1037507.54\n",
       "220  2018.0     silver  1024054.38\n",
       "191  2018.0      multi   876020.23\n",
       "67   2017.0      black   766172.92\n",
       "4    2016.0      black   763807.42\n",
       "50   2016.0     silver   755569.98\n",
       "116  2017.0       rose   650028.45\n",
       "72   2017.0       blue   468483.48\n",
       "92   2017.0       grey   445087.21\n",
       "58   2016.0  turquoise   419503.45\n",
       "140  2018.0      black   394633.99\n",
       "26   2016.0       grey   384426.54"
      ]
     },
     "execution_count": 987,
     "metadata": {},
     "output_type": "execute_result"
    }
   ],
   "source": [
    "df_color = df.groupby(['year', 'color1'], as_index = False)['revenue'].sum().sort_values(ascending = False, by = ['revenue']).head(20)\n",
    "df_color"
   ]
  },
  {
   "cell_type": "code",
   "execution_count": 1001,
   "metadata": {},
   "outputs": [],
   "source": [
    "df_color= df[(df['color1'] == 'gold')|(df['color1'] == 'silver')|(df['color1'] == 'multi') | (df['color1'] == 'black')|(df['color1'] == 'rose')]"
   ]
  },
  {
   "cell_type": "code",
   "execution_count": 1003,
   "metadata": {},
   "outputs": [
    {
     "data": {
      "text/plain": [
       "<matplotlib.axes._subplots.AxesSubplot at 0x181fdb080>"
      ]
     },
     "execution_count": 1003,
     "metadata": {},
     "output_type": "execute_result"
    },
    {
     "data": {
      "image/png": "[encoded data removed]",
      "text/plain": [
       "<Figure size 1800x720 with 1 Axes>"
      ]
     },
     "metadata": {
      "needs_background": "light"
     },
     "output_type": "display_data"
    }
   ],
   "source": [
    "plt.figure(figsize=(25,10))\n",
    "sns.barplot(x = 'color1', y = 'revenue',hue = 'year',ci=None, data = df_color)"
   ]
  },
  {
   "cell_type": "code",
   "execution_count": null,
   "metadata": {},
   "outputs": [],
   "source": []
  }
 ],
 "metadata": {
  "kernelspec": {
   "display_name": "Python 3",
   "language": "python",
   "name": "python3"
  },
  "language_info": {
   "codemirror_mode": {
    "name": "ipython",
    "version": 3
   },
   "file_extension": ".py",
   "mimetype": "text/x-python",
   "name": "python",
   "nbconvert_exporter": "python",
   "pygments_lexer": "ipython3",
   "version": "3.6.6"
  }
 },
 "nbformat": 4,
 "nbformat_minor": 2
}
