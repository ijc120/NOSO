{
 "cells": [
  {
   "cell_type": "markdown",
   "metadata": {},
   "source": [
    "# Customer Lifetime Value Analysis\n",
    "\n",
    "---------------\n",
    "\n",
    "### [Reading pkl and Loading Packages](#intro)\n",
    "   - Reading pkl\n",
    "   - Loading packages\n",
    "\n",
    "### [Data Preparation](#prep)\n",
    "   - Creating frequency, recency, age summary\n",
    "   \n",
    "### [Frequency/Recency Analysis w the BG/NBD model](#bg/nbd)\n",
    "- Analyzing customers\n",
    "- Predicting probabilities of customer returns\n",
    "\n",
    "### [Assessing Model Fit](#fit)\n",
    "- Comparing predictions with hold-out model\n",
    "\n",
    "### [Customer predictions](#pred)\n",
    "- probability of customer buying in period x\n",
    "- probability of customer being alive\n",
    "\n",
    "### [Estimating average transaction value](#exp)\n",
    "\n",
    "### [CLV calculation using DCF](#clv)\n",
    "\n",
    "\n",
    "\n",
    "----------------\n"
   ]
  },
  {
   "cell_type": "markdown",
   "metadata": {},
   "source": [
    "<a id='intro'></a>\n",
    "Reading in data & loading packages"
   ]
  },
  {
   "cell_type": "code",
   "execution_count": 2,
   "metadata": {},
   "outputs": [],
   "source": [
    "%matplotlib inline\n",
    "import scipy.stats as stats\n",
    "import numpy as np\n",
    "import pandas as pd\n",
    "import matplotlib.pyplot as plt\n",
    "import seaborn as sns\n",
    "plt.style.use('ggplot')"
   ]
  },
  {
   "cell_type": "code",
   "execution_count": 3,
   "metadata": {},
   "outputs": [],
   "source": [
    "df = pd.read_pickle('/Users/lukas/Desktop/CapstoneLukas/NOSO/USJH_order_dataset_orderUnit.pkl')"
   ]
  },
  {
   "cell_type": "code",
   "execution_count": 4,
   "metadata": {},
   "outputs": [
    {
     "data": {
      "text/html": [
       "<div>\n",
       "<style scoped>\n",
       "    .dataframe tbody tr th:only-of-type {\n",
       "        vertical-align: middle;\n",
       "    }\n",
       "\n",
       "    .dataframe tbody tr th {\n",
       "        vertical-align: top;\n",
       "    }\n",
       "\n",
       "    .dataframe thead th {\n",
       "        text-align: right;\n",
       "    }\n",
       "</style>\n",
       "<table border=\"1\" class=\"dataframe\">\n",
       "  <thead>\n",
       "    <tr style=\"text-align: right;\">\n",
       "      <th></th>\n",
       "      <th>Name</th>\n",
       "      <th>Financial Status</th>\n",
       "      <th>Paid at</th>\n",
       "      <th>Fulfillment Status</th>\n",
       "      <th>Accepts Marketing</th>\n",
       "      <th>Currency</th>\n",
       "      <th>Subtotal</th>\n",
       "      <th>Shipping</th>\n",
       "      <th>Taxes</th>\n",
       "      <th>Total</th>\n",
       "      <th>...</th>\n",
       "      <th>Note Attributes</th>\n",
       "      <th>Cancelled at</th>\n",
       "      <th>Payment Method</th>\n",
       "      <th>Refunded Amount</th>\n",
       "      <th>Vendor</th>\n",
       "      <th>Tags</th>\n",
       "      <th>Risk Level</th>\n",
       "      <th>Source</th>\n",
       "      <th>Color</th>\n",
       "      <th>item_quantity</th>\n",
       "    </tr>\n",
       "  </thead>\n",
       "  <tbody>\n",
       "    <tr>\n",
       "      <th>0</th>\n",
       "      <td>#1001</td>\n",
       "      <td>paid</td>\n",
       "      <td>2015-11-05 17:17:00</td>\n",
       "      <td>fulfilled</td>\n",
       "      <td>no</td>\n",
       "      <td>USD</td>\n",
       "      <td>33.25</td>\n",
       "      <td>10.00</td>\n",
       "      <td>1.55</td>\n",
       "      <td>44.80</td>\n",
       "      <td>...</td>\n",
       "      <td>None</td>\n",
       "      <td>None</td>\n",
       "      <td>Cash on Delivery (COD)</td>\n",
       "      <td>0.00</td>\n",
       "      <td>USJewelryhouse</td>\n",
       "      <td>None</td>\n",
       "      <td>Low</td>\n",
       "      <td>web</td>\n",
       "      <td>Tassel</td>\n",
       "      <td>7</td>\n",
       "    </tr>\n",
       "    <tr>\n",
       "      <th>1</th>\n",
       "      <td>#1002</td>\n",
       "      <td>refunded</td>\n",
       "      <td>2015-11-03 16:22:00</td>\n",
       "      <td>fulfilled</td>\n",
       "      <td>no</td>\n",
       "      <td>USD</td>\n",
       "      <td>7.65</td>\n",
       "      <td>6.89</td>\n",
       "      <td>0.00</td>\n",
       "      <td>14.54</td>\n",
       "      <td>...</td>\n",
       "      <td>None</td>\n",
       "      <td>None</td>\n",
       "      <td>Shopify Payments</td>\n",
       "      <td>14.54</td>\n",
       "      <td>USJewelryhouse</td>\n",
       "      <td>None</td>\n",
       "      <td>Low</td>\n",
       "      <td>web</td>\n",
       "      <td>Black</td>\n",
       "      <td>3</td>\n",
       "    </tr>\n",
       "    <tr>\n",
       "      <th>2</th>\n",
       "      <td>#1003</td>\n",
       "      <td>paid</td>\n",
       "      <td>2015-11-03 16:31:00</td>\n",
       "      <td>fulfilled</td>\n",
       "      <td>no</td>\n",
       "      <td>USD</td>\n",
       "      <td>6.37</td>\n",
       "      <td>6.89</td>\n",
       "      <td>0.00</td>\n",
       "      <td>13.26</td>\n",
       "      <td>...</td>\n",
       "      <td>None</td>\n",
       "      <td>None</td>\n",
       "      <td>PayPal Express Checkout</td>\n",
       "      <td>0.00</td>\n",
       "      <td>USJewelryhouse</td>\n",
       "      <td>None</td>\n",
       "      <td>Low</td>\n",
       "      <td>web</td>\n",
       "      <td>Black</td>\n",
       "      <td>1</td>\n",
       "    </tr>\n",
       "    <tr>\n",
       "      <th>3</th>\n",
       "      <td>#1004</td>\n",
       "      <td>paid</td>\n",
       "      <td>2015-11-06 16:51:00</td>\n",
       "      <td>fulfilled</td>\n",
       "      <td>yes</td>\n",
       "      <td>USD</td>\n",
       "      <td>50.00</td>\n",
       "      <td>7.61</td>\n",
       "      <td>0.00</td>\n",
       "      <td>57.61</td>\n",
       "      <td>...</td>\n",
       "      <td>None</td>\n",
       "      <td>None</td>\n",
       "      <td>Shopify Payments</td>\n",
       "      <td>0.00</td>\n",
       "      <td>USJewelryhouse</td>\n",
       "      <td>None</td>\n",
       "      <td>Low</td>\n",
       "      <td>web</td>\n",
       "      <td>Torso</td>\n",
       "      <td>2</td>\n",
       "    </tr>\n",
       "    <tr>\n",
       "      <th>4</th>\n",
       "      <td>#1005</td>\n",
       "      <td>paid</td>\n",
       "      <td>2015-11-09 15:02:00</td>\n",
       "      <td>fulfilled</td>\n",
       "      <td>yes</td>\n",
       "      <td>USD</td>\n",
       "      <td>11.50</td>\n",
       "      <td>6.89</td>\n",
       "      <td>0.00</td>\n",
       "      <td>18.39</td>\n",
       "      <td>...</td>\n",
       "      <td>None</td>\n",
       "      <td>None</td>\n",
       "      <td>Cash on Delivery (COD)</td>\n",
       "      <td>0.00</td>\n",
       "      <td>USJewelryhouse</td>\n",
       "      <td>None</td>\n",
       "      <td>Low</td>\n",
       "      <td>web</td>\n",
       "      <td>Black</td>\n",
       "      <td>2</td>\n",
       "    </tr>\n",
       "  </tbody>\n",
       "</table>\n",
       "<p>5 rows × 34 columns</p>\n",
       "</div>"
      ],
      "text/plain": [
       "    Name Financial Status             Paid at Fulfillment Status  \\\n",
       "0  #1001             paid 2015-11-05 17:17:00          fulfilled   \n",
       "1  #1002         refunded 2015-11-03 16:22:00          fulfilled   \n",
       "2  #1003             paid 2015-11-03 16:31:00          fulfilled   \n",
       "3  #1004             paid 2015-11-06 16:51:00          fulfilled   \n",
       "4  #1005             paid 2015-11-09 15:02:00          fulfilled   \n",
       "\n",
       "  Accepts Marketing Currency  Subtotal  Shipping  Taxes  Total      ...       \\\n",
       "0                no      USD     33.25     10.00   1.55  44.80      ...        \n",
       "1                no      USD      7.65      6.89   0.00  14.54      ...        \n",
       "2                no      USD      6.37      6.89   0.00  13.26      ...        \n",
       "3               yes      USD     50.00      7.61   0.00  57.61      ...        \n",
       "4               yes      USD     11.50      6.89   0.00  18.39      ...        \n",
       "\n",
       "  Note Attributes  Cancelled at           Payment Method Refunded Amount  \\\n",
       "0            None          None   Cash on Delivery (COD)            0.00   \n",
       "1            None          None         Shopify Payments           14.54   \n",
       "2            None          None  PayPal Express Checkout            0.00   \n",
       "3            None          None         Shopify Payments            0.00   \n",
       "4            None          None   Cash on Delivery (COD)            0.00   \n",
       "\n",
       "           Vendor  Tags Risk Level Source   Color  item_quantity  \n",
       "0  USJewelryhouse  None        Low    web  Tassel              7  \n",
       "1  USJewelryhouse  None        Low    web    Black             3  \n",
       "2  USJewelryhouse  None        Low    web    Black             1  \n",
       "3  USJewelryhouse  None        Low    web   Torso              2  \n",
       "4  USJewelryhouse  None        Low    web    Black             2  \n",
       "\n",
       "[5 rows x 34 columns]"
      ]
     },
     "execution_count": 4,
     "metadata": {},
     "output_type": "execute_result"
    }
   ],
   "source": [
    "df.head()"
   ]
  },
  {
   "cell_type": "code",
   "execution_count": 5,
   "metadata": {},
   "outputs": [
    {
     "data": {
      "text/plain": [
       "Index(['Name', 'Financial Status', 'Paid at', 'Fulfillment Status',\n",
       "       'Accepts Marketing', 'Currency', 'Subtotal', 'Shipping', 'Taxes',\n",
       "       'Total', 'Discount Code', 'Discount Amount', 'Shipping Method',\n",
       "       'Created at', 'Lineitem fulfillment status', 'Shipping Street',\n",
       "       'Shipping Address1', 'Shipping Address2', 'Shipping Company',\n",
       "       'Shipping City', 'Shipping Zip', 'Shipping Province',\n",
       "       'Shipping Country', 'Notes', 'Note Attributes', 'Cancelled at',\n",
       "       'Payment Method', 'Refunded Amount', 'Vendor', 'Tags', 'Risk Level',\n",
       "       'Source', 'Color ', 'item_quantity'],\n",
       "      dtype='object')"
      ]
     },
     "execution_count": 5,
     "metadata": {},
     "output_type": "execute_result"
    }
   ],
   "source": [
    "df.columns"
   ]
  },
  {
   "cell_type": "code",
   "execution_count": 6,
   "metadata": {},
   "outputs": [],
   "source": [
    "#taking shipping street as customer id \n",
    "df2 = df[['Created at', 'Shipping Street']]"
   ]
  },
  {
   "cell_type": "code",
   "execution_count": 7,
   "metadata": {},
   "outputs": [
    {
     "data": {
      "text/html": [
       "<div>\n",
       "<style scoped>\n",
       "    .dataframe tbody tr th:only-of-type {\n",
       "        vertical-align: middle;\n",
       "    }\n",
       "\n",
       "    .dataframe tbody tr th {\n",
       "        vertical-align: top;\n",
       "    }\n",
       "\n",
       "    .dataframe thead th {\n",
       "        text-align: right;\n",
       "    }\n",
       "</style>\n",
       "<table border=\"1\" class=\"dataframe\">\n",
       "  <thead>\n",
       "    <tr style=\"text-align: right;\">\n",
       "      <th></th>\n",
       "      <th>Created at</th>\n",
       "      <th>Shipping Street</th>\n",
       "    </tr>\n",
       "  </thead>\n",
       "  <tbody>\n",
       "    <tr>\n",
       "      <th>0</th>\n",
       "      <td>2015-10-27 16:16:00</td>\n",
       "      <td>1239 Broadway, FLR1</td>\n",
       "    </tr>\n",
       "    <tr>\n",
       "      <th>1</th>\n",
       "      <td>2015-11-03 16:22:00</td>\n",
       "      <td>1239 Broadway, FLR1</td>\n",
       "    </tr>\n",
       "    <tr>\n",
       "      <th>2</th>\n",
       "      <td>2015-11-03 16:31:00</td>\n",
       "      <td>1239 Broadway, FLR1</td>\n",
       "    </tr>\n",
       "    <tr>\n",
       "      <th>3</th>\n",
       "      <td>2015-11-06 16:51:00</td>\n",
       "      <td>2800 Monticello Place, 23- 302</td>\n",
       "    </tr>\n",
       "    <tr>\n",
       "      <th>4</th>\n",
       "      <td>2015-11-06 18:09:00</td>\n",
       "      <td>1239 Broadway, FLR1</td>\n",
       "    </tr>\n",
       "  </tbody>\n",
       "</table>\n",
       "</div>"
      ],
      "text/plain": [
       "           Created at                 Shipping Street\n",
       "0 2015-10-27 16:16:00             1239 Broadway, FLR1\n",
       "1 2015-11-03 16:22:00             1239 Broadway, FLR1\n",
       "2 2015-11-03 16:31:00             1239 Broadway, FLR1\n",
       "3 2015-11-06 16:51:00  2800 Monticello Place, 23- 302\n",
       "4 2015-11-06 18:09:00             1239 Broadway, FLR1"
      ]
     },
     "execution_count": 7,
     "metadata": {},
     "output_type": "execute_result"
    }
   ],
   "source": [
    "df2.head()"
   ]
  },
  {
   "cell_type": "markdown",
   "metadata": {},
   "source": [
    "### Data Preparation\n",
    "<a id='prep'></a>\n",
    "\n"
   ]
  },
  {
   "cell_type": "code",
   "execution_count": 8,
   "metadata": {},
   "outputs": [],
   "source": [
    "from lifetimes.utils import summary_data_from_transaction_data"
   ]
  },
  {
   "cell_type": "code",
   "execution_count": 9,
   "metadata": {},
   "outputs": [],
   "source": [
    "summary = summary_data_from_transaction_data(df2, 'Shipping Street', 'Created at', observation_period_end='2018-07-16', freq= 'M')"
   ]
  },
  {
   "cell_type": "code",
   "execution_count": 10,
   "metadata": {},
   "outputs": [
    {
     "data": {
      "text/html": [
       "<div>\n",
       "<style scoped>\n",
       "    .dataframe tbody tr th:only-of-type {\n",
       "        vertical-align: middle;\n",
       "    }\n",
       "\n",
       "    .dataframe tbody tr th {\n",
       "        vertical-align: top;\n",
       "    }\n",
       "\n",
       "    .dataframe thead th {\n",
       "        text-align: right;\n",
       "    }\n",
       "</style>\n",
       "<table border=\"1\" class=\"dataframe\">\n",
       "  <thead>\n",
       "    <tr style=\"text-align: right;\">\n",
       "      <th></th>\n",
       "      <th>frequency</th>\n",
       "      <th>recency</th>\n",
       "      <th>T</th>\n",
       "    </tr>\n",
       "    <tr>\n",
       "      <th>Shipping Street</th>\n",
       "      <th></th>\n",
       "      <th></th>\n",
       "      <th></th>\n",
       "    </tr>\n",
       "  </thead>\n",
       "  <tbody>\n",
       "    <tr>\n",
       "      <th>105 Arbor Park Drive</th>\n",
       "      <td>3.0</td>\n",
       "      <td>23.0</td>\n",
       "      <td>23.0</td>\n",
       "    </tr>\n",
       "    <tr>\n",
       "      <th>1428 212 street</th>\n",
       "      <td>0.0</td>\n",
       "      <td>0.0</td>\n",
       "      <td>11.0</td>\n",
       "    </tr>\n",
       "    <tr>\n",
       "      <th>1 Abbott Road, Unit 68</th>\n",
       "      <td>0.0</td>\n",
       "      <td>0.0</td>\n",
       "      <td>29.0</td>\n",
       "    </tr>\n",
       "    <tr>\n",
       "      <th>1 David N Meyers Parkway</th>\n",
       "      <td>0.0</td>\n",
       "      <td>0.0</td>\n",
       "      <td>22.0</td>\n",
       "    </tr>\n",
       "    <tr>\n",
       "      <th>1 Depot Pl</th>\n",
       "      <td>0.0</td>\n",
       "      <td>0.0</td>\n",
       "      <td>19.0</td>\n",
       "    </tr>\n",
       "  </tbody>\n",
       "</table>\n",
       "</div>"
      ],
      "text/plain": [
       "                          frequency  recency     T\n",
       "Shipping Street                                   \n",
       " 105 Arbor Park Drive           3.0     23.0  23.0\n",
       " 1428 212 street                0.0      0.0  11.0\n",
       "1 Abbott Road, Unit 68          0.0      0.0  29.0\n",
       "1 David N Meyers Parkway        0.0      0.0  22.0\n",
       "1 Depot Pl                      0.0      0.0  19.0"
      ]
     },
     "execution_count": 10,
     "metadata": {},
     "output_type": "execute_result"
    }
   ],
   "source": [
    "summary.head()"
   ]
  },
  {
   "cell_type": "markdown",
   "metadata": {},
   "source": [
    "**Explanation**:\n",
    "\n",
    "- *Frequency*: Number of repeat purchases (Total no. of purchases -1)\n",
    "- *T*: Age of customer (I specified the time unit to be 'M' for months)\n",
    "- *Recency*: Age of customer when they made their last purchase (0 if one-time customer)"
   ]
  },
  {
   "cell_type": "markdown",
   "metadata": {},
   "source": [
    "## Frequency/Recency Analysis w the BG/NBD model\n",
    "<a id='bg/nbd'></a>\n",
    "\n"
   ]
  },
  {
   "cell_type": "code",
   "execution_count": 11,
   "metadata": {},
   "outputs": [],
   "source": [
    "from lifetimes import BetaGeoFitter"
   ]
  },
  {
   "cell_type": "code",
   "execution_count": 12,
   "metadata": {},
   "outputs": [
    {
     "name": "stdout",
     "output_type": "stream",
     "text": [
      "<lifetimes.BetaGeoFitter: fitted with 1564 subjects, a: 1.15, alpha: 2.96, b: 5.05, r: 0.29>\n"
     ]
    }
   ],
   "source": [
    "bgf = BetaGeoFitter(penalizer_coef=0.0)\n",
    "bgf.fit(summary['frequency'], summary['recency'], summary['T'])\n",
    "print(bgf)"
   ]
  },
  {
   "cell_type": "code",
   "execution_count": 13,
   "metadata": {},
   "outputs": [
    {
     "data": {
      "text/plain": [
       "<matplotlib.axes._subplots.AxesSubplot at 0x10d47afd0>"
      ]
     },
     "execution_count": 13,
     "metadata": {},
     "output_type": "execute_result"
    },
    {
     "data": {
      "image/png": "[encoded data removed]",
      "text/plain": [
       "<Figure size 864x720 with 2 Axes>"
      ]
     },
     "metadata": {},
     "output_type": "display_data"
    }
   ],
   "source": [
    "#plotting expected number of future purchases given frequency vs. recency\n",
    "from lifetimes.plotting import plot_frequency_recency_matrix\n",
    "\n",
    "plt.figure(figsize=(12,10))\n",
    "plot_frequency_recency_matrix(bgf)"
   ]
  },
  {
   "cell_type": "markdown",
   "metadata": {},
   "source": [
    "**What does this plot show?**\n",
    "\n",
    "-> If a customer has bought ~18 times from USJH and their and their age at the latest purchase was slightly above 30, they are USJH's best customer\n",
    "\n",
    "-> Fading tail shows that for customers that have bough around 5 times from USJH and their recency was between 20 and 25, they still might buy again but they also might be dead\n",
    "\n"
   ]
  },
  {
   "cell_type": "code",
   "execution_count": 14,
   "metadata": {},
   "outputs": [
    {
     "data": {
      "text/plain": [
       "<matplotlib.axes._subplots.AxesSubplot at 0x1a20b57438>"
      ]
     },
     "execution_count": 14,
     "metadata": {},
     "output_type": "execute_result"
    },
    {
     "data": {
      "image/png": "[encoded data removed]",
      "text/plain": [
       "<Figure size 864x720 with 2 Axes>"
      ]
     },
     "metadata": {},
     "output_type": "display_data"
    }
   ],
   "source": [
    "#plotting probability that customer is still alive given frequency vs. recency\n",
    "from lifetimes.plotting import plot_probability_alive_matrix\n",
    "\n",
    "plt.figure(figsize=(12,10))\n",
    "plot_probability_alive_matrix(bgf)"
   ]
  },
  {
   "cell_type": "code",
   "execution_count": 15,
   "metadata": {},
   "outputs": [
    {
     "data": {
      "text/html": [
       "<div>\n",
       "<style scoped>\n",
       "    .dataframe tbody tr th:only-of-type {\n",
       "        vertical-align: middle;\n",
       "    }\n",
       "\n",
       "    .dataframe tbody tr th {\n",
       "        vertical-align: top;\n",
       "    }\n",
       "\n",
       "    .dataframe thead th {\n",
       "        text-align: right;\n",
       "    }\n",
       "</style>\n",
       "<table border=\"1\" class=\"dataframe\">\n",
       "  <thead>\n",
       "    <tr style=\"text-align: right;\">\n",
       "      <th></th>\n",
       "      <th>frequency</th>\n",
       "      <th>recency</th>\n",
       "      <th>T</th>\n",
       "      <th>predicted_purchases</th>\n",
       "    </tr>\n",
       "    <tr>\n",
       "      <th>Shipping Street</th>\n",
       "      <th></th>\n",
       "      <th></th>\n",
       "      <th></th>\n",
       "      <th></th>\n",
       "    </tr>\n",
       "  </thead>\n",
       "  <tbody>\n",
       "    <tr>\n",
       "      <th>722 Southwest Westwood Drive</th>\n",
       "      <td>5.0</td>\n",
       "      <td>6.0</td>\n",
       "      <td>6.0</td>\n",
       "      <td>0.506001</td>\n",
       "    </tr>\n",
       "    <tr>\n",
       "      <th>1924 8th St NW, 115</th>\n",
       "      <td>4.0</td>\n",
       "      <td>4.0</td>\n",
       "      <td>4.0</td>\n",
       "      <td>0.517735</td>\n",
       "    </tr>\n",
       "    <tr>\n",
       "      <th>26 Lark Industrial Parkway</th>\n",
       "      <td>10.0</td>\n",
       "      <td>12.0</td>\n",
       "      <td>13.0</td>\n",
       "      <td>0.542625</td>\n",
       "    </tr>\n",
       "    <tr>\n",
       "      <th>2026 Chestnut Street</th>\n",
       "      <td>10.0</td>\n",
       "      <td>12.0</td>\n",
       "      <td>13.0</td>\n",
       "      <td>0.542625</td>\n",
       "    </tr>\n",
       "    <tr>\n",
       "      <th>3904 Hwy 22</th>\n",
       "      <td>12.0</td>\n",
       "      <td>14.0</td>\n",
       "      <td>15.0</td>\n",
       "      <td>0.584133</td>\n",
       "    </tr>\n",
       "  </tbody>\n",
       "</table>\n",
       "</div>"
      ],
      "text/plain": [
       "                              frequency  recency     T  predicted_purchases\n",
       "Shipping Street                                                            \n",
       "722 Southwest Westwood Drive        5.0      6.0   6.0             0.506001\n",
       "1924 8th St NW, 115                 4.0      4.0   4.0             0.517735\n",
       "26 Lark Industrial Parkway         10.0     12.0  13.0             0.542625\n",
       "2026 Chestnut Street               10.0     12.0  13.0             0.542625\n",
       "3904 Hwy 22                        12.0     14.0  15.0             0.584133"
      ]
     },
     "execution_count": 15,
     "metadata": {},
     "output_type": "execute_result"
    }
   ],
   "source": [
    "#ranking customers from best to worst given their probability of buying in the next month\n",
    "t = 1\n",
    "summary['predicted_purchases'] = bgf.conditional_expected_number_of_purchases_up_to_time(t, summary['frequency'], summary['recency'], summary['T'])\n",
    "summary.sort_values(by='predicted_purchases').tail()"
   ]
  },
  {
   "cell_type": "markdown",
   "metadata": {},
   "source": [
    "-> Customer w address 3904 Hwy 22 has the highest probability of purchasing next month"
   ]
  },
  {
   "cell_type": "markdown",
   "metadata": {},
   "source": [
    "## Assessing model fit\n",
    "<a id='fit'></a>\n",
    "\n"
   ]
  },
  {
   "cell_type": "code",
   "execution_count": 16,
   "metadata": {},
   "outputs": [
    {
     "data": {
      "text/plain": [
       "<matplotlib.axes._subplots.AxesSubplot at 0x1a20e4b6d8>"
      ]
     },
     "execution_count": 16,
     "metadata": {},
     "output_type": "execute_result"
    },
    {
     "data": {
      "image/png": "[encoded data removed]",
      "text/plain": [
       "<Figure size 576x432 with 1 Axes>"
      ]
     },
     "metadata": {},
     "output_type": "display_data"
    }
   ],
   "source": [
    "#comparing our data with artificially simulated data  with our fitted model’s parameters\n",
    "from lifetimes.plotting import plot_period_transactions\n",
    "\n",
    "plot_period_transactions(bgf, figsize=(8,6))"
   ]
  },
  {
   "cell_type": "markdown",
   "metadata": {},
   "source": [
    "-> model seems to be relevant"
   ]
  },
  {
   "cell_type": "markdown",
   "metadata": {},
   "source": [
    "## Dividing into calibration and holdout data set"
   ]
  },
  {
   "cell_type": "code",
   "execution_count": 17,
   "metadata": {},
   "outputs": [
    {
     "name": "stdout",
     "output_type": "stream",
     "text": [
      "                          frequency_cal  recency_cal  T_cal  \\\n",
      "Shipping Street                                               \n",
      " 105 Arbor Park Drive               1.0         13.0   17.0   \n",
      " 1428 212 street                    0.0          0.0    5.0   \n",
      "1 Abbott Road, Unit 68              0.0          0.0   23.0   \n",
      "1 David N Meyers Parkway            0.0          0.0   16.0   \n",
      "1 Depot Pl                          0.0          0.0   13.0   \n",
      "\n",
      "                          frequency_holdout  duration_holdout  \n",
      "Shipping Street                                                \n",
      " 105 Arbor Park Drive                   2.0                 6  \n",
      " 1428 212 street                        0.0                 6  \n",
      "1 Abbott Road, Unit 68                  0.0                 6  \n",
      "1 David N Meyers Parkway                0.0                 6  \n",
      "1 Depot Pl                              0.0                 6  \n"
     ]
    }
   ],
   "source": [
    "from lifetimes.utils import calibration_and_holdout_data\n",
    "\n",
    "summary_cal_holdout = calibration_and_holdout_data(df2, 'Shipping Street', 'Created at',\n",
    "                                        calibration_period_end='2018-01-31',\n",
    "                                        observation_period_end='2018-07-16', \n",
    "                                                   freq='M'\n",
    "                                                  )   \n",
    "print(summary_cal_holdout.head())"
   ]
  },
  {
   "cell_type": "code",
   "execution_count": 18,
   "metadata": {},
   "outputs": [
    {
     "data": {
      "text/plain": [
       "<matplotlib.axes._subplots.AxesSubplot at 0x1a214f9518>"
      ]
     },
     "execution_count": 18,
     "metadata": {},
     "output_type": "execute_result"
    },
    {
     "data": {
      "image/png": "[encoded data removed]",
      "text/plain": [
       "<Figure size 648x504 with 1 Axes>"
      ]
     },
     "metadata": {},
     "output_type": "display_data"
    }
   ],
   "source": [
    "from lifetimes.plotting import plot_calibration_purchases_vs_holdout_purchases\n",
    "\n",
    "bgf.fit(summary_cal_holdout['frequency_cal'], summary_cal_holdout['recency_cal'], summary_cal_holdout['T_cal'])\n",
    "\n",
    "plot_calibration_purchases_vs_holdout_purchases(bgf, summary_cal_holdout, figsize=(9,7))"
   ]
  },
  {
   "cell_type": "markdown",
   "metadata": {},
   "source": [
    "## Predicting Probability of specific customer buying in X periods\n",
    "<a id='intro'></a>"
   ]
  },
  {
   "cell_type": "code",
   "execution_count": 19,
   "metadata": {},
   "outputs": [],
   "source": [
    "summary2 = summary\n",
    "summary2['id'] = summary2.index"
   ]
  },
  {
   "cell_type": "code",
   "execution_count": 20,
   "metadata": {},
   "outputs": [
    {
     "data": {
      "text/html": [
       "<div>\n",
       "<style scoped>\n",
       "    .dataframe tbody tr th:only-of-type {\n",
       "        vertical-align: middle;\n",
       "    }\n",
       "\n",
       "    .dataframe tbody tr th {\n",
       "        vertical-align: top;\n",
       "    }\n",
       "\n",
       "    .dataframe thead th {\n",
       "        text-align: right;\n",
       "    }\n",
       "</style>\n",
       "<table border=\"1\" class=\"dataframe\">\n",
       "  <thead>\n",
       "    <tr style=\"text-align: right;\">\n",
       "      <th></th>\n",
       "      <th>frequency</th>\n",
       "      <th>recency</th>\n",
       "      <th>T</th>\n",
       "      <th>predicted_purchases</th>\n",
       "      <th>id</th>\n",
       "    </tr>\n",
       "    <tr>\n",
       "      <th>Shipping Street</th>\n",
       "      <th></th>\n",
       "      <th></th>\n",
       "      <th></th>\n",
       "      <th></th>\n",
       "      <th></th>\n",
       "    </tr>\n",
       "  </thead>\n",
       "  <tbody>\n",
       "    <tr>\n",
       "      <th>105 Arbor Park Drive</th>\n",
       "      <td>3.0</td>\n",
       "      <td>23.0</td>\n",
       "      <td>23.0</td>\n",
       "      <td>0.107881</td>\n",
       "      <td>105 Arbor Park Drive</td>\n",
       "    </tr>\n",
       "    <tr>\n",
       "      <th>1428 212 street</th>\n",
       "      <td>0.0</td>\n",
       "      <td>0.0</td>\n",
       "      <td>11.0</td>\n",
       "      <td>0.020719</td>\n",
       "      <td>1428 212 street</td>\n",
       "    </tr>\n",
       "    <tr>\n",
       "      <th>1 Abbott Road, Unit 68</th>\n",
       "      <td>0.0</td>\n",
       "      <td>0.0</td>\n",
       "      <td>29.0</td>\n",
       "      <td>0.009092</td>\n",
       "      <td>1 Abbott Road, Unit 68</td>\n",
       "    </tr>\n",
       "    <tr>\n",
       "      <th>1 David N Meyers Parkway</th>\n",
       "      <td>0.0</td>\n",
       "      <td>0.0</td>\n",
       "      <td>22.0</td>\n",
       "      <td>0.011630</td>\n",
       "      <td>1 David N Meyers Parkway</td>\n",
       "    </tr>\n",
       "    <tr>\n",
       "      <th>1 Depot Pl</th>\n",
       "      <td>0.0</td>\n",
       "      <td>0.0</td>\n",
       "      <td>19.0</td>\n",
       "      <td>0.013211</td>\n",
       "      <td>1 Depot Pl</td>\n",
       "    </tr>\n",
       "  </tbody>\n",
       "</table>\n",
       "</div>"
      ],
      "text/plain": [
       "                          frequency  recency     T  predicted_purchases  \\\n",
       "Shipping Street                                                           \n",
       " 105 Arbor Park Drive           3.0     23.0  23.0             0.107881   \n",
       " 1428 212 street                0.0      0.0  11.0             0.020719   \n",
       "1 Abbott Road, Unit 68          0.0      0.0  29.0             0.009092   \n",
       "1 David N Meyers Parkway        0.0      0.0  22.0             0.011630   \n",
       "1 Depot Pl                      0.0      0.0  19.0             0.013211   \n",
       "\n",
       "                                                id  \n",
       "Shipping Street                                     \n",
       " 105 Arbor Park Drive         105 Arbor Park Drive  \n",
       " 1428 212 street                   1428 212 street  \n",
       "1 Abbott Road, Unit 68      1 Abbott Road, Unit 68  \n",
       "1 David N Meyers Parkway  1 David N Meyers Parkway  \n",
       "1 Depot Pl                              1 Depot Pl  "
      ]
     },
     "execution_count": 20,
     "metadata": {},
     "output_type": "execute_result"
    }
   ],
   "source": [
    "summary2.head()"
   ]
  },
  {
   "cell_type": "code",
   "execution_count": 21,
   "metadata": {},
   "outputs": [],
   "source": [
    "#defining a function that returns the probability of customer x buying in n peridos\n",
    "def customer_order_prob(periods=1, index=0):\n",
    "\n",
    "    summary2 = summary\n",
    "    summary2['id'] = summary2.index\n",
    "    \n",
    "    t = index \n",
    "    individual = summary2.iloc[periods]\n",
    "    individual_id = summary2.iloc[index].id\n",
    "    probability = bgf.predict(t, individual['frequency'], individual['recency'], individual['T'])\n",
    "    return('The customer residing at ' + individual_id + ' will return over the course of ' + str(periods) + ' periods with a probability of {:.2f}'.format(probability))"
   ]
  },
  {
   "cell_type": "code",
   "execution_count": 22,
   "metadata": {},
   "outputs": [
    {
     "data": {
      "text/plain": [
       "'The customer residing at 1 Abbott Road, Unit 68 will return over the course of 4 periods with a probability of 0.03'"
      ]
     },
     "execution_count": 22,
     "metadata": {},
     "output_type": "execute_result"
    }
   ],
   "source": [
    "#sample request\n",
    "customer_order_prob(4, 2)"
   ]
  },
  {
   "cell_type": "markdown",
   "metadata": {},
   "source": [
    "## Plot predicting probability of customer x being alive"
   ]
  },
  {
   "cell_type": "code",
   "execution_count": 27,
   "metadata": {},
   "outputs": [
    {
     "data": {
      "text/plain": [
       "Created at         2015-11-03 16:31:00\n",
       "Shipping Street    1239 Broadway, FLR1\n",
       "Name: 2, dtype: object"
      ]
     },
     "execution_count": 27,
     "metadata": {},
     "output_type": "execute_result"
    }
   ],
   "source": [
    "df2.iloc[2]"
   ]
  },
  {
   "cell_type": "code",
   "execution_count": 28,
   "metadata": {},
   "outputs": [],
   "source": [
    "def alive_plotter(address, min_months_alive=5):   \n",
    "    from lifetimes.plotting import plot_history_alive\n",
    "\n",
    "  # summary2 = summary\n",
    "  #  summary2['id'] = summary2.index\n",
    "\n",
    "  #  individual_id = summary2.iloc[index].id\n",
    "    \n",
    "    months_since_birth = 5\n",
    "    sp_trans = df2.loc[df2['Shipping Street'] == address]\n",
    "    plt.figure(figsize=(12,10))\n",
    "    plot_history_alive(bgf, months_since_birth, sp_trans, 'Created at')"
   ]
  },
  {
   "cell_type": "code",
   "execution_count": 29,
   "metadata": {},
   "outputs": [
    {
     "data": {
      "image/png": "[encoded data removed]",
      "text/plain": [
       "<Figure size 864x720 with 1 Axes>"
      ]
     },
     "metadata": {},
     "output_type": "display_data"
    }
   ],
   "source": [
    "#address id equivalent here - put in any address/id to display graph\n",
    "alive_plotter('1600 Division Road')"
   ]
  },
  {
   "cell_type": "markdown",
   "metadata": {},
   "source": [
    "## Estimating CLV using Gamma-Gamma Model\n",
    "<a id='exp'></a>"
   ]
  },
  {
   "cell_type": "code",
   "execution_count": 144,
   "metadata": {},
   "outputs": [],
   "source": [
    "#creating a dataframe including the monetary value of each transaction\n",
    "summary2 = summary_data_from_transaction_data(df, 'Shipping Street', 'Created at',monetary_value_col='Total', observation_period_end='2018-07-16', freq= 'M')"
   ]
  },
  {
   "cell_type": "code",
   "execution_count": 147,
   "metadata": {},
   "outputs": [
    {
     "data": {
      "text/html": [
       "<div>\n",
       "<style scoped>\n",
       "    .dataframe tbody tr th:only-of-type {\n",
       "        vertical-align: middle;\n",
       "    }\n",
       "\n",
       "    .dataframe tbody tr th {\n",
       "        vertical-align: top;\n",
       "    }\n",
       "\n",
       "    .dataframe thead th {\n",
       "        text-align: right;\n",
       "    }\n",
       "</style>\n",
       "<table border=\"1\" class=\"dataframe\">\n",
       "  <thead>\n",
       "    <tr style=\"text-align: right;\">\n",
       "      <th></th>\n",
       "      <th>frequency</th>\n",
       "      <th>recency</th>\n",
       "      <th>T</th>\n",
       "      <th>monetary_value</th>\n",
       "    </tr>\n",
       "    <tr>\n",
       "      <th>Shipping Street</th>\n",
       "      <th></th>\n",
       "      <th></th>\n",
       "      <th></th>\n",
       "      <th></th>\n",
       "    </tr>\n",
       "  </thead>\n",
       "  <tbody>\n",
       "    <tr>\n",
       "      <th>105 Arbor Park Drive</th>\n",
       "      <td>3.0</td>\n",
       "      <td>23.0</td>\n",
       "      <td>23.0</td>\n",
       "      <td>201.683333</td>\n",
       "    </tr>\n",
       "    <tr>\n",
       "      <th>1428 212 street</th>\n",
       "      <td>0.0</td>\n",
       "      <td>0.0</td>\n",
       "      <td>11.0</td>\n",
       "      <td>0.000000</td>\n",
       "    </tr>\n",
       "    <tr>\n",
       "      <th>1 Abbott Road, Unit 68</th>\n",
       "      <td>0.0</td>\n",
       "      <td>0.0</td>\n",
       "      <td>29.0</td>\n",
       "      <td>0.000000</td>\n",
       "    </tr>\n",
       "    <tr>\n",
       "      <th>1 David N Meyers Parkway</th>\n",
       "      <td>0.0</td>\n",
       "      <td>0.0</td>\n",
       "      <td>22.0</td>\n",
       "      <td>0.000000</td>\n",
       "    </tr>\n",
       "    <tr>\n",
       "      <th>1 Depot Pl</th>\n",
       "      <td>0.0</td>\n",
       "      <td>0.0</td>\n",
       "      <td>19.0</td>\n",
       "      <td>0.000000</td>\n",
       "    </tr>\n",
       "  </tbody>\n",
       "</table>\n",
       "</div>"
      ],
      "text/plain": [
       "                          frequency  recency     T  monetary_value\n",
       "Shipping Street                                                   \n",
       " 105 Arbor Park Drive           3.0     23.0  23.0      201.683333\n",
       " 1428 212 street                0.0      0.0  11.0        0.000000\n",
       "1 Abbott Road, Unit 68          0.0      0.0  29.0        0.000000\n",
       "1 David N Meyers Parkway        0.0      0.0  22.0        0.000000\n",
       "1 Depot Pl                      0.0      0.0  19.0        0.000000"
      ]
     },
     "execution_count": 147,
     "metadata": {},
     "output_type": "execute_result"
    }
   ],
   "source": [
    "summary2.head()"
   ]
  },
  {
   "cell_type": "code",
   "execution_count": 150,
   "metadata": {},
   "outputs": [
    {
     "data": {
      "text/html": [
       "<div>\n",
       "<style scoped>\n",
       "    .dataframe tbody tr th:only-of-type {\n",
       "        vertical-align: middle;\n",
       "    }\n",
       "\n",
       "    .dataframe tbody tr th {\n",
       "        vertical-align: top;\n",
       "    }\n",
       "\n",
       "    .dataframe thead th {\n",
       "        text-align: right;\n",
       "    }\n",
       "</style>\n",
       "<table border=\"1\" class=\"dataframe\">\n",
       "  <thead>\n",
       "    <tr style=\"text-align: right;\">\n",
       "      <th></th>\n",
       "      <th>frequency</th>\n",
       "      <th>recency</th>\n",
       "      <th>T</th>\n",
       "      <th>monetary_value</th>\n",
       "    </tr>\n",
       "    <tr>\n",
       "      <th>Shipping Street</th>\n",
       "      <th></th>\n",
       "      <th></th>\n",
       "      <th></th>\n",
       "      <th></th>\n",
       "    </tr>\n",
       "  </thead>\n",
       "  <tbody>\n",
       "    <tr>\n",
       "      <th>105 Arbor Park Drive</th>\n",
       "      <td>3.0</td>\n",
       "      <td>23.0</td>\n",
       "      <td>23.0</td>\n",
       "      <td>201.683333</td>\n",
       "    </tr>\n",
       "    <tr>\n",
       "      <th>1 Lido Blvd , Apt 1C</th>\n",
       "      <td>4.0</td>\n",
       "      <td>8.0</td>\n",
       "      <td>9.0</td>\n",
       "      <td>384.547500</td>\n",
       "    </tr>\n",
       "    <tr>\n",
       "      <th>1 Parker Ave, #1208</th>\n",
       "      <td>4.0</td>\n",
       "      <td>16.0</td>\n",
       "      <td>26.0</td>\n",
       "      <td>286.487500</td>\n",
       "    </tr>\n",
       "    <tr>\n",
       "      <th>1 barnes circle</th>\n",
       "      <td>1.0</td>\n",
       "      <td>5.0</td>\n",
       "      <td>20.0</td>\n",
       "      <td>109.580000</td>\n",
       "    </tr>\n",
       "    <tr>\n",
       "      <th>1 greenwood court</th>\n",
       "      <td>4.0</td>\n",
       "      <td>12.0</td>\n",
       "      <td>25.0</td>\n",
       "      <td>45.437500</td>\n",
       "    </tr>\n",
       "  </tbody>\n",
       "</table>\n",
       "</div>"
      ],
      "text/plain": [
       "                       frequency  recency     T  monetary_value\n",
       "Shipping Street                                                \n",
       " 105 Arbor Park Drive        3.0     23.0  23.0      201.683333\n",
       "1 Lido Blvd , Apt 1C         4.0      8.0   9.0      384.547500\n",
       "1 Parker Ave, #1208          4.0     16.0  26.0      286.487500\n",
       "1 barnes circle              1.0      5.0  20.0      109.580000\n",
       "1 greenwood court            4.0     12.0  25.0       45.437500"
      ]
     },
     "execution_count": 150,
     "metadata": {},
     "output_type": "execute_result"
    }
   ],
   "source": [
    "#filter summary to only include customers that have returned at least once\n",
    "returning_customers_summary = summary2[summary2['frequency']>0]\n",
    "\n",
    "returning_customers_summary.head()"
   ]
  },
  {
   "cell_type": "code",
   "execution_count": 153,
   "metadata": {},
   "outputs": [],
   "source": [
    "#Gamma-Gamma model relies on assumption that monetary value and purchase frequency are independent\n",
    "indep_test = returning_customers_summary[['monetary_value', 'frequency']]"
   ]
  },
  {
   "cell_type": "code",
   "execution_count": 154,
   "metadata": {},
   "outputs": [
    {
     "data": {
      "text/html": [
       "<div>\n",
       "<style scoped>\n",
       "    .dataframe tbody tr th:only-of-type {\n",
       "        vertical-align: middle;\n",
       "    }\n",
       "\n",
       "    .dataframe tbody tr th {\n",
       "        vertical-align: top;\n",
       "    }\n",
       "\n",
       "    .dataframe thead th {\n",
       "        text-align: right;\n",
       "    }\n",
       "</style>\n",
       "<table border=\"1\" class=\"dataframe\">\n",
       "  <thead>\n",
       "    <tr style=\"text-align: right;\">\n",
       "      <th></th>\n",
       "      <th>monetary_value</th>\n",
       "      <th>frequency</th>\n",
       "    </tr>\n",
       "  </thead>\n",
       "  <tbody>\n",
       "    <tr>\n",
       "      <th>monetary_value</th>\n",
       "      <td>1.000000</td>\n",
       "      <td>0.066845</td>\n",
       "    </tr>\n",
       "    <tr>\n",
       "      <th>frequency</th>\n",
       "      <td>0.066845</td>\n",
       "      <td>1.000000</td>\n",
       "    </tr>\n",
       "  </tbody>\n",
       "</table>\n",
       "</div>"
      ],
      "text/plain": [
       "                monetary_value  frequency\n",
       "monetary_value        1.000000   0.066845\n",
       "frequency             0.066845   1.000000"
      ]
     },
     "execution_count": 154,
     "metadata": {},
     "output_type": "execute_result"
    }
   ],
   "source": [
    "#correlation\n",
    "indep_test.corr()"
   ]
  },
  {
   "cell_type": "code",
   "execution_count": 158,
   "metadata": {},
   "outputs": [
    {
     "data": {
      "text/plain": [
       "<matplotlib.axes._subplots.AxesSubplot at 0x1a1ce9ff98>"
      ]
     },
     "execution_count": 158,
     "metadata": {},
     "output_type": "execute_result"
    },
    {
     "data": {
      "image/png": "[encoded data removed]",
      "text/plain": [
       "<Figure size 432x288 with 1 Axes>"
      ]
     },
     "metadata": {},
     "output_type": "display_data"
    }
   ],
   "source": [
    "indep_test.plot(x='monetary_value', y='frequency', kind='scatter')"
   ]
  },
  {
   "cell_type": "code",
   "execution_count": 159,
   "metadata": {},
   "outputs": [
    {
     "name": "stdout",
     "output_type": "stream",
     "text": [
      "<lifetimes.GammaGammaFitter: fitted with 560 subjects, p: 2.16, q: 3.18, v: 324.87>\n"
     ]
    }
   ],
   "source": [
    "#fitting model\n",
    "from lifetimes import GammaGammaFitter\n",
    "\n",
    "ggf = GammaGammaFitter(penalizer_coef = 0)\n",
    "ggf.fit(returning_customers_summary['frequency'],\n",
    "        returning_customers_summary['monetary_value'])\n",
    "print(ggf)"
   ]
  },
  {
   "cell_type": "markdown",
   "metadata": {},
   "source": [
    "**Estimating average transaction value**"
   ]
  },
  {
   "cell_type": "code",
   "execution_count": 173,
   "metadata": {},
   "outputs": [],
   "source": [
    "CoExAvPr = pd.DataFrame(ggf.conditional_expected_average_profit(\n",
    "        summary2['frequency'],\n",
    "        summary2['monetary_value']\n",
    "    ))"
   ]
  },
  {
   "cell_type": "code",
   "execution_count": 174,
   "metadata": {},
   "outputs": [],
   "source": [
    "CoExAvPr.columns = ['conditional_expected_average_profit']"
   ]
  },
  {
   "cell_type": "code",
   "execution_count": 176,
   "metadata": {},
   "outputs": [
    {
     "data": {
      "text/html": [
       "<div>\n",
       "<style scoped>\n",
       "    .dataframe tbody tr th:only-of-type {\n",
       "        vertical-align: middle;\n",
       "    }\n",
       "\n",
       "    .dataframe tbody tr th {\n",
       "        vertical-align: top;\n",
       "    }\n",
       "\n",
       "    .dataframe thead th {\n",
       "        text-align: right;\n",
       "    }\n",
       "</style>\n",
       "<table border=\"1\" class=\"dataframe\">\n",
       "  <thead>\n",
       "    <tr style=\"text-align: right;\">\n",
       "      <th></th>\n",
       "      <th>conditional_expected_average_profit</th>\n",
       "    </tr>\n",
       "    <tr>\n",
       "      <th>Shipping Street</th>\n",
       "      <th></th>\n",
       "    </tr>\n",
       "  </thead>\n",
       "  <tbody>\n",
       "    <tr>\n",
       "      <th>5650 Greenpointe Drive N, Warehouse C</th>\n",
       "      <td>2403.029323</td>\n",
       "    </tr>\n",
       "    <tr>\n",
       "      <th>1239 Broadway</th>\n",
       "      <td>2004.865052</td>\n",
       "    </tr>\n",
       "    <tr>\n",
       "      <th>Seminario 615, Providencia</th>\n",
       "      <td>1797.374884</td>\n",
       "    </tr>\n",
       "    <tr>\n",
       "      <th>99 Farmview DR C</th>\n",
       "      <td>1542.083939</td>\n",
       "    </tr>\n",
       "    <tr>\n",
       "      <th>559 Spring Road</th>\n",
       "      <td>1285.901600</td>\n",
       "    </tr>\n",
       "    <tr>\n",
       "      <th>143 corporate place</th>\n",
       "      <td>1274.122701</td>\n",
       "    </tr>\n",
       "    <tr>\n",
       "      <th>777 NW 72ND AVE, STE 1001</th>\n",
       "      <td>1225.111293</td>\n",
       "    </tr>\n",
       "    <tr>\n",
       "      <th>825 Walnut St.</th>\n",
       "      <td>1193.929019</td>\n",
       "    </tr>\n",
       "    <tr>\n",
       "      <th>1285 Grandview Avenue</th>\n",
       "      <td>1169.956797</td>\n",
       "    </tr>\n",
       "    <tr>\n",
       "      <th>3772 Main St</th>\n",
       "      <td>1137.712576</td>\n",
       "    </tr>\n",
       "  </tbody>\n",
       "</table>\n",
       "</div>"
      ],
      "text/plain": [
       "                                       conditional_expected_average_profit\n",
       "Shipping Street                                                           \n",
       "5650 Greenpointe Drive N, Warehouse C                          2403.029323\n",
       "1239 Broadway                                                  2004.865052\n",
       "Seminario 615, Providencia                                     1797.374884\n",
       "99 Farmview DR C                                               1542.083939\n",
       "559 Spring Road                                                1285.901600\n",
       "143 corporate place                                            1274.122701\n",
       "777 NW 72ND AVE, STE 1001                                      1225.111293\n",
       "825 Walnut St.                                                 1193.929019\n",
       "1285 Grandview Avenue                                          1169.956797\n",
       "3772 Main St                                                   1137.712576"
      ]
     },
     "execution_count": 176,
     "metadata": {},
     "output_type": "execute_result"
    }
   ],
   "source": [
    "CoExAvPr.sort_values(by='conditional_expected_average_profit', ascending=False).head(10)"
   ]
  },
  {
   "cell_type": "markdown",
   "metadata": {},
   "source": [
    "**Calculating total CLV using Discounted Cash Flow Method (DCF)**\n",
    "<a id='clv'></a>"
   ]
  },
  {
   "cell_type": "code",
   "execution_count": 179,
   "metadata": {},
   "outputs": [],
   "source": [
    "# refit the BG model to the summary_with_money_value dataset\n",
    "bgf.fit(summary2['frequency'], summary2['recency'], summary2['T'])\n",
    "\n",
    "clv = pd.DataFrame(ggf.customer_lifetime_value(\n",
    "    bgf, #the model to use to predict the number of future transactions\n",
    "    summary2['frequency'],\n",
    "    summary2['recency'],\n",
    "    summary2['T'],\n",
    "    summary2['monetary_value'],\n",
    "    time=12, # months\n",
    "    discount_rate=0.01 # monthly discount rate ~ 12.7% annually\n",
    "))"
   ]
  },
  {
   "cell_type": "code",
   "execution_count": 181,
   "metadata": {},
   "outputs": [
    {
     "data": {
      "text/html": [
       "<div>\n",
       "<style scoped>\n",
       "    .dataframe tbody tr th:only-of-type {\n",
       "        vertical-align: middle;\n",
       "    }\n",
       "\n",
       "    .dataframe tbody tr th {\n",
       "        vertical-align: top;\n",
       "    }\n",
       "\n",
       "    .dataframe thead th {\n",
       "        text-align: right;\n",
       "    }\n",
       "</style>\n",
       "<table border=\"1\" class=\"dataframe\">\n",
       "  <thead>\n",
       "    <tr style=\"text-align: right;\">\n",
       "      <th></th>\n",
       "      <th>clv</th>\n",
       "    </tr>\n",
       "    <tr>\n",
       "      <th>Shipping Street</th>\n",
       "      <th></th>\n",
       "    </tr>\n",
       "  </thead>\n",
       "  <tbody>\n",
       "    <tr>\n",
       "      <th>3772 Main St</th>\n",
       "      <td>29421.847503</td>\n",
       "    </tr>\n",
       "    <tr>\n",
       "      <th>1908 Haven Bend</th>\n",
       "      <td>29189.790142</td>\n",
       "    </tr>\n",
       "    <tr>\n",
       "      <th>Seminario 615, Providencia</th>\n",
       "      <td>27149.601081</td>\n",
       "    </tr>\n",
       "    <tr>\n",
       "      <th>10 High ridge Rd</th>\n",
       "      <td>25863.192473</td>\n",
       "    </tr>\n",
       "    <tr>\n",
       "      <th>825 Walnut St.</th>\n",
       "      <td>21582.937179</td>\n",
       "    </tr>\n",
       "    <tr>\n",
       "      <th>9810 3rd Ave</th>\n",
       "      <td>18230.579697</td>\n",
       "    </tr>\n",
       "    <tr>\n",
       "      <th>425 Dexter Street</th>\n",
       "      <td>17382.535295</td>\n",
       "    </tr>\n",
       "    <tr>\n",
       "      <th>720 asbury ave</th>\n",
       "      <td>17339.095575</td>\n",
       "    </tr>\n",
       "    <tr>\n",
       "      <th>1600 Division Road</th>\n",
       "      <td>16930.788319</td>\n",
       "    </tr>\n",
       "    <tr>\n",
       "      <th>28 jfk blvd</th>\n",
       "      <td>15347.918027</td>\n",
       "    </tr>\n",
       "  </tbody>\n",
       "</table>\n",
       "</div>"
      ],
      "text/plain": [
       "                                      clv\n",
       "Shipping Street                          \n",
       "3772 Main St                 29421.847503\n",
       "1908 Haven Bend              29189.790142\n",
       "Seminario 615, Providencia   27149.601081\n",
       "10 High ridge Rd             25863.192473\n",
       "825 Walnut St.               21582.937179\n",
       "9810 3rd Ave                 18230.579697\n",
       "425 Dexter Street            17382.535295\n",
       "720 asbury ave               17339.095575\n",
       "1600 Division Road           16930.788319\n",
       "28 jfk blvd                  15347.918027"
      ]
     },
     "execution_count": 181,
     "metadata": {},
     "output_type": "execute_result"
    }
   ],
   "source": [
    "clv.sort_values(by='clv', ascending=False).head(10)"
   ]
  },
  {
   "cell_type": "code",
   "execution_count": null,
   "metadata": {},
   "outputs": [],
   "source": []
  }
 ],
 "metadata": {
  "kernelspec": {
   "display_name": "Python 3",
   "language": "python",
   "name": "python3"
  },
  "language_info": {
   "codemirror_mode": {
    "name": "ipython",
    "version": 3
   },
   "file_extension": ".py",
   "mimetype": "text/x-python",
   "name": "python",
   "nbconvert_exporter": "python",
   "pygments_lexer": "ipython3",
   "version": "3.6.5"
  }
 },
 "nbformat": 4,
 "nbformat_minor": 2
}
