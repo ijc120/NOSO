{
 "cells": [
  {
   "cell_type": "code",
   "execution_count": 26,
   "metadata": {},
   "outputs": [],
   "source": [
    "import pandas as pd\n",
    "import numpy as np\n",
    "import matplotlib.pyplot\n",
    "import re \n",
    "pd.options.display.max_rows = 1000\n",
    "pd.options.display.max_columns = 300"
   ]
  },
  {
   "cell_type": "code",
   "execution_count": 72,
   "metadata": {},
   "outputs": [
    {
     "data": {
      "text/plain": [
       "'C:\\\\Users\\\\Bird_\\\\Desktop\\\\Data-Science-Bootcamp\\\\Capstone\\\\NOSO\\\\Bird'"
      ]
     },
     "execution_count": 72,
     "metadata": {},
     "output_type": "execute_result"
    }
   ],
   "source": [
    "pwd"
   ]
  },
  {
   "cell_type": "code",
   "execution_count": 59,
   "metadata": {},
   "outputs": [
    {
     "name": "stderr",
     "output_type": "stream",
     "text": [
      "C:\\Users\\Bird_\\Anaconda3\\lib\\site-packages\\IPython\\core\\interactiveshell.py:2785: DtypeWarning: Columns (6) have mixed types. Specify dtype option on import or set low_memory=False.\n",
      "  interactivity=interactivity, compiler=compiler, result=result)\n"
     ]
    }
   ],
   "source": [
    "inventory = pd.read_csv('../UNO_inventory_item.csv')"
   ]
  },
  {
   "cell_type": "code",
   "execution_count": null,
   "metadata": {},
   "outputs": [],
   "source": [
    "sale = pd.read_csv('../UNO_Sale_vs_RCVD.csv')"
   ]
  },
  {
   "cell_type": "code",
   "execution_count": 3,
   "metadata": {},
   "outputs": [
    {
     "data": {
      "text/html": [
       "<div>\n",
       "<style scoped>\n",
       "    .dataframe tbody tr th:only-of-type {\n",
       "        vertical-align: middle;\n",
       "    }\n",
       "\n",
       "    .dataframe tbody tr th {\n",
       "        vertical-align: top;\n",
       "    }\n",
       "\n",
       "    .dataframe thead th {\n",
       "        text-align: right;\n",
       "    }\n",
       "</style>\n",
       "<table border=\"1\" class=\"dataframe\">\n",
       "  <thead>\n",
       "    <tr style=\"text-align: right;\">\n",
       "      <th></th>\n",
       "      <th>STYLE#</th>\n",
       "      <th>COLOR</th>\n",
       "      <th>DESCRIPTION</th>\n",
       "      <th>CUST #</th>\n",
       "      <th>INVC DATE</th>\n",
       "      <th>QTY</th>\n",
       "      <th>UNIT PRICE</th>\n",
       "      <th>EXT-AMT</th>\n",
       "      <th>REASON</th>\n",
       "      <th>IMPORT HANDMADE</th>\n",
       "      <th>MANUFACTORS</th>\n",
       "      <th>State_sold</th>\n",
       "      <th>ZIP_sold</th>\n",
       "      <th>RELEASED YEAR</th>\n",
       "      <th>Seasos</th>\n",
       "      <th>Season target</th>\n",
       "      <th>LAST RCVD</th>\n",
       "      <th>FIRST RCVD</th>\n",
       "      <th>LAST INVOICED</th>\n",
       "      <th>FIRST INVOICED</th>\n",
       "    </tr>\n",
       "  </thead>\n",
       "  <tbody>\n",
       "    <tr>\n",
       "      <th>0</th>\n",
       "      <td>DTA1A9500</td>\n",
       "      <td>IV</td>\n",
       "      <td>SEED BEAD ANKLET</td>\n",
       "      <td>CB001</td>\n",
       "      <td>4/12/16</td>\n",
       "      <td>144</td>\n",
       "      <td>$ 4.00</td>\n",
       "      <td>$ 576.00</td>\n",
       "      <td>NaN</td>\n",
       "      <td>IMPORT</td>\n",
       "      <td>ICC</td>\n",
       "      <td>FL</td>\n",
       "      <td>33708</td>\n",
       "      <td>2016</td>\n",
       "      <td>2016 1ST</td>\n",
       "      <td>SS16</td>\n",
       "      <td>4/12/16</td>\n",
       "      <td>4/12/16</td>\n",
       "      <td>10/3/18</td>\n",
       "      <td>4/12/16</td>\n",
       "    </tr>\n",
       "    <tr>\n",
       "      <th>1</th>\n",
       "      <td>DTA1A9500</td>\n",
       "      <td>MUL</td>\n",
       "      <td>SEED BEAD ANKLET</td>\n",
       "      <td>CB001</td>\n",
       "      <td>4/12/16</td>\n",
       "      <td>144</td>\n",
       "      <td>$ 4.00</td>\n",
       "      <td>$ 576.00</td>\n",
       "      <td>NaN</td>\n",
       "      <td>IMPORT</td>\n",
       "      <td>ICC</td>\n",
       "      <td>FL</td>\n",
       "      <td>33708</td>\n",
       "      <td>2016</td>\n",
       "      <td>2016 1ST</td>\n",
       "      <td>SS16</td>\n",
       "      <td>4/12/16</td>\n",
       "      <td>4/12/16</td>\n",
       "      <td>10/3/18</td>\n",
       "      <td>4/12/16</td>\n",
       "    </tr>\n",
       "    <tr>\n",
       "      <th>2</th>\n",
       "      <td>DTA1A9500</td>\n",
       "      <td>TQ</td>\n",
       "      <td>SEED BEAD ANKLET</td>\n",
       "      <td>CB001</td>\n",
       "      <td>4/12/16</td>\n",
       "      <td>144</td>\n",
       "      <td>$ 4.00</td>\n",
       "      <td>$ 576.00</td>\n",
       "      <td>NaN</td>\n",
       "      <td>IMPORT</td>\n",
       "      <td>ICC</td>\n",
       "      <td>FL</td>\n",
       "      <td>33708</td>\n",
       "      <td>2016</td>\n",
       "      <td>2016 1ST</td>\n",
       "      <td>SS16</td>\n",
       "      <td>4/12/16</td>\n",
       "      <td>4/12/16</td>\n",
       "      <td>10/3/18</td>\n",
       "      <td>4/12/16</td>\n",
       "    </tr>\n",
       "    <tr>\n",
       "      <th>3</th>\n",
       "      <td>DTA1B2029</td>\n",
       "      <td>WG-COR</td>\n",
       "      <td>3 ROW WOOD BEAD STRETCH BR</td>\n",
       "      <td>CHE005</td>\n",
       "      <td>5/20/16</td>\n",
       "      <td>12</td>\n",
       "      <td>$ 3.25</td>\n",
       "      <td>$ 39.00</td>\n",
       "      <td>NaN</td>\n",
       "      <td>IMPORT</td>\n",
       "      <td>NOBLES</td>\n",
       "      <td>LA</td>\n",
       "      <td>71235</td>\n",
       "      <td>2016</td>\n",
       "      <td>2016 1ST</td>\n",
       "      <td>SS16</td>\n",
       "      <td>4/11/16</td>\n",
       "      <td>4/4/16</td>\n",
       "      <td>10/3/18</td>\n",
       "      <td>4/4/16</td>\n",
       "    </tr>\n",
       "    <tr>\n",
       "      <th>4</th>\n",
       "      <td>DTA1B2029</td>\n",
       "      <td>WG-COR</td>\n",
       "      <td>3 ROW WOOD BEAD STRETCH BR</td>\n",
       "      <td>GMA01</td>\n",
       "      <td>8/22/16</td>\n",
       "      <td>24</td>\n",
       "      <td>$ 3.25</td>\n",
       "      <td>$ 78.00</td>\n",
       "      <td>NaN</td>\n",
       "      <td>IMPORT</td>\n",
       "      <td>NOBLES</td>\n",
       "      <td>0</td>\n",
       "      <td>0</td>\n",
       "      <td>2016</td>\n",
       "      <td>2016 1ST</td>\n",
       "      <td>SS16</td>\n",
       "      <td>4/11/16</td>\n",
       "      <td>4/4/16</td>\n",
       "      <td>10/3/18</td>\n",
       "      <td>4/4/16</td>\n",
       "    </tr>\n",
       "  </tbody>\n",
       "</table>\n",
       "</div>"
      ],
      "text/plain": [
       "      STYLE#   COLOR                 DESCRIPTION  CUST # INVC DATE  QTY  \\\n",
       "0  DTA1A9500      IV            SEED BEAD ANKLET   CB001   4/12/16  144   \n",
       "1  DTA1A9500     MUL            SEED BEAD ANKLET   CB001   4/12/16  144   \n",
       "2  DTA1A9500      TQ            SEED BEAD ANKLET   CB001   4/12/16  144   \n",
       "3  DTA1B2029  WG-COR  3 ROW WOOD BEAD STRETCH BR  CHE005   5/20/16   12   \n",
       "4  DTA1B2029  WG-COR  3 ROW WOOD BEAD STRETCH BR   GMA01   8/22/16   24   \n",
       "\n",
       "  UNIT PRICE     EXT-AMT REASON IMPORT HANDMADE MANUFACTORS State_sold  \\\n",
       "0    $ 4.00    $ 576.00     NaN          IMPORT         ICC         FL   \n",
       "1    $ 4.00    $ 576.00     NaN          IMPORT         ICC         FL   \n",
       "2    $ 4.00    $ 576.00     NaN          IMPORT         ICC         FL   \n",
       "3    $ 3.25     $ 39.00     NaN          IMPORT      NOBLES         LA   \n",
       "4    $ 3.25     $ 78.00     NaN          IMPORT      NOBLES          0   \n",
       "\n",
       "  ZIP_sold RELEASED YEAR    Seasos Season target LAST RCVD FIRST RCVD  \\\n",
       "0    33708          2016  2016 1ST          SS16   4/12/16    4/12/16   \n",
       "1    33708          2016  2016 1ST          SS16   4/12/16    4/12/16   \n",
       "2    33708          2016  2016 1ST          SS16   4/12/16    4/12/16   \n",
       "3    71235          2016  2016 1ST          SS16   4/11/16     4/4/16   \n",
       "4        0          2016  2016 1ST          SS16   4/11/16     4/4/16   \n",
       "\n",
       "  LAST INVOICED FIRST INVOICED  \n",
       "0       10/3/18        4/12/16  \n",
       "1       10/3/18        4/12/16  \n",
       "2       10/3/18        4/12/16  \n",
       "3       10/3/18         4/4/16  \n",
       "4       10/3/18         4/4/16  "
      ]
     },
     "execution_count": 3,
     "metadata": {},
     "output_type": "execute_result"
    }
   ],
   "source": [
    "sale.head(5)"
   ]
  },
  {
   "cell_type": "code",
   "execution_count": 60,
   "metadata": {},
   "outputs": [],
   "source": [
    "inventory = inventory.drop(['CB Reason', 'ToWH'], axis = 1)\n",
    "inventory.Description = inventory.Description.str.replace('\\d+', '')\n",
    "inventory.Description = inventory.Description.str.replace('[^A-Za-z0-9\\s]+', '')"
   ]
  },
  {
   "cell_type": "code",
   "execution_count": 61,
   "metadata": {},
   "outputs": [],
   "source": [
    "inventory = inventory.drop(inventory.index[[104821,104822,104823,104824,104825,104826,104826,104828,104829]])"
   ]
  },
  {
   "cell_type": "code",
   "execution_count": 6,
   "metadata": {},
   "outputs": [],
   "source": [
    "#REMOVE ALL THE NUMBER IN THE COLUMN\n",
    "sale.DESCRIPTION = sale.DESCRIPTION.str.replace('\\d+', '')"
   ]
  },
  {
   "cell_type": "code",
   "execution_count": 7,
   "metadata": {},
   "outputs": [],
   "source": [
    "#REMOVE ALL THE SPECIAL CHARACTER WITHOUT REMOVING SPACE (\\s means space)\n",
    "sale.DESCRIPTION = sale.DESCRIPTION.str.replace('[^A-Za-z0-9\\s]+', '')"
   ]
  },
  {
   "cell_type": "code",
   "execution_count": 8,
   "metadata": {},
   "outputs": [],
   "source": [
    "#Remove all space at the front and at the back\n",
    "sale.DESCRIPTION = sale.DESCRIPTION.str.lower().str.strip()"
   ]
  },
  {
   "cell_type": "code",
   "execution_count": 9,
   "metadata": {},
   "outputs": [],
   "source": [
    "sale = sale.drop(sale.index[[52522,108817,108818,108819,108820]])"
   ]
  },
  {
   "cell_type": "code",
   "execution_count": 10,
   "metadata": {},
   "outputs": [],
   "source": [
    "sale['Categories'] = sale['DESCRIPTION'].str.split()"
   ]
  },
  {
   "cell_type": "code",
   "execution_count": 11,
   "metadata": {},
   "outputs": [],
   "source": [
    "def up1(x):\n",
    "    return x[-7:]\n",
    "def up2(y):\n",
    "    return list(map(up1,y))"
   ]
  },
  {
   "cell_type": "code",
   "execution_count": 12,
   "metadata": {},
   "outputs": [],
   "source": [
    "sale['Categories1'] = up2(sale['Categories'])"
   ]
  },
  {
   "cell_type": "code",
   "execution_count": 13,
   "metadata": {},
   "outputs": [],
   "source": [
    "sale.loc[sale.Categories1.str.contains('earrings'), 'Categories1'] = 'Earrings'\n",
    "sale.loc[sale.Categories1.str.contains('earring'), 'Categories1'] = 'Earrings'\n",
    "sale.loc[sale.Categories1.str.contains('studs'), 'Categories1'] = 'Earrings'\n",
    "sale.loc[sale.Categories1.str.contains('ear'), 'Categories1'] = 'Earrings'\n",
    "sale.loc[sale.Categories1.str.contains('studs'), 'Categories1'] = 'Earrings'"
   ]
  },
  {
   "cell_type": "code",
   "execution_count": 14,
   "metadata": {},
   "outputs": [],
   "source": [
    "sale.loc[sale.Categories1.str.contains('nk'), 'Categories1'] = 'Necklace'\n",
    "sale.loc[sale.Categories1.str.contains('pendant'), 'Categories1'] = 'Necklace'\n",
    "sale.loc[sale.Categories1.str.contains('necklace'), 'Categories1'] = 'Necklace'\n",
    "sale.loc[sale.Categories1.str.contains('y shape glass bead'), 'Categories1'] = 'Necklace'\n",
    "sale.loc[sale.Categories1.str.contains('natural color wood beads with suede'), 'Categories1'] = 'Necklace'\n",
    "sale.loc[sale.Categories1.str.contains('choker'), 'Categories1'] = 'Necklace'\n",
    "sale.loc[sale.Categories1.str.contains('natural mini stone bar'), 'Categories1'] = 'Necklace'\n",
    "sale.loc[sale.Categories1.str.contains('cross'), 'Categories1'] = 'Necklace'\n",
    "sale.loc[sale.Categories1.str.contains('pend'), 'Categories1'] = 'Necklace'\n",
    "sale.loc[sale.Categories1.str.contains('neck'), 'Categories1'] = 'Necklace'\n",
    "sale.loc[sale.Categories1.str.contains('pendent'), 'Categories1'] = 'Necklace'\n",
    "sale.loc[sale.Categories1.str.contains('locket'), 'Categories1'] = 'Necklace'"
   ]
  },
  {
   "cell_type": "code",
   "execution_count": 15,
   "metadata": {},
   "outputs": [],
   "source": [
    "sale.loc[sale.Categories1.str.contains('br'), 'Categories1'] = 'Bracelet'\n",
    "sale.loc[sale.Categories1.str.contains('bl'), 'Categories1'] = 'Bracelet'\n",
    "sale.loc[sale.Categories1.str.contains('color wood beads with natural stone'), 'Categories1'] = 'Bracelet'\n"
   ]
  },
  {
   "cell_type": "code",
   "execution_count": 16,
   "metadata": {},
   "outputs": [],
   "source": [
    "sale.loc[sale.Categories1.str.contains('tassel'), 'Categories1'] = 'Tassel'\n",
    "sale.loc[sale.Categories1.str.contains('tassle'), 'Categories1'] = 'Tassel'\n",
    "sale.loc[sale.Categories1.str.contains('tsl'), 'Categories1'] = 'Tassel'\n"
   ]
  },
  {
   "cell_type": "code",
   "execution_count": 17,
   "metadata": {},
   "outputs": [],
   "source": [
    "sale.loc[sale.Categories1.str.contains('ring'), 'Categories1'] = 'Ring'\n",
    "sale.loc[sale.Categories1.str.contains('charm'), 'Categories1'] = 'Charm'\n",
    "sale.loc[sale.Categories1.str.contains('crystal beads w natural stone'), 'Categories1'] = 'Charm'\n",
    "sale.loc[sale.Categories1.str.contains('color beads x stones'), 'Categories1'] = 'Charm'\n",
    "sale.loc[sale.Categories1.str.contains('chrm'), 'Categories1'] = 'Charm'"
   ]
  },
  {
   "cell_type": "code",
   "execution_count": 19,
   "metadata": {},
   "outputs": [],
   "source": [
    "category = ['Accessories', 'Earrings', 'Necklace', 'Bracelet', 'Tassel', 'Ring', 'Charm']"
   ]
  },
  {
   "cell_type": "code",
   "execution_count": 23,
   "metadata": {},
   "outputs": [],
   "source": [
    "sale.loc[~sale['Categories1'].isin(category), 'Categories1']='others'"
   ]
  },
  {
   "cell_type": "code",
   "execution_count": 40,
   "metadata": {},
   "outputs": [
    {
     "data": {
      "text/plain": [
       "Ring        57967\n",
       "Necklace    32625\n",
       "others       9035\n",
       "Bracelet     7812\n",
       "Tassel       2819\n",
       "Charm         780\n",
       "Name: Categories1, dtype: int64"
      ]
     },
     "execution_count": 40,
     "metadata": {},
     "output_type": "execute_result"
    }
   ],
   "source": [
    "sale['Categories1'].value_counts()"
   ]
  },
  {
   "cell_type": "code",
   "execution_count": 18,
   "metadata": {},
   "outputs": [],
   "source": [
    "sale['Attribute'] = up2(sale['Categories'])"
   ]
  },
  {
   "cell_type": "code",
   "execution_count": 21,
   "metadata": {},
   "outputs": [],
   "source": [
    "sale.loc[sale.material_style.str.contains('stone'), 'material_style'] = 'nature_stone'\n",
    "sale.loc[sale.material_style.str.contains('bead'), 'material_style'] = 'bead'\n",
    "sale.loc[sale.material_style.str.contains('rose gold'), 'material_style'] = 'gold'\n",
    "sale.loc[sale.material_style.str.contains('rose gold'), 'material_style'] = 'gold'\n",
    "sale.loc[sale.material_style.str.contains('gold'), 'material_style'] = 'gold'\n",
    "sale.loc[sale.material_style.str.contains('metal'), 'material_style'] = 'metal'\n",
    "sale.loc[sale.material_style.str.contains('leather'), 'material_style'] = 'leather'\n",
    "sale.loc[sale.material_style.str.contains('leatehr'), 'material_style'] = 'leather'\n",
    "sale.loc[sale.material_style.str.contains('pearl'), 'material_style'] = 'pearl'\n",
    "sale.loc[sale.material_style.str.contains('drop'), 'material_style'] = 'gemstone'\n",
    "sale.loc[sale.material_style.str.contains('teardrop'), 'material_style'] = 'shape_something'\n",
    "sale.loc[sale.material_style.str.contains('tear drop'), 'material_style'] = 'shape_something'\n",
    "sale.loc[sale.material_style.str.contains('silk'), 'material_style'] = 'cotton'\n",
    "sale.loc[sale.material_style.str.contains('cutton'), 'material_style'] = 'cotton'\n",
    "sale.loc[sale.material_style.str.contains('cotton'), 'material_style'] = 'cotton'\n",
    "sale.loc[sale.material_style.str.contains('wood'), 'material_style'] = 'wood'\n",
    "sale.loc[sale.material_style.str.contains('shell'), 'material_style'] = 'shell'\n",
    "sale.loc[sale.material_style.str.contains('wire'), 'material_style'] = 'wired'\n",
    "sale.loc[sale.material_style.str.contains('wired'), 'material_style'] = 'wired'"
   ]
  },
  {
   "cell_type": "code",
   "execution_count": 28,
   "metadata": {},
   "outputs": [],
   "source": [
    "sale.loc[sale.material_style.str.contains('long'), 'material_style'] = 'long'\n",
    "sale.loc[sale.material_style.str.contains('short'), 'material_style'] = 'short'\n",
    "sale.loc[sale.material_style.str.contains('druzy'), 'material_style'] = 'druzy'\n",
    "sale.loc[sale.material_style.str.contains('shape'), 'material_style'] = 'shape_something'\n",
    "sale.loc[sale.material_style.str.contains('wrapping'), 'material_style'] = 'wrap'\n",
    "sale.loc[sale.material_style.str.contains('wrapped'), 'material_style'] = 'wrap'"
   ]
  },
  {
   "cell_type": "code",
   "execution_count": 32,
   "metadata": {},
   "outputs": [],
   "source": [
    "sale.loc[sale.material_style.str.contains('hook'), 'material_style'] = 'hook'"
   ]
  },
  {
   "cell_type": "code",
   "execution_count": 35,
   "metadata": {},
   "outputs": [],
   "source": [
    "sale.loc[sale.material_style.str.contains('glass'), 'material_style'] = 'glass'\n",
    "sale.loc[sale.material_style.str.contains('word'), 'material_style'] = 'word'\n",
    "sale.loc[sale.material_style.str.contains('text'), 'material_style'] = 'word'\n",
    "sale.loc[sale.material_style.str.contains('feather'), 'material_style'] = 'feather'\n",
    "sale.loc[sale.material_style.str.contains('stretch'), 'material_style'] = 'stretch'\n",
    "sale.loc[sale.material_style.str.contains('round'), 'material_style'] = 'shape_something'\n",
    "sale.loc[sale.material_style.str.contains('circle'), 'material_style'] = 'shape_something'\n",
    "sale.loc[sale.material_style.str.contains('oval'), 'material_style'] = 'shape_something'\n",
    "sale.loc[sale.material_style.str.contains('rect'), 'material_style'] = 'shape_something'\n",
    "sale.loc[sale.material_style.str.contains('crystal'), 'material_style'] = 'crystal'\n",
    "sale.loc[sale.material_style.str.contains('orbital'), 'material_style'] = 'shape_something'\n",
    "sale.loc[sale.material_style.str.contains('flower'), 'material_style'] = 'flower-styled'\n",
    "sale.loc[sale.material_style.str.contains('leaf'), 'material_style'] = 'flower-styled'\n",
    "sale.loc[sale.material_style.str.contains('disk'), 'material_style'] = 'shape_something'\n",
    "sale.loc[sale.material_style.str.contains('ball'), 'material_style'] = 'shape_something'\n",
    "sale.loc[sale.material_style.str.contains('arrow'), 'material_style'] = 'shape_something'"
   ]
  },
  {
   "cell_type": "code",
   "execution_count": 36,
   "metadata": {},
   "outputs": [],
   "source": [
    "distinct = ['glass','word','feather','stretch','shape_something','crystal','flower-styled','hook','wrap','shape_something','druzy','short','long','chain','stone','bead','wired', 'rose gold','gold','metal','leather','pearl','gemstone','cotton','wood','shell']"
   ]
  },
  {
   "cell_type": "code",
   "execution_count": 37,
   "metadata": {},
   "outputs": [],
   "source": [
    "sale.loc[~sale['material_style'].isin(distinct), 'material_style']='others'"
   ]
  },
  {
   "cell_type": "code",
   "execution_count": 41,
   "metadata": {},
   "outputs": [],
   "source": [
    "sale.to_csv('sale_w_categories.csv')"
   ]
  },
  {
   "cell_type": "code",
   "execution_count": 43,
   "metadata": {},
   "outputs": [],
   "source": [
    "sale.to_pickle('sale_w_categories.pkl')"
   ]
  },
  {
   "cell_type": "code",
   "execution_count": 71,
   "metadata": {},
   "outputs": [],
   "source": [
    "inventory.to_pickle('inventory.pkl')"
   ]
  },
  {
   "cell_type": "code",
   "execution_count": 62,
   "metadata": {},
   "outputs": [],
   "source": [
    "inventory.Description = inventory.Description.str.lower().str.strip()"
   ]
  },
  {
   "cell_type": "code",
   "execution_count": 63,
   "metadata": {},
   "outputs": [],
   "source": [
    "inventory['Categories'] = inventory['Description'].str.split()"
   ]
  },
  {
   "cell_type": "code",
   "execution_count": 65,
   "metadata": {},
   "outputs": [],
   "source": [
    "inventory.Categories = inventory.Categories.str.replace('[^A-Za-z0-9\\s]+', '')"
   ]
  },
  {
   "cell_type": "code",
   "execution_count": 67,
   "metadata": {},
   "outputs": [],
   "source": [
    "inventory.Categories = sale.Categories.str.replace('\\d+', '')"
   ]
  },
  {
   "cell_type": "code",
   "execution_count": 51,
   "metadata": {},
   "outputs": [],
   "source": [
    "inventory = inventory.dropna(thresh=2)"
   ]
  },
  {
   "cell_type": "code",
   "execution_count": 69,
   "metadata": {},
   "outputs": [],
   "source": [
    "inventory = inventory[inventory.Description != '']"
   ]
  },
  {
   "cell_type": "code",
   "execution_count": null,
   "metadata": {},
   "outputs": [],
   "source": [
    "inventory['Categories1'] = up2(sale['Categories'])"
   ]
  }
 ],
 "metadata": {
  "kernelspec": {
   "display_name": "Python 3",
   "language": "python",
   "name": "python3"
  },
  "language_info": {
   "codemirror_mode": {
    "name": "ipython",
    "version": 3
   },
   "file_extension": ".py",
   "mimetype": "text/x-python",
   "name": "python",
   "nbconvert_exporter": "python",
   "pygments_lexer": "ipython3",
   "version": "3.6.5"
  }
 },
 "nbformat": 4,
 "nbformat_minor": 2
}
