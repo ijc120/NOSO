{
 "cells": [
  {
   "cell_type": "code",
   "execution_count": 1,
   "metadata": {},
   "outputs": [],
   "source": [
    "import pandas as pd\n",
    "import numpy as np\n",
    "import re\n",
    "pd.options.display.max_rows = 1000\n",
    "pd.options.display.max_columns = 300\n",
    "import matplotlib.pyplot"
   ]
  },
  {
   "cell_type": "code",
   "execution_count": 2,
   "metadata": {},
   "outputs": [],
   "source": [
    "sale = pd.read_csv('../UNO_Sale_vs_RCVD.csv')"
   ]
  },
  {
   "cell_type": "code",
   "execution_count": null,
   "metadata": {},
   "outputs": [],
   "source": [
    "#sale = sale.drop(['Categories','FIRST RCVD'], axis = 1)"
   ]
  },
  {
   "cell_type": "code",
   "execution_count": null,
   "metadata": {},
   "outputs": [],
   "source": [
    "#sale.head(5)"
   ]
  },
  {
   "cell_type": "code",
   "execution_count": null,
   "metadata": {},
   "outputs": [],
   "source": [
    "#sale['style_color'] = sale['STYLE#']+sale['COLOR']"
   ]
  },
  {
   "cell_type": "code",
   "execution_count": 3,
   "metadata": {},
   "outputs": [],
   "source": [
    "sale.DESCRIPTION = sale.DESCRIPTION.str.replace('\\d+', '')"
   ]
  },
  {
   "cell_type": "code",
   "execution_count": 4,
   "metadata": {},
   "outputs": [],
   "source": [
    "sale.DESCRIPTION = sale.DESCRIPTION.str.replace('[^A-Za-z0-9\\s]+', '')"
   ]
  },
  {
   "cell_type": "code",
   "execution_count": 5,
   "metadata": {},
   "outputs": [],
   "source": [
    "sale.DESCRIPTION = sale.DESCRIPTION.str.lower().str.strip()"
   ]
  },
  {
   "cell_type": "code",
   "execution_count": 6,
   "metadata": {},
   "outputs": [],
   "source": [
    "sale = sale.drop(sale.index[[52522,108817,108818,108819,108820]])"
   ]
  },
  {
   "cell_type": "code",
   "execution_count": 7,
   "metadata": {},
   "outputs": [],
   "source": [
    "sale['Categories'] = sale['DESCRIPTION'].str.split()"
   ]
  },
  {
   "cell_type": "code",
   "execution_count": 8,
   "metadata": {},
   "outputs": [],
   "source": [
    "def up1(x):\n",
    "    return \" \".join(x[-7:])\n",
    "def up2(y):\n",
    "    return list(map(up1,y))"
   ]
  },
  {
   "cell_type": "code",
   "execution_count": 9,
   "metadata": {},
   "outputs": [],
   "source": [
    "sale['Categories1'] = up2(sale['Categories'])"
   ]
  },
  {
   "cell_type": "code",
   "execution_count": 10,
   "metadata": {},
   "outputs": [],
   "source": [
    "sale.loc[sale.Categories1.str.contains('earrings'), 'Categories1'] = 'EarRings'\n",
    "sale.loc[sale.Categories1.str.contains('er'), 'Categories1'] = 'EarRings'\n",
    "sale.loc[sale.Categories1.str.contains('earring'), 'Categories1'] = 'EarRings'\n",
    "sale.loc[sale.Categories1.str.contains('studs'), 'Categories1'] = 'EarRings'\n",
    "sale.loc[sale.Categories1.str.contains('ear'), 'Categories1'] = 'EarRings'"
   ]
  },
  {
   "cell_type": "code",
   "execution_count": 11,
   "metadata": {},
   "outputs": [],
   "source": [
    "sale.loc[sale.Categories1.str.contains('bags'), 'Categories1'] = 'Accessories'\n",
    "sale.loc[sale.Categories1.str.contains('body'), 'Categories1'] = 'Accessories'\n",
    "sale.loc[sale.Categories1.str.contains('anklet'), 'Categories1'] = 'Accessories'\n",
    "sale.loc[sale.Categories1.str.contains('ank'), 'Categories1'] = 'Accessories'\n",
    "sale.loc[sale.Categories1.str.contains('pins'), 'Categories1'] = 'Accessories'\n",
    "sale.loc[sale.Categories1.str.contains('brooches'), 'Categories1'] = 'Accessories'"
   ]
  },
  {
   "cell_type": "code",
   "execution_count": 12,
   "metadata": {},
   "outputs": [],
   "source": [
    "sale.loc[sale.Categories1.str.contains('chain'), 'Categories1'] = 'Accessories'"
   ]
  },
  {
   "cell_type": "code",
   "execution_count": 13,
   "metadata": {},
   "outputs": [],
   "source": [
    "sale.loc[sale.Categories1.str.contains('nk'), 'Categories1'] = 'Necklace'\n",
    "sale.loc[sale.Categories1.str.contains('pendant'), 'Categories1'] = 'Necklace'\n",
    "sale.loc[sale.Categories1.str.contains('necklace'), 'Categories1'] = 'Necklace'\n",
    "sale.loc[sale.Categories1.str.contains('y shape glass bead'), 'Categories1'] = 'Necklace'\n",
    "sale.loc[sale.Categories1.str.contains('natural color wood beads with suede'), 'Categories1'] = 'Necklace'\n",
    "sale.loc[sale.Categories1.str.contains('choker'), 'Categories1'] = 'Necklace'\n",
    "sale.loc[sale.Categories1.str.contains('natural mini stone bar'), 'Categories1'] = 'Necklace'\n",
    "sale.loc[sale.Categories1.str.contains('cross'), 'Categories1'] = 'Necklace'\n",
    "sale.loc[sale.Categories1.str.contains('pend'), 'Categories1'] = 'Necklace'\n",
    "sale.loc[sale.Categories1.str.contains('neck'), 'Categories1'] = 'Necklace'\n",
    "sale.loc[sale.Categories1.str.contains('pendent'), 'Categories1'] = 'Necklace'\n",
    "sale.loc[sale.Categories1.str.contains('locket'), 'Categories1'] = 'Necklace'"
   ]
  },
  {
   "cell_type": "code",
   "execution_count": 14,
   "metadata": {},
   "outputs": [],
   "source": [
    "sale.loc[sale.Categories1.str.contains('lock'), 'Categories1'] = 'Necklace'"
   ]
  },
  {
   "cell_type": "code",
   "execution_count": 15,
   "metadata": {},
   "outputs": [],
   "source": [
    "sale.loc[sale.Categories1.str.contains('br'), 'Categories1'] = 'Bracelet'\n",
    "sale.loc[sale.Categories1.str.contains('bl'), 'Categories1'] = 'Bracelet'\n",
    "sale.loc[sale.Categories1.str.contains('color wood beads with natural stone'), 'Categories1'] = 'Bracelet'"
   ]
  },
  {
   "cell_type": "code",
   "execution_count": 16,
   "metadata": {},
   "outputs": [],
   "source": [
    "sale.loc[sale.Categories1.str.contains('cuff'), 'Categories1'] = 'Bracelet'"
   ]
  },
  {
   "cell_type": "code",
   "execution_count": 17,
   "metadata": {},
   "outputs": [],
   "source": [
    "sale.loc[sale.Categories1.str.contains('tassel'), 'Categories1'] = 'Tassel'\n",
    "sale.loc[sale.Categories1.str.contains('tassle'), 'Categories1'] = 'Tassel'\n",
    "sale.loc[sale.Categories1.str.contains('tsl'), 'Categories1'] = 'Tassel'"
   ]
  },
  {
   "cell_type": "code",
   "execution_count": 18,
   "metadata": {},
   "outputs": [],
   "source": [
    "sale.loc[sale.Categories1.str.contains('ring'), 'Categories1'] = 'Ring'\n",
    "sale.loc[sale.Categories1.str.contains('charm'), 'Categories1'] = 'Charm'\n",
    "sale.loc[sale.Categories1.str.contains('crystal beads w natural stone'), 'Categories1'] = 'Charm'\n",
    "sale.loc[sale.Categories1.str.contains('color beads x stones'), 'Categories1'] = 'Charm'\n",
    "sale.loc[sale.Categories1.str.contains('chrm'), 'Categories1'] = 'Charm'"
   ]
  },
  {
   "cell_type": "code",
   "execution_count": 19,
   "metadata": {},
   "outputs": [],
   "source": [
    "category = ['Accessories', 'EarRings', 'Necklace', 'Bracelet', 'Tassel', 'Ring', 'Charm']"
   ]
  },
  {
   "cell_type": "code",
   "execution_count": 20,
   "metadata": {},
   "outputs": [],
   "source": [
    "sale.loc[~sale['Categories1'].isin(category), 'Categories1']='others'"
   ]
  },
  {
   "cell_type": "code",
   "execution_count": 21,
   "metadata": {
    "scrolled": false
   },
   "outputs": [
    {
     "data": {
      "text/plain": [
       "EarRings       57439\n",
       "Necklace       30223\n",
       "Bracelet        7718\n",
       "others          7592\n",
       "Accessories     4595\n",
       "Tassel          2214\n",
       "Charm            780\n",
       "Ring             477\n",
       "Name: Categories1, dtype: int64"
      ]
     },
     "execution_count": 21,
     "metadata": {},
     "output_type": "execute_result"
    }
   ],
   "source": [
    "sale['Categories1'].value_counts()"
   ]
  },
  {
   "cell_type": "code",
   "execution_count": 22,
   "metadata": {},
   "outputs": [],
   "source": [
    "sale.to_pickle('sale_with_categories1.pkl')"
   ]
  },
  {
   "cell_type": "code",
   "execution_count": 25,
   "metadata": {},
   "outputs": [],
   "source": [
    "sale['material_style'] = up2(sale['Categories'])"
   ]
  },
  {
   "cell_type": "code",
   "execution_count": 26,
   "metadata": {},
   "outputs": [],
   "source": [
    "sale.loc[sale.material_style.str.contains('stone'), 'material_style'] = 'Nature_Stone'\n",
    "sale.loc[sale.material_style.str.contains('bead'), 'material_style'] = 'bead'\n",
    "sale.loc[sale.material_style.str.contains('rose gold'), 'material_style'] = 'gold'\n",
    "sale.loc[sale.material_style.str.contains('rose gold'), 'material_style'] = 'gold'\n",
    "sale.loc[sale.material_style.str.contains('gold'), 'material_style'] = 'gold'\n",
    "sale.loc[sale.material_style.str.contains('metal'), 'material_style'] = 'metal'\n",
    "sale.loc[sale.material_style.str.contains('leather'), 'material_style'] = 'leather'\n",
    "sale.loc[sale.material_style.str.contains('leatehr'), 'material_style'] = 'leather'\n",
    "sale.loc[sale.material_style.str.contains('pearl'), 'material_style'] = 'pearl'\n",
    "sale.loc[sale.material_style.str.contains('drop'), 'material_style'] = 'gemstone'\n",
    "sale.loc[sale.material_style.str.contains('teardrop'), 'material_style'] = 'shape_something'\n",
    "sale.loc[sale.material_style.str.contains('tear drop'), 'material_style'] = 'shape_something'\n",
    "sale.loc[sale.material_style.str.contains('silk'), 'material_style'] = 'cotton'\n",
    "sale.loc[sale.material_style.str.contains('cutton'), 'material_style'] = 'cotton'\n",
    "sale.loc[sale.material_style.str.contains('cotton'), 'material_style'] = 'cotton'\n",
    "sale.loc[sale.material_style.str.contains('wood'), 'material_style'] = 'wood'\n",
    "sale.loc[sale.material_style.str.contains('shell'), 'material_style'] = 'shell'\n",
    "sale.loc[sale.material_style.str.contains('wire'), 'material_style'] = 'wired'\n",
    "sale.loc[sale.material_style.str.contains('wired'), 'material_style'] = 'wired'"
   ]
  },
  {
   "cell_type": "code",
   "execution_count": 27,
   "metadata": {},
   "outputs": [],
   "source": [
    "sale.loc[sale.material_style.str.contains('glass'), 'material_style'] = 'glass'\n",
    "sale.loc[sale.material_style.str.contains('word'), 'material_style'] = 'word'\n",
    "sale.loc[sale.material_style.str.contains('text'), 'material_style'] = 'word'\n",
    "sale.loc[sale.material_style.str.contains('words'), 'material_style'] = 'word'\n",
    "sale.loc[sale.material_style.str.contains('feather'), 'material_style'] = 'feather'\n",
    "sale.loc[sale.material_style.str.contains('stretch'), 'material_style'] = 'stretch'\n",
    "sale.loc[sale.material_style.str.contains('round'), 'material_style'] = 'shape_something'\n",
    "sale.loc[sale.material_style.str.contains('circle'), 'material_style'] = 'shape_something'\n",
    "sale.loc[sale.material_style.str.contains('oval'), 'material_style'] = 'shape_something'\n",
    "sale.loc[sale.material_style.str.contains('rect'), 'material_style'] = 'shape_something'\n",
    "sale.loc[sale.material_style.str.contains('crystal'), 'material_style'] = 'crystal'\n",
    "sale.loc[sale.material_style.str.contains('orbital'), 'material_style'] = 'shape_something'\n",
    "sale.loc[sale.material_style.str.contains('flower'), 'material_style'] = 'flower-styled'\n",
    "sale.loc[sale.material_style.str.contains('leaf'), 'material_style'] = 'flower-styled'\n",
    "sale.loc[sale.material_style.str.contains('disk'), 'material_style'] = 'shape_something'\n",
    "sale.loc[sale.material_style.str.contains('ball'), 'material_style'] = 'shape_something'\n",
    "sale.loc[sale.material_style.str.contains('arrow'), 'material_style'] = 'shape_something'"
   ]
  },
  {
   "cell_type": "code",
   "execution_count": null,
   "metadata": {},
   "outputs": [],
   "source": [
    "sale.loc[sale.material_style.str.contains('long'), 'material_style'] = 'long'\n",
    "sale.loc[sale.material_style.str.contains('short'), 'material_style'] = 'short'\n",
    "sale.loc[sale.material_style.str.contains('druzy'), 'material_style'] = 'druzy'\n",
    "sale.loc[sale.material_style.str.contains('shape'), 'material_style'] = 'shape_something'\n",
    "sale.loc[sale.material_style.str.contains('wrapping'), 'material_style'] = 'wrap'\n",
    "sale.loc[sale.material_style.str.contains('wrapped'), 'material_style'] = 'wrap'\n",
    "sale.loc[sale.material_style.str.contains('hook'), 'material_style'] = 'hook'"
   ]
  },
  {
   "cell_type": "code",
   "execution_count": 28,
   "metadata": {},
   "outputs": [],
   "source": [
    "distinct = ['glass','word','feather','stretch','shape_something','crystal','flower-styled','hook','wrap','shape_something','druzy','short','long','chain','Nature_Stone','bead','wired', 'rose gold','gold','metal','leather','pearl','gemstone','cotton','wood','shell']"
   ]
  },
  {
   "cell_type": "code",
   "execution_count": 29,
   "metadata": {},
   "outputs": [],
   "source": [
    "sale.loc[~sale['material_style'].isin(distinct), 'material_style']='others'"
   ]
  },
  {
   "cell_type": "code",
   "execution_count": 31,
   "metadata": {},
   "outputs": [
    {
     "data": {
      "text/plain": [
       "Nature_Stone       32473\n",
       "others             21531\n",
       "metal              20737\n",
       "bead               11213\n",
       "gemstone            7105\n",
       "wired               2248\n",
       "leather             1999\n",
       "shape_something     1995\n",
       "shell               1801\n",
       "pearl               1663\n",
       "wood                1501\n",
       "word                1397\n",
       "glass               1381\n",
       "gold                1303\n",
       "feather             1060\n",
       "stretch              697\n",
       "flower-styled        376\n",
       "cotton               349\n",
       "crystal              209\n",
       "Name: material_style, dtype: int64"
      ]
     },
     "execution_count": 31,
     "metadata": {},
     "output_type": "execute_result"
    }
   ],
   "source": [
    "sale['material_style'].value_counts()"
   ]
  },
  {
   "cell_type": "code",
   "execution_count": 32,
   "metadata": {},
   "outputs": [],
   "source": [
    "sale.to_pickle('sale_with_categories1.pkl')"
   ]
  },
  {
   "cell_type": "code",
   "execution_count": null,
   "metadata": {},
   "outputs": [],
   "source": [
    "sale['Categories_color'] = sale['Categories1'] + sale['COLOR']"
   ]
  },
  {
   "cell_type": "code",
   "execution_count": null,
   "metadata": {},
   "outputs": [],
   "source": [
    "sale.head(5)"
   ]
  },
  {
   "cell_type": "code",
   "execution_count": null,
   "metadata": {},
   "outputs": [],
   "source": [
    "sale['REASON'].value_counts()"
   ]
  },
  {
   "cell_type": "code",
   "execution_count": null,
   "metadata": {},
   "outputs": [],
   "source": [
    "sale['UNIT PRICE'] = sale['UNIT PRICE'].str.replace('$', '')"
   ]
  },
  {
   "cell_type": "code",
   "execution_count": null,
   "metadata": {},
   "outputs": [],
   "source": [
    "sale['EXT-AMT'] = sale['EXT-AMT'].str.replace('$', '')"
   ]
  },
  {
   "cell_type": "code",
   "execution_count": null,
   "metadata": {},
   "outputs": [],
   "source": [
    "sale['UNIT PRICE'] = sale['UNIT PRICE'].apply(pd.to_numeric, errors = 'ignore')"
   ]
  },
  {
   "cell_type": "code",
   "execution_count": null,
   "metadata": {},
   "outputs": [],
   "source": [
    "sale['UNIT PRICE'] = sale['UNIT PRICE'].apply(pd.to_numeric, errors = 'ignore')"
   ]
  },
  {
   "cell_type": "code",
   "execution_count": null,
   "metadata": {},
   "outputs": [],
   "source": [
    "sale['EXT-AMT'] = sale['EXT-AMT'].apply(pd.to_numeric, errors = 'ignore')"
   ]
  },
  {
   "cell_type": "code",
   "execution_count": null,
   "metadata": {},
   "outputs": [],
   "source": [
    "sale['Cost_per_unit'] = sale['UNIT PRICE'] * 0.5"
   ]
  },
  {
   "cell_type": "code",
   "execution_count": null,
   "metadata": {},
   "outputs": [],
   "source": [
    "sale['Variable_Cost'] = sale['Cost_per_unit'] * sale['QTY']"
   ]
  },
  {
   "cell_type": "code",
   "execution_count": null,
   "metadata": {},
   "outputs": [],
   "source": []
  },
  {
   "cell_type": "code",
   "execution_count": null,
   "metadata": {},
   "outputs": [],
   "source": [
    "sale.head(5)"
   ]
  }
 ],
 "metadata": {
  "kernelspec": {
   "display_name": "Python 3",
   "language": "python",
   "name": "python3"
  },
  "language_info": {
   "codemirror_mode": {
    "name": "ipython",
    "version": 3
   },
   "file_extension": ".py",
   "mimetype": "text/x-python",
   "name": "python",
   "nbconvert_exporter": "python",
   "pygments_lexer": "ipython3",
   "version": "3.6.5"
  }
 },
 "nbformat": 4,
 "nbformat_minor": 2
}
