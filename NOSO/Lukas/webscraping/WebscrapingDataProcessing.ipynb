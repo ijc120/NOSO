{
 "cells": [
  {
   "cell_type": "markdown",
   "metadata": {},
   "source": [
    "## Kohl's"
   ]
  },
  {
   "cell_type": "markdown",
   "metadata": {},
   "source": [
    "Reading data"
   ]
  },
  {
   "cell_type": "code",
   "execution_count": 171,
   "metadata": {},
   "outputs": [],
   "source": [
    "%matplotlib inline\n",
    "import pandas as pd\n",
    "import numpy as np\n",
    "import matplotlib.pyplot as plt\n",
    "import re\n",
    "plt.style.use('ggplot')"
   ]
  },
  {
   "cell_type": "code",
   "execution_count": 147,
   "metadata": {},
   "outputs": [],
   "source": [
    "kohls = pd.read_csv('kohls.csv', header=None, names=['product_name', 'sale_price', 'regular_price'])"
   ]
  },
  {
   "cell_type": "code",
   "execution_count": 148,
   "metadata": {},
   "outputs": [
    {
     "data": {
      "text/html": [
       "<div>\n",
       "<style scoped>\n",
       "    .dataframe tbody tr th:only-of-type {\n",
       "        vertical-align: middle;\n",
       "    }\n",
       "\n",
       "    .dataframe tbody tr th {\n",
       "        vertical-align: top;\n",
       "    }\n",
       "\n",
       "    .dataframe thead th {\n",
       "        text-align: right;\n",
       "    }\n",
       "</style>\n",
       "<table border=\"1\" class=\"dataframe\">\n",
       "  <thead>\n",
       "    <tr style=\"text-align: right;\">\n",
       "      <th></th>\n",
       "      <th>product_name</th>\n",
       "      <th>sale_price</th>\n",
       "      <th>regular_price</th>\n",
       "    </tr>\n",
       "  </thead>\n",
       "  <tbody>\n",
       "    <tr>\n",
       "      <th>0</th>\n",
       "      <td>LC Lauren Conrad Pave Monogram ... Pendant Nec...</td>\n",
       "      <td>$9.80</td>\n",
       "      <td>Regular $14.00</td>\n",
       "    </tr>\n",
       "    <tr>\n",
       "      <th>1</th>\n",
       "      <td>Spiral Christmas Tree Nickel ... Free Drop Ear...</td>\n",
       "      <td>$5.40</td>\n",
       "      <td>Original $12.00</td>\n",
       "    </tr>\n",
       "    <tr>\n",
       "      <th>2</th>\n",
       "      <td>Christmas Gift, Santa, ... Reindeer &amp; Jingle B...</td>\n",
       "      <td>$6.30</td>\n",
       "      <td>Original $14.00</td>\n",
       "    </tr>\n",
       "    <tr>\n",
       "      <th>3</th>\n",
       "      <td>LC Lauren Conrad Filigree ... Teardrop Layered...</td>\n",
       "      <td>$12.60</td>\n",
       "      <td>Regular $18.00</td>\n",
       "    </tr>\n",
       "    <tr>\n",
       "      <th>4</th>\n",
       "      <td>Simulated Crystal Snowflake ... Nickel Free Dr...</td>\n",
       "      <td>$6.30</td>\n",
       "      <td>Original $14.00</td>\n",
       "    </tr>\n",
       "    <tr>\n",
       "      <th>5</th>\n",
       "      <td>PRIMROSE Sterling Silver Cubic ... Zirconia Lo...</td>\n",
       "      <td>$19.99</td>\n",
       "      <td>Original $50.00</td>\n",
       "    </tr>\n",
       "    <tr>\n",
       "      <th>6</th>\n",
       "      <td>Poinsettia Nickel Free Drop ... Earrings</td>\n",
       "      <td>$4.50</td>\n",
       "      <td>Original $10.00</td>\n",
       "    </tr>\n",
       "    <tr>\n",
       "      <th>7</th>\n",
       "      <td>LC Lauren Conrad Stick Linear ... Drop Earrings</td>\n",
       "      <td>$8.40</td>\n",
       "      <td>Regular $12.00</td>\n",
       "    </tr>\n",
       "    <tr>\n",
       "      <th>8</th>\n",
       "      <td>LC Lauren Conrad Long Spiral ... Tassel Necklace</td>\n",
       "      <td>$14.00</td>\n",
       "      <td>Regular $20.00</td>\n",
       "    </tr>\n",
       "    <tr>\n",
       "      <th>9</th>\n",
       "      <td>LC Lauren Conrad Freshwater ... Cultured Pearl...</td>\n",
       "      <td>$14.00</td>\n",
       "      <td>Regular $20.00</td>\n",
       "    </tr>\n",
       "    <tr>\n",
       "      <th>10</th>\n",
       "      <td>Silver Tone Snowman Nickel ... Free Drop Earrings</td>\n",
       "      <td>$4.50</td>\n",
       "      <td>Original $10.00</td>\n",
       "    </tr>\n",
       "    <tr>\n",
       "      <th>11</th>\n",
       "      <td>Holly Leaf Nickel Free Drop ... Earrings</td>\n",
       "      <td>$5.40</td>\n",
       "      <td>Original $12.00</td>\n",
       "    </tr>\n",
       "    <tr>\n",
       "      <th>12</th>\n",
       "      <td>Simulated Crystal Snowflake ... Nickel Free Dr...</td>\n",
       "      <td>$6.30</td>\n",
       "      <td>Original $14.00</td>\n",
       "    </tr>\n",
       "    <tr>\n",
       "      <th>13</th>\n",
       "      <td>\\n\\t\\t\\t\\t\\t\\t\\t\\n\\t\\t\\t\\t\\t\\tSanta Hat Cat Dr...</td>\n",
       "      <td>$4.50</td>\n",
       "      <td>Original $10.00</td>\n",
       "    </tr>\n",
       "    <tr>\n",
       "      <th>14</th>\n",
       "      <td>LC Lauren Conrad Filigree ... Teardrop Earrings</td>\n",
       "      <td>$9.80</td>\n",
       "      <td>Regular $14.00</td>\n",
       "    </tr>\n",
       "  </tbody>\n",
       "</table>\n",
       "</div>"
      ],
      "text/plain": [
       "                                         product_name sale_price  \\\n",
       "0   LC Lauren Conrad Pave Monogram ... Pendant Nec...      $9.80   \n",
       "1   Spiral Christmas Tree Nickel ... Free Drop Ear...      $5.40   \n",
       "2   Christmas Gift, Santa, ... Reindeer & Jingle B...      $6.30   \n",
       "3   LC Lauren Conrad Filigree ... Teardrop Layered...     $12.60   \n",
       "4   Simulated Crystal Snowflake ... Nickel Free Dr...      $6.30   \n",
       "5   PRIMROSE Sterling Silver Cubic ... Zirconia Lo...     $19.99   \n",
       "6            Poinsettia Nickel Free Drop ... Earrings      $4.50   \n",
       "7     LC Lauren Conrad Stick Linear ... Drop Earrings      $8.40   \n",
       "8    LC Lauren Conrad Long Spiral ... Tassel Necklace     $14.00   \n",
       "9   LC Lauren Conrad Freshwater ... Cultured Pearl...     $14.00   \n",
       "10  Silver Tone Snowman Nickel ... Free Drop Earrings      $4.50   \n",
       "11           Holly Leaf Nickel Free Drop ... Earrings      $5.40   \n",
       "12  Simulated Crystal Snowflake ... Nickel Free Dr...      $6.30   \n",
       "13  \\n\\t\\t\\t\\t\\t\\t\\t\\n\\t\\t\\t\\t\\t\\tSanta Hat Cat Dr...      $4.50   \n",
       "14    LC Lauren Conrad Filigree ... Teardrop Earrings      $9.80   \n",
       "\n",
       "      regular_price  \n",
       "0    Regular $14.00  \n",
       "1   Original $12.00  \n",
       "2   Original $14.00  \n",
       "3    Regular $18.00  \n",
       "4   Original $14.00  \n",
       "5   Original $50.00  \n",
       "6   Original $10.00  \n",
       "7    Regular $12.00  \n",
       "8    Regular $20.00  \n",
       "9    Regular $20.00  \n",
       "10  Original $10.00  \n",
       "11  Original $12.00  \n",
       "12  Original $14.00  \n",
       "13  Original $10.00  \n",
       "14   Regular $14.00  "
      ]
     },
     "execution_count": 148,
     "metadata": {},
     "output_type": "execute_result"
    }
   ],
   "source": [
    "kohls.head(15)"
   ]
  },
  {
   "cell_type": "code",
   "execution_count": 149,
   "metadata": {},
   "outputs": [],
   "source": [
    "#remove whitespace\n",
    "kohls['product_name'] = kohls['product_name'].str.strip()"
   ]
  },
  {
   "cell_type": "code",
   "execution_count": 150,
   "metadata": {},
   "outputs": [],
   "source": [
    "#removing dollar sign from sale_price and converting to float\n",
    "kohls['sale_price'] = kohls['sale_price'].str.replace('$', '')"
   ]
  },
  {
   "cell_type": "code",
   "execution_count": 151,
   "metadata": {},
   "outputs": [],
   "source": [
    "#taking care of prices like 3-6 by taking their mean\n",
    "price_sale = []\n",
    "for el in kohls['sale_price']:\n",
    "    if '-' in el:\n",
    "        try:\n",
    "            newel = (float(el.split()[0][0])+float(el.split()[0][2]))/2\n",
    "            price_sale.append(newel)\n",
    "        except:\n",
    "            x = el.split()\n",
    "            a = float(x[0])\n",
    "            b = float(x[2])\n",
    "            newel = (a+b)/2\n",
    "            price_sale.append(newel)\n",
    "    else:\n",
    "        price_sale.append(el)\n",
    "            "
   ]
  },
  {
   "cell_type": "code",
   "execution_count": 152,
   "metadata": {},
   "outputs": [],
   "source": [
    "price_sale = pd.Series(price_sale).astype(float)"
   ]
  },
  {
   "cell_type": "code",
   "execution_count": 153,
   "metadata": {},
   "outputs": [],
   "source": [
    "kohls.drop('sale_price', axis=1, inplace=True)"
   ]
  },
  {
   "cell_type": "code",
   "execution_count": 154,
   "metadata": {},
   "outputs": [],
   "source": [
    "kohls = pd.concat([kohls, price_sale.rename('sale_price')], axis=1)"
   ]
  },
  {
   "cell_type": "code",
   "execution_count": 155,
   "metadata": {},
   "outputs": [
    {
     "data": {
      "text/html": [
       "<div>\n",
       "<style scoped>\n",
       "    .dataframe tbody tr th:only-of-type {\n",
       "        vertical-align: middle;\n",
       "    }\n",
       "\n",
       "    .dataframe tbody tr th {\n",
       "        vertical-align: top;\n",
       "    }\n",
       "\n",
       "    .dataframe thead th {\n",
       "        text-align: right;\n",
       "    }\n",
       "</style>\n",
       "<table border=\"1\" class=\"dataframe\">\n",
       "  <thead>\n",
       "    <tr style=\"text-align: right;\">\n",
       "      <th></th>\n",
       "      <th>product_name</th>\n",
       "      <th>regular_price</th>\n",
       "      <th>sale_price</th>\n",
       "    </tr>\n",
       "  </thead>\n",
       "  <tbody>\n",
       "    <tr>\n",
       "      <th>0</th>\n",
       "      <td>LC Lauren Conrad Pave Monogram ... Pendant Nec...</td>\n",
       "      <td>Regular $14.00</td>\n",
       "      <td>9.8</td>\n",
       "    </tr>\n",
       "    <tr>\n",
       "      <th>1</th>\n",
       "      <td>Spiral Christmas Tree Nickel ... Free Drop Ear...</td>\n",
       "      <td>Original $12.00</td>\n",
       "      <td>5.4</td>\n",
       "    </tr>\n",
       "    <tr>\n",
       "      <th>2</th>\n",
       "      <td>Christmas Gift, Santa, ... Reindeer &amp; Jingle B...</td>\n",
       "      <td>Original $14.00</td>\n",
       "      <td>6.3</td>\n",
       "    </tr>\n",
       "    <tr>\n",
       "      <th>3</th>\n",
       "      <td>LC Lauren Conrad Filigree ... Teardrop Layered...</td>\n",
       "      <td>Regular $18.00</td>\n",
       "      <td>12.6</td>\n",
       "    </tr>\n",
       "    <tr>\n",
       "      <th>4</th>\n",
       "      <td>Simulated Crystal Snowflake ... Nickel Free Dr...</td>\n",
       "      <td>Original $14.00</td>\n",
       "      <td>6.3</td>\n",
       "    </tr>\n",
       "  </tbody>\n",
       "</table>\n",
       "</div>"
      ],
      "text/plain": [
       "                                        product_name    regular_price  \\\n",
       "0  LC Lauren Conrad Pave Monogram ... Pendant Nec...   Regular $14.00   \n",
       "1  Spiral Christmas Tree Nickel ... Free Drop Ear...  Original $12.00   \n",
       "2  Christmas Gift, Santa, ... Reindeer & Jingle B...  Original $14.00   \n",
       "3  LC Lauren Conrad Filigree ... Teardrop Layered...   Regular $18.00   \n",
       "4  Simulated Crystal Snowflake ... Nickel Free Dr...  Original $14.00   \n",
       "\n",
       "   sale_price  \n",
       "0         9.8  \n",
       "1         5.4  \n",
       "2         6.3  \n",
       "3        12.6  \n",
       "4         6.3  "
      ]
     },
     "execution_count": 155,
     "metadata": {},
     "output_type": "execute_result"
    }
   ],
   "source": [
    "kohls.head()"
   ]
  },
  {
   "cell_type": "code",
   "execution_count": 156,
   "metadata": {},
   "outputs": [],
   "source": [
    "#dealing w regular_price\n",
    "kohls['regular_price'] = kohls.regular_price.str.replace('Regular', '')\n",
    "kohls['regular_price'] = kohls.regular_price.str.replace('Original', '')"
   ]
  },
  {
   "cell_type": "code",
   "execution_count": 158,
   "metadata": {},
   "outputs": [],
   "source": [
    "kohls['sale_price'] = kohls['sale_price']"
   ]
  },
  {
   "cell_type": "code",
   "execution_count": 159,
   "metadata": {},
   "outputs": [
    {
     "name": "stdout",
     "output_type": "stream",
     "text": [
      "could not convert string to float: '$'\n",
      " $8.00 - $12.00\n",
      "could not convert string to float: '$'\n",
      " $24.00 - $26.00\n",
      "could not convert string to float: '$'\n",
      " $15.00 - $16.00\n",
      "could not convert string to float: '$'\n",
      " $20.00 - $26.00\n",
      "could not convert string to float: '$'\n",
      " $14.00 - $18.00\n",
      "could not convert string to float: '$'\n",
      " $16.00 - $18.00\n",
      "could not convert string to float: '$'\n",
      " $16.00 - $18.00\n",
      "could not convert string to float: '$'\n",
      " $16.00 - $26.00\n"
     ]
    }
   ],
   "source": [
    "#taking care of prices like 3-6 by taking their mean\n",
    "price_regular = []\n",
    "for el in kohls['regular_price']:\n",
    "    if '-' in el:\n",
    "        try:\n",
    "            newel = (float(el.split()[0][0])+float(el.split()[0][2]))/2\n",
    "            price_regular.append(newel)\n",
    "        except Exception as e:\n",
    "            print(e)\n",
    "            print(el)\n",
    "            el = el.replace('$', '')\n",
    "            x = el.split()\n",
    "            a = float(x[0])\n",
    "            b = float(x[2])\n",
    "            newel = (a+b)/2\n",
    "            price_regular.append(newel)\n",
    "    else:\n",
    "        price_regular.append(el)"
   ]
  },
  {
   "cell_type": "code",
   "execution_count": 160,
   "metadata": {},
   "outputs": [],
   "source": [
    "price_regular = pd.Series(price_regular).str.replace('$', '').astype(float)"
   ]
  },
  {
   "cell_type": "code",
   "execution_count": 161,
   "metadata": {},
   "outputs": [],
   "source": [
    "kohls.drop('regular_price', axis=1, inplace=True)"
   ]
  },
  {
   "cell_type": "code",
   "execution_count": 162,
   "metadata": {},
   "outputs": [],
   "source": [
    "kohls = pd.concat([kohls, price_regular.rename('regular_price')], axis=1)"
   ]
  },
  {
   "cell_type": "code",
   "execution_count": 163,
   "metadata": {},
   "outputs": [
    {
     "data": {
      "text/html": [
       "<div>\n",
       "<style scoped>\n",
       "    .dataframe tbody tr th:only-of-type {\n",
       "        vertical-align: middle;\n",
       "    }\n",
       "\n",
       "    .dataframe tbody tr th {\n",
       "        vertical-align: top;\n",
       "    }\n",
       "\n",
       "    .dataframe thead th {\n",
       "        text-align: right;\n",
       "    }\n",
       "</style>\n",
       "<table border=\"1\" class=\"dataframe\">\n",
       "  <thead>\n",
       "    <tr style=\"text-align: right;\">\n",
       "      <th></th>\n",
       "      <th>product_name</th>\n",
       "      <th>sale_price</th>\n",
       "      <th>regular_price</th>\n",
       "    </tr>\n",
       "  </thead>\n",
       "  <tbody>\n",
       "    <tr>\n",
       "      <th>0</th>\n",
       "      <td>LC Lauren Conrad Pave Monogram ... Pendant Nec...</td>\n",
       "      <td>9.8</td>\n",
       "      <td>14.0</td>\n",
       "    </tr>\n",
       "    <tr>\n",
       "      <th>1</th>\n",
       "      <td>Spiral Christmas Tree Nickel ... Free Drop Ear...</td>\n",
       "      <td>5.4</td>\n",
       "      <td>12.0</td>\n",
       "    </tr>\n",
       "    <tr>\n",
       "      <th>2</th>\n",
       "      <td>Christmas Gift, Santa, ... Reindeer &amp; Jingle B...</td>\n",
       "      <td>6.3</td>\n",
       "      <td>14.0</td>\n",
       "    </tr>\n",
       "    <tr>\n",
       "      <th>3</th>\n",
       "      <td>LC Lauren Conrad Filigree ... Teardrop Layered...</td>\n",
       "      <td>12.6</td>\n",
       "      <td>18.0</td>\n",
       "    </tr>\n",
       "    <tr>\n",
       "      <th>4</th>\n",
       "      <td>Simulated Crystal Snowflake ... Nickel Free Dr...</td>\n",
       "      <td>6.3</td>\n",
       "      <td>14.0</td>\n",
       "    </tr>\n",
       "  </tbody>\n",
       "</table>\n",
       "</div>"
      ],
      "text/plain": [
       "                                        product_name  sale_price  \\\n",
       "0  LC Lauren Conrad Pave Monogram ... Pendant Nec...         9.8   \n",
       "1  Spiral Christmas Tree Nickel ... Free Drop Ear...         5.4   \n",
       "2  Christmas Gift, Santa, ... Reindeer & Jingle B...         6.3   \n",
       "3  LC Lauren Conrad Filigree ... Teardrop Layered...        12.6   \n",
       "4  Simulated Crystal Snowflake ... Nickel Free Dr...         6.3   \n",
       "\n",
       "   regular_price  \n",
       "0           14.0  \n",
       "1           12.0  \n",
       "2           14.0  \n",
       "3           18.0  \n",
       "4           14.0  "
      ]
     },
     "execution_count": 163,
     "metadata": {},
     "output_type": "execute_result"
    }
   ],
   "source": [
    "kohls.head()"
   ]
  },
  {
   "cell_type": "code",
   "execution_count": 164,
   "metadata": {},
   "outputs": [
    {
     "name": "stdout",
     "output_type": "stream",
     "text": [
      "<class 'pandas.core.frame.DataFrame'>\n",
      "RangeIndex: 3409 entries, 0 to 3408\n",
      "Data columns (total 3 columns):\n",
      "product_name     3409 non-null object\n",
      "sale_price       3409 non-null float64\n",
      "regular_price    3401 non-null float64\n",
      "dtypes: float64(2), object(1)\n",
      "memory usage: 80.0+ KB\n"
     ]
    }
   ],
   "source": [
    "kohls.info()"
   ]
  },
  {
   "cell_type": "code",
   "execution_count": null,
   "metadata": {},
   "outputs": [],
   "source": [
    "#converting names to lowercase"
   ]
  },
  {
   "cell_type": "code",
   "execution_count": 166,
   "metadata": {},
   "outputs": [],
   "source": [
    "kohls.product_name = kohls.product_name.str.lower()"
   ]
  },
  {
   "cell_type": "code",
   "execution_count": 167,
   "metadata": {},
   "outputs": [
    {
     "data": {
      "text/html": [
       "<div>\n",
       "<style scoped>\n",
       "    .dataframe tbody tr th:only-of-type {\n",
       "        vertical-align: middle;\n",
       "    }\n",
       "\n",
       "    .dataframe tbody tr th {\n",
       "        vertical-align: top;\n",
       "    }\n",
       "\n",
       "    .dataframe thead th {\n",
       "        text-align: right;\n",
       "    }\n",
       "</style>\n",
       "<table border=\"1\" class=\"dataframe\">\n",
       "  <thead>\n",
       "    <tr style=\"text-align: right;\">\n",
       "      <th></th>\n",
       "      <th>product_name</th>\n",
       "      <th>sale_price</th>\n",
       "      <th>regular_price</th>\n",
       "    </tr>\n",
       "  </thead>\n",
       "  <tbody>\n",
       "    <tr>\n",
       "      <th>0</th>\n",
       "      <td>lc lauren conrad pave monogram ... pendant nec...</td>\n",
       "      <td>9.8</td>\n",
       "      <td>14.0</td>\n",
       "    </tr>\n",
       "    <tr>\n",
       "      <th>1</th>\n",
       "      <td>spiral christmas tree nickel ... free drop ear...</td>\n",
       "      <td>5.4</td>\n",
       "      <td>12.0</td>\n",
       "    </tr>\n",
       "    <tr>\n",
       "      <th>2</th>\n",
       "      <td>christmas gift, santa, ... reindeer &amp; jingle b...</td>\n",
       "      <td>6.3</td>\n",
       "      <td>14.0</td>\n",
       "    </tr>\n",
       "    <tr>\n",
       "      <th>3</th>\n",
       "      <td>lc lauren conrad filigree ... teardrop layered...</td>\n",
       "      <td>12.6</td>\n",
       "      <td>18.0</td>\n",
       "    </tr>\n",
       "    <tr>\n",
       "      <th>4</th>\n",
       "      <td>simulated crystal snowflake ... nickel free dr...</td>\n",
       "      <td>6.3</td>\n",
       "      <td>14.0</td>\n",
       "    </tr>\n",
       "  </tbody>\n",
       "</table>\n",
       "</div>"
      ],
      "text/plain": [
       "                                        product_name  sale_price  \\\n",
       "0  lc lauren conrad pave monogram ... pendant nec...         9.8   \n",
       "1  spiral christmas tree nickel ... free drop ear...         5.4   \n",
       "2  christmas gift, santa, ... reindeer & jingle b...         6.3   \n",
       "3  lc lauren conrad filigree ... teardrop layered...        12.6   \n",
       "4  simulated crystal snowflake ... nickel free dr...         6.3   \n",
       "\n",
       "   regular_price  \n",
       "0           14.0  \n",
       "1           12.0  \n",
       "2           14.0  \n",
       "3           18.0  \n",
       "4           14.0  "
      ]
     },
     "execution_count": 167,
     "metadata": {},
     "output_type": "execute_result"
    }
   ],
   "source": [
    "kohls.head()"
   ]
  },
  {
   "cell_type": "code",
   "execution_count": 178,
   "metadata": {},
   "outputs": [],
   "source": [
    "#appending category column\n",
    "#from ipywidgets import IntProgress\n",
    "#from IPython.display import display\n",
    "import time\n",
    "\n",
    "category = []\n",
    "#f = IntProgress(min=0, max=len(kohls['product_name'])) # instantiate the bar\n",
    "#display(f) # display the bar\n",
    "\n",
    "i=0\n",
    "\n",
    "while i < len(kohls['product_name']):\n",
    "    \n",
    "    el = kohls.iloc[i,0]\n",
    "    \n",
    "    if bool(re.search(\".*(ear).*\" , el)) == True:\n",
    "        category.append('earring')\n",
    "    elif bool(re.search(\".*(necklace).*\" , el)) == True:\n",
    "        category.append('necklace')\n",
    "    elif bool(re.search(\".*(bracelet).*\" , el)) == True:\n",
    "        category.append('bracelet')\n",
    "    elif bool(re.search(\".*(ring).*\" , el)) == True:\n",
    "        category.append('ring')\n",
    "    elif bool(re.search(\".*(anklet).*\" , el)) == True:\n",
    "        category.append('anklet')\n",
    "    elif bool(re.search(\".*(pin).*\" , el)) == True:\n",
    "        category.append('pin')\n",
    "    elif bool(re.search(\".*(set).*\" , el)) == True:\n",
    "        category.append('set')\n",
    "    elif bool(re.search(\".*(kit).*\" , el)) == True:\n",
    "        category.append('kit')\n",
    "    else:\n",
    "        category.append('other')\n",
    "        \n",
    "  #  f.value += 1 # signal to increment the progress bar\n",
    "        \n",
    "    i+=1\n",
    "    "
   ]
  },
  {
   "cell_type": "code",
   "execution_count": 179,
   "metadata": {},
   "outputs": [],
   "source": [
    "category = pd.Series(category)"
   ]
  },
  {
   "cell_type": "code",
   "execution_count": 182,
   "metadata": {},
   "outputs": [],
   "source": [
    "kohls = pd.concat([kohls, category.rename('category')], axis=1)"
   ]
  },
  {
   "cell_type": "code",
   "execution_count": 183,
   "metadata": {},
   "outputs": [
    {
     "data": {
      "text/html": [
       "<div>\n",
       "<style scoped>\n",
       "    .dataframe tbody tr th:only-of-type {\n",
       "        vertical-align: middle;\n",
       "    }\n",
       "\n",
       "    .dataframe tbody tr th {\n",
       "        vertical-align: top;\n",
       "    }\n",
       "\n",
       "    .dataframe thead th {\n",
       "        text-align: right;\n",
       "    }\n",
       "</style>\n",
       "<table border=\"1\" class=\"dataframe\">\n",
       "  <thead>\n",
       "    <tr style=\"text-align: right;\">\n",
       "      <th></th>\n",
       "      <th>product_name</th>\n",
       "      <th>sale_price</th>\n",
       "      <th>regular_price</th>\n",
       "      <th>category</th>\n",
       "    </tr>\n",
       "  </thead>\n",
       "  <tbody>\n",
       "    <tr>\n",
       "      <th>0</th>\n",
       "      <td>lc lauren conrad pave monogram ... pendant nec...</td>\n",
       "      <td>9.8</td>\n",
       "      <td>14.0</td>\n",
       "      <td>necklace</td>\n",
       "    </tr>\n",
       "    <tr>\n",
       "      <th>1</th>\n",
       "      <td>spiral christmas tree nickel ... free drop ear...</td>\n",
       "      <td>5.4</td>\n",
       "      <td>12.0</td>\n",
       "      <td>earring</td>\n",
       "    </tr>\n",
       "    <tr>\n",
       "      <th>2</th>\n",
       "      <td>christmas gift, santa, ... reindeer &amp; jingle b...</td>\n",
       "      <td>6.3</td>\n",
       "      <td>14.0</td>\n",
       "      <td>bracelet</td>\n",
       "    </tr>\n",
       "    <tr>\n",
       "      <th>3</th>\n",
       "      <td>lc lauren conrad filigree ... teardrop layered...</td>\n",
       "      <td>12.6</td>\n",
       "      <td>18.0</td>\n",
       "      <td>earring</td>\n",
       "    </tr>\n",
       "    <tr>\n",
       "      <th>4</th>\n",
       "      <td>simulated crystal snowflake ... nickel free dr...</td>\n",
       "      <td>6.3</td>\n",
       "      <td>14.0</td>\n",
       "      <td>earring</td>\n",
       "    </tr>\n",
       "  </tbody>\n",
       "</table>\n",
       "</div>"
      ],
      "text/plain": [
       "                                        product_name  sale_price  \\\n",
       "0  lc lauren conrad pave monogram ... pendant nec...         9.8   \n",
       "1  spiral christmas tree nickel ... free drop ear...         5.4   \n",
       "2  christmas gift, santa, ... reindeer & jingle b...         6.3   \n",
       "3  lc lauren conrad filigree ... teardrop layered...        12.6   \n",
       "4  simulated crystal snowflake ... nickel free dr...         6.3   \n",
       "\n",
       "   regular_price  category  \n",
       "0           14.0  necklace  \n",
       "1           12.0   earring  \n",
       "2           14.0  bracelet  \n",
       "3           18.0   earring  \n",
       "4           14.0   earring  "
      ]
     },
     "execution_count": 183,
     "metadata": {},
     "output_type": "execute_result"
    }
   ],
   "source": [
    "kohls.head()"
   ]
  },
  {
   "cell_type": "markdown",
   "metadata": {},
   "source": [
    "Exporting to cleaned CSV:"
   ]
  },
  {
   "cell_type": "code",
   "execution_count": 184,
   "metadata": {},
   "outputs": [],
   "source": [
    "kohls.to_csv('CleanKohls.csv')"
   ]
  },
  {
   "cell_type": "code",
   "execution_count": null,
   "metadata": {},
   "outputs": [],
   "source": []
  },
  {
   "cell_type": "code",
   "execution_count": null,
   "metadata": {},
   "outputs": [],
   "source": []
  }
 ],
 "metadata": {
  "kernelspec": {
   "display_name": "Python 3",
   "language": "python",
   "name": "python3"
  },
  "language_info": {
   "codemirror_mode": {
    "name": "ipython",
    "version": 3
   },
   "file_extension": ".py",
   "mimetype": "text/x-python",
   "name": "python",
   "nbconvert_exporter": "python",
   "pygments_lexer": "ipython3",
   "version": "3.6.5"
  }
 },
 "nbformat": 4,
 "nbformat_minor": 2
}
