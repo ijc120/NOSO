{
 "cells": [
  {
   "cell_type": "markdown",
   "metadata": {},
   "source": [
    "Reading dataset"
   ]
  },
  {
   "cell_type": "code",
   "execution_count": 342,
   "metadata": {},
   "outputs": [
    {
     "name": "stderr",
     "output_type": "stream",
     "text": [
      "/anaconda3/lib/python3.6/site-packages/IPython/core/interactiveshell.py:2785: DtypeWarning: Columns (19) have mixed types. Specify dtype option on import or set low_memory=False.\n",
      "  interactivity=interactivity, compiler=compiler, result=result)\n"
     ]
    }
   ],
   "source": [
    "import pandas as pd\n",
    "data = pd.read_csv('cleanedUSJH.csv')"
   ]
  },
  {
   "cell_type": "code",
   "execution_count": 289,
   "metadata": {},
   "outputs": [
    {
     "data": {
      "text/html": [
       "<div>\n",
       "<style scoped>\n",
       "    .dataframe tbody tr th:only-of-type {\n",
       "        vertical-align: middle;\n",
       "    }\n",
       "\n",
       "    .dataframe tbody tr th {\n",
       "        vertical-align: top;\n",
       "    }\n",
       "\n",
       "    .dataframe thead th {\n",
       "        text-align: right;\n",
       "    }\n",
       "</style>\n",
       "<table border=\"1\" class=\"dataframe\">\n",
       "  <thead>\n",
       "    <tr style=\"text-align: right;\">\n",
       "      <th></th>\n",
       "      <th>Unnamed: 0</th>\n",
       "      <th>name</th>\n",
       "      <th>financial_status</th>\n",
       "      <th>paid_at</th>\n",
       "      <th>fulfillment_status</th>\n",
       "      <th>accepts_marketing</th>\n",
       "      <th>currency</th>\n",
       "      <th>subtotal</th>\n",
       "      <th>shipping</th>\n",
       "      <th>taxes</th>\n",
       "      <th>...</th>\n",
       "      <th>shipping_country</th>\n",
       "      <th>notes</th>\n",
       "      <th>cancelled</th>\n",
       "      <th>payment_method</th>\n",
       "      <th>refunded_amount</th>\n",
       "      <th>vendor</th>\n",
       "      <th>risk_level</th>\n",
       "      <th>source</th>\n",
       "      <th>color</th>\n",
       "      <th>category</th>\n",
       "    </tr>\n",
       "  </thead>\n",
       "  <tbody>\n",
       "    <tr>\n",
       "      <th>0</th>\n",
       "      <td>0</td>\n",
       "      <td>#4746</td>\n",
       "      <td>paid</td>\n",
       "      <td>2018-07-16 12:31:00</td>\n",
       "      <td>unfulfilled</td>\n",
       "      <td>yes</td>\n",
       "      <td>usd</td>\n",
       "      <td>100.5</td>\n",
       "      <td>13.64</td>\n",
       "      <td>0.0</td>\n",
       "      <td>...</td>\n",
       "      <td>us</td>\n",
       "      <td>nonotes</td>\n",
       "      <td>1</td>\n",
       "      <td>shopify payments</td>\n",
       "      <td>0.0</td>\n",
       "      <td>us jewelry house</td>\n",
       "      <td>low</td>\n",
       "      <td>web</td>\n",
       "      <td>gdtq</td>\n",
       "      <td>ring</td>\n",
       "    </tr>\n",
       "    <tr>\n",
       "      <th>1</th>\n",
       "      <td>1</td>\n",
       "      <td>#4746</td>\n",
       "      <td>paid</td>\n",
       "      <td>2018-07-16 12:31:00</td>\n",
       "      <td>unfulfilled</td>\n",
       "      <td>yes</td>\n",
       "      <td>usd</td>\n",
       "      <td>100.5</td>\n",
       "      <td>13.64</td>\n",
       "      <td>0.0</td>\n",
       "      <td>...</td>\n",
       "      <td>us</td>\n",
       "      <td>nonotes</td>\n",
       "      <td>1</td>\n",
       "      <td>shopify payments</td>\n",
       "      <td>0.0</td>\n",
       "      <td>us jewelry house</td>\n",
       "      <td>low</td>\n",
       "      <td>web</td>\n",
       "      <td>gdtq</td>\n",
       "      <td>ring</td>\n",
       "    </tr>\n",
       "    <tr>\n",
       "      <th>2</th>\n",
       "      <td>2</td>\n",
       "      <td>#4746</td>\n",
       "      <td>paid</td>\n",
       "      <td>2018-07-16 12:31:00</td>\n",
       "      <td>unfulfilled</td>\n",
       "      <td>yes</td>\n",
       "      <td>usd</td>\n",
       "      <td>100.5</td>\n",
       "      <td>13.64</td>\n",
       "      <td>0.0</td>\n",
       "      <td>...</td>\n",
       "      <td>us</td>\n",
       "      <td>nonotes</td>\n",
       "      <td>1</td>\n",
       "      <td>shopify payments</td>\n",
       "      <td>0.0</td>\n",
       "      <td>impression</td>\n",
       "      <td>low</td>\n",
       "      <td>web</td>\n",
       "      <td>size 8</td>\n",
       "      <td>ring</td>\n",
       "    </tr>\n",
       "    <tr>\n",
       "      <th>3</th>\n",
       "      <td>3</td>\n",
       "      <td>#4746</td>\n",
       "      <td>paid</td>\n",
       "      <td>2018-07-16 12:31:00</td>\n",
       "      <td>unfulfilled</td>\n",
       "      <td>yes</td>\n",
       "      <td>usd</td>\n",
       "      <td>100.5</td>\n",
       "      <td>13.64</td>\n",
       "      <td>0.0</td>\n",
       "      <td>...</td>\n",
       "      <td>us</td>\n",
       "      <td>nonotes</td>\n",
       "      <td>1</td>\n",
       "      <td>shopify payments</td>\n",
       "      <td>0.0</td>\n",
       "      <td>ella</td>\n",
       "      <td>low</td>\n",
       "      <td>web</td>\n",
       "      <td>brown</td>\n",
       "      <td>necklace</td>\n",
       "    </tr>\n",
       "    <tr>\n",
       "      <th>4</th>\n",
       "      <td>4</td>\n",
       "      <td>#4746</td>\n",
       "      <td>paid</td>\n",
       "      <td>2018-07-16 12:31:00</td>\n",
       "      <td>unfulfilled</td>\n",
       "      <td>yes</td>\n",
       "      <td>usd</td>\n",
       "      <td>100.5</td>\n",
       "      <td>13.64</td>\n",
       "      <td>0.0</td>\n",
       "      <td>...</td>\n",
       "      <td>us</td>\n",
       "      <td>nonotes</td>\n",
       "      <td>1</td>\n",
       "      <td>shopify payments</td>\n",
       "      <td>0.0</td>\n",
       "      <td>stylist</td>\n",
       "      <td>low</td>\n",
       "      <td>web</td>\n",
       "      <td>white/brown</td>\n",
       "      <td>bracelet</td>\n",
       "    </tr>\n",
       "  </tbody>\n",
       "</table>\n",
       "<p>5 rows × 37 columns</p>\n",
       "</div>"
      ],
      "text/plain": [
       "   Unnamed: 0   name financial_status              paid_at fulfillment_status  \\\n",
       "0           0  #4746             paid  2018-07-16 12:31:00        unfulfilled   \n",
       "1           1  #4746             paid  2018-07-16 12:31:00        unfulfilled   \n",
       "2           2  #4746             paid  2018-07-16 12:31:00        unfulfilled   \n",
       "3           3  #4746             paid  2018-07-16 12:31:00        unfulfilled   \n",
       "4           4  #4746             paid  2018-07-16 12:31:00        unfulfilled   \n",
       "\n",
       "  accepts_marketing currency  subtotal  shipping  taxes    ...     \\\n",
       "0               yes      usd     100.5     13.64    0.0    ...      \n",
       "1               yes      usd     100.5     13.64    0.0    ...      \n",
       "2               yes      usd     100.5     13.64    0.0    ...      \n",
       "3               yes      usd     100.5     13.64    0.0    ...      \n",
       "4               yes      usd     100.5     13.64    0.0    ...      \n",
       "\n",
       "   shipping_country    notes  cancelled    payment_method refunded_amount  \\\n",
       "0                us  nonotes          1  shopify payments             0.0   \n",
       "1                us  nonotes          1  shopify payments             0.0   \n",
       "2                us  nonotes          1  shopify payments             0.0   \n",
       "3                us  nonotes          1  shopify payments             0.0   \n",
       "4                us  nonotes          1  shopify payments             0.0   \n",
       "\n",
       "             vendor risk_level  source         color  category  \n",
       "0  us jewelry house        low     web          gdtq      ring  \n",
       "1  us jewelry house        low     web          gdtq      ring  \n",
       "2        impression        low     web        size 8      ring  \n",
       "3              ella        low     web         brown  necklace  \n",
       "4           stylist        low     web   white/brown  bracelet  \n",
       "\n",
       "[5 rows x 37 columns]"
      ]
     },
     "execution_count": 289,
     "metadata": {},
     "output_type": "execute_result"
    }
   ],
   "source": [
    "data.head()"
   ]
  },
  {
   "cell_type": "code",
   "execution_count": 318,
   "metadata": {},
   "outputs": [
    {
     "data": {
      "text/plain": [
       "85925"
      ]
     },
     "execution_count": 318,
     "metadata": {},
     "output_type": "execute_result"
    }
   ],
   "source": [
    "len(data)"
   ]
  },
  {
   "cell_type": "code",
   "execution_count": 343,
   "metadata": {},
   "outputs": [],
   "source": [
    "name = data.lineitem_name.tolist()"
   ]
  },
  {
   "cell_type": "markdown",
   "metadata": {},
   "source": [
    "Categorizing according to appearance of keywords "
   ]
  },
  {
   "cell_type": "code",
   "execution_count": 344,
   "metadata": {},
   "outputs": [],
   "source": [
    "for i, word in enumerate(name):\n",
    "    if 'necklace' in word or 'pendant' in word or 'choker' in word or 'collar' in word or 'neckalce' in word:\n",
    "        name[i] = 'necklace' \n",
    "    elif 'ear' in word or 'stud' in word or 'hoop' in word or 'clip' in word or 'drop' in word:\n",
    "        name[i] = 'earring'\n",
    "    elif 'bag' in word or 'scarf' in word or 'hat' in word or 'poncho' in word or 'glove' in word or 'backpack' in word or 'cap' in word or 'fanny' in word or 'kimono' in word or 'tiara' in word or 'headband' in word or 'sunglasses' in word or 'clutch' in word or 'purse' in word or 'vest' in word or 'fur' in word or 'cardigan' in word or 'oblong' in word:\n",
    "        name[i] = 'apparel'\n",
    "    elif 'ring' in word:\n",
    "        name[i] = 'ring'\n",
    "    elif 'bracelet' in word or 'cuff' in word or 'barcelet' in word or 'bangle' in word:\n",
    "        name[i] = 'bracelet'\n",
    "    elif 'bag' in word or 'key' in word or 'chain' in word or 'anklet' in word or 'pin' in word or 'brooch' in word or 'wallet' in word or 'cuff' in word or 'comb' in word or 'hair' in word or 'tassel' in word or 'pompom' in word or 'hook' in word or 'bead' in word:\n",
    "        name[i] = 'accessories'\n",
    "    else:\n",
    "        name[i] = 'other'\n",
    "    \n",
    "    "
   ]
  },
  {
   "cell_type": "code",
   "execution_count": 345,
   "metadata": {},
   "outputs": [],
   "source": [
    "category = pd.Series(name)"
   ]
  },
  {
   "cell_type": "code",
   "execution_count": 346,
   "metadata": {},
   "outputs": [],
   "source": [
    "data = pd.concat([data, category.rename('category1')], axis=1)"
   ]
  },
  {
   "cell_type": "code",
   "execution_count": 307,
   "metadata": {},
   "outputs": [
    {
     "data": {
      "text/html": [
       "<div>\n",
       "<style scoped>\n",
       "    .dataframe tbody tr th:only-of-type {\n",
       "        vertical-align: middle;\n",
       "    }\n",
       "\n",
       "    .dataframe tbody tr th {\n",
       "        vertical-align: top;\n",
       "    }\n",
       "\n",
       "    .dataframe thead th {\n",
       "        text-align: right;\n",
       "    }\n",
       "</style>\n",
       "<table border=\"1\" class=\"dataframe\">\n",
       "  <thead>\n",
       "    <tr style=\"text-align: right;\">\n",
       "      <th></th>\n",
       "      <th>Unnamed: 0</th>\n",
       "      <th>name</th>\n",
       "      <th>financial_status</th>\n",
       "      <th>paid_at</th>\n",
       "      <th>fulfillment_status</th>\n",
       "      <th>accepts_marketing</th>\n",
       "      <th>currency</th>\n",
       "      <th>subtotal</th>\n",
       "      <th>shipping</th>\n",
       "      <th>taxes</th>\n",
       "      <th>...</th>\n",
       "      <th>notes</th>\n",
       "      <th>cancelled</th>\n",
       "      <th>payment_method</th>\n",
       "      <th>refunded_amount</th>\n",
       "      <th>vendor</th>\n",
       "      <th>risk_level</th>\n",
       "      <th>source</th>\n",
       "      <th>color</th>\n",
       "      <th>category</th>\n",
       "      <th>category1</th>\n",
       "    </tr>\n",
       "  </thead>\n",
       "  <tbody>\n",
       "    <tr>\n",
       "      <th>0</th>\n",
       "      <td>0</td>\n",
       "      <td>#4746</td>\n",
       "      <td>paid</td>\n",
       "      <td>2018-07-16 12:31:00</td>\n",
       "      <td>unfulfilled</td>\n",
       "      <td>yes</td>\n",
       "      <td>usd</td>\n",
       "      <td>100.5</td>\n",
       "      <td>13.64</td>\n",
       "      <td>0.0</td>\n",
       "      <td>...</td>\n",
       "      <td>nonotes</td>\n",
       "      <td>1</td>\n",
       "      <td>shopify payments</td>\n",
       "      <td>0.0</td>\n",
       "      <td>us jewelry house</td>\n",
       "      <td>low</td>\n",
       "      <td>web</td>\n",
       "      <td>gdtq</td>\n",
       "      <td>ring</td>\n",
       "      <td>necklace</td>\n",
       "    </tr>\n",
       "    <tr>\n",
       "      <th>1</th>\n",
       "      <td>1</td>\n",
       "      <td>#4746</td>\n",
       "      <td>paid</td>\n",
       "      <td>2018-07-16 12:31:00</td>\n",
       "      <td>unfulfilled</td>\n",
       "      <td>yes</td>\n",
       "      <td>usd</td>\n",
       "      <td>100.5</td>\n",
       "      <td>13.64</td>\n",
       "      <td>0.0</td>\n",
       "      <td>...</td>\n",
       "      <td>nonotes</td>\n",
       "      <td>1</td>\n",
       "      <td>shopify payments</td>\n",
       "      <td>0.0</td>\n",
       "      <td>us jewelry house</td>\n",
       "      <td>low</td>\n",
       "      <td>web</td>\n",
       "      <td>gdtq</td>\n",
       "      <td>ring</td>\n",
       "      <td>necklace</td>\n",
       "    </tr>\n",
       "    <tr>\n",
       "      <th>2</th>\n",
       "      <td>2</td>\n",
       "      <td>#4746</td>\n",
       "      <td>paid</td>\n",
       "      <td>2018-07-16 12:31:00</td>\n",
       "      <td>unfulfilled</td>\n",
       "      <td>yes</td>\n",
       "      <td>usd</td>\n",
       "      <td>100.5</td>\n",
       "      <td>13.64</td>\n",
       "      <td>0.0</td>\n",
       "      <td>...</td>\n",
       "      <td>nonotes</td>\n",
       "      <td>1</td>\n",
       "      <td>shopify payments</td>\n",
       "      <td>0.0</td>\n",
       "      <td>impression</td>\n",
       "      <td>low</td>\n",
       "      <td>web</td>\n",
       "      <td>size 8</td>\n",
       "      <td>ring</td>\n",
       "      <td>necklace</td>\n",
       "    </tr>\n",
       "    <tr>\n",
       "      <th>3</th>\n",
       "      <td>3</td>\n",
       "      <td>#4746</td>\n",
       "      <td>paid</td>\n",
       "      <td>2018-07-16 12:31:00</td>\n",
       "      <td>unfulfilled</td>\n",
       "      <td>yes</td>\n",
       "      <td>usd</td>\n",
       "      <td>100.5</td>\n",
       "      <td>13.64</td>\n",
       "      <td>0.0</td>\n",
       "      <td>...</td>\n",
       "      <td>nonotes</td>\n",
       "      <td>1</td>\n",
       "      <td>shopify payments</td>\n",
       "      <td>0.0</td>\n",
       "      <td>ella</td>\n",
       "      <td>low</td>\n",
       "      <td>web</td>\n",
       "      <td>brown</td>\n",
       "      <td>necklace</td>\n",
       "      <td>necklace</td>\n",
       "    </tr>\n",
       "    <tr>\n",
       "      <th>4</th>\n",
       "      <td>4</td>\n",
       "      <td>#4746</td>\n",
       "      <td>paid</td>\n",
       "      <td>2018-07-16 12:31:00</td>\n",
       "      <td>unfulfilled</td>\n",
       "      <td>yes</td>\n",
       "      <td>usd</td>\n",
       "      <td>100.5</td>\n",
       "      <td>13.64</td>\n",
       "      <td>0.0</td>\n",
       "      <td>...</td>\n",
       "      <td>nonotes</td>\n",
       "      <td>1</td>\n",
       "      <td>shopify payments</td>\n",
       "      <td>0.0</td>\n",
       "      <td>stylist</td>\n",
       "      <td>low</td>\n",
       "      <td>web</td>\n",
       "      <td>white/brown</td>\n",
       "      <td>bracelet</td>\n",
       "      <td>necklace</td>\n",
       "    </tr>\n",
       "  </tbody>\n",
       "</table>\n",
       "<p>5 rows × 38 columns</p>\n",
       "</div>"
      ],
      "text/plain": [
       "   Unnamed: 0   name financial_status              paid_at fulfillment_status  \\\n",
       "0           0  #4746             paid  2018-07-16 12:31:00        unfulfilled   \n",
       "1           1  #4746             paid  2018-07-16 12:31:00        unfulfilled   \n",
       "2           2  #4746             paid  2018-07-16 12:31:00        unfulfilled   \n",
       "3           3  #4746             paid  2018-07-16 12:31:00        unfulfilled   \n",
       "4           4  #4746             paid  2018-07-16 12:31:00        unfulfilled   \n",
       "\n",
       "  accepts_marketing currency  subtotal  shipping  taxes    ...       notes  \\\n",
       "0               yes      usd     100.5     13.64    0.0    ...     nonotes   \n",
       "1               yes      usd     100.5     13.64    0.0    ...     nonotes   \n",
       "2               yes      usd     100.5     13.64    0.0    ...     nonotes   \n",
       "3               yes      usd     100.5     13.64    0.0    ...     nonotes   \n",
       "4               yes      usd     100.5     13.64    0.0    ...     nonotes   \n",
       "\n",
       "  cancelled    payment_method refunded_amount            vendor  risk_level  \\\n",
       "0         1  shopify payments             0.0  us jewelry house         low   \n",
       "1         1  shopify payments             0.0  us jewelry house         low   \n",
       "2         1  shopify payments             0.0        impression         low   \n",
       "3         1  shopify payments             0.0              ella         low   \n",
       "4         1  shopify payments             0.0           stylist         low   \n",
       "\n",
       "  source         color  category category1  \n",
       "0    web          gdtq      ring  necklace  \n",
       "1    web          gdtq      ring  necklace  \n",
       "2    web        size 8      ring  necklace  \n",
       "3    web         brown  necklace  necklace  \n",
       "4    web   white/brown  bracelet  necklace  \n",
       "\n",
       "[5 rows x 38 columns]"
      ]
     },
     "execution_count": 307,
     "metadata": {},
     "output_type": "execute_result"
    }
   ],
   "source": [
    "data.head()"
   ]
  },
  {
   "cell_type": "markdown",
   "metadata": {},
   "source": [
    "Replacing previously used category column w more refined category column"
   ]
  },
  {
   "cell_type": "code",
   "execution_count": 347,
   "metadata": {},
   "outputs": [],
   "source": [
    "data.drop('category', axis=1, inplace=True)"
   ]
  },
  {
   "cell_type": "code",
   "execution_count": 348,
   "metadata": {},
   "outputs": [],
   "source": [
    "data.columns = data.columns.str.replace('category1', 'category')"
   ]
  },
  {
   "cell_type": "code",
   "execution_count": 336,
   "metadata": {},
   "outputs": [
    {
     "data": {
      "text/plain": [
       "Index(['Unnamed: 0', 'name', 'financial_status', 'paid_at',\n",
       "       'fulfillment_status', 'accepts_marketing', 'currency', 'subtotal',\n",
       "       'shipping', 'taxes', 'total', 'discount_code', 'discount_amount',\n",
       "       'shipping_method', 'created_at', 'lineitem_quantity', 'lineitem_name',\n",
       "       'lineitem_price', 'lineitem_compare_at_price', 'lineitem_sku',\n",
       "       'lineitem_fulfillment_status', 'shipping_street', 'shipping_address1',\n",
       "       'shipping_company', 'shipping_city', 'shipping_zip',\n",
       "       'shipping_province', 'shipping_country', 'notes', 'cancelled',\n",
       "       'payment_method', 'refunded_amount', 'vendor', 'risk_level', 'source',\n",
       "       'color', 'category'],\n",
       "      dtype='object')"
      ]
     },
     "execution_count": 336,
     "metadata": {},
     "output_type": "execute_result"
    }
   ],
   "source": [
    "data.columns"
   ]
  },
  {
   "cell_type": "markdown",
   "metadata": {},
   "source": [
    "Dropping financial status pending according to William's suggestions"
   ]
  },
  {
   "cell_type": "code",
   "execution_count": 354,
   "metadata": {},
   "outputs": [],
   "source": [
    "data = data[data['financial_status'] != 'pending']"
   ]
  },
  {
   "cell_type": "code",
   "execution_count": 355,
   "metadata": {},
   "outputs": [
    {
     "data": {
      "text/plain": [
       "83509"
      ]
     },
     "execution_count": 355,
     "metadata": {},
     "output_type": "execute_result"
    }
   ],
   "source": [
    "len(data)"
   ]
  },
  {
   "cell_type": "markdown",
   "metadata": {},
   "source": [
    "Exporting final dataset"
   ]
  },
  {
   "cell_type": "code",
   "execution_count": 356,
   "metadata": {},
   "outputs": [],
   "source": [
    "data.to_csv('finalUSJH.csv')"
   ]
  },
  {
   "cell_type": "code",
   "execution_count": 357,
   "metadata": {},
   "outputs": [
    {
     "data": {
      "text/plain": [
       "(83509, 37)"
      ]
     },
     "execution_count": 357,
     "metadata": {},
     "output_type": "execute_result"
    }
   ],
   "source": [
    "data.shape"
   ]
  },
  {
   "cell_type": "code",
   "execution_count": 358,
   "metadata": {},
   "outputs": [],
   "source": [
    "import pickle"
   ]
  },
  {
   "cell_type": "code",
   "execution_count": 359,
   "metadata": {},
   "outputs": [],
   "source": [
    "data.to_pickle('USJH.pkl')"
   ]
  },
  {
   "cell_type": "code",
   "execution_count": 2,
   "metadata": {},
   "outputs": [],
   "source": [
    "import pandas as pd\n",
    "temp = pd.read_pickle('USJH.pkl')"
   ]
  },
  {
   "cell_type": "code",
   "execution_count": 3,
   "metadata": {},
   "outputs": [
    {
     "data": {
      "text/plain": [
       "earring        34861\n",
       "necklace       30837\n",
       "bracelet       10226\n",
       "apparel         3574\n",
       "ring            1839\n",
       "accessories     1439\n",
       "other            733\n",
       "Name: category, dtype: int64"
      ]
     },
     "execution_count": 3,
     "metadata": {},
     "output_type": "execute_result"
    }
   ],
   "source": [
    "temp.category.value_counts()"
   ]
  },
  {
   "cell_type": "code",
   "execution_count": null,
   "metadata": {},
   "outputs": [],
   "source": []
  }
 ],
 "metadata": {
  "kernelspec": {
   "display_name": "Python 3",
   "language": "python",
   "name": "python3"
  },
  "language_info": {
   "codemirror_mode": {
    "name": "ipython",
    "version": 3
   },
   "file_extension": ".py",
   "mimetype": "text/x-python",
   "name": "python",
   "nbconvert_exporter": "python",
   "pygments_lexer": "ipython3",
   "version": "3.6.5"
  }
 },
 "nbformat": 4,
 "nbformat_minor": 2
}
