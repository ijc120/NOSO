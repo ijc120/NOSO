{
 "cells": [
  {
   "cell_type": "markdown",
   "metadata": {},
   "source": [
    "# Outline\n",
    "\n",
    "\n",
    "<p><a name=\"sections\"></a></p>\n",
    "\n",
    "\n",
    "## Sections\n",
    "\n",
    "- <a href=\"#dat\">1. Data </a><br>\n",
    "    - <a href=\"#cle\">Missing Data & Imputation</a><br>\n",
    "    - <a href=\"#dtf\">Datetime Conversion</a><br>\n",
    "    - <a href=\"#num\">String to Numerical</a><br>\n",
    "    - <a href=\"#uno\">Data Merge</a><br>\n",
    "- <a href=\"#nf\">2. Basic EDA</a><br>\n",
    "- <a href=\"#ts\">3. Time Series EDA</a><br>\n",
    "- <a href=\"#pa\">4. Profit-Loss Analysis</a><br>\n",
    "    - <a href=\"#vc\">Visualization</a><br>\n",
    "- <a href=\"#ts\">5. Time Series Analysis</a><br>"
   ]
  },
  {
   "cell_type": "code",
   "execution_count": 1,
   "metadata": {},
   "outputs": [],
   "source": [
    "#create environment\n",
    "import numpy as np\n",
    "import pandas as pd\n",
    "import scipy as sci\n",
    "from scipy import stats\n",
    "import matplotlib.pyplot as plt\n",
    "import seaborn as sns\n",
    "from sklearn.model_selection import train_test_split\n",
    "from sklearn import linear_model\n",
    "from sklearn.metrics import mean_squared_error\n",
    "from copy import deepcopy\n",
    "from statsmodels.formula.api import ols\n",
    "import statsmodels.api as sm\n",
    "from datetime import datetime\n",
    "from pandas.plotting import scatter_matrix\n",
    "pd.set_option('display.max_columns', 500)"
   ]
  },
  {
   "cell_type": "markdown",
   "metadata": {},
   "source": [
    "<p><a name=\"dat\"></a></p>\n",
    "## 1. Data"
   ]
  },
  {
   "cell_type": "code",
   "execution_count": 2,
   "metadata": {},
   "outputs": [],
   "source": [
    "#import data\n",
    "uno_sale = pd.read_pickle('sale_w_categories.pkl')\n",
    "uno_inv = pd.read_pickle('inventory.pkl')"
   ]
  },
  {
   "cell_type": "code",
   "execution_count": 3,
   "metadata": {},
   "outputs": [
    {
     "data": {
      "text/html": [
       "<div>\n",
       "<style scoped>\n",
       "    .dataframe tbody tr th:only-of-type {\n",
       "        vertical-align: middle;\n",
       "    }\n",
       "\n",
       "    .dataframe tbody tr th {\n",
       "        vertical-align: top;\n",
       "    }\n",
       "\n",
       "    .dataframe thead th {\n",
       "        text-align: right;\n",
       "    }\n",
       "</style>\n",
       "<table border=\"1\" class=\"dataframe\">\n",
       "  <thead>\n",
       "    <tr style=\"text-align: right;\">\n",
       "      <th></th>\n",
       "      <th>STYLE#</th>\n",
       "      <th>COLOR</th>\n",
       "      <th>DESCRIPTION</th>\n",
       "      <th>CUST #</th>\n",
       "      <th>INVC DATE</th>\n",
       "      <th>QTY</th>\n",
       "      <th>UNIT PRICE</th>\n",
       "      <th>EXT-AMT</th>\n",
       "      <th>REASON</th>\n",
       "      <th>IMPORT HANDMADE</th>\n",
       "      <th>MANUFACTORS</th>\n",
       "      <th>State_sold</th>\n",
       "      <th>ZIP_sold</th>\n",
       "      <th>RELEASED YEAR</th>\n",
       "      <th>Seasos</th>\n",
       "      <th>Season target</th>\n",
       "      <th>LAST RCVD</th>\n",
       "      <th>FIRST RCVD</th>\n",
       "      <th>LAST INVOICED</th>\n",
       "      <th>FIRST INVOICED</th>\n",
       "      <th>Categories</th>\n",
       "      <th>Categories1</th>\n",
       "      <th>material_style</th>\n",
       "    </tr>\n",
       "  </thead>\n",
       "  <tbody>\n",
       "    <tr>\n",
       "      <th>0</th>\n",
       "      <td>DTA1A9500</td>\n",
       "      <td>IV</td>\n",
       "      <td>seed bead anklet</td>\n",
       "      <td>CB001</td>\n",
       "      <td>4/12/16</td>\n",
       "      <td>144</td>\n",
       "      <td>$ 4.00</td>\n",
       "      <td>$ 576.00</td>\n",
       "      <td>NaN</td>\n",
       "      <td>IMPORT</td>\n",
       "      <td>ICC</td>\n",
       "      <td>FL</td>\n",
       "      <td>33708</td>\n",
       "      <td>2016</td>\n",
       "      <td>2016 1ST</td>\n",
       "      <td>SS16</td>\n",
       "      <td>4/12/16</td>\n",
       "      <td>4/12/16</td>\n",
       "      <td>10/3/18</td>\n",
       "      <td>4/12/16</td>\n",
       "      <td>[seed, bead, anklet]</td>\n",
       "      <td>Necklace</td>\n",
       "      <td>bead</td>\n",
       "    </tr>\n",
       "    <tr>\n",
       "      <th>1</th>\n",
       "      <td>DTA1A9500</td>\n",
       "      <td>MUL</td>\n",
       "      <td>seed bead anklet</td>\n",
       "      <td>CB001</td>\n",
       "      <td>4/12/16</td>\n",
       "      <td>144</td>\n",
       "      <td>$ 4.00</td>\n",
       "      <td>$ 576.00</td>\n",
       "      <td>NaN</td>\n",
       "      <td>IMPORT</td>\n",
       "      <td>ICC</td>\n",
       "      <td>FL</td>\n",
       "      <td>33708</td>\n",
       "      <td>2016</td>\n",
       "      <td>2016 1ST</td>\n",
       "      <td>SS16</td>\n",
       "      <td>4/12/16</td>\n",
       "      <td>4/12/16</td>\n",
       "      <td>10/3/18</td>\n",
       "      <td>4/12/16</td>\n",
       "      <td>[seed, bead, anklet]</td>\n",
       "      <td>Necklace</td>\n",
       "      <td>bead</td>\n",
       "    </tr>\n",
       "    <tr>\n",
       "      <th>2</th>\n",
       "      <td>DTA1A9500</td>\n",
       "      <td>TQ</td>\n",
       "      <td>seed bead anklet</td>\n",
       "      <td>CB001</td>\n",
       "      <td>4/12/16</td>\n",
       "      <td>144</td>\n",
       "      <td>$ 4.00</td>\n",
       "      <td>$ 576.00</td>\n",
       "      <td>NaN</td>\n",
       "      <td>IMPORT</td>\n",
       "      <td>ICC</td>\n",
       "      <td>FL</td>\n",
       "      <td>33708</td>\n",
       "      <td>2016</td>\n",
       "      <td>2016 1ST</td>\n",
       "      <td>SS16</td>\n",
       "      <td>4/12/16</td>\n",
       "      <td>4/12/16</td>\n",
       "      <td>10/3/18</td>\n",
       "      <td>4/12/16</td>\n",
       "      <td>[seed, bead, anklet]</td>\n",
       "      <td>Necklace</td>\n",
       "      <td>bead</td>\n",
       "    </tr>\n",
       "    <tr>\n",
       "      <th>3</th>\n",
       "      <td>DTA1B2029</td>\n",
       "      <td>WG-COR</td>\n",
       "      <td>row wood bead stretch br</td>\n",
       "      <td>CHE005</td>\n",
       "      <td>5/20/16</td>\n",
       "      <td>12</td>\n",
       "      <td>$ 3.25</td>\n",
       "      <td>$ 39.00</td>\n",
       "      <td>NaN</td>\n",
       "      <td>IMPORT</td>\n",
       "      <td>NOBLES</td>\n",
       "      <td>LA</td>\n",
       "      <td>71235</td>\n",
       "      <td>2016</td>\n",
       "      <td>2016 1ST</td>\n",
       "      <td>SS16</td>\n",
       "      <td>4/11/16</td>\n",
       "      <td>4/4/16</td>\n",
       "      <td>10/3/18</td>\n",
       "      <td>4/4/16</td>\n",
       "      <td>[row, wood, bead, stretch, br]</td>\n",
       "      <td>Bracelet</td>\n",
       "      <td>bead</td>\n",
       "    </tr>\n",
       "    <tr>\n",
       "      <th>4</th>\n",
       "      <td>DTA1B2029</td>\n",
       "      <td>WG-COR</td>\n",
       "      <td>row wood bead stretch br</td>\n",
       "      <td>GMA01</td>\n",
       "      <td>8/22/16</td>\n",
       "      <td>24</td>\n",
       "      <td>$ 3.25</td>\n",
       "      <td>$ 78.00</td>\n",
       "      <td>NaN</td>\n",
       "      <td>IMPORT</td>\n",
       "      <td>NOBLES</td>\n",
       "      <td>0</td>\n",
       "      <td>0</td>\n",
       "      <td>2016</td>\n",
       "      <td>2016 1ST</td>\n",
       "      <td>SS16</td>\n",
       "      <td>4/11/16</td>\n",
       "      <td>4/4/16</td>\n",
       "      <td>10/3/18</td>\n",
       "      <td>4/4/16</td>\n",
       "      <td>[row, wood, bead, stretch, br]</td>\n",
       "      <td>Bracelet</td>\n",
       "      <td>bead</td>\n",
       "    </tr>\n",
       "  </tbody>\n",
       "</table>\n",
       "</div>"
      ],
      "text/plain": [
       "      STYLE#   COLOR               DESCRIPTION  CUST # INVC DATE  QTY  \\\n",
       "0  DTA1A9500      IV          seed bead anklet   CB001   4/12/16  144   \n",
       "1  DTA1A9500     MUL          seed bead anklet   CB001   4/12/16  144   \n",
       "2  DTA1A9500      TQ          seed bead anklet   CB001   4/12/16  144   \n",
       "3  DTA1B2029  WG-COR  row wood bead stretch br  CHE005   5/20/16   12   \n",
       "4  DTA1B2029  WG-COR  row wood bead stretch br   GMA01   8/22/16   24   \n",
       "\n",
       "  UNIT PRICE     EXT-AMT REASON IMPORT HANDMADE MANUFACTORS State_sold  \\\n",
       "0    $ 4.00    $ 576.00     NaN          IMPORT         ICC         FL   \n",
       "1    $ 4.00    $ 576.00     NaN          IMPORT         ICC         FL   \n",
       "2    $ 4.00    $ 576.00     NaN          IMPORT         ICC         FL   \n",
       "3    $ 3.25     $ 39.00     NaN          IMPORT      NOBLES         LA   \n",
       "4    $ 3.25     $ 78.00     NaN          IMPORT      NOBLES          0   \n",
       "\n",
       "  ZIP_sold RELEASED YEAR    Seasos Season target LAST RCVD FIRST RCVD  \\\n",
       "0    33708          2016  2016 1ST          SS16   4/12/16    4/12/16   \n",
       "1    33708          2016  2016 1ST          SS16   4/12/16    4/12/16   \n",
       "2    33708          2016  2016 1ST          SS16   4/12/16    4/12/16   \n",
       "3    71235          2016  2016 1ST          SS16   4/11/16     4/4/16   \n",
       "4        0          2016  2016 1ST          SS16   4/11/16     4/4/16   \n",
       "\n",
       "  LAST INVOICED FIRST INVOICED                      Categories Categories1  \\\n",
       "0       10/3/18        4/12/16            [seed, bead, anklet]    Necklace   \n",
       "1       10/3/18        4/12/16            [seed, bead, anklet]    Necklace   \n",
       "2       10/3/18        4/12/16            [seed, bead, anklet]    Necklace   \n",
       "3       10/3/18         4/4/16  [row, wood, bead, stretch, br]    Bracelet   \n",
       "4       10/3/18         4/4/16  [row, wood, bead, stretch, br]    Bracelet   \n",
       "\n",
       "  material_style  \n",
       "0           bead  \n",
       "1           bead  \n",
       "2           bead  \n",
       "3           bead  \n",
       "4           bead  "
      ]
     },
     "execution_count": 3,
     "metadata": {},
     "output_type": "execute_result"
    }
   ],
   "source": [
    "uno_sale.head()"
   ]
  },
  {
   "cell_type": "code",
   "execution_count": 4,
   "metadata": {},
   "outputs": [
    {
     "data": {
      "text/plain": [
       "STYLE#             object\n",
       "COLOR              object\n",
       "DESCRIPTION        object\n",
       "CUST #             object\n",
       "INVC DATE          object\n",
       "QTY                 int64\n",
       "UNIT PRICE         object\n",
       "EXT-AMT            object\n",
       "REASON             object\n",
       "IMPORT HANDMADE    object\n",
       "MANUFACTORS        object\n",
       "State_sold         object\n",
       "ZIP_sold           object\n",
       "RELEASED YEAR      object\n",
       "Seasos             object\n",
       "Season target      object\n",
       "LAST RCVD          object\n",
       "FIRST RCVD         object\n",
       "LAST INVOICED      object\n",
       "FIRST INVOICED     object\n",
       "Categories         object\n",
       "Categories1        object\n",
       "material_style     object\n",
       "dtype: object"
      ]
     },
     "execution_count": 4,
     "metadata": {},
     "output_type": "execute_result"
    }
   ],
   "source": [
    "uno_sale.dtypes"
   ]
  },
  {
   "cell_type": "code",
   "execution_count": 5,
   "metadata": {},
   "outputs": [
    {
     "data": {
      "text/plain": [
       "STYLE#          object\n",
       "COLOR           object\n",
       "Description     object\n",
       "LAST RCVD       object\n",
       "Qty             object\n",
       "On-Hand         object\n",
       "Categories     float64\n",
       "dtype: object"
      ]
     },
     "execution_count": 5,
     "metadata": {},
     "output_type": "execute_result"
    }
   ],
   "source": [
    "uno_inv.dtypes"
   ]
  },
  {
   "cell_type": "code",
   "execution_count": 6,
   "metadata": {},
   "outputs": [
    {
     "data": {
      "text/html": [
       "<div>\n",
       "<style scoped>\n",
       "    .dataframe tbody tr th:only-of-type {\n",
       "        vertical-align: middle;\n",
       "    }\n",
       "\n",
       "    .dataframe tbody tr th {\n",
       "        vertical-align: top;\n",
       "    }\n",
       "\n",
       "    .dataframe thead th {\n",
       "        text-align: right;\n",
       "    }\n",
       "</style>\n",
       "<table border=\"1\" class=\"dataframe\">\n",
       "  <thead>\n",
       "    <tr style=\"text-align: right;\">\n",
       "      <th></th>\n",
       "      <th>STYLE#</th>\n",
       "      <th>COLOR</th>\n",
       "      <th>Description</th>\n",
       "      <th>LAST RCVD</th>\n",
       "      <th>Qty</th>\n",
       "      <th>On-Hand</th>\n",
       "      <th>Categories</th>\n",
       "    </tr>\n",
       "  </thead>\n",
       "  <tbody>\n",
       "    <tr>\n",
       "      <th>0</th>\n",
       "      <td>DTA1A9500</td>\n",
       "      <td>IV</td>\n",
       "      <td>seed bead anklet</td>\n",
       "      <td>4/12/2016</td>\n",
       "      <td>-144</td>\n",
       "      <td>0</td>\n",
       "      <td>NaN</td>\n",
       "    </tr>\n",
       "    <tr>\n",
       "      <th>1</th>\n",
       "      <td>DTA1A9500</td>\n",
       "      <td>IV</td>\n",
       "      <td>seed bead anklet</td>\n",
       "      <td>4/12/2016</td>\n",
       "      <td>144</td>\n",
       "      <td>0</td>\n",
       "      <td>NaN</td>\n",
       "    </tr>\n",
       "    <tr>\n",
       "      <th>2</th>\n",
       "      <td>DTA1A9500</td>\n",
       "      <td>MUL</td>\n",
       "      <td>seed bead anklet</td>\n",
       "      <td>4/12/2016</td>\n",
       "      <td>-144</td>\n",
       "      <td>0</td>\n",
       "      <td>NaN</td>\n",
       "    </tr>\n",
       "    <tr>\n",
       "      <th>3</th>\n",
       "      <td>DTA1A9500</td>\n",
       "      <td>MUL</td>\n",
       "      <td>seed bead anklet</td>\n",
       "      <td>4/12/2016</td>\n",
       "      <td>144</td>\n",
       "      <td>0</td>\n",
       "      <td>NaN</td>\n",
       "    </tr>\n",
       "    <tr>\n",
       "      <th>4</th>\n",
       "      <td>DTA1A9500</td>\n",
       "      <td>TQ</td>\n",
       "      <td>seed bead anklet</td>\n",
       "      <td>4/12/2016</td>\n",
       "      <td>-144</td>\n",
       "      <td>0</td>\n",
       "      <td>NaN</td>\n",
       "    </tr>\n",
       "  </tbody>\n",
       "</table>\n",
       "</div>"
      ],
      "text/plain": [
       "      STYLE# COLOR       Description  LAST RCVD   Qty On-Hand  Categories\n",
       "0  DTA1A9500    IV  seed bead anklet  4/12/2016  -144       0         NaN\n",
       "1  DTA1A9500    IV  seed bead anklet  4/12/2016   144       0         NaN\n",
       "2  DTA1A9500   MUL  seed bead anklet  4/12/2016  -144       0         NaN\n",
       "3  DTA1A9500   MUL  seed bead anklet  4/12/2016   144       0         NaN\n",
       "4  DTA1A9500    TQ  seed bead anklet  4/12/2016  -144       0         NaN"
      ]
     },
     "execution_count": 6,
     "metadata": {},
     "output_type": "execute_result"
    }
   ],
   "source": [
    "uno_inv.head()"
   ]
  },
  {
   "cell_type": "markdown",
   "metadata": {},
   "source": [
    "<p><a name=\"cle\"></a></p>\n",
    "### Missing Data & Imputation"
   ]
  },
  {
   "cell_type": "code",
   "execution_count": 7,
   "metadata": {},
   "outputs": [],
   "source": [
    "def missing_value(df):\n",
    "    nulls = pd.DataFrame(df.isnull().sum().sort_values(ascending=False))\n",
    "    nulls.columns=['NAs']\n",
    "    nulls['percentage']=nulls['NAs']/df.shape[0]\n",
    "    result=nulls.loc[nulls.NAs>0]\n",
    "    print('Number of features with NAs:',result.shape[0])\n",
    "    return result"
   ]
  },
  {
   "cell_type": "code",
   "execution_count": 8,
   "metadata": {},
   "outputs": [
    {
     "name": "stdout",
     "output_type": "stream",
     "text": [
      "Number of features with NAs: 3\n"
     ]
    },
    {
     "data": {
      "text/html": [
       "<div>\n",
       "<style scoped>\n",
       "    .dataframe tbody tr th:only-of-type {\n",
       "        vertical-align: middle;\n",
       "    }\n",
       "\n",
       "    .dataframe tbody tr th {\n",
       "        vertical-align: top;\n",
       "    }\n",
       "\n",
       "    .dataframe thead th {\n",
       "        text-align: right;\n",
       "    }\n",
       "</style>\n",
       "<table border=\"1\" class=\"dataframe\">\n",
       "  <thead>\n",
       "    <tr style=\"text-align: right;\">\n",
       "      <th></th>\n",
       "      <th>NAs</th>\n",
       "      <th>percentage</th>\n",
       "    </tr>\n",
       "  </thead>\n",
       "  <tbody>\n",
       "    <tr>\n",
       "      <th>REASON</th>\n",
       "      <td>108410</td>\n",
       "      <td>0.976332</td>\n",
       "    </tr>\n",
       "    <tr>\n",
       "      <th>COLOR</th>\n",
       "      <td>3981</td>\n",
       "      <td>0.035853</td>\n",
       "    </tr>\n",
       "    <tr>\n",
       "      <th>MANUFACTORS</th>\n",
       "      <td>81</td>\n",
       "      <td>0.000729</td>\n",
       "    </tr>\n",
       "  </tbody>\n",
       "</table>\n",
       "</div>"
      ],
      "text/plain": [
       "                NAs  percentage\n",
       "REASON       108410    0.976332\n",
       "COLOR          3981    0.035853\n",
       "MANUFACTORS      81    0.000729"
      ]
     },
     "execution_count": 8,
     "metadata": {},
     "output_type": "execute_result"
    }
   ],
   "source": [
    "missing_value(uno_sale)"
   ]
  },
  {
   "cell_type": "code",
   "execution_count": 9,
   "metadata": {},
   "outputs": [
    {
     "name": "stdout",
     "output_type": "stream",
     "text": [
      "Number of features with NAs: 6\n"
     ]
    },
    {
     "data": {
      "text/html": [
       "<div>\n",
       "<style scoped>\n",
       "    .dataframe tbody tr th:only-of-type {\n",
       "        vertical-align: middle;\n",
       "    }\n",
       "\n",
       "    .dataframe tbody tr th {\n",
       "        vertical-align: top;\n",
       "    }\n",
       "\n",
       "    .dataframe thead th {\n",
       "        text-align: right;\n",
       "    }\n",
       "</style>\n",
       "<table border=\"1\" class=\"dataframe\">\n",
       "  <thead>\n",
       "    <tr style=\"text-align: right;\">\n",
       "      <th></th>\n",
       "      <th>NAs</th>\n",
       "      <th>percentage</th>\n",
       "    </tr>\n",
       "  </thead>\n",
       "  <tbody>\n",
       "    <tr>\n",
       "      <th>Categories</th>\n",
       "      <td>144613</td>\n",
       "      <td>1.000000</td>\n",
       "    </tr>\n",
       "    <tr>\n",
       "      <th>COLOR</th>\n",
       "      <td>8289</td>\n",
       "      <td>0.057318</td>\n",
       "    </tr>\n",
       "    <tr>\n",
       "      <th>Description</th>\n",
       "      <td>8</td>\n",
       "      <td>0.000055</td>\n",
       "    </tr>\n",
       "    <tr>\n",
       "      <th>On-Hand</th>\n",
       "      <td>1</td>\n",
       "      <td>0.000007</td>\n",
       "    </tr>\n",
       "    <tr>\n",
       "      <th>Qty</th>\n",
       "      <td>1</td>\n",
       "      <td>0.000007</td>\n",
       "    </tr>\n",
       "    <tr>\n",
       "      <th>LAST RCVD</th>\n",
       "      <td>1</td>\n",
       "      <td>0.000007</td>\n",
       "    </tr>\n",
       "  </tbody>\n",
       "</table>\n",
       "</div>"
      ],
      "text/plain": [
       "                NAs  percentage\n",
       "Categories   144613    1.000000\n",
       "COLOR          8289    0.057318\n",
       "Description       8    0.000055\n",
       "On-Hand           1    0.000007\n",
       "Qty               1    0.000007\n",
       "LAST RCVD         1    0.000007"
      ]
     },
     "execution_count": 9,
     "metadata": {},
     "output_type": "execute_result"
    }
   ],
   "source": [
    "missing_value(uno_inv)"
   ]
  },
  {
   "cell_type": "code",
   "execution_count": 10,
   "metadata": {},
   "outputs": [],
   "source": [
    "uno_inv[uno_inv.isnull().any(axis=1)] #144725\n",
    "uno_inv.drop(index=144725, inplace=True)"
   ]
  },
  {
   "cell_type": "code",
   "execution_count": 11,
   "metadata": {},
   "outputs": [],
   "source": [
    "def impu_nmar(df,features):\n",
    "    df[features]=df[features].fillna('None')\n",
    "    \n",
    "def impu_nmar0(df,features):\n",
    "    df[features]=df[features].fillna(0.0)"
   ]
  },
  {
   "cell_type": "code",
   "execution_count": 12,
   "metadata": {},
   "outputs": [],
   "source": [
    "uno_inv_nmar=['COLOR','Description']\n",
    "uno_sale_nmar=['REASON', 'COLOR','MANUFACTORS']\n",
    "impu_nmar(uno_inv, uno_inv_nmar)\n",
    "impu_nmar(uno_sale, uno_sale_nmar)"
   ]
  },
  {
   "cell_type": "code",
   "execution_count": 13,
   "metadata": {},
   "outputs": [
    {
     "name": "stdout",
     "output_type": "stream",
     "text": [
      "Number of features with NAs: 1\n"
     ]
    },
    {
     "data": {
      "text/html": [
       "<div>\n",
       "<style scoped>\n",
       "    .dataframe tbody tr th:only-of-type {\n",
       "        vertical-align: middle;\n",
       "    }\n",
       "\n",
       "    .dataframe tbody tr th {\n",
       "        vertical-align: top;\n",
       "    }\n",
       "\n",
       "    .dataframe thead th {\n",
       "        text-align: right;\n",
       "    }\n",
       "</style>\n",
       "<table border=\"1\" class=\"dataframe\">\n",
       "  <thead>\n",
       "    <tr style=\"text-align: right;\">\n",
       "      <th></th>\n",
       "      <th>NAs</th>\n",
       "      <th>percentage</th>\n",
       "    </tr>\n",
       "  </thead>\n",
       "  <tbody>\n",
       "    <tr>\n",
       "      <th>Categories</th>\n",
       "      <td>144612</td>\n",
       "      <td>1.0</td>\n",
       "    </tr>\n",
       "  </tbody>\n",
       "</table>\n",
       "</div>"
      ],
      "text/plain": [
       "               NAs  percentage\n",
       "Categories  144612         1.0"
      ]
     },
     "execution_count": 13,
     "metadata": {},
     "output_type": "execute_result"
    }
   ],
   "source": [
    "missing_value(uno_inv)"
   ]
  },
  {
   "cell_type": "code",
   "execution_count": 14,
   "metadata": {},
   "outputs": [
    {
     "name": "stdout",
     "output_type": "stream",
     "text": [
      "Number of features with NAs: 0\n"
     ]
    },
    {
     "data": {
      "text/html": [
       "<div>\n",
       "<style scoped>\n",
       "    .dataframe tbody tr th:only-of-type {\n",
       "        vertical-align: middle;\n",
       "    }\n",
       "\n",
       "    .dataframe tbody tr th {\n",
       "        vertical-align: top;\n",
       "    }\n",
       "\n",
       "    .dataframe thead th {\n",
       "        text-align: right;\n",
       "    }\n",
       "</style>\n",
       "<table border=\"1\" class=\"dataframe\">\n",
       "  <thead>\n",
       "    <tr style=\"text-align: right;\">\n",
       "      <th></th>\n",
       "      <th>NAs</th>\n",
       "      <th>percentage</th>\n",
       "    </tr>\n",
       "  </thead>\n",
       "  <tbody>\n",
       "  </tbody>\n",
       "</table>\n",
       "</div>"
      ],
      "text/plain": [
       "Empty DataFrame\n",
       "Columns: [NAs, percentage]\n",
       "Index: []"
      ]
     },
     "execution_count": 14,
     "metadata": {},
     "output_type": "execute_result"
    }
   ],
   "source": [
    "missing_value(uno_sale)"
   ]
  },
  {
   "cell_type": "markdown",
   "metadata": {},
   "source": [
    "<p><a name=\"dtf\"></a></p>\n",
    "### Datetime Conversion"
   ]
  },
  {
   "cell_type": "code",
   "execution_count": 15,
   "metadata": {},
   "outputs": [],
   "source": [
    "#format='%m/%d/%y %H:%M'\n",
    "def str_to_datetime(df, features):\n",
    "    for feature in features:\n",
    "        df[feature]=pd.to_datetime(df[feature], format='%m/%d/%y %H:%M', errors='ignore')\n",
    "    \n",
    "#format='%m/%d/%y'\n",
    "def str_to_date(df, features):\n",
    "    for feature in features:\n",
    "        df[feature]=pd.to_datetime(df[feature], format='%m/%d/%y', errors='ignore')\n",
    "\n",
    "#format='%m/%d/%Y'\n",
    "def str_to_date1(df, features):\n",
    "    for feature in features:\n",
    "        df[feature]=pd.to_datetime(df[feature], format='%m/%d/%Y', errors='ignore')"
   ]
  },
  {
   "cell_type": "code",
   "execution_count": 16,
   "metadata": {},
   "outputs": [],
   "source": [
    "#date features in uno\n",
    "uno_inv_todate=['LAST RCVD']\n",
    "uno_sale_todate=['INVC DATE','LAST RCVD','FIRST RCVD','LAST INVOICED','FIRST INVOICED']\n",
    "\n",
    "#format='%m/%d/%Y'\n",
    "str_to_date(uno_sale, uno_sale_todate)\n",
    "str_to_date1(uno_inv, uno_inv_todate)"
   ]
  },
  {
   "cell_type": "code",
   "execution_count": 17,
   "metadata": {},
   "outputs": [
    {
     "data": {
      "text/plain": [
       "STYLE#                     object\n",
       "COLOR                      object\n",
       "DESCRIPTION                object\n",
       "CUST #                     object\n",
       "INVC DATE          datetime64[ns]\n",
       "QTY                         int64\n",
       "UNIT PRICE                 object\n",
       "EXT-AMT                    object\n",
       "REASON                     object\n",
       "IMPORT HANDMADE            object\n",
       "MANUFACTORS                object\n",
       "State_sold                 object\n",
       "ZIP_sold                   object\n",
       "RELEASED YEAR              object\n",
       "Seasos                     object\n",
       "Season target              object\n",
       "LAST RCVD                  object\n",
       "FIRST RCVD                 object\n",
       "LAST INVOICED      datetime64[ns]\n",
       "FIRST INVOICED     datetime64[ns]\n",
       "Categories                 object\n",
       "Categories1                object\n",
       "material_style             object\n",
       "dtype: object"
      ]
     },
     "execution_count": 17,
     "metadata": {},
     "output_type": "execute_result"
    }
   ],
   "source": [
    "uno_sale.dtypes"
   ]
  },
  {
   "cell_type": "code",
   "execution_count": null,
   "metadata": {},
   "outputs": [],
   "source": []
  },
  {
   "cell_type": "code",
   "execution_count": null,
   "metadata": {},
   "outputs": [],
   "source": []
  },
  {
   "cell_type": "markdown",
   "metadata": {},
   "source": [
    "<p><a name=\"num\"></a></p>\n",
    "### String to Numerical"
   ]
  },
  {
   "cell_type": "code",
   "execution_count": 18,
   "metadata": {},
   "outputs": [],
   "source": [
    "def num(df, features):\n",
    "    for feature in features:\n",
    "        df[feature]=df[feature].replace('[$,() ]', '', regex=True).astype(float)"
   ]
  },
  {
   "cell_type": "code",
   "execution_count": 19,
   "metadata": {},
   "outputs": [],
   "source": [
    "uno_inv_tonum=['Qty','On-Hand']\n",
    "uno_sale_tonum=['UNIT PRICE','EXT-AMT']\n",
    "num(uno_inv, uno_inv_tonum)\n",
    "num(uno_sale, uno_sale_tonum)"
   ]
  },
  {
   "cell_type": "code",
   "execution_count": 20,
   "metadata": {},
   "outputs": [
    {
     "data": {
      "text/plain": [
       "Index(['STYLE#', 'COLOR', 'DESCRIPTION', 'CUST #', 'INVC DATE', 'QTY',\n",
       "       'UNIT PRICE', 'EXT-AMT', 'REASON', 'IMPORT HANDMADE', 'MANUFACTORS',\n",
       "       'State_sold', 'ZIP_sold', 'RELEASED YEAR', 'Seasos', 'Season target',\n",
       "       'LAST RCVD', 'FIRST RCVD', 'LAST INVOICED', 'FIRST INVOICED',\n",
       "       'Categories', 'Categories1', 'material_style'],\n",
       "      dtype='object')"
      ]
     },
     "execution_count": 20,
     "metadata": {},
     "output_type": "execute_result"
    }
   ],
   "source": [
    "uno_sale.columns"
   ]
  },
  {
   "cell_type": "markdown",
   "metadata": {},
   "source": [
    "<p><a name=\"uno\"></a></p>\n",
    "### Data Merge"
   ]
  },
  {
   "cell_type": "code",
   "execution_count": 21,
   "metadata": {},
   "outputs": [
    {
     "data": {
      "text/html": [
       "<div>\n",
       "<style scoped>\n",
       "    .dataframe tbody tr th:only-of-type {\n",
       "        vertical-align: middle;\n",
       "    }\n",
       "\n",
       "    .dataframe tbody tr th {\n",
       "        vertical-align: top;\n",
       "    }\n",
       "\n",
       "    .dataframe thead th {\n",
       "        text-align: right;\n",
       "    }\n",
       "</style>\n",
       "<table border=\"1\" class=\"dataframe\">\n",
       "  <thead>\n",
       "    <tr style=\"text-align: right;\">\n",
       "      <th></th>\n",
       "      <th>STYLE#</th>\n",
       "      <th>COLOR</th>\n",
       "      <th>DESCRIPTION</th>\n",
       "      <th>CUST #</th>\n",
       "      <th>INVC DATE</th>\n",
       "      <th>QTY</th>\n",
       "      <th>UNIT PRICE</th>\n",
       "      <th>EXT-AMT</th>\n",
       "      <th>REASON</th>\n",
       "      <th>IMPORT HANDMADE</th>\n",
       "      <th>MANUFACTORS</th>\n",
       "      <th>State_sold</th>\n",
       "      <th>ZIP_sold</th>\n",
       "      <th>RELEASED YEAR</th>\n",
       "      <th>Seasos</th>\n",
       "      <th>Season target</th>\n",
       "      <th>LAST INVOICED</th>\n",
       "      <th>FIRST INVOICED</th>\n",
       "      <th>Categories</th>\n",
       "      <th>Categories1</th>\n",
       "      <th>material_style</th>\n",
       "      <th>On-Hand</th>\n",
       "    </tr>\n",
       "  </thead>\n",
       "  <tbody>\n",
       "    <tr>\n",
       "      <th>0</th>\n",
       "      <td>DTA1A9500</td>\n",
       "      <td>IV</td>\n",
       "      <td>seed bead anklet</td>\n",
       "      <td>CB001</td>\n",
       "      <td>2016-04-12</td>\n",
       "      <td>144</td>\n",
       "      <td>4.0</td>\n",
       "      <td>576.0</td>\n",
       "      <td>None</td>\n",
       "      <td>IMPORT</td>\n",
       "      <td>ICC</td>\n",
       "      <td>FL</td>\n",
       "      <td>33708</td>\n",
       "      <td>2016</td>\n",
       "      <td>2016 1ST</td>\n",
       "      <td>SS16</td>\n",
       "      <td>2018-10-03</td>\n",
       "      <td>2016-04-12</td>\n",
       "      <td>[seed, bead, anklet]</td>\n",
       "      <td>Necklace</td>\n",
       "      <td>bead</td>\n",
       "      <td>0.0</td>\n",
       "    </tr>\n",
       "    <tr>\n",
       "      <th>1</th>\n",
       "      <td>DTA1A9500</td>\n",
       "      <td>IV</td>\n",
       "      <td>seed bead anklet</td>\n",
       "      <td>CB001</td>\n",
       "      <td>2016-04-12</td>\n",
       "      <td>144</td>\n",
       "      <td>4.0</td>\n",
       "      <td>576.0</td>\n",
       "      <td>None</td>\n",
       "      <td>IMPORT</td>\n",
       "      <td>ICC</td>\n",
       "      <td>FL</td>\n",
       "      <td>33708</td>\n",
       "      <td>2016</td>\n",
       "      <td>2016 1ST</td>\n",
       "      <td>SS16</td>\n",
       "      <td>2018-10-03</td>\n",
       "      <td>2016-04-12</td>\n",
       "      <td>[seed, bead, anklet]</td>\n",
       "      <td>Necklace</td>\n",
       "      <td>bead</td>\n",
       "      <td>0.0</td>\n",
       "    </tr>\n",
       "    <tr>\n",
       "      <th>2</th>\n",
       "      <td>DTA1A9500</td>\n",
       "      <td>MUL</td>\n",
       "      <td>seed bead anklet</td>\n",
       "      <td>CB001</td>\n",
       "      <td>2016-04-12</td>\n",
       "      <td>144</td>\n",
       "      <td>4.0</td>\n",
       "      <td>576.0</td>\n",
       "      <td>None</td>\n",
       "      <td>IMPORT</td>\n",
       "      <td>ICC</td>\n",
       "      <td>FL</td>\n",
       "      <td>33708</td>\n",
       "      <td>2016</td>\n",
       "      <td>2016 1ST</td>\n",
       "      <td>SS16</td>\n",
       "      <td>2018-10-03</td>\n",
       "      <td>2016-04-12</td>\n",
       "      <td>[seed, bead, anklet]</td>\n",
       "      <td>Necklace</td>\n",
       "      <td>bead</td>\n",
       "      <td>0.0</td>\n",
       "    </tr>\n",
       "    <tr>\n",
       "      <th>3</th>\n",
       "      <td>DTA1A9500</td>\n",
       "      <td>MUL</td>\n",
       "      <td>seed bead anklet</td>\n",
       "      <td>CB001</td>\n",
       "      <td>2016-04-12</td>\n",
       "      <td>144</td>\n",
       "      <td>4.0</td>\n",
       "      <td>576.0</td>\n",
       "      <td>None</td>\n",
       "      <td>IMPORT</td>\n",
       "      <td>ICC</td>\n",
       "      <td>FL</td>\n",
       "      <td>33708</td>\n",
       "      <td>2016</td>\n",
       "      <td>2016 1ST</td>\n",
       "      <td>SS16</td>\n",
       "      <td>2018-10-03</td>\n",
       "      <td>2016-04-12</td>\n",
       "      <td>[seed, bead, anklet]</td>\n",
       "      <td>Necklace</td>\n",
       "      <td>bead</td>\n",
       "      <td>0.0</td>\n",
       "    </tr>\n",
       "    <tr>\n",
       "      <th>4</th>\n",
       "      <td>DTA1A9500</td>\n",
       "      <td>TQ</td>\n",
       "      <td>seed bead anklet</td>\n",
       "      <td>CB001</td>\n",
       "      <td>2016-04-12</td>\n",
       "      <td>144</td>\n",
       "      <td>4.0</td>\n",
       "      <td>576.0</td>\n",
       "      <td>None</td>\n",
       "      <td>IMPORT</td>\n",
       "      <td>ICC</td>\n",
       "      <td>FL</td>\n",
       "      <td>33708</td>\n",
       "      <td>2016</td>\n",
       "      <td>2016 1ST</td>\n",
       "      <td>SS16</td>\n",
       "      <td>2018-10-03</td>\n",
       "      <td>2016-04-12</td>\n",
       "      <td>[seed, bead, anklet]</td>\n",
       "      <td>Necklace</td>\n",
       "      <td>bead</td>\n",
       "      <td>0.0</td>\n",
       "    </tr>\n",
       "  </tbody>\n",
       "</table>\n",
       "</div>"
      ],
      "text/plain": [
       "      STYLE# COLOR       DESCRIPTION CUST #  INVC DATE  QTY  UNIT PRICE  \\\n",
       "0  DTA1A9500    IV  seed bead anklet  CB001 2016-04-12  144         4.0   \n",
       "1  DTA1A9500    IV  seed bead anklet  CB001 2016-04-12  144         4.0   \n",
       "2  DTA1A9500   MUL  seed bead anklet  CB001 2016-04-12  144         4.0   \n",
       "3  DTA1A9500   MUL  seed bead anklet  CB001 2016-04-12  144         4.0   \n",
       "4  DTA1A9500    TQ  seed bead anklet  CB001 2016-04-12  144         4.0   \n",
       "\n",
       "   EXT-AMT REASON IMPORT HANDMADE MANUFACTORS State_sold ZIP_sold  \\\n",
       "0    576.0   None          IMPORT         ICC         FL    33708   \n",
       "1    576.0   None          IMPORT         ICC         FL    33708   \n",
       "2    576.0   None          IMPORT         ICC         FL    33708   \n",
       "3    576.0   None          IMPORT         ICC         FL    33708   \n",
       "4    576.0   None          IMPORT         ICC         FL    33708   \n",
       "\n",
       "  RELEASED YEAR    Seasos Season target LAST INVOICED FIRST INVOICED  \\\n",
       "0          2016  2016 1ST          SS16    2018-10-03     2016-04-12   \n",
       "1          2016  2016 1ST          SS16    2018-10-03     2016-04-12   \n",
       "2          2016  2016 1ST          SS16    2018-10-03     2016-04-12   \n",
       "3          2016  2016 1ST          SS16    2018-10-03     2016-04-12   \n",
       "4          2016  2016 1ST          SS16    2018-10-03     2016-04-12   \n",
       "\n",
       "             Categories Categories1 material_style  On-Hand  \n",
       "0  [seed, bead, anklet]    Necklace           bead      0.0  \n",
       "1  [seed, bead, anklet]    Necklace           bead      0.0  \n",
       "2  [seed, bead, anklet]    Necklace           bead      0.0  \n",
       "3  [seed, bead, anklet]    Necklace           bead      0.0  \n",
       "4  [seed, bead, anklet]    Necklace           bead      0.0  "
      ]
     },
     "execution_count": 21,
     "metadata": {},
     "output_type": "execute_result"
    }
   ],
   "source": [
    "uno_sale_subset = uno_sale.drop(columns=['LAST RCVD', 'FIRST RCVD'])\n",
    "uno_inv_subset = uno_inv[['COLOR','Description','LAST RCVD','On-Hand']]\n",
    "uno_merged = pd.merge(uno_sale_subset, uno_inv_subset, how='left', left_on=['COLOR','DESCRIPTION','INVC DATE'],\\\n",
    "                 right_on=['COLOR', 'Description', 'LAST RCVD'])\n",
    "uno_merged.drop(columns=['Description','LAST RCVD'], inplace=True)\n",
    "uno_merged.head() #anklets are \"accessories\""
   ]
  },
  {
   "cell_type": "code",
   "execution_count": 22,
   "metadata": {},
   "outputs": [
    {
     "data": {
      "text/html": [
       "<div>\n",
       "<style scoped>\n",
       "    .dataframe tbody tr th:only-of-type {\n",
       "        vertical-align: middle;\n",
       "    }\n",
       "\n",
       "    .dataframe tbody tr th {\n",
       "        vertical-align: top;\n",
       "    }\n",
       "\n",
       "    .dataframe thead th {\n",
       "        text-align: right;\n",
       "    }\n",
       "</style>\n",
       "<table border=\"1\" class=\"dataframe\">\n",
       "  <thead>\n",
       "    <tr style=\"text-align: right;\">\n",
       "      <th></th>\n",
       "      <th>STYLE#</th>\n",
       "      <th>COLOR</th>\n",
       "      <th>DESCRIPTION</th>\n",
       "      <th>CUST #</th>\n",
       "      <th>INVC DATE</th>\n",
       "      <th>QTY</th>\n",
       "      <th>UNIT PRICE</th>\n",
       "      <th>EXT-AMT</th>\n",
       "      <th>REASON</th>\n",
       "      <th>IMPORT HANDMADE</th>\n",
       "      <th>MANUFACTORS</th>\n",
       "      <th>State_sold</th>\n",
       "      <th>ZIP_sold</th>\n",
       "      <th>RELEASED YEAR</th>\n",
       "      <th>Seasos</th>\n",
       "      <th>Season target</th>\n",
       "      <th>LAST INVOICED</th>\n",
       "      <th>FIRST INVOICED</th>\n",
       "      <th>Categories</th>\n",
       "      <th>Categories1</th>\n",
       "      <th>material_style</th>\n",
       "      <th>On-Hand</th>\n",
       "      <th>UNIT COST</th>\n",
       "      <th>VAR COST</th>\n",
       "      <th>QTYINV Ratio</th>\n",
       "    </tr>\n",
       "  </thead>\n",
       "  <tbody>\n",
       "    <tr>\n",
       "      <th>0</th>\n",
       "      <td>DTA1A9500</td>\n",
       "      <td>IV</td>\n",
       "      <td>seed bead anklet</td>\n",
       "      <td>CB001</td>\n",
       "      <td>2016-04-12</td>\n",
       "      <td>144</td>\n",
       "      <td>4.0</td>\n",
       "      <td>576.0</td>\n",
       "      <td>None</td>\n",
       "      <td>IMPORT</td>\n",
       "      <td>ICC</td>\n",
       "      <td>FL</td>\n",
       "      <td>33708</td>\n",
       "      <td>2016</td>\n",
       "      <td>2016 1ST</td>\n",
       "      <td>SS16</td>\n",
       "      <td>2018-10-03</td>\n",
       "      <td>2016-04-12</td>\n",
       "      <td>[seed, bead, anklet]</td>\n",
       "      <td>Necklace</td>\n",
       "      <td>bead</td>\n",
       "      <td>0.0</td>\n",
       "      <td>2.0</td>\n",
       "      <td>0.0</td>\n",
       "      <td>-inf</td>\n",
       "    </tr>\n",
       "    <tr>\n",
       "      <th>1</th>\n",
       "      <td>DTA1A9500</td>\n",
       "      <td>IV</td>\n",
       "      <td>seed bead anklet</td>\n",
       "      <td>CB001</td>\n",
       "      <td>2016-04-12</td>\n",
       "      <td>144</td>\n",
       "      <td>4.0</td>\n",
       "      <td>576.0</td>\n",
       "      <td>None</td>\n",
       "      <td>IMPORT</td>\n",
       "      <td>ICC</td>\n",
       "      <td>FL</td>\n",
       "      <td>33708</td>\n",
       "      <td>2016</td>\n",
       "      <td>2016 1ST</td>\n",
       "      <td>SS16</td>\n",
       "      <td>2018-10-03</td>\n",
       "      <td>2016-04-12</td>\n",
       "      <td>[seed, bead, anklet]</td>\n",
       "      <td>Necklace</td>\n",
       "      <td>bead</td>\n",
       "      <td>0.0</td>\n",
       "      <td>2.0</td>\n",
       "      <td>0.0</td>\n",
       "      <td>-inf</td>\n",
       "    </tr>\n",
       "    <tr>\n",
       "      <th>2</th>\n",
       "      <td>DTA1A9500</td>\n",
       "      <td>MUL</td>\n",
       "      <td>seed bead anklet</td>\n",
       "      <td>CB001</td>\n",
       "      <td>2016-04-12</td>\n",
       "      <td>144</td>\n",
       "      <td>4.0</td>\n",
       "      <td>576.0</td>\n",
       "      <td>None</td>\n",
       "      <td>IMPORT</td>\n",
       "      <td>ICC</td>\n",
       "      <td>FL</td>\n",
       "      <td>33708</td>\n",
       "      <td>2016</td>\n",
       "      <td>2016 1ST</td>\n",
       "      <td>SS16</td>\n",
       "      <td>2018-10-03</td>\n",
       "      <td>2016-04-12</td>\n",
       "      <td>[seed, bead, anklet]</td>\n",
       "      <td>Necklace</td>\n",
       "      <td>bead</td>\n",
       "      <td>0.0</td>\n",
       "      <td>2.0</td>\n",
       "      <td>0.0</td>\n",
       "      <td>-inf</td>\n",
       "    </tr>\n",
       "    <tr>\n",
       "      <th>3</th>\n",
       "      <td>DTA1A9500</td>\n",
       "      <td>MUL</td>\n",
       "      <td>seed bead anklet</td>\n",
       "      <td>CB001</td>\n",
       "      <td>2016-04-12</td>\n",
       "      <td>144</td>\n",
       "      <td>4.0</td>\n",
       "      <td>576.0</td>\n",
       "      <td>None</td>\n",
       "      <td>IMPORT</td>\n",
       "      <td>ICC</td>\n",
       "      <td>FL</td>\n",
       "      <td>33708</td>\n",
       "      <td>2016</td>\n",
       "      <td>2016 1ST</td>\n",
       "      <td>SS16</td>\n",
       "      <td>2018-10-03</td>\n",
       "      <td>2016-04-12</td>\n",
       "      <td>[seed, bead, anklet]</td>\n",
       "      <td>Necklace</td>\n",
       "      <td>bead</td>\n",
       "      <td>0.0</td>\n",
       "      <td>2.0</td>\n",
       "      <td>0.0</td>\n",
       "      <td>-inf</td>\n",
       "    </tr>\n",
       "    <tr>\n",
       "      <th>4</th>\n",
       "      <td>DTA1A9500</td>\n",
       "      <td>TQ</td>\n",
       "      <td>seed bead anklet</td>\n",
       "      <td>CB001</td>\n",
       "      <td>2016-04-12</td>\n",
       "      <td>144</td>\n",
       "      <td>4.0</td>\n",
       "      <td>576.0</td>\n",
       "      <td>None</td>\n",
       "      <td>IMPORT</td>\n",
       "      <td>ICC</td>\n",
       "      <td>FL</td>\n",
       "      <td>33708</td>\n",
       "      <td>2016</td>\n",
       "      <td>2016 1ST</td>\n",
       "      <td>SS16</td>\n",
       "      <td>2018-10-03</td>\n",
       "      <td>2016-04-12</td>\n",
       "      <td>[seed, bead, anklet]</td>\n",
       "      <td>Necklace</td>\n",
       "      <td>bead</td>\n",
       "      <td>0.0</td>\n",
       "      <td>2.0</td>\n",
       "      <td>0.0</td>\n",
       "      <td>-inf</td>\n",
       "    </tr>\n",
       "  </tbody>\n",
       "</table>\n",
       "</div>"
      ],
      "text/plain": [
       "      STYLE# COLOR       DESCRIPTION CUST #  INVC DATE  QTY  UNIT PRICE  \\\n",
       "0  DTA1A9500    IV  seed bead anklet  CB001 2016-04-12  144         4.0   \n",
       "1  DTA1A9500    IV  seed bead anklet  CB001 2016-04-12  144         4.0   \n",
       "2  DTA1A9500   MUL  seed bead anklet  CB001 2016-04-12  144         4.0   \n",
       "3  DTA1A9500   MUL  seed bead anklet  CB001 2016-04-12  144         4.0   \n",
       "4  DTA1A9500    TQ  seed bead anklet  CB001 2016-04-12  144         4.0   \n",
       "\n",
       "   EXT-AMT REASON IMPORT HANDMADE MANUFACTORS State_sold ZIP_sold  \\\n",
       "0    576.0   None          IMPORT         ICC         FL    33708   \n",
       "1    576.0   None          IMPORT         ICC         FL    33708   \n",
       "2    576.0   None          IMPORT         ICC         FL    33708   \n",
       "3    576.0   None          IMPORT         ICC         FL    33708   \n",
       "4    576.0   None          IMPORT         ICC         FL    33708   \n",
       "\n",
       "  RELEASED YEAR    Seasos Season target LAST INVOICED FIRST INVOICED  \\\n",
       "0          2016  2016 1ST          SS16    2018-10-03     2016-04-12   \n",
       "1          2016  2016 1ST          SS16    2018-10-03     2016-04-12   \n",
       "2          2016  2016 1ST          SS16    2018-10-03     2016-04-12   \n",
       "3          2016  2016 1ST          SS16    2018-10-03     2016-04-12   \n",
       "4          2016  2016 1ST          SS16    2018-10-03     2016-04-12   \n",
       "\n",
       "             Categories Categories1 material_style  On-Hand  UNIT COST  \\\n",
       "0  [seed, bead, anklet]    Necklace           bead      0.0        2.0   \n",
       "1  [seed, bead, anklet]    Necklace           bead      0.0        2.0   \n",
       "2  [seed, bead, anklet]    Necklace           bead      0.0        2.0   \n",
       "3  [seed, bead, anklet]    Necklace           bead      0.0        2.0   \n",
       "4  [seed, bead, anklet]    Necklace           bead      0.0        2.0   \n",
       "\n",
       "   VAR COST  QTYINV Ratio  \n",
       "0       0.0          -inf  \n",
       "1       0.0          -inf  \n",
       "2       0.0          -inf  \n",
       "3       0.0          -inf  \n",
       "4       0.0          -inf  "
      ]
     },
     "execution_count": 22,
     "metadata": {},
     "output_type": "execute_result"
    }
   ],
   "source": [
    "uno_merged['UNIT COST'] = [x/2 for x in uno_merged['UNIT PRICE'] ]\n",
    "uno_merged['VAR COST'] = [x/2 for x in uno_merged['EXT-AMT'] ]+(uno_merged['On-Hand'].abs()-uno_merged['QTY'])*uno_merged['UNIT COST']\n",
    "uno_merged['QTYINV Ratio'] = (uno_merged['On-Hand'].abs()-uno_merged['QTY'])/uno_merged['On-Hand'].abs()\n",
    "uno_merged.replace(np.inf, 0, inplace=True)\n",
    "uno_merged.head()"
   ]
  },
  {
   "cell_type": "markdown",
   "metadata": {},
   "source": [
    "<p><a name=\"nf\"></a></p>\n",
    "## 2. Basic EDA"
   ]
  },
  {
   "cell_type": "code",
   "execution_count": 80,
   "metadata": {},
   "outputs": [],
   "source": [
    " #function returns the percentage of each item in a category\n",
    "def uniq_count(df,feature):\n",
    "    df_group = df.groupby(feature)\n",
    "    uniq_count = pd.DataFrame(df_group.agg({'QTY': 'sum'}).sort_values('QTY',ascending=False)).reset_index()\n",
    "    uniq_count.columns=[feature,'count']\n",
    "    \n",
    "    uniq_count['percentage %']=uniq_count['count']/sum(uniq_count['count'])*100\n",
    "        \n",
    "    ax = sns.barplot(x=\"percentage %\", y=feature, data=uniq_count.head(5))\n",
    "    plt.rcParams['figure.figsize']=(5,5)"
   ]
  },
  {
   "cell_type": "code",
   "execution_count": 81,
   "metadata": {},
   "outputs": [
    {
     "data": {
      "image/png": "[encoded data removed]",
      "text/plain": [
       "<Figure size 360x360 with 1 Axes>"
      ]
     },
     "metadata": {},
     "output_type": "display_data"
    }
   ],
   "source": [
    "uniq_count(uno_merged,'DESCRIPTION') "
   ]
  },
  {
   "cell_type": "code",
   "execution_count": 82,
   "metadata": {},
   "outputs": [
    {
     "data": {
      "image/png": "[encoded data removed]",
      "text/plain": [
       "<Figure size 360x360 with 1 Axes>"
      ]
     },
     "metadata": {},
     "output_type": "display_data"
    }
   ],
   "source": [
    "uniq_count(uno_merged[uno_merged['Season target']==\"SS16\"],'DESCRIPTION') "
   ]
  },
  {
   "cell_type": "code",
   "execution_count": 83,
   "metadata": {},
   "outputs": [
    {
     "data": {
      "image/png": "[encoded data removed]",
      "text/plain": [
       "<Figure size 360x360 with 1 Axes>"
      ]
     },
     "metadata": {},
     "output_type": "display_data"
    }
   ],
   "source": [
    "uniq_count(uno_merged[uno_merged['Season target']==\"FW16\"],'DESCRIPTION') "
   ]
  },
  {
   "cell_type": "code",
   "execution_count": 84,
   "metadata": {},
   "outputs": [
    {
     "data": {
      "image/png": "[encoded data removed]",
      "text/plain": [
       "<Figure size 360x360 with 1 Axes>"
      ]
     },
     "metadata": {},
     "output_type": "display_data"
    }
   ],
   "source": [
    "uniq_count(uno_merged[uno_merged['Season target']==\"SS17\"],'DESCRIPTION') "
   ]
  },
  {
   "cell_type": "code",
   "execution_count": 85,
   "metadata": {},
   "outputs": [
    {
     "data": {
      "image/png": "[encoded data removed]",
      "text/plain": [
       "<Figure size 360x360 with 1 Axes>"
      ]
     },
     "metadata": {},
     "output_type": "display_data"
    }
   ],
   "source": [
    "uniq_count(uno_merged[uno_merged['Season target']==\"FW17\"],'DESCRIPTION') "
   ]
  },
  {
   "cell_type": "code",
   "execution_count": 86,
   "metadata": {},
   "outputs": [
    {
     "data": {
      "image/png": "[encoded data removed]",
      "text/plain": [
       "<Figure size 360x360 with 1 Axes>"
      ]
     },
     "metadata": {},
     "output_type": "display_data"
    }
   ],
   "source": [
    "uniq_count(uno_merged[uno_merged['Season target']==\"SS18\"],'DESCRIPTION') "
   ]
  },
  {
   "cell_type": "code",
   "execution_count": 87,
   "metadata": {},
   "outputs": [
    {
     "data": {
      "image/png": "[encoded data removed]",
      "text/plain": [
       "<Figure size 360x360 with 1 Axes>"
      ]
     },
     "metadata": {},
     "output_type": "display_data"
    }
   ],
   "source": [
    "uniq_count(uno_merged[uno_merged['Season target']==\"FW18\"],'DESCRIPTION') "
   ]
  },
  {
   "cell_type": "code",
   "execution_count": 88,
   "metadata": {},
   "outputs": [
    {
     "data": {
      "image/png": "[encoded data removed]",
      "text/plain": [
       "<Figure size 360x360 with 1 Axes>"
      ]
     },
     "metadata": {},
     "output_type": "display_data"
    }
   ],
   "source": [
    "uniq_count(uno_merged[uno_merged['RELEASED YEAR']==\"BEFORE 2016\"],'DESCRIPTION') "
   ]
  },
  {
   "cell_type": "code",
   "execution_count": 89,
   "metadata": {},
   "outputs": [
    {
     "data": {
      "image/png": "[encoded data removed]",
      "text/plain": [
       "<Figure size 360x360 with 1 Axes>"
      ]
     },
     "metadata": {},
     "output_type": "display_data"
    }
   ],
   "source": [
    "uniq_count(uno_merged,'IMPORT HANDMADE')"
   ]
  },
  {
   "cell_type": "code",
   "execution_count": 90,
   "metadata": {},
   "outputs": [
    {
     "data": {
      "image/png": "[encoded data removed]",
      "text/plain": [
       "<Figure size 360x360 with 1 Axes>"
      ]
     },
     "metadata": {},
     "output_type": "display_data"
    }
   ],
   "source": [
    "uniq_count(uno_merged[uno_merged['Season target']==\"SS16\"],'IMPORT HANDMADE') "
   ]
  },
  {
   "cell_type": "code",
   "execution_count": 91,
   "metadata": {},
   "outputs": [
    {
     "data": {
      "image/png": "[encoded data removed]",
      "text/plain": [
       "<Figure size 360x360 with 1 Axes>"
      ]
     },
     "metadata": {},
     "output_type": "display_data"
    }
   ],
   "source": [
    "uniq_count(uno_merged[uno_merged['Season target']==\"FW16\"],'IMPORT HANDMADE') "
   ]
  },
  {
   "cell_type": "code",
   "execution_count": 92,
   "metadata": {},
   "outputs": [
    {
     "data": {
      "image/png": "[encoded data removed]",
      "text/plain": [
       "<Figure size 360x360 with 1 Axes>"
      ]
     },
     "metadata": {},
     "output_type": "display_data"
    }
   ],
   "source": [
    "uniq_count(uno_merged[uno_merged['Season target']==\"SS17\"],'IMPORT HANDMADE') "
   ]
  },
  {
   "cell_type": "code",
   "execution_count": 93,
   "metadata": {},
   "outputs": [
    {
     "data": {
      "image/png": "[encoded data removed]",
      "text/plain": [
       "<Figure size 360x360 with 1 Axes>"
      ]
     },
     "metadata": {},
     "output_type": "display_data"
    }
   ],
   "source": [
    "uniq_count(uno_merged[uno_merged['Season target']==\"FW17\"],'IMPORT HANDMADE') "
   ]
  },
  {
   "cell_type": "code",
   "execution_count": 94,
   "metadata": {},
   "outputs": [
    {
     "data": {
      "image/png": "[encoded data removed]",
      "text/plain": [
       "<Figure size 360x360 with 1 Axes>"
      ]
     },
     "metadata": {},
     "output_type": "display_data"
    }
   ],
   "source": [
    "uniq_count(uno_merged[uno_merged['Season target']==\"SS18\"],'IMPORT HANDMADE') "
   ]
  },
  {
   "cell_type": "code",
   "execution_count": 95,
   "metadata": {},
   "outputs": [
    {
     "data": {
      "image/png": "[encoded data removed]",
      "text/plain": [
       "<Figure size 360x360 with 1 Axes>"
      ]
     },
     "metadata": {},
     "output_type": "display_data"
    }
   ],
   "source": [
    "uniq_count(uno_merged[uno_merged['Season target']==\"FW18\"],'IMPORT HANDMADE') "
   ]
  },
  {
   "cell_type": "code",
   "execution_count": 96,
   "metadata": {},
   "outputs": [
    {
     "data": {
      "image/png": "[encoded data removed]",
      "text/plain": [
       "<Figure size 360x360 with 1 Axes>"
      ]
     },
     "metadata": {},
     "output_type": "display_data"
    }
   ],
   "source": [
    "uniq_count(uno_merged[uno_merged['RELEASED YEAR']==\"BEFORE 2016\"],'IMPORT HANDMADE') "
   ]
  },
  {
   "cell_type": "code",
   "execution_count": 97,
   "metadata": {},
   "outputs": [
    {
     "data": {
      "image/png": "[encoded data removed]",
      "text/plain": [
       "<Figure size 360x360 with 1 Axes>"
      ]
     },
     "metadata": {},
     "output_type": "display_data"
    }
   ],
   "source": [
    "uniq_count(uno_merged,'Categories1')"
   ]
  },
  {
   "cell_type": "code",
   "execution_count": 98,
   "metadata": {},
   "outputs": [
    {
     "data": {
      "image/png": "[encoded data removed]",
      "text/plain": [
       "<Figure size 360x360 with 1 Axes>"
      ]
     },
     "metadata": {},
     "output_type": "display_data"
    }
   ],
   "source": [
    "uniq_count(uno_merged,'material_style')"
   ]
  },
  {
   "cell_type": "code",
   "execution_count": 99,
   "metadata": {},
   "outputs": [
    {
     "data": {
      "image/png": "[encoded data removed]",
      "text/plain": [
       "<Figure size 360x360 with 1 Axes>"
      ]
     },
     "metadata": {},
     "output_type": "display_data"
    }
   ],
   "source": [
    "uniq_count(uno_merged,'State_sold')"
   ]
  },
  {
   "cell_type": "code",
   "execution_count": 100,
   "metadata": {},
   "outputs": [
    {
     "data": {
      "image/png": "[encoded data removed]",
      "text/plain": [
       "<Figure size 360x360 with 1 Axes>"
      ]
     },
     "metadata": {},
     "output_type": "display_data"
    }
   ],
   "source": [
    "uniq_count(uno_merged,'MANUFACTORS')"
   ]
  },
  {
   "cell_type": "code",
   "execution_count": 101,
   "metadata": {},
   "outputs": [],
   "source": [
    "#what is taking up the most space in storage\n",
    "def qtyinv_ratio(df,feature):\n",
    "    df_group = df.groupby(feature).agg({'QTY': 'sum', 'On-Hand': 'sum'}).reset_index()\n",
    "    df_group['qtyinv ratio'] = (df_group['On-Hand'].abs()-df_group['QTY'])/df_group['On-Hand'].abs()\n",
    "    df_group.replace(np.inf,0, inplace=True)\n",
    "    df_group = df_group.sort_values('qtyinv ratio',ascending=False)\n",
    "    ax = sns.barplot(x=\"qtyinv ratio\", y=feature, data=df_group.head(5))\n",
    "    plt.rcParams['figure.figsize']=(5,5)"
   ]
  },
  {
   "cell_type": "code",
   "execution_count": 102,
   "metadata": {},
   "outputs": [
    {
     "data": {
      "image/png": "[encoded data removed]",
      "text/plain": [
       "<Figure size 360x360 with 1 Axes>"
      ]
     },
     "metadata": {},
     "output_type": "display_data"
    }
   ],
   "source": [
    "qtyinv_ratio(uno_merged,'DESCRIPTION')"
   ]
  },
  {
   "cell_type": "code",
   "execution_count": 103,
   "metadata": {},
   "outputs": [
    {
     "data": {
      "image/png": "[encoded data removed]",
      "text/plain": [
       "<Figure size 360x360 with 1 Axes>"
      ]
     },
     "metadata": {},
     "output_type": "display_data"
    }
   ],
   "source": [
    "qtyinv_ratio(uno_merged[uno_merged['Season target']==\"SS16\"],'DESCRIPTION') "
   ]
  },
  {
   "cell_type": "code",
   "execution_count": 104,
   "metadata": {},
   "outputs": [
    {
     "data": {
      "image/png": "[encoded data removed]",
      "text/plain": [
       "<Figure size 360x360 with 1 Axes>"
      ]
     },
     "metadata": {},
     "output_type": "display_data"
    }
   ],
   "source": [
    "qtyinv_ratio(uno_merged[uno_merged['Season target']==\"FW16\"],'DESCRIPTION') "
   ]
  },
  {
   "cell_type": "code",
   "execution_count": 105,
   "metadata": {},
   "outputs": [
    {
     "data": {
      "image/png": "[encoded data removed]",
      "text/plain": [
       "<Figure size 360x360 with 1 Axes>"
      ]
     },
     "metadata": {},
     "output_type": "display_data"
    }
   ],
   "source": [
    "qtyinv_ratio(uno_merged[uno_merged['Season target']==\"SS17\"],'DESCRIPTION') "
   ]
  },
  {
   "cell_type": "code",
   "execution_count": 106,
   "metadata": {},
   "outputs": [
    {
     "data": {
      "image/png": "[encoded data removed]",
      "text/plain": [
       "<Figure size 360x360 with 1 Axes>"
      ]
     },
     "metadata": {},
     "output_type": "display_data"
    }
   ],
   "source": [
    "qtyinv_ratio(uno_merged[uno_merged['Season target']==\"FW17\"],'DESCRIPTION') "
   ]
  },
  {
   "cell_type": "code",
   "execution_count": 107,
   "metadata": {},
   "outputs": [
    {
     "data": {
      "image/png": "[encoded data removed]",
      "text/plain": [
       "<Figure size 360x360 with 1 Axes>"
      ]
     },
     "metadata": {},
     "output_type": "display_data"
    }
   ],
   "source": [
    "qtyinv_ratio(uno_merged[uno_merged['Season target']==\"SS18\"],'DESCRIPTION') "
   ]
  },
  {
   "cell_type": "code",
   "execution_count": 108,
   "metadata": {},
   "outputs": [
    {
     "data": {
      "image/png": "[encoded data removed]",
      "text/plain": [
       "<Figure size 360x360 with 1 Axes>"
      ]
     },
     "metadata": {},
     "output_type": "display_data"
    }
   ],
   "source": [
    "qtyinv_ratio(uno_merged[uno_merged['Season target']==\"FW18\"],'DESCRIPTION') "
   ]
  },
  {
   "cell_type": "code",
   "execution_count": 109,
   "metadata": {},
   "outputs": [
    {
     "data": {
      "image/png": "[encoded data removed]",
      "text/plain": [
       "<Figure size 360x360 with 1 Axes>"
      ]
     },
     "metadata": {},
     "output_type": "display_data"
    }
   ],
   "source": [
    "qtyinv_ratio(uno_merged[uno_merged['RELEASED YEAR']==\"BEFORE 2016\"],'DESCRIPTION') "
   ]
  },
  {
   "cell_type": "markdown",
   "metadata": {},
   "source": [
    "<p><a name=\"ts\"></a></p>\n",
    "## 3. Time Series EDA"
   ]
  },
  {
   "cell_type": "code",
   "execution_count": 110,
   "metadata": {},
   "outputs": [
    {
     "data": {
      "text/plain": [
       "Index(['STYLE#', 'COLOR', 'DESCRIPTION', 'CUST #', 'INVC DATE', 'QTY',\n",
       "       'UNIT PRICE', 'EXT-AMT', 'REASON', 'IMPORT HANDMADE', 'MANUFACTORS',\n",
       "       'State_sold', 'ZIP_sold', 'RELEASED YEAR', 'Seasos', 'Season target',\n",
       "       'LAST INVOICED', 'FIRST INVOICED', 'Categories', 'Categories1',\n",
       "       'material_style', 'On-Hand', 'UNIT COST', 'VAR COST', 'QTYINV Ratio'],\n",
       "      dtype='object')"
      ]
     },
     "execution_count": 110,
     "metadata": {},
     "output_type": "execute_result"
    }
   ],
   "source": [
    "uno_merged.columns"
   ]
  },
  {
   "cell_type": "code",
   "execution_count": 111,
   "metadata": {},
   "outputs": [
    {
     "data": {
      "text/html": [
       "<div>\n",
       "<style scoped>\n",
       "    .dataframe tbody tr th:only-of-type {\n",
       "        vertical-align: middle;\n",
       "    }\n",
       "\n",
       "    .dataframe tbody tr th {\n",
       "        vertical-align: top;\n",
       "    }\n",
       "\n",
       "    .dataframe thead th {\n",
       "        text-align: right;\n",
       "    }\n",
       "</style>\n",
       "<table border=\"1\" class=\"dataframe\">\n",
       "  <thead>\n",
       "    <tr style=\"text-align: right;\">\n",
       "      <th></th>\n",
       "      <th>Season target</th>\n",
       "      <th>RELEASED YEAR</th>\n",
       "      <th>QTY</th>\n",
       "      <th>EXT-AMT</th>\n",
       "      <th>VAR COST</th>\n",
       "    </tr>\n",
       "  </thead>\n",
       "  <tbody>\n",
       "    <tr>\n",
       "      <th>0</th>\n",
       "      <td>FW16</td>\n",
       "      <td>2016</td>\n",
       "      <td>314753</td>\n",
       "      <td>1170512.60</td>\n",
       "      <td>2.805284e+05</td>\n",
       "    </tr>\n",
       "    <tr>\n",
       "      <th>1</th>\n",
       "      <td>OLD</td>\n",
       "      <td>2016</td>\n",
       "      <td>1344023</td>\n",
       "      <td>4730173.91</td>\n",
       "      <td>9.533104e+05</td>\n",
       "    </tr>\n",
       "    <tr>\n",
       "      <th>2</th>\n",
       "      <td>SS16</td>\n",
       "      <td>2016</td>\n",
       "      <td>287364</td>\n",
       "      <td>1209408.25</td>\n",
       "      <td>8.835701e+04</td>\n",
       "    </tr>\n",
       "    <tr>\n",
       "      <th>3</th>\n",
       "      <td>FW17</td>\n",
       "      <td>2017</td>\n",
       "      <td>763159</td>\n",
       "      <td>2412630.44</td>\n",
       "      <td>1.278282e+06</td>\n",
       "    </tr>\n",
       "    <tr>\n",
       "      <th>4</th>\n",
       "      <td>OLD</td>\n",
       "      <td>2017</td>\n",
       "      <td>1034997</td>\n",
       "      <td>2796104.64</td>\n",
       "      <td>1.428882e+05</td>\n",
       "    </tr>\n",
       "    <tr>\n",
       "      <th>5</th>\n",
       "      <td>SS17</td>\n",
       "      <td>2017</td>\n",
       "      <td>653632</td>\n",
       "      <td>2072826.45</td>\n",
       "      <td>1.080509e+06</td>\n",
       "    </tr>\n",
       "    <tr>\n",
       "      <th>6</th>\n",
       "      <td>FW18</td>\n",
       "      <td>2018</td>\n",
       "      <td>1193444</td>\n",
       "      <td>4065496.91</td>\n",
       "      <td>1.367867e+07</td>\n",
       "    </tr>\n",
       "    <tr>\n",
       "      <th>7</th>\n",
       "      <td>OLD</td>\n",
       "      <td>2018</td>\n",
       "      <td>950613</td>\n",
       "      <td>2345629.80</td>\n",
       "      <td>3.648202e+05</td>\n",
       "    </tr>\n",
       "    <tr>\n",
       "      <th>8</th>\n",
       "      <td>SS18</td>\n",
       "      <td>2018</td>\n",
       "      <td>679329</td>\n",
       "      <td>2039275.03</td>\n",
       "      <td>3.624112e+06</td>\n",
       "    </tr>\n",
       "    <tr>\n",
       "      <th>9</th>\n",
       "      <td>OLD</td>\n",
       "      <td>BEFORE 2016</td>\n",
       "      <td>957093</td>\n",
       "      <td>3650587.78</td>\n",
       "      <td>2.379959e+07</td>\n",
       "    </tr>\n",
       "  </tbody>\n",
       "</table>\n",
       "</div>"
      ],
      "text/plain": [
       "  Season target RELEASED YEAR      QTY     EXT-AMT      VAR COST\n",
       "0          FW16          2016   314753  1170512.60  2.805284e+05\n",
       "1           OLD          2016  1344023  4730173.91  9.533104e+05\n",
       "2          SS16          2016   287364  1209408.25  8.835701e+04\n",
       "3          FW17          2017   763159  2412630.44  1.278282e+06\n",
       "4           OLD          2017  1034997  2796104.64  1.428882e+05\n",
       "5          SS17          2017   653632  2072826.45  1.080509e+06\n",
       "6          FW18          2018  1193444  4065496.91  1.367867e+07\n",
       "7           OLD          2018   950613  2345629.80  3.648202e+05\n",
       "8          SS18          2018   679329  2039275.03  3.624112e+06\n",
       "9           OLD   BEFORE 2016   957093  3650587.78  2.379959e+07"
      ]
     },
     "execution_count": 111,
     "metadata": {},
     "output_type": "execute_result"
    }
   ],
   "source": [
    "uno_merged.groupby(['Season target','RELEASED YEAR']).agg({'QTY':'sum', 'EXT-AMT':'sum', 'VAR COST':'sum'}).\\\n",
    "sort_values('RELEASED YEAR').reset_index()"
   ]
  },
  {
   "cell_type": "code",
   "execution_count": 112,
   "metadata": {},
   "outputs": [],
   "source": [
    "#For numerical features\n",
    "#input time and target feature, return the time series change of this feature\n",
    "def time_n(df,target_time, target_feature, mode='year'):\n",
    "    \n",
    "    if mode=='year':\n",
    "        df=df.groupby(df[target_time].dt.year)[target_feature].sum()\n",
    "    elif mode=='month':\n",
    "        df=df.groupby(df[target_time].dt.to_period('M'))[target_feature].sum()\n",
    "    else:\n",
    "        df=df.groupby(df[target_time])[target_feature].sum()\n",
    "    \n",
    "    df.plot()\n",
    "    #plt.plot(df) if use this, error appears dont know why\n",
    "\n",
    "\n",
    "\n",
    "#For categorical features\n",
    "#input time and target feature's item, return the time series change of this item\n",
    "def time_c(df,target_time, target_feature, value, mode='year'):\n",
    "    df=df[df[target_feature]==value]\n",
    "    \n",
    "    if mode=='year':\n",
    "        df=df.groupby(df[target_time].dt.year).size()\n",
    "    elif mode=='month':\n",
    "        df=df.groupby(df[target_time].dt.to_period('M')).size()\n",
    "    else:\n",
    "        df=df.groupby(df[target_time]).size()\n",
    "                      \n",
    "    df.plot(label=value)\n"
   ]
  },
  {
   "cell_type": "code",
   "execution_count": 113,
   "metadata": {},
   "outputs": [
    {
     "data": {
      "text/plain": [
       "Index(['STYLE#', 'COLOR', 'DESCRIPTION', 'CUST #', 'INVC DATE', 'QTY',\n",
       "       'UNIT PRICE', 'EXT-AMT', 'REASON', 'IMPORT HANDMADE', 'MANUFACTORS',\n",
       "       'State_sold', 'ZIP_sold', 'RELEASED YEAR', 'Seasos', 'Season target',\n",
       "       'LAST INVOICED', 'FIRST INVOICED', 'Categories', 'Categories1',\n",
       "       'material_style', 'On-Hand', 'UNIT COST', 'VAR COST', 'QTYINV Ratio'],\n",
       "      dtype='object')"
      ]
     },
     "execution_count": 113,
     "metadata": {},
     "output_type": "execute_result"
    }
   ],
   "source": [
    "uno_merged.columns"
   ]
  },
  {
   "cell_type": "code",
   "execution_count": 114,
   "metadata": {},
   "outputs": [
    {
     "data": {
      "image/png": "[encoded data removed]",
      "text/plain": [
       "<Figure size 360x360 with 1 Axes>"
      ]
     },
     "metadata": {},
     "output_type": "display_data"
    }
   ],
   "source": [
    "time_n(uno_merged,'INVC DATE', ['EXT-AMT','VAR COST'], 'month')"
   ]
  },
  {
   "cell_type": "code",
   "execution_count": 115,
   "metadata": {},
   "outputs": [
    {
     "data": {
      "text/html": [
       "<div>\n",
       "<style scoped>\n",
       "    .dataframe tbody tr th:only-of-type {\n",
       "        vertical-align: middle;\n",
       "    }\n",
       "\n",
       "    .dataframe tbody tr th {\n",
       "        vertical-align: top;\n",
       "    }\n",
       "\n",
       "    .dataframe thead th {\n",
       "        text-align: right;\n",
       "    }\n",
       "</style>\n",
       "<table border=\"1\" class=\"dataframe\">\n",
       "  <thead>\n",
       "    <tr style=\"text-align: right;\">\n",
       "      <th></th>\n",
       "      <th>INVC DATE</th>\n",
       "      <th>QTY</th>\n",
       "      <th>EXT-AMT</th>\n",
       "      <th>On-Hand</th>\n",
       "      <th>VAR COST</th>\n",
       "    </tr>\n",
       "  </thead>\n",
       "  <tbody>\n",
       "    <tr>\n",
       "      <th>0</th>\n",
       "      <td>2016-01</td>\n",
       "      <td>239001</td>\n",
       "      <td>1007474.44</td>\n",
       "      <td>-1376455.0</td>\n",
       "      <td>3670288.455</td>\n",
       "    </tr>\n",
       "    <tr>\n",
       "      <th>1</th>\n",
       "      <td>2016-02</td>\n",
       "      <td>288876</td>\n",
       "      <td>1011925.99</td>\n",
       "      <td>-939892.0</td>\n",
       "      <td>2915297.535</td>\n",
       "    </tr>\n",
       "    <tr>\n",
       "      <th>2</th>\n",
       "      <td>2016-03</td>\n",
       "      <td>237301</td>\n",
       "      <td>903643.42</td>\n",
       "      <td>-835723.0</td>\n",
       "      <td>2468175.540</td>\n",
       "    </tr>\n",
       "    <tr>\n",
       "      <th>3</th>\n",
       "      <td>2016-04</td>\n",
       "      <td>287033</td>\n",
       "      <td>1100302.48</td>\n",
       "      <td>-792588.0</td>\n",
       "      <td>2203046.160</td>\n",
       "    </tr>\n",
       "    <tr>\n",
       "      <th>4</th>\n",
       "      <td>2016-05</td>\n",
       "      <td>199123</td>\n",
       "      <td>641552.33</td>\n",
       "      <td>-483270.0</td>\n",
       "      <td>1333981.575</td>\n",
       "    </tr>\n",
       "  </tbody>\n",
       "</table>\n",
       "</div>"
      ],
      "text/plain": [
       "  INVC DATE     QTY     EXT-AMT    On-Hand     VAR COST\n",
       "0   2016-01  239001  1007474.44 -1376455.0  3670288.455\n",
       "1   2016-02  288876  1011925.99  -939892.0  2915297.535\n",
       "2   2016-03  237301   903643.42  -835723.0  2468175.540\n",
       "3   2016-04  287033  1100302.48  -792588.0  2203046.160\n",
       "4   2016-05  199123   641552.33  -483270.0  1333981.575"
      ]
     },
     "execution_count": 115,
     "metadata": {},
     "output_type": "execute_result"
    }
   ],
   "source": [
    "uno_merged_m = uno_merged.groupby(uno_merged['INVC DATE'].dt.to_period('M')).sum().reset_index()\n",
    "uno_merged_m.drop(columns=['UNIT PRICE', 'UNIT COST','QTYINV Ratio'], inplace=True)\n",
    "\n",
    "uno_merged_m.head()"
   ]
  },
  {
   "cell_type": "code",
   "execution_count": 116,
   "metadata": {},
   "outputs": [
    {
     "data": {
      "text/html": [
       "<div>\n",
       "<style scoped>\n",
       "    .dataframe tbody tr th:only-of-type {\n",
       "        vertical-align: middle;\n",
       "    }\n",
       "\n",
       "    .dataframe tbody tr th {\n",
       "        vertical-align: top;\n",
       "    }\n",
       "\n",
       "    .dataframe thead th {\n",
       "        text-align: right;\n",
       "    }\n",
       "</style>\n",
       "<table border=\"1\" class=\"dataframe\">\n",
       "  <thead>\n",
       "    <tr style=\"text-align: right;\">\n",
       "      <th></th>\n",
       "      <th>INVC DATE</th>\n",
       "      <th>QTY</th>\n",
       "      <th>EXT-AMT</th>\n",
       "      <th>On-Hand</th>\n",
       "      <th>VAR COST</th>\n",
       "      <th>FIX COST</th>\n",
       "      <th>PROFIT</th>\n",
       "      <th>QTYINV Ratio</th>\n",
       "    </tr>\n",
       "  </thead>\n",
       "  <tbody>\n",
       "    <tr>\n",
       "      <th>0</th>\n",
       "      <td>2016-01</td>\n",
       "      <td>239001</td>\n",
       "      <td>1007474.44</td>\n",
       "      <td>-1376455.0</td>\n",
       "      <td>3670288.455</td>\n",
       "      <td>20000</td>\n",
       "      <td>-2682814.015</td>\n",
       "      <td>0.826365</td>\n",
       "    </tr>\n",
       "    <tr>\n",
       "      <th>1</th>\n",
       "      <td>2016-02</td>\n",
       "      <td>288876</td>\n",
       "      <td>1011925.99</td>\n",
       "      <td>-939892.0</td>\n",
       "      <td>2915297.535</td>\n",
       "      <td>20000</td>\n",
       "      <td>-1923371.545</td>\n",
       "      <td>0.692650</td>\n",
       "    </tr>\n",
       "    <tr>\n",
       "      <th>2</th>\n",
       "      <td>2016-03</td>\n",
       "      <td>237301</td>\n",
       "      <td>903643.42</td>\n",
       "      <td>-835723.0</td>\n",
       "      <td>2468175.540</td>\n",
       "      <td>20000</td>\n",
       "      <td>-1584532.120</td>\n",
       "      <td>0.716053</td>\n",
       "    </tr>\n",
       "    <tr>\n",
       "      <th>3</th>\n",
       "      <td>2016-04</td>\n",
       "      <td>287033</td>\n",
       "      <td>1100302.48</td>\n",
       "      <td>-792588.0</td>\n",
       "      <td>2203046.160</td>\n",
       "      <td>20000</td>\n",
       "      <td>-1122743.680</td>\n",
       "      <td>0.637853</td>\n",
       "    </tr>\n",
       "    <tr>\n",
       "      <th>4</th>\n",
       "      <td>2016-05</td>\n",
       "      <td>199123</td>\n",
       "      <td>641552.33</td>\n",
       "      <td>-483270.0</td>\n",
       "      <td>1333981.575</td>\n",
       "      <td>20000</td>\n",
       "      <td>-712429.245</td>\n",
       "      <td>0.587967</td>\n",
       "    </tr>\n",
       "  </tbody>\n",
       "</table>\n",
       "</div>"
      ],
      "text/plain": [
       "  INVC DATE     QTY     EXT-AMT    On-Hand     VAR COST  FIX COST  \\\n",
       "0   2016-01  239001  1007474.44 -1376455.0  3670288.455     20000   \n",
       "1   2016-02  288876  1011925.99  -939892.0  2915297.535     20000   \n",
       "2   2016-03  237301   903643.42  -835723.0  2468175.540     20000   \n",
       "3   2016-04  287033  1100302.48  -792588.0  2203046.160     20000   \n",
       "4   2016-05  199123   641552.33  -483270.0  1333981.575     20000   \n",
       "\n",
       "        PROFIT  QTYINV Ratio  \n",
       "0 -2682814.015      0.826365  \n",
       "1 -1923371.545      0.692650  \n",
       "2 -1584532.120      0.716053  \n",
       "3 -1122743.680      0.637853  \n",
       "4  -712429.245      0.587967  "
      ]
     },
     "execution_count": 116,
     "metadata": {},
     "output_type": "execute_result"
    }
   ],
   "source": [
    "uno_merged_m['FIX COST'] = [20000] * uno_merged_m.shape[0]\n",
    "uno_merged_m['PROFIT'] = uno_merged_m['EXT-AMT'] - uno_merged_m['VAR COST'] - uno_merged_m['FIX COST']\n",
    "uno_merged_m['QTYINV Ratio'] = (uno_merged_m['On-Hand'].abs()-uno_merged_m['QTY'])/uno_merged_m['On-Hand'].abs()\n",
    "uno_merged_m.head()"
   ]
  },
  {
   "cell_type": "code",
   "execution_count": 117,
   "metadata": {},
   "outputs": [
    {
     "data": {
      "text/plain": [
       "<matplotlib.axes._subplots.AxesSubplot at 0x1c0fae1630>"
      ]
     },
     "execution_count": 117,
     "metadata": {},
     "output_type": "execute_result"
    },
    {
     "data": {
      "image/png": "[encoded data removed]",
      "text/plain": [
       "<Figure size 360x360 with 1 Axes>"
      ]
     },
     "metadata": {},
     "output_type": "display_data"
    }
   ],
   "source": [
    "uno_merged_m.drop(columns=['QTY','On-Hand','QTYINV Ratio']).plot()"
   ]
  },
  {
   "cell_type": "code",
   "execution_count": 118,
   "metadata": {},
   "outputs": [
    {
     "data": {
      "text/plain": [
       "<matplotlib.axes._subplots.AxesSubplot at 0x1c0fc1fa58>"
      ]
     },
     "execution_count": 118,
     "metadata": {},
     "output_type": "execute_result"
    },
    {
     "data": {
      "image/png": "[encoded data removed]",
      "text/plain": [
       "<Figure size 360x360 with 1 Axes>"
      ]
     },
     "metadata": {},
     "output_type": "display_data"
    }
   ],
   "source": [
    "uno_merged_m.drop(columns=['QTY','EXT-AMT','On-Hand','VAR COST','FIX COST','PROFIT']).plot()"
   ]
  },
  {
   "cell_type": "code",
   "execution_count": null,
   "metadata": {},
   "outputs": [],
   "source": []
  },
  {
   "cell_type": "code",
   "execution_count": null,
   "metadata": {},
   "outputs": [],
   "source": []
  },
  {
   "cell_type": "code",
   "execution_count": null,
   "metadata": {},
   "outputs": [],
   "source": []
  },
  {
   "cell_type": "code",
   "execution_count": null,
   "metadata": {},
   "outputs": [],
   "source": []
  },
  {
   "cell_type": "code",
   "execution_count": null,
   "metadata": {},
   "outputs": [],
   "source": []
  }
 ],
 "metadata": {
  "kernelspec": {
   "display_name": "Python 3",
   "language": "python",
   "name": "python3"
  },
  "language_info": {
   "codemirror_mode": {
    "name": "ipython",
    "version": 3
   },
   "file_extension": ".py",
   "mimetype": "text/x-python",
   "name": "python",
   "nbconvert_exporter": "python",
   "pygments_lexer": "ipython3",
   "version": "3.6.5"
  }
 },
 "nbformat": 4,
 "nbformat_minor": 2
}
